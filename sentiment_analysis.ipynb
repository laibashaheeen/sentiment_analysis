{
  "nbformat": 4,
  "nbformat_minor": 0,
  "metadata": {
    "colab": {
      "provenance": []
    },
    "kernelspec": {
      "name": "python3",
      "display_name": "Python 3"
    },
    "language_info": {
      "name": "python"
    }
    
  },
  "cells": [
    {
      "cell_type": "markdown",
      "source": [
        "# **Movie Reviews**"
      ],
      "metadata": {
        "id": "gmGTjI7EJLF1"
      }
    },
    {
      "cell_type": "markdown",
      "source": [
        "## Sentiment Analysis in Python"
      ],
      "metadata": {
        "id": "0tqyaPsPJfbA"
      }
    },
    {
      "cell_type": "markdown",
      "source": [
        "### 1. Definition of the Problem"
      ],
      "metadata": {
        "id": "OcRg_HA3MHAf"
      }
    },
    {
      "cell_type": "markdown",
      "source": [
        "\n",
        "The problem addressed through sentiment analysis on movie reviews dataset is the need to discern audience opinions—whether positive, negative, or neutral—about films. Understanding user sentiments in the movie industry is crucial for filmmakers, studios, and distributors. It provides valuable insights into audience preferences, guides marketing strategies, aids in content improvement, and influences box office success. By comprehending sentiments, stakeholders can enhance audience engagement, refine storytelling elements, and make data-driven decisions that ultimately contribute to the overall success and reception of movies in the highly competitive entertainment landscape."
      ],
      "metadata": {
        "id": "8OhviuHXNKNT"
      }
    },
    {
      "cell_type": "markdown",
      "source": [
        "### 2. Dataset"
      ],
      "metadata": {
        "id": "TleOTko7K5iK"
      }
    },
    {
      "cell_type": "markdown",
      "source": [
        "NLTK offers access to the Movie Reviews Corpus, a small dataset included in the toolkit for educational purposes. This corpus consists of 2,000 movie reviews categorized into positive and negative sentiments.The data was collected in a CSV format, with each row representing a different review and each column representing a features."
      ],
      "metadata": {
        "id": "s65x0aKOQ1SC"
      }
    },
    {
      "cell_type": "code",
      "execution_count": 1,
      "metadata": {
        "id": "RCoPrWsjJHJX"
      },
      "outputs": [],
      "source": [
        "import pandas as pd\n",
        "import numpy as np\n",
        "import matplotlib.pyplot as plt\n",
        "import seaborn as sns\n",
        "\n",
        "plt.style.use('ggplot')\n",
        "\n",
        "import nltk"
      ]
    },
    {
      "cell_type": "code",
      "source": [
        "import csv\n",
        "from nltk.corpus import movie_reviews"
      ],
      "metadata": {
        "id": "tRFZqkqbKD_v"
      },
      "execution_count": 2,
      "outputs": []
    },
    {
      "cell_type": "code",
      "source": [
        "nltk.download('movie_reviews')"
      ],
      "metadata": {
        "colab": {
          "base_uri": "https://localhost:8080/"
        },
        "id": "B2aZGePML2ZX",
        "outputId": "bc09f174-5ca9-48f3-c18d-9f8c1e3c1d5c"
      },
      "execution_count": 3,
      "outputs": [
        {
          "output_type": "stream",
          "name": "stderr",
          "text": [
            "[nltk_data] Downloading package movie_reviews to /root/nltk_data...\n",
            "[nltk_data]   Unzipping corpora/movie_reviews.zip.\n"
          ]
        },
        {
          "output_type": "execute_result",
          "data": {
            "text/plain": [
              "True"
            ]
          },
          "metadata": {},
          "execution_count": 3
        }
      ]
    },
    {
      "cell_type": "code",
      "source": [
        "data = []"
      ],
      "metadata": {
        "id": "VkbAuCDdL5RK"
      },
      "execution_count": 4,
      "outputs": []
    },
    {
      "cell_type": "code",
      "source": [
        "movie_reviews = nltk.corpus.movie_reviews"
      ],
      "metadata": {
        "id": "yDYe5h8SL8sa"
      },
      "execution_count": 5,
      "outputs": []
    },
    {
      "cell_type": "code",
      "source": [
        "\n",
        "# Load positive and negative reviews\n",
        "positive_reviews = [(movie_reviews.raw(fileid), 'positive') for fileid in movie_reviews.fileids('pos')]\n",
        "negative_reviews = [(movie_reviews.raw(fileid), 'negative') for fileid in movie_reviews.fileids('neg')]\n",
        "\n",
        "# Combine positive and negative reviews\n",
        "all_reviews = positive_reviews + negative_reviews\n",
        "\n",
        "# Shuffle the reviews (optional)\n",
        "import random\n",
        "random.shuffle(all_reviews)\n",
        "\n",
        "# Define the CSV file name\n",
        "csv_file_name = 'movie_reviews_dataset.csv'\n",
        "\n",
        "# Write reviews to a CSV file\n",
        "with open(csv_file_name, 'w', newline='', encoding='utf-8') as csvfile:\n",
        "    fieldnames = ['review', 'sentiment']\n",
        "    writer = csv.DictWriter(csvfile, fieldnames=fieldnames)\n",
        "\n",
        "    # Write header\n",
        "    writer.writeheader()\n",
        "\n",
        "    # Write reviews\n",
        "    for review, sentiment in all_reviews:\n",
        "        writer.writerow({'review': review, 'sentiment': sentiment})\n",
        "\n",
        "print(f\"CSV file '{csv_file_name}' has been created.\")\n"
      ],
      "metadata": {
        "colab": {
          "base_uri": "https://localhost:8080/"
        },
        "id": "bhhqQsIv8msV",
        "outputId": "083ebc38-ddc6-4555-a780-546b451c6aa6"
      },
      "execution_count": 6,
      "outputs": [
        {
          "output_type": "stream",
          "name": "stdout",
          "text": [
            "CSV file 'movie_reviews_dataset.csv' has been created.\n"
          ]
        }
      ]
    },
    {
      "cell_type": "code",
      "source": [
        "df = pd.read_csv('movie_reviews_dataset.csv')\n",
        "print(df.shape)"
      ],
      "metadata": {
        "colab": {
          "base_uri": "https://localhost:8080/"
        },
        "id": "HJzj8nqNjv8c",
        "outputId": "5145d4e3-e478-474d-9e1b-1fb87004d32f"
      },
      "execution_count": 7,
      "outputs": [
        {
          "output_type": "stream",
          "name": "stdout",
          "text": [
            "(2000, 2)\n"
          ]
        }
      ]
    },
    {
      "cell_type": "code",
      "source": [
        "df.head()"
      ],
      "metadata": {
        "colab": {
          "base_uri": "https://localhost:8080/",
          "height": 206
        },
        "id": "MZecYv6dj6O6",
        "outputId": "64eb269d-0c50-496e-82f8-76122fde8d2a"
      },
      "execution_count": 8,
      "outputs": [
        {
          "output_type": "execute_result",
          "data": {
            "text/plain": [
              "                                              review sentiment\n",
              "0  when i ponder childhood memories past , one of...  negative\n",
              "1  house on haunted hill ( 1999 ) starring taye d...  negative\n",
              "2  i think the first thing this reviewer should m...  positive\n",
              "3  i don't box with kid gloves . \\ni don't play n...  positive\n",
              "4  in french , the phrase \" film noir \" literally...  negative"
            ],
            "text/html": [
              "\n",
              "  <div id=\"df-87c7cc15-9549-457c-b41d-dffd1925d01f\" class=\"colab-df-container\">\n",
              "    <div>\n",
              "<style scoped>\n",
              "    .dataframe tbody tr th:only-of-type {\n",
              "        vertical-align: middle;\n",
              "    }\n",
              "\n",
              "    .dataframe tbody tr th {\n",
              "        vertical-align: top;\n",
              "    }\n",
              "\n",
              "    .dataframe thead th {\n",
              "        text-align: right;\n",
              "    }\n",
              "</style>\n",
              "<table border=\"1\" class=\"dataframe\">\n",
              "  <thead>\n",
              "    <tr style=\"text-align: right;\">\n",
              "      <th></th>\n",
              "      <th>review</th>\n",
              "      <th>sentiment</th>\n",
              "    </tr>\n",
              "  </thead>\n",
              "  <tbody>\n",
              "    <tr>\n",
              "      <th>0</th>\n",
              "      <td>when i ponder childhood memories past , one of...</td>\n",
              "      <td>negative</td>\n",
              "    </tr>\n",
              "    <tr>\n",
              "      <th>1</th>\n",
              "      <td>house on haunted hill ( 1999 ) starring taye d...</td>\n",
              "      <td>negative</td>\n",
              "    </tr>\n",
              "    <tr>\n",
              "      <th>2</th>\n",
              "      <td>i think the first thing this reviewer should m...</td>\n",
              "      <td>positive</td>\n",
              "    </tr>\n",
              "    <tr>\n",
              "      <th>3</th>\n",
              "      <td>i don't box with kid gloves . \\ni don't play n...</td>\n",
              "      <td>positive</td>\n",
              "    </tr>\n",
              "    <tr>\n",
              "      <th>4</th>\n",
              "      <td>in french , the phrase \" film noir \" literally...</td>\n",
              "      <td>negative</td>\n",
              "    </tr>\n",
              "  </tbody>\n",
              "</table>\n",
              "</div>\n",
              "    <div class=\"colab-df-buttons\">\n",
              "\n",
              "  <div class=\"colab-df-container\">\n",
              "    <button class=\"colab-df-convert\" onclick=\"convertToInteractive('df-87c7cc15-9549-457c-b41d-dffd1925d01f')\"\n",
              "            title=\"Convert this dataframe to an interactive table.\"\n",
              "            style=\"display:none;\">\n",
              "\n",
              "  <svg xmlns=\"http://www.w3.org/2000/svg\" height=\"24px\" viewBox=\"0 -960 960 960\">\n",
              "    <path d=\"M120-120v-720h720v720H120Zm60-500h600v-160H180v160Zm220 220h160v-160H400v160Zm0 220h160v-160H400v160ZM180-400h160v-160H180v160Zm440 0h160v-160H620v160ZM180-180h160v-160H180v160Zm440 0h160v-160H620v160Z\"/>\n",
              "  </svg>\n",
              "    </button>\n",
              "\n",
              "  <style>\n",
              "    .colab-df-container {\n",
              "      display:flex;\n",
              "      gap: 12px;\n",
              "    }\n",
              "\n",
              "    .colab-df-convert {\n",
              "      background-color: #E8F0FE;\n",
              "      border: none;\n",
              "      border-radius: 50%;\n",
              "      cursor: pointer;\n",
              "      display: none;\n",
              "      fill: #1967D2;\n",
              "      height: 32px;\n",
              "      padding: 0 0 0 0;\n",
              "      width: 32px;\n",
              "    }\n",
              "\n",
              "    .colab-df-convert:hover {\n",
              "      background-color: #E2EBFA;\n",
              "      box-shadow: 0px 1px 2px rgba(60, 64, 67, 0.3), 0px 1px 3px 1px rgba(60, 64, 67, 0.15);\n",
              "      fill: #174EA6;\n",
              "    }\n",
              "\n",
              "    .colab-df-buttons div {\n",
              "      margin-bottom: 4px;\n",
              "    }\n",
              "\n",
              "    [theme=dark] .colab-df-convert {\n",
              "      background-color: #3B4455;\n",
              "      fill: #D2E3FC;\n",
              "    }\n",
              "\n",
              "    [theme=dark] .colab-df-convert:hover {\n",
              "      background-color: #434B5C;\n",
              "      box-shadow: 0px 1px 3px 1px rgba(0, 0, 0, 0.15);\n",
              "      filter: drop-shadow(0px 1px 2px rgba(0, 0, 0, 0.3));\n",
              "      fill: #FFFFFF;\n",
              "    }\n",
              "  </style>\n",
              "\n",
              "    <script>\n",
              "      const buttonEl =\n",
              "        document.querySelector('#df-87c7cc15-9549-457c-b41d-dffd1925d01f button.colab-df-convert');\n",
              "      buttonEl.style.display =\n",
              "        google.colab.kernel.accessAllowed ? 'block' : 'none';\n",
              "\n",
              "      async function convertToInteractive(key) {\n",
              "        const element = document.querySelector('#df-87c7cc15-9549-457c-b41d-dffd1925d01f');\n",
              "        const dataTable =\n",
              "          await google.colab.kernel.invokeFunction('convertToInteractive',\n",
              "                                                    [key], {});\n",
              "        if (!dataTable) return;\n",
              "\n",
              "        const docLinkHtml = 'Like what you see? Visit the ' +\n",
              "          '<a target=\"_blank\" href=https://colab.research.google.com/notebooks/data_table.ipynb>data table notebook</a>'\n",
              "          + ' to learn more about interactive tables.';\n",
              "        element.innerHTML = '';\n",
              "        dataTable['output_type'] = 'display_data';\n",
              "        await google.colab.output.renderOutput(dataTable, element);\n",
              "        const docLink = document.createElement('div');\n",
              "        docLink.innerHTML = docLinkHtml;\n",
              "        element.appendChild(docLink);\n",
              "      }\n",
              "    </script>\n",
              "  </div>\n",
              "\n",
              "\n",
              "    <div id=\"df-c0ce52b2-b84b-499e-a40d-17da9f63eec3\">\n",
              "      <button class=\"colab-df-quickchart\" onclick=\"quickchart('df-c0ce52b2-b84b-499e-a40d-17da9f63eec3')\"\n",
              "                title=\"Suggest charts\"\n",
              "                style=\"display:none;\">\n",
              "\n",
              "<svg xmlns=\"http://www.w3.org/2000/svg\" height=\"24px\"viewBox=\"0 0 24 24\"\n",
              "     width=\"24px\">\n",
              "    <g>\n",
              "        <path d=\"M19 3H5c-1.1 0-2 .9-2 2v14c0 1.1.9 2 2 2h14c1.1 0 2-.9 2-2V5c0-1.1-.9-2-2-2zM9 17H7v-7h2v7zm4 0h-2V7h2v10zm4 0h-2v-4h2v4z\"/>\n",
              "    </g>\n",
              "</svg>\n",
              "      </button>\n",
              "\n",
              "<style>\n",
              "  .colab-df-quickchart {\n",
              "      --bg-color: #E8F0FE;\n",
              "      --fill-color: #1967D2;\n",
              "      --hover-bg-color: #E2EBFA;\n",
              "      --hover-fill-color: #174EA6;\n",
              "      --disabled-fill-color: #AAA;\n",
              "      --disabled-bg-color: #DDD;\n",
              "  }\n",
              "\n",
              "  [theme=dark] .colab-df-quickchart {\n",
              "      --bg-color: #3B4455;\n",
              "      --fill-color: #D2E3FC;\n",
              "      --hover-bg-color: #434B5C;\n",
              "      --hover-fill-color: #FFFFFF;\n",
              "      --disabled-bg-color: #3B4455;\n",
              "      --disabled-fill-color: #666;\n",
              "  }\n",
              "\n",
              "  .colab-df-quickchart {\n",
              "    background-color: var(--bg-color);\n",
              "    border: none;\n",
              "    border-radius: 50%;\n",
              "    cursor: pointer;\n",
              "    display: none;\n",
              "    fill: var(--fill-color);\n",
              "    height: 32px;\n",
              "    padding: 0;\n",
              "    width: 32px;\n",
              "  }\n",
              "\n",
              "  .colab-df-quickchart:hover {\n",
              "    background-color: var(--hover-bg-color);\n",
              "    box-shadow: 0 1px 2px rgba(60, 64, 67, 0.3), 0 1px 3px 1px rgba(60, 64, 67, 0.15);\n",
              "    fill: var(--button-hover-fill-color);\n",
              "  }\n",
              "\n",
              "  .colab-df-quickchart-complete:disabled,\n",
              "  .colab-df-quickchart-complete:disabled:hover {\n",
              "    background-color: var(--disabled-bg-color);\n",
              "    fill: var(--disabled-fill-color);\n",
              "    box-shadow: none;\n",
              "  }\n",
              "\n",
              "  .colab-df-spinner {\n",
              "    border: 2px solid var(--fill-color);\n",
              "    border-color: transparent;\n",
              "    border-bottom-color: var(--fill-color);\n",
              "    animation:\n",
              "      spin 1s steps(1) infinite;\n",
              "  }\n",
              "\n",
              "  @keyframes spin {\n",
              "    0% {\n",
              "      border-color: transparent;\n",
              "      border-bottom-color: var(--fill-color);\n",
              "      border-left-color: var(--fill-color);\n",
              "    }\n",
              "    20% {\n",
              "      border-color: transparent;\n",
              "      border-left-color: var(--fill-color);\n",
              "      border-top-color: var(--fill-color);\n",
              "    }\n",
              "    30% {\n",
              "      border-color: transparent;\n",
              "      border-left-color: var(--fill-color);\n",
              "      border-top-color: var(--fill-color);\n",
              "      border-right-color: var(--fill-color);\n",
              "    }\n",
              "    40% {\n",
              "      border-color: transparent;\n",
              "      border-right-color: var(--fill-color);\n",
              "      border-top-color: var(--fill-color);\n",
              "    }\n",
              "    60% {\n",
              "      border-color: transparent;\n",
              "      border-right-color: var(--fill-color);\n",
              "    }\n",
              "    80% {\n",
              "      border-color: transparent;\n",
              "      border-right-color: var(--fill-color);\n",
              "      border-bottom-color: var(--fill-color);\n",
              "    }\n",
              "    90% {\n",
              "      border-color: transparent;\n",
              "      border-bottom-color: var(--fill-color);\n",
              "    }\n",
              "  }\n",
              "</style>\n",
              "\n",
              "      <script>\n",
              "        async function quickchart(key) {\n",
              "          const quickchartButtonEl =\n",
              "            document.querySelector('#' + key + ' button');\n",
              "          quickchartButtonEl.disabled = true;  // To prevent multiple clicks.\n",
              "          quickchartButtonEl.classList.add('colab-df-spinner');\n",
              "          try {\n",
              "            const charts = await google.colab.kernel.invokeFunction(\n",
              "                'suggestCharts', [key], {});\n",
              "          } catch (error) {\n",
              "            console.error('Error during call to suggestCharts:', error);\n",
              "          }\n",
              "          quickchartButtonEl.classList.remove('colab-df-spinner');\n",
              "          quickchartButtonEl.classList.add('colab-df-quickchart-complete');\n",
              "        }\n",
              "        (() => {\n",
              "          let quickchartButtonEl =\n",
              "            document.querySelector('#df-c0ce52b2-b84b-499e-a40d-17da9f63eec3 button');\n",
              "          quickchartButtonEl.style.display =\n",
              "            google.colab.kernel.accessAllowed ? 'block' : 'none';\n",
              "        })();\n",
              "      </script>\n",
              "    </div>\n",
              "\n",
              "    </div>\n",
              "  </div>\n"
            ],
            "application/vnd.google.colaboratory.intrinsic+json": {
              "type": "dataframe",
              "variable_name": "df",
              "summary": "{\n  \"name\": \"df\",\n  \"rows\": 2000,\n  \"fields\": [\n    {\n      \"column\": \"review\",\n      \"properties\": {\n        \"dtype\": \"string\",\n        \"num_unique_values\": 2000,\n        \"samples\": [\n          \"there's a moment in schindler's list when a number of jews are trudging through snow , clean and crisp , dark edges and frost on the ground . \\none girl waltzes through , wearing a red dress that stings the eyes . \\nit is probably the finest moment through out the film . \\nwhen i first saw it i began to cry , though i could not say why . \\nthis landscape is the setting of many small moments that add up to one big whole . \\nwhen one man is shot in the head we see blood oozing out onto the ground -- so black and murky , its almost pomegranate red . \\nat another time we follow a young boy as he runs , searching for a hiding spot before finally squeezing into a toilet -- which is already occupied . \\nlike so ( citizen kane , fargo , the godfather , the godfather part ii , greed , ) many of the greatest american films , schindler's list plays with the concepts of money , power , and soul . \\nbut this is a movie about a man who does the right thing . \\nstarkly emotional , and brutally powerful , schindler's list strips away everything on the outset and leaves us ony feelings . \\nthe following that it has gained is not suprising -- this is probably , thus far , the best film of the decade . \\nsteven spielberg has always been a skilfull filmmaker -- his assured hand churned out both jurassic parks , jaws , the indiana jones films , and e . t . \\n-- but it wasn't until 1993 that we saw what a brilliant man he can be . \\nthe product of his genuis is really something to see -- it can bring tears to your eyes just as it uplifts you . \\nthroughout , we sense the deep control which he so masterfully spreads . \\nwe watch oskar schindler ( liam neeson ) grow from an arrogant , self important man who hires jews only to save money into a moving figure , with a deep sense of pride and accomplishment . \\nthe film requires much work , and can be a harrowing experience -- go expecting a quick entertainment and you'll be bitterly dissapointed . \\nit does reward the patient viewer . \\nthis is a mature spielberg , and his deft hands shape an absoloute masterpiece . \\nthis eqsuisite , beautiful film is a rare gem . \\nit does a good job of summarizing why i love movies . \\nit leaves one breathless , uplifted , and with much to think about . \\nafterwards you can reflect on individual images , visions , and people . \\nlaconic , removed , schindler strides through the film a detached prescence who watches all , does much , and leaves feeling as if he could , should , have done more then he did and was able to . \\nthe change seems natural -- in the hands of a lesser filmmaker , it would be crude and would cheat the audience . \\ninstead we are told a tale , told a story . \\nthe film is punishing to watch , yes . \\nbut anyone who allows themselves to get involved will experience a miracle , and a genuine masterpiece of a movie . \\n\",\n          \"in these days of overlong movies ( meet joe black , the thin red line , the mask of zorro ) it is a shame that films like waking ned devine can't be longer than a paltry 90 minutes . \\nthis is just a cute movie , even through its mildly risque subject matter . \\nold friends jackie ( bannen ) and michael ( kelley ) try to find the lottery winner ( they deduce must live in their dinky town of about 60 ) so that they might kiss up to him and share the winnings . \\nthrough process of elimination , they find that it must be lovable old ned devine , who they find sitting in front of his tv , clutching the winning lottery ticket in his cold dead hand . \\nwhat results is thuroughly amusing , as jackie tries to convince his wife that not claiming it would be wrong , and that they could really benefit . \\nafter all , old ned won't miss it . \\nrather than divulge the later twists and turns , i'll stop here merely pointing out that jackie and michael get into all sorts of trouble in their little sleepy irish villiage . \\nbannen and kelly are a perfect pair . \\none slightly stout , the other as thin as a rail . \\nboth getting on in years , they make such a cute pair of old codgers . \\nwaking ned devine may even be seen as a \\\" full monty \\\" for the geriatric set , especially since kelly gets buff-o for one amusing scene . \\nwaking ned devine is by no means perfect , but it is so sincere and touching that it looks so much better than most films . \\nthe performances by everyone in the town are great , particularly the two leads . \\nthere is one twist at the end which i find unnecessary , but it hardly ruins the picture . \\nwriter/director kirk jones should be held up as an example to all those hollywood screenwriters . \\nscripts as creative and endearing as this should be the norm , not the exception . \\nperhaps it makes us appreciate this wonderful film even more . \\nhad i held off on my year's best/worst list for another day , waking ned devine ( officially released in late november of 98 ) surely would have graced the short group of the year's finest films . \\nit is light , but thought provoking and sweet . \\ni can't think of anyone who shouldn't see ( or wouldn't enjoy ) this film . \\n\",\n          \"200 cigarettes takes place on new year's eve 1981 . \\nmonica , played by martha plimpton is having a huge new year's party . \\neveryone in town is trying to get there , but some are caught up in other things . \\nthis is the basic plot of 200 cigarettes . \\nas we meet the characters headed towards the party , we are sent into many subplots which are unoriginal , and not interesting at all . \\nthis disappointed me greatly . \\nthe film should have been more about the party than the people trying to get there in my opinion . \\nlucy , played by courtney love , is with kevin , played by paul rudd . \\nthe two are in a relationship that is more of a friendship , but starts to blossom into something more than that . \\nthis subplot is extremely boring and dull , and i am getting quite sick of plots like that . \\njaneane garofalo is involved in another subplot , dealing with kevin . \\nshe plays ellie , an ex-girlfriend of kevin's . \\nthis subplot is completely a waste of garofalo's talent . \\nthere was no point to it at all , and it was hardly even in the movie . \\nwhen lucy runs into a bartender , played by ben affleck , another subplot is formed . \\nthe bartender is invited by lucy to come to monica's party . \\nat the bar , he runs into two more girls . \\nthe girls are played by angela featherstone and nicole parker , but unfortunately , due to the terrible acting of both of them , i don't even remember their characters names . \\nben affleck is a good actor , but his character doesn't go anywhere so he doesn't have much screen time to give a good performance . \\nfeatherstone and parker are horrible in their roles , and they are part of the reason the film is so bad . \\nchristina ricci plays val , and gaby hoffman plays stephie . \\nthe two girls are trying to get to the party but are extremely lost . \\nthey meet some guys and end up going around with them all night . \\nthis subplot was alright , but it was quite annoying with stephie's accent . \\nhoffman did an okay job of acting , but ricci did good . \\nshe was underused , considering she is such a wonderful actress . \\nanother subplot in the film is the relationship between cindy , played by goldie hawn's daughter , and jack , played by jay mohr . \\njack is an actor who doesn't care about the girls he goes out with , he just likes dates for one night , and the next day he doesn't . \\nkate hudson is a huge klutz . \\nshe gets herself into very funny situations , that are the funniest parts in the entire movie . \\nthey are probably the only funny parts in the entire movie as well . \\nthis subplot could have been used more , mainly due to hudson's performance . \\nmohr wasn't good , but he wasn't bad . \\nhe was just alright , which i didn't find acceptable . \\nthere is not much to say about the performances in the film . \\nnone of the characters are developed or shown enough to really tell if the acting is good or not . \\nthe only performances that i can judge are christina ricci's as always good performance , kate hudson's funny role , courtney love's mediocre performance , and paul rudd's annoying and overused performance . \\ni was hoping for a little more out of jaw mohr , ben affleck , casey affleck , gaby hoffman , dave chapelle , and especially out of janeane garofalo . \\nthe two strongest things in the film were the great soundtrack and the original costumes . \\nmartha plimpton and christina ricci had very different and original outfits which made me feel like i was in the year 1981 . \\nthe soundtrack is full of 1980's tunes , ranging from \\\" i want candy \\\" to \\\" tainted love . \\\" \\nthe songs in the movie also helped create the feel that you were back in the 1980s . \\nduring the film , i often found myself asking the questions , \\\" is there a reason to this ? \\nis there any moral story ? \\nis there a point ? \\nare any of the events going on in the film necessary ? \\ndo i care what lucy and kevin are going through ? \\\" \\nthe movie is extremely boring , and by the time they reached eleven-o-clock , one hour before midnight , i could not wait for the movie to be over . \\nthe plot is okay , but the subplots make it terrible . \\nmaybe if the film was about the party , not about the people at the party , it could have been a lot better . \\nthe bottom line : just like a slasher movie , this ? 80s comedy is just one too many . \\n\"\n        ],\n        \"semantic_type\": \"\",\n        \"description\": \"\"\n      }\n    },\n    {\n      \"column\": \"sentiment\",\n      \"properties\": {\n        \"dtype\": \"category\",\n        \"num_unique_values\": 2,\n        \"samples\": [\n          \"positive\",\n          \"negative\"\n        ],\n        \"semantic_type\": \"\",\n        \"description\": \"\"\n      }\n    }\n  ]\n}"
            }
          },
          "metadata": {},
          "execution_count": 8
        }
      ]
    },
    {
      "cell_type": "code",
      "source": [
        "df['ID'] = range(1, len(df) + 1)\n",
        "df = df[['ID'] + [col for col in df.columns if col != 'ID']]\n",
        "# Display the updated DataFrame\n",
        "df.head()"
      ],
      "metadata": {
        "colab": {
          "base_uri": "https://localhost:8080/",
          "height": 206
        },
        "id": "q2yEEzj4y7Pb",
        "outputId": "928a7cc6-3484-4172-9b46-0bd48da13ed5"
      },
      "execution_count": 9,
      "outputs": [
        {
          "output_type": "execute_result",
          "data": {
            "text/plain": [
              "   ID                                             review sentiment\n",
              "0   1  when i ponder childhood memories past , one of...  negative\n",
              "1   2  house on haunted hill ( 1999 ) starring taye d...  negative\n",
              "2   3  i think the first thing this reviewer should m...  positive\n",
              "3   4  i don't box with kid gloves . \\ni don't play n...  positive\n",
              "4   5  in french , the phrase \" film noir \" literally...  negative"
            ],
            "text/html": [
              "\n",
              "  <div id=\"df-22eb9ee7-286b-4321-b0a0-6736bfc31af0\" class=\"colab-df-container\">\n",
              "    <div>\n",
              "<style scoped>\n",
              "    .dataframe tbody tr th:only-of-type {\n",
              "        vertical-align: middle;\n",
              "    }\n",
              "\n",
              "    .dataframe tbody tr th {\n",
              "        vertical-align: top;\n",
              "    }\n",
              "\n",
              "    .dataframe thead th {\n",
              "        text-align: right;\n",
              "    }\n",
              "</style>\n",
              "<table border=\"1\" class=\"dataframe\">\n",
              "  <thead>\n",
              "    <tr style=\"text-align: right;\">\n",
              "      <th></th>\n",
              "      <th>ID</th>\n",
              "      <th>review</th>\n",
              "      <th>sentiment</th>\n",
              "    </tr>\n",
              "  </thead>\n",
              "  <tbody>\n",
              "    <tr>\n",
              "      <th>0</th>\n",
              "      <td>1</td>\n",
              "      <td>when i ponder childhood memories past , one of...</td>\n",
              "      <td>negative</td>\n",
              "    </tr>\n",
              "    <tr>\n",
              "      <th>1</th>\n",
              "      <td>2</td>\n",
              "      <td>house on haunted hill ( 1999 ) starring taye d...</td>\n",
              "      <td>negative</td>\n",
              "    </tr>\n",
              "    <tr>\n",
              "      <th>2</th>\n",
              "      <td>3</td>\n",
              "      <td>i think the first thing this reviewer should m...</td>\n",
              "      <td>positive</td>\n",
              "    </tr>\n",
              "    <tr>\n",
              "      <th>3</th>\n",
              "      <td>4</td>\n",
              "      <td>i don't box with kid gloves . \\ni don't play n...</td>\n",
              "      <td>positive</td>\n",
              "    </tr>\n",
              "    <tr>\n",
              "      <th>4</th>\n",
              "      <td>5</td>\n",
              "      <td>in french , the phrase \" film noir \" literally...</td>\n",
              "      <td>negative</td>\n",
              "    </tr>\n",
              "  </tbody>\n",
              "</table>\n",
              "</div>\n",
              "    <div class=\"colab-df-buttons\">\n",
              "\n",
              "  <div class=\"colab-df-container\">\n",
              "    <button class=\"colab-df-convert\" onclick=\"convertToInteractive('df-22eb9ee7-286b-4321-b0a0-6736bfc31af0')\"\n",
              "            title=\"Convert this dataframe to an interactive table.\"\n",
              "            style=\"display:none;\">\n",
              "\n",
              "  <svg xmlns=\"http://www.w3.org/2000/svg\" height=\"24px\" viewBox=\"0 -960 960 960\">\n",
              "    <path d=\"M120-120v-720h720v720H120Zm60-500h600v-160H180v160Zm220 220h160v-160H400v160Zm0 220h160v-160H400v160ZM180-400h160v-160H180v160Zm440 0h160v-160H620v160ZM180-180h160v-160H180v160Zm440 0h160v-160H620v160Z\"/>\n",
              "  </svg>\n",
              "    </button>\n",
              "\n",
              "  <style>\n",
              "    .colab-df-container {\n",
              "      display:flex;\n",
              "      gap: 12px;\n",
              "    }\n",
              "\n",
              "    .colab-df-convert {\n",
              "      background-color: #E8F0FE;\n",
              "      border: none;\n",
              "      border-radius: 50%;\n",
              "      cursor: pointer;\n",
              "      display: none;\n",
              "      fill: #1967D2;\n",
              "      height: 32px;\n",
              "      padding: 0 0 0 0;\n",
              "      width: 32px;\n",
              "    }\n",
              "\n",
              "    .colab-df-convert:hover {\n",
              "      background-color: #E2EBFA;\n",
              "      box-shadow: 0px 1px 2px rgba(60, 64, 67, 0.3), 0px 1px 3px 1px rgba(60, 64, 67, 0.15);\n",
              "      fill: #174EA6;\n",
              "    }\n",
              "\n",
              "    .colab-df-buttons div {\n",
              "      margin-bottom: 4px;\n",
              "    }\n",
              "\n",
              "    [theme=dark] .colab-df-convert {\n",
              "      background-color: #3B4455;\n",
              "      fill: #D2E3FC;\n",
              "    }\n",
              "\n",
              "    [theme=dark] .colab-df-convert:hover {\n",
              "      background-color: #434B5C;\n",
              "      box-shadow: 0px 1px 3px 1px rgba(0, 0, 0, 0.15);\n",
              "      filter: drop-shadow(0px 1px 2px rgba(0, 0, 0, 0.3));\n",
              "      fill: #FFFFFF;\n",
              "    }\n",
              "  </style>\n",
              "\n",
              "    <script>\n",
              "      const buttonEl =\n",
              "        document.querySelector('#df-22eb9ee7-286b-4321-b0a0-6736bfc31af0 button.colab-df-convert');\n",
              "      buttonEl.style.display =\n",
              "        google.colab.kernel.accessAllowed ? 'block' : 'none';\n",
              "\n",
              "      async function convertToInteractive(key) {\n",
              "        const element = document.querySelector('#df-22eb9ee7-286b-4321-b0a0-6736bfc31af0');\n",
              "        const dataTable =\n",
              "          await google.colab.kernel.invokeFunction('convertToInteractive',\n",
              "                                                    [key], {});\n",
              "        if (!dataTable) return;\n",
              "\n",
              "        const docLinkHtml = 'Like what you see? Visit the ' +\n",
              "          '<a target=\"_blank\" href=https://colab.research.google.com/notebooks/data_table.ipynb>data table notebook</a>'\n",
              "          + ' to learn more about interactive tables.';\n",
              "        element.innerHTML = '';\n",
              "        dataTable['output_type'] = 'display_data';\n",
              "        await google.colab.output.renderOutput(dataTable, element);\n",
              "        const docLink = document.createElement('div');\n",
              "        docLink.innerHTML = docLinkHtml;\n",
              "        element.appendChild(docLink);\n",
              "      }\n",
              "    </script>\n",
              "  </div>\n",
              "\n",
              "\n",
              "    <div id=\"df-ec4d4a23-39c1-4b78-a7cf-e1d1bc7edb58\">\n",
              "      <button class=\"colab-df-quickchart\" onclick=\"quickchart('df-ec4d4a23-39c1-4b78-a7cf-e1d1bc7edb58')\"\n",
              "                title=\"Suggest charts\"\n",
              "                style=\"display:none;\">\n",
              "\n",
              "<svg xmlns=\"http://www.w3.org/2000/svg\" height=\"24px\"viewBox=\"0 0 24 24\"\n",
              "     width=\"24px\">\n",
              "    <g>\n",
              "        <path d=\"M19 3H5c-1.1 0-2 .9-2 2v14c0 1.1.9 2 2 2h14c1.1 0 2-.9 2-2V5c0-1.1-.9-2-2-2zM9 17H7v-7h2v7zm4 0h-2V7h2v10zm4 0h-2v-4h2v4z\"/>\n",
              "    </g>\n",
              "</svg>\n",
              "      </button>\n",
              "\n",
              "<style>\n",
              "  .colab-df-quickchart {\n",
              "      --bg-color: #E8F0FE;\n",
              "      --fill-color: #1967D2;\n",
              "      --hover-bg-color: #E2EBFA;\n",
              "      --hover-fill-color: #174EA6;\n",
              "      --disabled-fill-color: #AAA;\n",
              "      --disabled-bg-color: #DDD;\n",
              "  }\n",
              "\n",
              "  [theme=dark] .colab-df-quickchart {\n",
              "      --bg-color: #3B4455;\n",
              "      --fill-color: #D2E3FC;\n",
              "      --hover-bg-color: #434B5C;\n",
              "      --hover-fill-color: #FFFFFF;\n",
              "      --disabled-bg-color: #3B4455;\n",
              "      --disabled-fill-color: #666;\n",
              "  }\n",
              "\n",
              "  .colab-df-quickchart {\n",
              "    background-color: var(--bg-color);\n",
              "    border: none;\n",
              "    border-radius: 50%;\n",
              "    cursor: pointer;\n",
              "    display: none;\n",
              "    fill: var(--fill-color);\n",
              "    height: 32px;\n",
              "    padding: 0;\n",
              "    width: 32px;\n",
              "  }\n",
              "\n",
              "  .colab-df-quickchart:hover {\n",
              "    background-color: var(--hover-bg-color);\n",
              "    box-shadow: 0 1px 2px rgba(60, 64, 67, 0.3), 0 1px 3px 1px rgba(60, 64, 67, 0.15);\n",
              "    fill: var(--button-hover-fill-color);\n",
              "  }\n",
              "\n",
              "  .colab-df-quickchart-complete:disabled,\n",
              "  .colab-df-quickchart-complete:disabled:hover {\n",
              "    background-color: var(--disabled-bg-color);\n",
              "    fill: var(--disabled-fill-color);\n",
              "    box-shadow: none;\n",
              "  }\n",
              "\n",
              "  .colab-df-spinner {\n",
              "    border: 2px solid var(--fill-color);\n",
              "    border-color: transparent;\n",
              "    border-bottom-color: var(--fill-color);\n",
              "    animation:\n",
              "      spin 1s steps(1) infinite;\n",
              "  }\n",
              "\n",
              "  @keyframes spin {\n",
              "    0% {\n",
              "      border-color: transparent;\n",
              "      border-bottom-color: var(--fill-color);\n",
              "      border-left-color: var(--fill-color);\n",
              "    }\n",
              "    20% {\n",
              "      border-color: transparent;\n",
              "      border-left-color: var(--fill-color);\n",
              "      border-top-color: var(--fill-color);\n",
              "    }\n",
              "    30% {\n",
              "      border-color: transparent;\n",
              "      border-left-color: var(--fill-color);\n",
              "      border-top-color: var(--fill-color);\n",
              "      border-right-color: var(--fill-color);\n",
              "    }\n",
              "    40% {\n",
              "      border-color: transparent;\n",
              "      border-right-color: var(--fill-color);\n",
              "      border-top-color: var(--fill-color);\n",
              "    }\n",
              "    60% {\n",
              "      border-color: transparent;\n",
              "      border-right-color: var(--fill-color);\n",
              "    }\n",
              "    80% {\n",
              "      border-color: transparent;\n",
              "      border-right-color: var(--fill-color);\n",
              "      border-bottom-color: var(--fill-color);\n",
              "    }\n",
              "    90% {\n",
              "      border-color: transparent;\n",
              "      border-bottom-color: var(--fill-color);\n",
              "    }\n",
              "  }\n",
              "</style>\n",
              "\n",
              "      <script>\n",
              "        async function quickchart(key) {\n",
              "          const quickchartButtonEl =\n",
              "            document.querySelector('#' + key + ' button');\n",
              "          quickchartButtonEl.disabled = true;  // To prevent multiple clicks.\n",
              "          quickchartButtonEl.classList.add('colab-df-spinner');\n",
              "          try {\n",
              "            const charts = await google.colab.kernel.invokeFunction(\n",
              "                'suggestCharts', [key], {});\n",
              "          } catch (error) {\n",
              "            console.error('Error during call to suggestCharts:', error);\n",
              "          }\n",
              "          quickchartButtonEl.classList.remove('colab-df-spinner');\n",
              "          quickchartButtonEl.classList.add('colab-df-quickchart-complete');\n",
              "        }\n",
              "        (() => {\n",
              "          let quickchartButtonEl =\n",
              "            document.querySelector('#df-ec4d4a23-39c1-4b78-a7cf-e1d1bc7edb58 button');\n",
              "          quickchartButtonEl.style.display =\n",
              "            google.colab.kernel.accessAllowed ? 'block' : 'none';\n",
              "        })();\n",
              "      </script>\n",
              "    </div>\n",
              "\n",
              "    </div>\n",
              "  </div>\n"
            ],
            "application/vnd.google.colaboratory.intrinsic+json": {
              "type": "dataframe",
              "variable_name": "df",
              "summary": "{\n  \"name\": \"df\",\n  \"rows\": 2000,\n  \"fields\": [\n    {\n      \"column\": \"ID\",\n      \"properties\": {\n        \"dtype\": \"number\",\n        \"std\": 577,\n        \"min\": 1,\n        \"max\": 2000,\n        \"num_unique_values\": 2000,\n        \"samples\": [\n          1861,\n          354,\n          1334\n        ],\n        \"semantic_type\": \"\",\n        \"description\": \"\"\n      }\n    },\n    {\n      \"column\": \"review\",\n      \"properties\": {\n        \"dtype\": \"string\",\n        \"num_unique_values\": 2000,\n        \"samples\": [\n          \"there's a moment in schindler's list when a number of jews are trudging through snow , clean and crisp , dark edges and frost on the ground . \\none girl waltzes through , wearing a red dress that stings the eyes . \\nit is probably the finest moment through out the film . \\nwhen i first saw it i began to cry , though i could not say why . \\nthis landscape is the setting of many small moments that add up to one big whole . \\nwhen one man is shot in the head we see blood oozing out onto the ground -- so black and murky , its almost pomegranate red . \\nat another time we follow a young boy as he runs , searching for a hiding spot before finally squeezing into a toilet -- which is already occupied . \\nlike so ( citizen kane , fargo , the godfather , the godfather part ii , greed , ) many of the greatest american films , schindler's list plays with the concepts of money , power , and soul . \\nbut this is a movie about a man who does the right thing . \\nstarkly emotional , and brutally powerful , schindler's list strips away everything on the outset and leaves us ony feelings . \\nthe following that it has gained is not suprising -- this is probably , thus far , the best film of the decade . \\nsteven spielberg has always been a skilfull filmmaker -- his assured hand churned out both jurassic parks , jaws , the indiana jones films , and e . t . \\n-- but it wasn't until 1993 that we saw what a brilliant man he can be . \\nthe product of his genuis is really something to see -- it can bring tears to your eyes just as it uplifts you . \\nthroughout , we sense the deep control which he so masterfully spreads . \\nwe watch oskar schindler ( liam neeson ) grow from an arrogant , self important man who hires jews only to save money into a moving figure , with a deep sense of pride and accomplishment . \\nthe film requires much work , and can be a harrowing experience -- go expecting a quick entertainment and you'll be bitterly dissapointed . \\nit does reward the patient viewer . \\nthis is a mature spielberg , and his deft hands shape an absoloute masterpiece . \\nthis eqsuisite , beautiful film is a rare gem . \\nit does a good job of summarizing why i love movies . \\nit leaves one breathless , uplifted , and with much to think about . \\nafterwards you can reflect on individual images , visions , and people . \\nlaconic , removed , schindler strides through the film a detached prescence who watches all , does much , and leaves feeling as if he could , should , have done more then he did and was able to . \\nthe change seems natural -- in the hands of a lesser filmmaker , it would be crude and would cheat the audience . \\ninstead we are told a tale , told a story . \\nthe film is punishing to watch , yes . \\nbut anyone who allows themselves to get involved will experience a miracle , and a genuine masterpiece of a movie . \\n\",\n          \"in these days of overlong movies ( meet joe black , the thin red line , the mask of zorro ) it is a shame that films like waking ned devine can't be longer than a paltry 90 minutes . \\nthis is just a cute movie , even through its mildly risque subject matter . \\nold friends jackie ( bannen ) and michael ( kelley ) try to find the lottery winner ( they deduce must live in their dinky town of about 60 ) so that they might kiss up to him and share the winnings . \\nthrough process of elimination , they find that it must be lovable old ned devine , who they find sitting in front of his tv , clutching the winning lottery ticket in his cold dead hand . \\nwhat results is thuroughly amusing , as jackie tries to convince his wife that not claiming it would be wrong , and that they could really benefit . \\nafter all , old ned won't miss it . \\nrather than divulge the later twists and turns , i'll stop here merely pointing out that jackie and michael get into all sorts of trouble in their little sleepy irish villiage . \\nbannen and kelly are a perfect pair . \\none slightly stout , the other as thin as a rail . \\nboth getting on in years , they make such a cute pair of old codgers . \\nwaking ned devine may even be seen as a \\\" full monty \\\" for the geriatric set , especially since kelly gets buff-o for one amusing scene . \\nwaking ned devine is by no means perfect , but it is so sincere and touching that it looks so much better than most films . \\nthe performances by everyone in the town are great , particularly the two leads . \\nthere is one twist at the end which i find unnecessary , but it hardly ruins the picture . \\nwriter/director kirk jones should be held up as an example to all those hollywood screenwriters . \\nscripts as creative and endearing as this should be the norm , not the exception . \\nperhaps it makes us appreciate this wonderful film even more . \\nhad i held off on my year's best/worst list for another day , waking ned devine ( officially released in late november of 98 ) surely would have graced the short group of the year's finest films . \\nit is light , but thought provoking and sweet . \\ni can't think of anyone who shouldn't see ( or wouldn't enjoy ) this film . \\n\",\n          \"200 cigarettes takes place on new year's eve 1981 . \\nmonica , played by martha plimpton is having a huge new year's party . \\neveryone in town is trying to get there , but some are caught up in other things . \\nthis is the basic plot of 200 cigarettes . \\nas we meet the characters headed towards the party , we are sent into many subplots which are unoriginal , and not interesting at all . \\nthis disappointed me greatly . \\nthe film should have been more about the party than the people trying to get there in my opinion . \\nlucy , played by courtney love , is with kevin , played by paul rudd . \\nthe two are in a relationship that is more of a friendship , but starts to blossom into something more than that . \\nthis subplot is extremely boring and dull , and i am getting quite sick of plots like that . \\njaneane garofalo is involved in another subplot , dealing with kevin . \\nshe plays ellie , an ex-girlfriend of kevin's . \\nthis subplot is completely a waste of garofalo's talent . \\nthere was no point to it at all , and it was hardly even in the movie . \\nwhen lucy runs into a bartender , played by ben affleck , another subplot is formed . \\nthe bartender is invited by lucy to come to monica's party . \\nat the bar , he runs into two more girls . \\nthe girls are played by angela featherstone and nicole parker , but unfortunately , due to the terrible acting of both of them , i don't even remember their characters names . \\nben affleck is a good actor , but his character doesn't go anywhere so he doesn't have much screen time to give a good performance . \\nfeatherstone and parker are horrible in their roles , and they are part of the reason the film is so bad . \\nchristina ricci plays val , and gaby hoffman plays stephie . \\nthe two girls are trying to get to the party but are extremely lost . \\nthey meet some guys and end up going around with them all night . \\nthis subplot was alright , but it was quite annoying with stephie's accent . \\nhoffman did an okay job of acting , but ricci did good . \\nshe was underused , considering she is such a wonderful actress . \\nanother subplot in the film is the relationship between cindy , played by goldie hawn's daughter , and jack , played by jay mohr . \\njack is an actor who doesn't care about the girls he goes out with , he just likes dates for one night , and the next day he doesn't . \\nkate hudson is a huge klutz . \\nshe gets herself into very funny situations , that are the funniest parts in the entire movie . \\nthey are probably the only funny parts in the entire movie as well . \\nthis subplot could have been used more , mainly due to hudson's performance . \\nmohr wasn't good , but he wasn't bad . \\nhe was just alright , which i didn't find acceptable . \\nthere is not much to say about the performances in the film . \\nnone of the characters are developed or shown enough to really tell if the acting is good or not . \\nthe only performances that i can judge are christina ricci's as always good performance , kate hudson's funny role , courtney love's mediocre performance , and paul rudd's annoying and overused performance . \\ni was hoping for a little more out of jaw mohr , ben affleck , casey affleck , gaby hoffman , dave chapelle , and especially out of janeane garofalo . \\nthe two strongest things in the film were the great soundtrack and the original costumes . \\nmartha plimpton and christina ricci had very different and original outfits which made me feel like i was in the year 1981 . \\nthe soundtrack is full of 1980's tunes , ranging from \\\" i want candy \\\" to \\\" tainted love . \\\" \\nthe songs in the movie also helped create the feel that you were back in the 1980s . \\nduring the film , i often found myself asking the questions , \\\" is there a reason to this ? \\nis there any moral story ? \\nis there a point ? \\nare any of the events going on in the film necessary ? \\ndo i care what lucy and kevin are going through ? \\\" \\nthe movie is extremely boring , and by the time they reached eleven-o-clock , one hour before midnight , i could not wait for the movie to be over . \\nthe plot is okay , but the subplots make it terrible . \\nmaybe if the film was about the party , not about the people at the party , it could have been a lot better . \\nthe bottom line : just like a slasher movie , this ? 80s comedy is just one too many . \\n\"\n        ],\n        \"semantic_type\": \"\",\n        \"description\": \"\"\n      }\n    },\n    {\n      \"column\": \"sentiment\",\n      \"properties\": {\n        \"dtype\": \"category\",\n        \"num_unique_values\": 2,\n        \"samples\": [\n          \"positive\",\n          \"negative\"\n        ],\n        \"semantic_type\": \"\",\n        \"description\": \"\"\n      }\n    }\n  ]\n}"
            }
          },
          "metadata": {},
          "execution_count": 9
        }
      ]
    },
    {
      "cell_type": "code",
      "source": [
        "ax = df['sentiment'].value_counts().sort_index() \\\n",
        "    .plot(kind='bar',\n",
        "          title='Count of sentiments',\n",
        "          figsize=(10, 5))\n",
        "ax.set_xlabel('Sentiment')\n",
        "plt.show()"
      ],
      "metadata": {
        "colab": {
          "base_uri": "https://localhost:8080/",
          "height": 539
        },
        "id": "oO0w_hEGoeiV",
        "outputId": "e468ffef-d2f9-482a-914f-094683391bbb"
      },
      "execution_count": 10,
      "outputs": [
        {
          "output_type": "display_data",
          "data": {
            "text/plain": [
              "<Figure size 1000x500 with 1 Axes>"
            ],
            "image/png": "[encoded data removed]"
          },
          "metadata": {}
        }
      ]
    },
    {
      "cell_type": "code",
      "source": [
        "df.info()"
      ],
      "metadata": {
        "colab": {
          "base_uri": "https://localhost:8080/"
        },
        "id": "1f7o9IbuAiWG",
        "outputId": "29c42411-017c-4407-9c58-ca850bed35c6"
      },
      "execution_count": 11,
      "outputs": [
        {
          "output_type": "stream",
          "name": "stdout",
          "text": [
            "<class 'pandas.core.frame.DataFrame'>\n",
            "RangeIndex: 2000 entries, 0 to 1999\n",
            "Data columns (total 3 columns):\n",
            " #   Column     Non-Null Count  Dtype \n",
            "---  ------     --------------  ----- \n",
            " 0   ID         2000 non-null   int64 \n",
            " 1   review     2000 non-null   object\n",
            " 2   sentiment  2000 non-null   object\n",
            "dtypes: int64(1), object(2)\n",
            "memory usage: 47.0+ KB\n"
          ]
        }
      ]
    },
    {
      "cell_type": "code",
      "source": [
        "# Create a table of data types\n",
        "from tabulate import tabulate\n",
        "table = tabulate(df.dtypes.reset_index(), headers=['Column', 'Data Type'], tablefmt='pretty', showindex=False)\n",
        "\n",
        "# Display the table\n",
        "print(table)"
      ],
      "metadata": {
        "colab": {
          "base_uri": "https://localhost:8080/"
        },
        "id": "QU5TMWHbBFgC",
        "outputId": "f8849b65-b78e-4b31-95bb-50e701da467c"
      },
      "execution_count": 12,
      "outputs": [
        {
          "output_type": "stream",
          "name": "stdout",
          "text": [
            "+-----------+-----------+\n",
            "|  Column   | Data Type |\n",
            "+-----------+-----------+\n",
            "|    ID     |   int64   |\n",
            "|  review   |  object   |\n",
            "| sentiment |  object   |\n",
            "+-----------+-----------+\n"
          ]
        }
      ]
    },
    {
      "cell_type": "markdown",
      "source": [
        "### 3. Pre-processing Phase"
      ],
      "metadata": {
        "id": "w4yRAD0vn0PB"
      }
    },
    {
      "cell_type": "markdown",
      "source": [
        "\n",
        "In the process of sentiment analysis, I meticulously applied tokenization to preprocess data to transform raw text data into a format conducive to effective analysis. Tokenization is a pivotal step involving the division of text into individual units or tokens, typically words or subwords. This method facilitated the creation of a structured and numerical representation of the input, which was paramount for machine learning model comprehension."
      ],
      "metadata": {
        "id": "oX-LQtjCT9TE"
      }
    },
    {
      "cell_type": "code",
      "source": [
        "example = df['review'][50]\n",
        "print(example)"
      ],
      "metadata": {
        "colab": {
          "base_uri": "https://localhost:8080/"
        },
        "id": "kFKQv8fVpAIS",
        "outputId": "d534c265-e2ef-441b-aa65-6314f10a8b37"
      },
      "execution_count": 13,
      "outputs": [
        {
          "output_type": "stream",
          "name": "stdout",
          "text": [
            "apollo 13 is simply one of the most dramatic film this summer ( apart from swashbuckling braveheart ) . \n",
            "director ( and former actor ) ron howard ( splash , backdraft , far & away ) , most noted for his dramatic film making , displays again his brilliance in creating drama and suspense in apollo 13 . \n",
            "being the second largest box office hit in the us this summer ( with more than us$150 million in the states alone ) , this film is his most successful effort yet . \n",
            "perhaps one of the most appealing feature of this film is the pool of talented actors such as tom hanks ( gump himself ) , kevin bacon ( footloose , tremors , a few good men etc . ) , gary sinise ( forrest gump ) , bill paxton ( aliens , true lies , boxing helena ) and ed harris ( the abyss , just cause ) . . \n",
            "all of whom gave good performances in their respective roles . \n",
            "apollo 13 was the second worst accident ever to occur in the history of us spaceflight ( the worst being the challenger accident ) . \n",
            "jim lovell ( hanks ) , the mission commander , together with his crew , fred haise ( paxton ) and last minute replacement tom swigert ( bacon ) are put to the ultimate test when part of their command module explodes on the third day of the mission , more than three quarters way to the moon . \n",
            "suspense and drama ensue as the three men are left in space with their spaceship out of control and the problem of surviving the journey home . . . \n",
            "if they ever reach it . \n",
            "ed harris and gary sinise who play , respectively , the man in charge of the entire mission control and the astronaut who was supposed to fly but was diagnosed with measles , both delve into their roles superbly . \n",
            "audiences are shown the chaotic and worrisome state of the entire ground control crew , as they frantically attempt to come up with ideas on how to save the astronauts from hurtling into space . \n",
            "also , there are quite a number of real news footages which were broadcast during the accident which took the entire us nation into 5 days of drama in 1970 . \n",
            "the special effects by digital domain are up to standard and the music suits the suspense and drama very well , thanks to film-music maestro james horner . \n",
            "watch out for the launching sequence , it is simply one of the most breathtaking scenes of the film . \n",
            "a bad point though : apollo 13 features much technical jargon and many physics concepts in its script . \n",
            "those who consider themselves `scientifically illiterate' might have a slight problem understanding what caused this and what caused that during the course of the show . \n",
            "this is however , just a minor point , just forget all those technical bullshit and immerse yourselves into the drama and suspense throughout the film . \n",
            "you should enjoy it . \n",
            "\n"
          ]
        }
      ]
    },
    {
      "cell_type": "code",
      "source": [
        "nltk.download('punkt')"
      ],
      "metadata": {
        "colab": {
          "base_uri": "https://localhost:8080/"
        },
        "id": "zuh0Sm3IsUpw",
        "outputId": "74d7e7d4-5b39-47de-ba48-adcb070cfe6d"
      },
      "execution_count": 14,
      "outputs": [
        {
          "output_type": "stream",
          "name": "stderr",
          "text": [
            "[nltk_data] Downloading package punkt to /root/nltk_data...\n",
            "[nltk_data]   Unzipping tokenizers/punkt.zip.\n"
          ]
        },
        {
          "output_type": "execute_result",
          "data": {
            "text/plain": [
              "True"
            ]
          },
          "metadata": {},
          "execution_count": 14
        }
      ]
    },
    {
      "cell_type": "code",
      "source": [
        "nltk.download('punkt_tab') # Download the missing resource\n",
        "tokens = nltk.word_tokenize(example)\n",
        "tokens[:20]"
      ],
      "metadata": {
        "colab": {
          "base_uri": "https://localhost:8080/"
        },
        "id": "9_rTszJ8soHJ",
        "outputId": "bf409ae1-a355-4c4a-bed4-229d720ff6ef"
      },
      "execution_count": 17,
      "outputs": [
        {
          "output_type": "stream",
          "name": "stderr",
          "text": [
            "[nltk_data] Downloading package punkt_tab to /root/nltk_data...\n",
            "[nltk_data]   Package punkt_tab is already up-to-date!\n"
          ]
        },
        {
          "output_type": "execute_result",
          "data": {
            "text/plain": [
              "['apollo',\n",
              " '13',\n",
              " 'is',\n",
              " 'simply',\n",
              " 'one',\n",
              " 'of',\n",
              " 'the',\n",
              " 'most',\n",
              " 'dramatic',\n",
              " 'film',\n",
              " 'this',\n",
              " 'summer',\n",
              " '(',\n",
              " 'apart',\n",
              " 'from',\n",
              " 'swashbuckling',\n",
              " 'braveheart',\n",
              " ')',\n",
              " '.',\n",
              " 'director']"
            ]
          },
          "metadata": {},
          "execution_count": 17
        }
      ]
    },
    {
      "cell_type": "code",
      "source": [
        "nltk.download('averaged_perceptron_tagger')"
      ],
      "metadata": {
        "colab": {
          "base_uri": "https://localhost:8080/"
        },
        "id": "cvU-AtsHtTk9",
        "outputId": "121b9a57-5cf5-42f6-bdee-9dbcbe3c5604"
      },
      "execution_count": 18,
      "outputs": [
        {
          "output_type": "stream",
          "name": "stderr",
          "text": [
            "[nltk_data] Downloading package averaged_perceptron_tagger to\n",
            "[nltk_data]     /root/nltk_data...\n",
            "[nltk_data]   Unzipping taggers/averaged_perceptron_tagger.zip.\n"
          ]
        },
        {
          "output_type": "execute_result",
          "data": {
            "text/plain": [
              "True"
            ]
          },
          "metadata": {},
          "execution_count": 18
        }
      ]
    },
    {
      "cell_type": "code",
      "source": [
        "nltk.download('averaged_perceptron_tagger_eng') # Download the missing resource\n",
        "tagged = nltk.pos_tag(tokens)\n",
        "tagged[:20]"
      ],
      "metadata": {
        "colab": {
          "base_uri": "https://localhost:8080/"
        },
        "id": "mgbEk_0qtnih",
        "outputId": "d4871ef2-cb6d-454f-f2e9-9a3cd1fee334"
      },
      "execution_count": 20,
      "outputs": [
        {
          "output_type": "stream",
          "name": "stderr",
          "text": [
            "[nltk_data] Downloading package averaged_perceptron_tagger_eng to\n",
            "[nltk_data]     /root/nltk_data...\n",
            "[nltk_data]   Unzipping taggers/averaged_perceptron_tagger_eng.zip.\n"
          ]
        },
        {
          "output_type": "execute_result",
          "data": {
            "text/plain": [
              "[('apollo', 'RB'),\n",
              " ('13', 'CD'),\n",
              " ('is', 'VBZ'),\n",
              " ('simply', 'RB'),\n",
              " ('one', 'CD'),\n",
              " ('of', 'IN'),\n",
              " ('the', 'DT'),\n",
              " ('most', 'RBS'),\n",
              " ('dramatic', 'JJ'),\n",
              " ('film', 'NN'),\n",
              " ('this', 'DT'),\n",
              " ('summer', 'NN'),\n",
              " ('(', '('),\n",
              " ('apart', 'RB'),\n",
              " ('from', 'IN'),\n",
              " ('swashbuckling', 'VBG'),\n",
              " ('braveheart', 'NN'),\n",
              " (')', ')'),\n",
              " ('.', '.'),\n",
              " ('director', 'NN')]"
            ]
          },
          "metadata": {},
          "execution_count": 20
        }
      ]
    },
    {
      "cell_type": "code",
      "source": [
        "nltk.download('maxent_ne_chunker')\n",
        "nltk.download('words')"
      ],
      "metadata": {
        "colab": {
          "base_uri": "https://localhost:8080/"
        },
        "id": "z0cl8T6ntvUe",
        "outputId": "fc616498-9c5b-4a62-9f45-29d306de6a7a"
      },
      "execution_count": 22,
      "outputs": [
        {
          "output_type": "stream",
          "name": "stderr",
          "text": [
            "[nltk_data] Downloading package maxent_ne_chunker to\n",
            "[nltk_data]     /root/nltk_data...\n",
            "[nltk_data]   Package maxent_ne_chunker is already up-to-date!\n",
            "[nltk_data] Downloading package words to /root/nltk_data...\n",
            "[nltk_data]   Package words is already up-to-date!\n"
          ]
        },
        {
          "output_type": "execute_result",
          "data": {
            "text/plain": [
              "True"
            ]
          },
          "metadata": {},
          "execution_count": 22
        }
      ]
    },
    {
      "cell_type": "code",
      "source": [
        "nltk.download('maxent_ne_chunker_tab') # Download the missing resource\n",
        "entities = nltk.chunk.ne_chunk(tagged)\n",
        "# entities.pprint()\n",
        "print(entities[:20])"
      ],
      "metadata": {
        "colab": {
          "base_uri": "https://localhost:8080/"
        },
        "id": "ON5SHWd5t4RO",
        "outputId": "feaf48d6-8c4c-436c-885a-5f349d20d836"
      },
      "execution_count": 24,
      "outputs": [
        {
          "output_type": "stream",
          "name": "stderr",
          "text": [
            "[nltk_data] Downloading package maxent_ne_chunker_tab to\n",
            "[nltk_data]     /root/nltk_data...\n",
            "[nltk_data]   Unzipping chunkers/maxent_ne_chunker_tab.zip.\n"
          ]
        },
        {
          "output_type": "stream",
          "name": "stdout",
          "text": [
            "[('apollo', 'RB'), ('13', 'CD'), ('is', 'VBZ'), ('simply', 'RB'), ('one', 'CD'), ('of', 'IN'), ('the', 'DT'), ('most', 'RBS'), ('dramatic', 'JJ'), ('film', 'NN'), ('this', 'DT'), ('summer', 'NN'), ('(', '('), ('apart', 'RB'), ('from', 'IN'), ('swashbuckling', 'VBG'), ('braveheart', 'NN'), (')', ')'), ('.', '.'), ('director', 'NN')]\n"
          ]
        }
      ]
    },
    {
      "cell_type": "markdown",
      "source": [
        "### 4. Data Transient Label Phase"
      ],
      "metadata": {
        "id": "0gZtu0dotRJF"
      }
    },
    {
      "cell_type": "markdown",
      "source": [
        "** VADER model**\n",
        "\n",
        " The VADER model is a rule-based sentiment analysis tool designed for analyzing text and determining the sentiment expressed within it. Developed by researchers at the Georgia Institute of Technology, VADER is particularly useful for social media , customer feedback, and market analysis text analysis due to its ability to handle nuances such as slang, emoticons, and context-dependent sentiment."
      ],
      "metadata": {
        "id": "6VebTMaFUxZZ"
      }
    },
    {
      "cell_type": "code",
      "source": [
        "from nltk.sentiment import SentimentIntensityAnalyzer\n",
        "from tqdm.notebook import tqdm\n",
        "\n",
        "nltk.download('vader_lexicon')\n",
        "sia = SentimentIntensityAnalyzer()"
      ],
      "metadata": {
        "colab": {
          "base_uri": "https://localhost:8080/"
        },
        "id": "F8ZY1agJvaZy",
        "outputId": "f7a49a66-698d-45ff-9222-b9e462f0ceaf"
      },
      "execution_count": 25,
      "outputs": [
        {
          "output_type": "stream",
          "name": "stderr",
          "text": [
            "[nltk_data] Downloading package vader_lexicon to /root/nltk_data...\n"
          ]
        }
      ]
    },
    {
      "cell_type": "code",
      "source": [
        "sia.polarity_scores('I am so happy!')"
      ],
      "metadata": {
        "colab": {
          "base_uri": "https://localhost:8080/"
        },
        "id": "bF9SLId7vrjU",
        "outputId": "b7519604-7810-455c-ee1a-023a42afaf06"
      },
      "execution_count": 26,
      "outputs": [
        {
          "output_type": "execute_result",
          "data": {
            "text/plain": [
              "{'neg': 0.0, 'neu': 0.318, 'pos': 0.682, 'compound': 0.6468}"
            ]
          },
          "metadata": {},
          "execution_count": 26
        }
      ]
    },
    {
      "cell_type": "code",
      "source": [
        "sia.polarity_scores('This is the worst thing ever.')"
      ],
      "metadata": {
        "colab": {
          "base_uri": "https://localhost:8080/"
        },
        "id": "l4xJmLruvwRS",
        "outputId": "c49fa8a5-29c8-496f-d4e7-23b2fc4cefd1"
      },
      "execution_count": 27,
      "outputs": [
        {
          "output_type": "execute_result",
          "data": {
            "text/plain": [
              "{'neg': 0.451, 'neu': 0.549, 'pos': 0.0, 'compound': -0.6249}"
            ]
          },
          "metadata": {},
          "execution_count": 27
        }
      ]
    },
    {
      "cell_type": "code",
      "source": [
        "sia.polarity_scores(example)"
      ],
      "metadata": {
        "colab": {
          "base_uri": "https://localhost:8080/"
        },
        "id": "YZGtefcYv0c6",
        "outputId": "24ff5033-c36a-4bf5-dde0-0338d1363782"
      },
      "execution_count": 28,
      "outputs": [
        {
          "output_type": "execute_result",
          "data": {
            "text/plain": [
              "{'neg': 0.097, 'neu': 0.805, 'pos': 0.099, 'compound': -0.6017}"
            ]
          },
          "metadata": {},
          "execution_count": 28
        }
      ]
    },
    {
      "cell_type": "code",
      "source": [
        "# Run the polarity score on the entire dataset\n",
        "res = {}\n",
        "for i, row in tqdm(df.iterrows(), total=len(df)):\n",
        "    text = row['review']\n",
        "    myid = row['ID']\n",
        "    res[myid] = sia.polarity_scores(text)"
      ],
      "metadata": {
        "colab": {
          "base_uri": "https://localhost:8080/",
          "height": 49,
          "referenced_widgets": [
            "147ef94dd395493b9b367fd1a9eaa25f",
            "7ddd5507cb094ff5b30c205a9e6c3d2f",
            "82e739a979074fb7b5532957aff24ad7",
            "1b1264b48b84480fa0f829725074df54",
            "7d19374e792a4e26a23e50134888aa7f",
            "21a277c8b2ec451091c825bd109f6dd1",
            "69d6a594517b49e695831600fff48b6f",
            "2ced7c3dfa8d404fafd78a52e074eb1c",
            "da4099cddd714c2ea105eeb194bd5407",
            "32b2489ff7eb4f528a8db75cf054c0e3",
            "864f3bae15684319b339487bd10ee06f"
          ]
        },
        "id": "4FsMPlNEwBSB",
        "outputId": "dd19774d-782b-4d5a-d22c-4fab2af740b5"
      },
      "execution_count": 29,
      "outputs": [
        {
          "output_type": "display_data",
          "data": {
            "text/plain": [
              "  0%|          | 0/2000 [00:00<?, ?it/s]"
            ],
            "application/vnd.jupyter.widget-view+json": {
              "version_major": 2,
              "version_minor": 0,
              "model_id": "147ef94dd395493b9b367fd1a9eaa25f"
            }
          },
          "metadata": {}
        }
      ]
    },
    {
      "cell_type": "code",
      "source": [
        "vaders = pd.DataFrame(res).T\n",
        "vaders = vaders.reset_index().rename(columns={'index': 'ID'})\n",
        "vaders = vaders.merge(df, how='left')"
      ],
      "metadata": {
        "id": "ue_zDfl40Cs5"
      },
      "execution_count": 30,
      "outputs": []
    },
    {
      "cell_type": "code",
      "source": [
        "# Now we have sentiment score and metadata\n",
        "vaders.head()"
      ],
      "metadata": {
        "colab": {
          "base_uri": "https://localhost:8080/",
          "height": 206
        },
        "id": "d0a2Uj7l0Qzp",
        "outputId": "835bd8c2-f0cf-41d4-edc6-e1b5247409f3"
      },
      "execution_count": 31,
      "outputs": [
        {
          "output_type": "execute_result",
          "data": {
            "text/plain": [
              "   ID    neg    neu    pos  compound  \\\n",
              "0   1  0.103  0.745  0.152    0.9839   \n",
              "1   2  0.212  0.707  0.081   -0.9983   \n",
              "2   3  0.078  0.775  0.147    0.9985   \n",
              "3   4  0.122  0.737  0.142    0.9518   \n",
              "4   5  0.175  0.710  0.115   -0.9963   \n",
              "\n",
              "                                              review sentiment  \n",
              "0  when i ponder childhood memories past , one of...  negative  \n",
              "1  house on haunted hill ( 1999 ) starring taye d...  negative  \n",
              "2  i think the first thing this reviewer should m...  positive  \n",
              "3  i don't box with kid gloves . \\ni don't play n...  positive  \n",
              "4  in french , the phrase \" film noir \" literally...  negative  "
            ],
            "text/html": [
              "\n",
              "  <div id=\"df-27c93531-4bf0-4c26-aec8-5b0e1bf40b47\" class=\"colab-df-container\">\n",
              "    <div>\n",
              "<style scoped>\n",
              "    .dataframe tbody tr th:only-of-type {\n",
              "        vertical-align: middle;\n",
              "    }\n",
              "\n",
              "    .dataframe tbody tr th {\n",
              "        vertical-align: top;\n",
              "    }\n",
              "\n",
              "    .dataframe thead th {\n",
              "        text-align: right;\n",
              "    }\n",
              "</style>\n",
              "<table border=\"1\" class=\"dataframe\">\n",
              "  <thead>\n",
              "    <tr style=\"text-align: right;\">\n",
              "      <th></th>\n",
              "      <th>ID</th>\n",
              "      <th>neg</th>\n",
              "      <th>neu</th>\n",
              "      <th>pos</th>\n",
              "      <th>compound</th>\n",
              "      <th>review</th>\n",
              "      <th>sentiment</th>\n",
              "    </tr>\n",
              "  </thead>\n",
              "  <tbody>\n",
              "    <tr>\n",
              "      <th>0</th>\n",
              "      <td>1</td>\n",
              "      <td>0.103</td>\n",
              "      <td>0.745</td>\n",
              "      <td>0.152</td>\n",
              "      <td>0.9839</td>\n",
              "      <td>when i ponder childhood memories past , one of...</td>\n",
              "      <td>negative</td>\n",
              "    </tr>\n",
              "    <tr>\n",
              "      <th>1</th>\n",
              "      <td>2</td>\n",
              "      <td>0.212</td>\n",
              "      <td>0.707</td>\n",
              "      <td>0.081</td>\n",
              "      <td>-0.9983</td>\n",
              "      <td>house on haunted hill ( 1999 ) starring taye d...</td>\n",
              "      <td>negative</td>\n",
              "    </tr>\n",
              "    <tr>\n",
              "      <th>2</th>\n",
              "      <td>3</td>\n",
              "      <td>0.078</td>\n",
              "      <td>0.775</td>\n",
              "      <td>0.147</td>\n",
              "      <td>0.9985</td>\n",
              "      <td>i think the first thing this reviewer should m...</td>\n",
              "      <td>positive</td>\n",
              "    </tr>\n",
              "    <tr>\n",
              "      <th>3</th>\n",
              "      <td>4</td>\n",
              "      <td>0.122</td>\n",
              "      <td>0.737</td>\n",
              "      <td>0.142</td>\n",
              "      <td>0.9518</td>\n",
              "      <td>i don't box with kid gloves . \\ni don't play n...</td>\n",
              "      <td>positive</td>\n",
              "    </tr>\n",
              "    <tr>\n",
              "      <th>4</th>\n",
              "      <td>5</td>\n",
              "      <td>0.175</td>\n",
              "      <td>0.710</td>\n",
              "      <td>0.115</td>\n",
              "      <td>-0.9963</td>\n",
              "      <td>in french , the phrase \" film noir \" literally...</td>\n",
              "      <td>negative</td>\n",
              "    </tr>\n",
              "  </tbody>\n",
              "</table>\n",
              "</div>\n",
              "    <div class=\"colab-df-buttons\">\n",
              "\n",
              "  <div class=\"colab-df-container\">\n",
              "    <button class=\"colab-df-convert\" onclick=\"convertToInteractive('df-27c93531-4bf0-4c26-aec8-5b0e1bf40b47')\"\n",
              "            title=\"Convert this dataframe to an interactive table.\"\n",
              "            style=\"display:none;\">\n",
              "\n",
              "  <svg xmlns=\"http://www.w3.org/2000/svg\" height=\"24px\" viewBox=\"0 -960 960 960\">\n",
              "    <path d=\"M120-120v-720h720v720H120Zm60-500h600v-160H180v160Zm220 220h160v-160H400v160Zm0 220h160v-160H400v160ZM180-400h160v-160H180v160Zm440 0h160v-160H620v160ZM180-180h160v-160H180v160Zm440 0h160v-160H620v160Z\"/>\n",
              "  </svg>\n",
              "    </button>\n",
              "\n",
              "  <style>\n",
              "    .colab-df-container {\n",
              "      display:flex;\n",
              "      gap: 12px;\n",
              "    }\n",
              "\n",
              "    .colab-df-convert {\n",
              "      background-color: #E8F0FE;\n",
              "      border: none;\n",
              "      border-radius: 50%;\n",
              "      cursor: pointer;\n",
              "      display: none;\n",
              "      fill: #1967D2;\n",
              "      height: 32px;\n",
              "      padding: 0 0 0 0;\n",
              "      width: 32px;\n",
              "    }\n",
              "\n",
              "    .colab-df-convert:hover {\n",
              "      background-color: #E2EBFA;\n",
              "      box-shadow: 0px 1px 2px rgba(60, 64, 67, 0.3), 0px 1px 3px 1px rgba(60, 64, 67, 0.15);\n",
              "      fill: #174EA6;\n",
              "    }\n",
              "\n",
              "    .colab-df-buttons div {\n",
              "      margin-bottom: 4px;\n",
              "    }\n",
              "\n",
              "    [theme=dark] .colab-df-convert {\n",
              "      background-color: #3B4455;\n",
              "      fill: #D2E3FC;\n",
              "    }\n",
              "\n",
              "    [theme=dark] .colab-df-convert:hover {\n",
              "      background-color: #434B5C;\n",
              "      box-shadow: 0px 1px 3px 1px rgba(0, 0, 0, 0.15);\n",
              "      filter: drop-shadow(0px 1px 2px rgba(0, 0, 0, 0.3));\n",
              "      fill: #FFFFFF;\n",
              "    }\n",
              "  </style>\n",
              "\n",
              "    <script>\n",
              "      const buttonEl =\n",
              "        document.querySelector('#df-27c93531-4bf0-4c26-aec8-5b0e1bf40b47 button.colab-df-convert');\n",
              "      buttonEl.style.display =\n",
              "        google.colab.kernel.accessAllowed ? 'block' : 'none';\n",
              "\n",
              "      async function convertToInteractive(key) {\n",
              "        const element = document.querySelector('#df-27c93531-4bf0-4c26-aec8-5b0e1bf40b47');\n",
              "        const dataTable =\n",
              "          await google.colab.kernel.invokeFunction('convertToInteractive',\n",
              "                                                    [key], {});\n",
              "        if (!dataTable) return;\n",
              "\n",
              "        const docLinkHtml = 'Like what you see? Visit the ' +\n",
              "          '<a target=\"_blank\" href=https://colab.research.google.com/notebooks/data_table.ipynb>data table notebook</a>'\n",
              "          + ' to learn more about interactive tables.';\n",
              "        element.innerHTML = '';\n",
              "        dataTable['output_type'] = 'display_data';\n",
              "        await google.colab.output.renderOutput(dataTable, element);\n",
              "        const docLink = document.createElement('div');\n",
              "        docLink.innerHTML = docLinkHtml;\n",
              "        element.appendChild(docLink);\n",
              "      }\n",
              "    </script>\n",
              "  </div>\n",
              "\n",
              "\n",
              "    <div id=\"df-3cde0a94-b2ed-44fe-bf4f-2de5ed3fb15a\">\n",
              "      <button class=\"colab-df-quickchart\" onclick=\"quickchart('df-3cde0a94-b2ed-44fe-bf4f-2de5ed3fb15a')\"\n",
              "                title=\"Suggest charts\"\n",
              "                style=\"display:none;\">\n",
              "\n",
              "<svg xmlns=\"http://www.w3.org/2000/svg\" height=\"24px\"viewBox=\"0 0 24 24\"\n",
              "     width=\"24px\">\n",
              "    <g>\n",
              "        <path d=\"M19 3H5c-1.1 0-2 .9-2 2v14c0 1.1.9 2 2 2h14c1.1 0 2-.9 2-2V5c0-1.1-.9-2-2-2zM9 17H7v-7h2v7zm4 0h-2V7h2v10zm4 0h-2v-4h2v4z\"/>\n",
              "    </g>\n",
              "</svg>\n",
              "      </button>\n",
              "\n",
              "<style>\n",
              "  .colab-df-quickchart {\n",
              "      --bg-color: #E8F0FE;\n",
              "      --fill-color: #1967D2;\n",
              "      --hover-bg-color: #E2EBFA;\n",
              "      --hover-fill-color: #174EA6;\n",
              "      --disabled-fill-color: #AAA;\n",
              "      --disabled-bg-color: #DDD;\n",
              "  }\n",
              "\n",
              "  [theme=dark] .colab-df-quickchart {\n",
              "      --bg-color: #3B4455;\n",
              "      --fill-color: #D2E3FC;\n",
              "      --hover-bg-color: #434B5C;\n",
              "      --hover-fill-color: #FFFFFF;\n",
              "      --disabled-bg-color: #3B4455;\n",
              "      --disabled-fill-color: #666;\n",
              "  }\n",
              "\n",
              "  .colab-df-quickchart {\n",
              "    background-color: var(--bg-color);\n",
              "    border: none;\n",
              "    border-radius: 50%;\n",
              "    cursor: pointer;\n",
              "    display: none;\n",
              "    fill: var(--fill-color);\n",
              "    height: 32px;\n",
              "    padding: 0;\n",
              "    width: 32px;\n",
              "  }\n",
              "\n",
              "  .colab-df-quickchart:hover {\n",
              "    background-color: var(--hover-bg-color);\n",
              "    box-shadow: 0 1px 2px rgba(60, 64, 67, 0.3), 0 1px 3px 1px rgba(60, 64, 67, 0.15);\n",
              "    fill: var(--button-hover-fill-color);\n",
              "  }\n",
              "\n",
              "  .colab-df-quickchart-complete:disabled,\n",
              "  .colab-df-quickchart-complete:disabled:hover {\n",
              "    background-color: var(--disabled-bg-color);\n",
              "    fill: var(--disabled-fill-color);\n",
              "    box-shadow: none;\n",
              "  }\n",
              "\n",
              "  .colab-df-spinner {\n",
              "    border: 2px solid var(--fill-color);\n",
              "    border-color: transparent;\n",
              "    border-bottom-color: var(--fill-color);\n",
              "    animation:\n",
              "      spin 1s steps(1) infinite;\n",
              "  }\n",
              "\n",
              "  @keyframes spin {\n",
              "    0% {\n",
              "      border-color: transparent;\n",
              "      border-bottom-color: var(--fill-color);\n",
              "      border-left-color: var(--fill-color);\n",
              "    }\n",
              "    20% {\n",
              "      border-color: transparent;\n",
              "      border-left-color: var(--fill-color);\n",
              "      border-top-color: var(--fill-color);\n",
              "    }\n",
              "    30% {\n",
              "      border-color: transparent;\n",
              "      border-left-color: var(--fill-color);\n",
              "      border-top-color: var(--fill-color);\n",
              "      border-right-color: var(--fill-color);\n",
              "    }\n",
              "    40% {\n",
              "      border-color: transparent;\n",
              "      border-right-color: var(--fill-color);\n",
              "      border-top-color: var(--fill-color);\n",
              "    }\n",
              "    60% {\n",
              "      border-color: transparent;\n",
              "      border-right-color: var(--fill-color);\n",
              "    }\n",
              "    80% {\n",
              "      border-color: transparent;\n",
              "      border-right-color: var(--fill-color);\n",
              "      border-bottom-color: var(--fill-color);\n",
              "    }\n",
              "    90% {\n",
              "      border-color: transparent;\n",
              "      border-bottom-color: var(--fill-color);\n",
              "    }\n",
              "  }\n",
              "</style>\n",
              "\n",
              "      <script>\n",
              "        async function quickchart(key) {\n",
              "          const quickchartButtonEl =\n",
              "            document.querySelector('#' + key + ' button');\n",
              "          quickchartButtonEl.disabled = true;  // To prevent multiple clicks.\n",
              "          quickchartButtonEl.classList.add('colab-df-spinner');\n",
              "          try {\n",
              "            const charts = await google.colab.kernel.invokeFunction(\n",
              "                'suggestCharts', [key], {});\n",
              "          } catch (error) {\n",
              "            console.error('Error during call to suggestCharts:', error);\n",
              "          }\n",
              "          quickchartButtonEl.classList.remove('colab-df-spinner');\n",
              "          quickchartButtonEl.classList.add('colab-df-quickchart-complete');\n",
              "        }\n",
              "        (() => {\n",
              "          let quickchartButtonEl =\n",
              "            document.querySelector('#df-3cde0a94-b2ed-44fe-bf4f-2de5ed3fb15a button');\n",
              "          quickchartButtonEl.style.display =\n",
              "            google.colab.kernel.accessAllowed ? 'block' : 'none';\n",
              "        })();\n",
              "      </script>\n",
              "    </div>\n",
              "\n",
              "    </div>\n",
              "  </div>\n"
            ],
            "application/vnd.google.colaboratory.intrinsic+json": {
              "type": "dataframe",
              "variable_name": "vaders",
              "summary": "{\n  \"name\": \"vaders\",\n  \"rows\": 2000,\n  \"fields\": [\n    {\n      \"column\": \"ID\",\n      \"properties\": {\n        \"dtype\": \"number\",\n        \"std\": 577,\n        \"min\": 1,\n        \"max\": 2000,\n        \"num_unique_values\": 2000,\n        \"samples\": [\n          1861,\n          354,\n          1334\n        ],\n        \"semantic_type\": \"\",\n        \"description\": \"\"\n      }\n    },\n    {\n      \"column\": \"neg\",\n      \"properties\": {\n        \"dtype\": \"number\",\n        \"std\": 0.03916617398141125,\n        \"min\": 0.0,\n        \"max\": 0.254,\n        \"num_unique_values\": 202,\n        \"samples\": [\n          0.142,\n          0.091,\n          0.14\n        ],\n        \"semantic_type\": \"\",\n        \"description\": \"\"\n      }\n    },\n    {\n      \"column\": \"neu\",\n      \"properties\": {\n        \"dtype\": \"number\",\n        \"std\": 0.04794990720325122,\n        \"min\": 0.597,\n        \"max\": 0.918,\n        \"num_unique_values\": 250,\n        \"samples\": [\n          0.768,\n          0.769,\n          0.708\n        ],\n        \"semantic_type\": \"\",\n        \"description\": \"\"\n      }\n    },\n    {\n      \"column\": \"pos\",\n      \"properties\": {\n        \"dtype\": \"number\",\n        \"std\": 0.041023387660791395,\n        \"min\": 0.027,\n        \"max\": 0.33,\n        \"num_unique_values\": 214,\n        \"samples\": [\n          0.112,\n          0.287,\n          0.169\n        ],\n        \"semantic_type\": \"\",\n        \"description\": \"\"\n      }\n    },\n    {\n      \"column\": \"compound\",\n      \"properties\": {\n        \"dtype\": \"number\",\n        \"std\": 0.8530373193722537,\n        \"min\": -0.9997,\n        \"max\": 0.9999,\n        \"num_unique_values\": 1076,\n        \"samples\": [\n          -0.9842,\n          -0.9811,\n          -0.6091\n        ],\n        \"semantic_type\": \"\",\n        \"description\": \"\"\n      }\n    },\n    {\n      \"column\": \"review\",\n      \"properties\": {\n        \"dtype\": \"string\",\n        \"num_unique_values\": 2000,\n        \"samples\": [\n          \"there's a moment in schindler's list when a number of jews are trudging through snow , clean and crisp , dark edges and frost on the ground . \\none girl waltzes through , wearing a red dress that stings the eyes . \\nit is probably the finest moment through out the film . \\nwhen i first saw it i began to cry , though i could not say why . \\nthis landscape is the setting of many small moments that add up to one big whole . \\nwhen one man is shot in the head we see blood oozing out onto the ground -- so black and murky , its almost pomegranate red . \\nat another time we follow a young boy as he runs , searching for a hiding spot before finally squeezing into a toilet -- which is already occupied . \\nlike so ( citizen kane , fargo , the godfather , the godfather part ii , greed , ) many of the greatest american films , schindler's list plays with the concepts of money , power , and soul . \\nbut this is a movie about a man who does the right thing . \\nstarkly emotional , and brutally powerful , schindler's list strips away everything on the outset and leaves us ony feelings . \\nthe following that it has gained is not suprising -- this is probably , thus far , the best film of the decade . \\nsteven spielberg has always been a skilfull filmmaker -- his assured hand churned out both jurassic parks , jaws , the indiana jones films , and e . t . \\n-- but it wasn't until 1993 that we saw what a brilliant man he can be . \\nthe product of his genuis is really something to see -- it can bring tears to your eyes just as it uplifts you . \\nthroughout , we sense the deep control which he so masterfully spreads . \\nwe watch oskar schindler ( liam neeson ) grow from an arrogant , self important man who hires jews only to save money into a moving figure , with a deep sense of pride and accomplishment . \\nthe film requires much work , and can be a harrowing experience -- go expecting a quick entertainment and you'll be bitterly dissapointed . \\nit does reward the patient viewer . \\nthis is a mature spielberg , and his deft hands shape an absoloute masterpiece . \\nthis eqsuisite , beautiful film is a rare gem . \\nit does a good job of summarizing why i love movies . \\nit leaves one breathless , uplifted , and with much to think about . \\nafterwards you can reflect on individual images , visions , and people . \\nlaconic , removed , schindler strides through the film a detached prescence who watches all , does much , and leaves feeling as if he could , should , have done more then he did and was able to . \\nthe change seems natural -- in the hands of a lesser filmmaker , it would be crude and would cheat the audience . \\ninstead we are told a tale , told a story . \\nthe film is punishing to watch , yes . \\nbut anyone who allows themselves to get involved will experience a miracle , and a genuine masterpiece of a movie . \\n\",\n          \"in these days of overlong movies ( meet joe black , the thin red line , the mask of zorro ) it is a shame that films like waking ned devine can't be longer than a paltry 90 minutes . \\nthis is just a cute movie , even through its mildly risque subject matter . \\nold friends jackie ( bannen ) and michael ( kelley ) try to find the lottery winner ( they deduce must live in their dinky town of about 60 ) so that they might kiss up to him and share the winnings . \\nthrough process of elimination , they find that it must be lovable old ned devine , who they find sitting in front of his tv , clutching the winning lottery ticket in his cold dead hand . \\nwhat results is thuroughly amusing , as jackie tries to convince his wife that not claiming it would be wrong , and that they could really benefit . \\nafter all , old ned won't miss it . \\nrather than divulge the later twists and turns , i'll stop here merely pointing out that jackie and michael get into all sorts of trouble in their little sleepy irish villiage . \\nbannen and kelly are a perfect pair . \\none slightly stout , the other as thin as a rail . \\nboth getting on in years , they make such a cute pair of old codgers . \\nwaking ned devine may even be seen as a \\\" full monty \\\" for the geriatric set , especially since kelly gets buff-o for one amusing scene . \\nwaking ned devine is by no means perfect , but it is so sincere and touching that it looks so much better than most films . \\nthe performances by everyone in the town are great , particularly the two leads . \\nthere is one twist at the end which i find unnecessary , but it hardly ruins the picture . \\nwriter/director kirk jones should be held up as an example to all those hollywood screenwriters . \\nscripts as creative and endearing as this should be the norm , not the exception . \\nperhaps it makes us appreciate this wonderful film even more . \\nhad i held off on my year's best/worst list for another day , waking ned devine ( officially released in late november of 98 ) surely would have graced the short group of the year's finest films . \\nit is light , but thought provoking and sweet . \\ni can't think of anyone who shouldn't see ( or wouldn't enjoy ) this film . \\n\",\n          \"200 cigarettes takes place on new year's eve 1981 . \\nmonica , played by martha plimpton is having a huge new year's party . \\neveryone in town is trying to get there , but some are caught up in other things . \\nthis is the basic plot of 200 cigarettes . \\nas we meet the characters headed towards the party , we are sent into many subplots which are unoriginal , and not interesting at all . \\nthis disappointed me greatly . \\nthe film should have been more about the party than the people trying to get there in my opinion . \\nlucy , played by courtney love , is with kevin , played by paul rudd . \\nthe two are in a relationship that is more of a friendship , but starts to blossom into something more than that . \\nthis subplot is extremely boring and dull , and i am getting quite sick of plots like that . \\njaneane garofalo is involved in another subplot , dealing with kevin . \\nshe plays ellie , an ex-girlfriend of kevin's . \\nthis subplot is completely a waste of garofalo's talent . \\nthere was no point to it at all , and it was hardly even in the movie . \\nwhen lucy runs into a bartender , played by ben affleck , another subplot is formed . \\nthe bartender is invited by lucy to come to monica's party . \\nat the bar , he runs into two more girls . \\nthe girls are played by angela featherstone and nicole parker , but unfortunately , due to the terrible acting of both of them , i don't even remember their characters names . \\nben affleck is a good actor , but his character doesn't go anywhere so he doesn't have much screen time to give a good performance . \\nfeatherstone and parker are horrible in their roles , and they are part of the reason the film is so bad . \\nchristina ricci plays val , and gaby hoffman plays stephie . \\nthe two girls are trying to get to the party but are extremely lost . \\nthey meet some guys and end up going around with them all night . \\nthis subplot was alright , but it was quite annoying with stephie's accent . \\nhoffman did an okay job of acting , but ricci did good . \\nshe was underused , considering she is such a wonderful actress . \\nanother subplot in the film is the relationship between cindy , played by goldie hawn's daughter , and jack , played by jay mohr . \\njack is an actor who doesn't care about the girls he goes out with , he just likes dates for one night , and the next day he doesn't . \\nkate hudson is a huge klutz . \\nshe gets herself into very funny situations , that are the funniest parts in the entire movie . \\nthey are probably the only funny parts in the entire movie as well . \\nthis subplot could have been used more , mainly due to hudson's performance . \\nmohr wasn't good , but he wasn't bad . \\nhe was just alright , which i didn't find acceptable . \\nthere is not much to say about the performances in the film . \\nnone of the characters are developed or shown enough to really tell if the acting is good or not . \\nthe only performances that i can judge are christina ricci's as always good performance , kate hudson's funny role , courtney love's mediocre performance , and paul rudd's annoying and overused performance . \\ni was hoping for a little more out of jaw mohr , ben affleck , casey affleck , gaby hoffman , dave chapelle , and especially out of janeane garofalo . \\nthe two strongest things in the film were the great soundtrack and the original costumes . \\nmartha plimpton and christina ricci had very different and original outfits which made me feel like i was in the year 1981 . \\nthe soundtrack is full of 1980's tunes , ranging from \\\" i want candy \\\" to \\\" tainted love . \\\" \\nthe songs in the movie also helped create the feel that you were back in the 1980s . \\nduring the film , i often found myself asking the questions , \\\" is there a reason to this ? \\nis there any moral story ? \\nis there a point ? \\nare any of the events going on in the film necessary ? \\ndo i care what lucy and kevin are going through ? \\\" \\nthe movie is extremely boring , and by the time they reached eleven-o-clock , one hour before midnight , i could not wait for the movie to be over . \\nthe plot is okay , but the subplots make it terrible . \\nmaybe if the film was about the party , not about the people at the party , it could have been a lot better . \\nthe bottom line : just like a slasher movie , this ? 80s comedy is just one too many . \\n\"\n        ],\n        \"semantic_type\": \"\",\n        \"description\": \"\"\n      }\n    },\n    {\n      \"column\": \"sentiment\",\n      \"properties\": {\n        \"dtype\": \"category\",\n        \"num_unique_values\": 2,\n        \"samples\": [\n          \"positive\",\n          \"negative\"\n        ],\n        \"semantic_type\": \"\",\n        \"description\": \"\"\n      }\n    }\n  ]\n}"
            }
          },
          "metadata": {},
          "execution_count": 31
        }
      ]
    },
    {
      "cell_type": "code",
      "source": [
        "ax = sns.barplot(data=vaders, x='sentiment', y='compound')\n",
        "ax.set_title('Compund Score by sentiments')\n",
        "plt.show()"
      ],
      "metadata": {
        "colab": {
          "base_uri": "https://localhost:8080/",
          "height": 477
        },
        "id": "sViTX85j0ZJm",
        "outputId": "f5052e43-7579-49cb-efc2-51605f59174a"
      },
      "execution_count": 32,
      "outputs": [
        {
          "output_type": "display_data",
          "data": {
            "text/plain": [
              "<Figure size 640x480 with 1 Axes>"
            ],
            "image/png": "[encoded data removed]"
          },
          "metadata": {}
        }
      ]
    },
    {
      "cell_type": "code",
      "source": [
        "fig, axs = plt.subplots(1, 3, figsize=(12, 3))\n",
        "sns.barplot(data=vaders, x='sentiment', y='pos', ax=axs[0])\n",
        "sns.barplot(data=vaders, x='sentiment', y='neu', ax=axs[1])\n",
        "sns.barplot(data=vaders, x='sentiment', y='neg', ax=axs[2])\n",
        "axs[0].set_title('Positive')\n",
        "axs[1].set_title('Neutral')\n",
        "axs[2].set_title('Negative')\n",
        "plt.tight_layout()\n",
        "plt.show()"
      ],
      "metadata": {
        "colab": {
          "base_uri": "https://localhost:8080/",
          "height": 307
        },
        "id": "HDtU5MWn0_9L",
        "outputId": "a159e577-da12-4252-b7c5-9dffd18f963a"
      },
      "execution_count": 33,
      "outputs": [
        {
          "output_type": "display_data",
          "data": {
            "text/plain": [
              "<Figure size 1200x300 with 3 Axes>"
            ],
            "image/png": "[encoded data removed]"
          },
          "metadata": {}
        }
      ]
    },
    {
      "cell_type": "markdown",
      "source": [
        "### 5. Analysing the Dataset"
      ],
      "metadata": {
        "id": "ttRc5jqC1kxI"
      }
    },
    {
      "cell_type": "markdown",
      "source": [
        "Movie review dataset has **3 columns**  ID column is a primary key. It has** 2000 records** and has memory usage: **47.0+ KB**. Distribution of labels is balanced. Dataset will be analyzed in following code snipppets and results are clear and unambiguous."
      ],
      "metadata": {
        "id": "Vh08SUJoVbB2"
      }
    },
    {
      "cell_type": "code",
      "source": [
        "# Get information about the dataset, including data types and missing values\n",
        "print(\"\\nInformation about the dataset:\")\n",
        "print(df.info())\n"
      ],
      "metadata": {
        "colab": {
          "base_uri": "https://localhost:8080/"
        },
        "id": "z9NEeGco2VF3",
        "outputId": "11b14425-fe02-4a94-f866-930e258e45c9"
      },
      "execution_count": 34,
      "outputs": [
        {
          "output_type": "stream",
          "name": "stdout",
          "text": [
            "\n",
            "Information about the dataset:\n",
            "<class 'pandas.core.frame.DataFrame'>\n",
            "RangeIndex: 2000 entries, 0 to 1999\n",
            "Data columns (total 3 columns):\n",
            " #   Column     Non-Null Count  Dtype \n",
            "---  ------     --------------  ----- \n",
            " 0   ID         2000 non-null   int64 \n",
            " 1   review     2000 non-null   object\n",
            " 2   sentiment  2000 non-null   object\n",
            "dtypes: int64(1), object(2)\n",
            "memory usage: 47.0+ KB\n",
            "None\n"
          ]
        }
      ]
    },
    {
      "cell_type": "code",
      "source": [
        "# Check the number of records (rows) and features (columns) in the dataset\n",
        "num_records, num_features = df.shape\n",
        "print(f\"\\nNumber of records: {num_records}\")\n",
        "print(f\"Number of features: {num_features}\")"
      ],
      "metadata": {
        "colab": {
          "base_uri": "https://localhost:8080/"
        },
        "id": "Xt5Oq4zy2hoH",
        "outputId": "16e8b270-0a5f-4da6-8d42-e4699eca121d"
      },
      "execution_count": 35,
      "outputs": [
        {
          "output_type": "stream",
          "name": "stdout",
          "text": [
            "\n",
            "Number of records: 2000\n",
            "Number of features: 3\n"
          ]
        }
      ]
    },
    {
      "cell_type": "code",
      "source": [
        "# Check the distribution of sentiment labels\n",
        "sentiment_distribution = df['sentiment'].value_counts()\n",
        "print(\"\\nDistribution of sentiment labels:\")\n",
        "print(sentiment_distribution)\n"
      ],
      "metadata": {
        "colab": {
          "base_uri": "https://localhost:8080/"
        },
        "id": "4UV48CuQ2o2L",
        "outputId": "9d570858-381d-4d73-c2a2-fa235085967c"
      },
      "execution_count": 36,
      "outputs": [
        {
          "output_type": "stream",
          "name": "stdout",
          "text": [
            "\n",
            "Distribution of sentiment labels:\n",
            "sentiment\n",
            "negative    1000\n",
            "positive    1000\n",
            "Name: count, dtype: int64\n"
          ]
        }
      ]
    },
    {
      "cell_type": "code",
      "source": [
        "# Check if the dataset is balanced or imbalanced\n",
        "is_balanced = all(count >= num_records * 0.05 and count <= num_records * 0.95 for count in sentiment_distribution)\n",
        "print(\"\\nIs the dataset balanced?\", is_balanced)\n"
      ],
      "metadata": {
        "colab": {
          "base_uri": "https://localhost:8080/"
        },
        "id": "uCByiiLv2wg5",
        "outputId": "d3ac3bac-304a-4ab5-9693-892af66ecd8f"
      },
      "execution_count": 37,
      "outputs": [
        {
          "output_type": "stream",
          "name": "stdout",
          "text": [
            "\n",
            "Is the dataset balanced? True\n"
          ]
        }
      ]
    },
    {
      "cell_type": "code",
      "source": [
        "# Outline your strategy for splitting the data into training and testing sets\n",
        "from sklearn.model_selection import train_test_split\n",
        "\n",
        "# Assuming 'sentiment' is the target variable\n",
        "X = df.drop('sentiment', axis=1)\n",
        "y = df['sentiment']\n",
        "\n",
        "# Split the data into training and testing sets (adjust the test_size parameter as needed)\n",
        "X_train, X_test, y_train, y_test = train_test_split(X, y, test_size=0.2, random_state=42)\n",
        "\n",
        "# Display the sizes of the training and testing sets\n",
        "print(\"\\nSize of training set:\", len(X_train))\n",
        "print(\"Size of testing set:\", len(X_test))\n"
      ],
      "metadata": {
        "colab": {
          "base_uri": "https://localhost:8080/"
        },
        "id": "lDiGiY7n1kNq",
        "outputId": "028b6e14-ec93-47c7-cb00-279bed567b84"
      },
      "execution_count": 38,
      "outputs": [
        {
          "output_type": "stream",
          "name": "stdout",
          "text": [
            "\n",
            "Size of training set: 1600\n",
            "Size of testing set: 400\n"
          ]
        }
      ]
    },
    {
      "cell_type": "markdown",
      "source": [
        "### 6. Feature Extraction"
      ],
      "metadata": {
        "id": "UJcFT0wf3EeH"
      }
    },
    {
      "cell_type": "markdown",
      "source": [
        "**TF-IDF Model**\n",
        "\n",
        "TF-IDF (Term Frequency-Inverse Document Frequency) is not directly used for sentiment analysis on its own. Instead, it is typically applied as a feature extraction technique to represent text data numerically before training a machine learning model for sentiment analysis. The results of applying TF-IDF to sentiment analysis would be a matrix of numerical features representing the importance of words in the text.\n",
        "\n",
        "Once you have the TF-IDF matrix (tfidf_df), it can be used as input features to train a sentiment analysis model. Following code can be extended to perform sentiment analysis using scikit-learn's train_test_split and MultinomialNB (Multinomial Naive Bayes) classifier which we will be under analysis in 7th section of Machiine Learning model"
      ],
      "metadata": {
        "id": "0KZVfjBnKkUx"
      }
    },
    {
      "cell_type": "code",
      "source": [
        "from sklearn.feature_extraction.text import TfidfVectorizer\n",
        "\n",
        "# Assuming 'text' is the column containing textual data in your DataFrame\n",
        "corpus = df['review'].tolist()\n",
        "\n",
        "# Create a TF-IDF vectorizer\n",
        "tfidf_vectorizer = TfidfVectorizer()\n",
        "\n",
        "# Fit and transform the textual data\n",
        "tfidf_features = tfidf_vectorizer.fit_transform(corpus)\n",
        "\n",
        "# Convert the TF-IDF matrix to a DataFrame for further analysis\n",
        "tfidf_df = pd.DataFrame(tfidf_features.toarray(), columns=tfidf_vectorizer.get_feature_names_out())\n",
        "\n",
        "# Display the TF-IDF DataFrame\n",
        "print(tfidf_df)\n"
      ],
      "metadata": {
        "colab": {
          "base_uri": "https://localhost:8080/"
        },
        "id": "s8wyVBcK3Gjk",
        "outputId": "523465bf-ba36-47ad-f180-3404ba666588"
      },
      "execution_count": 39,
      "outputs": [
        {
          "output_type": "stream",
          "name": "stdout",
          "text": [
            "       00       000  0009f  007  00s   03   04   05  05425   10  ...  \\\n",
            "0     0.0  0.000000    0.0  0.0  0.0  0.0  0.0  0.0    0.0  0.0  ...   \n",
            "1     0.0  0.000000    0.0  0.0  0.0  0.0  0.0  0.0    0.0  0.0  ...   \n",
            "2     0.0  0.000000    0.0  0.0  0.0  0.0  0.0  0.0    0.0  0.0  ...   \n",
            "3     0.0  0.000000    0.0  0.0  0.0  0.0  0.0  0.0    0.0  0.0  ...   \n",
            "4     0.0  0.025821    0.0  0.0  0.0  0.0  0.0  0.0    0.0  0.0  ...   \n",
            "...   ...       ...    ...  ...  ...  ...  ...  ...    ...  ...  ...   \n",
            "1995  0.0  0.000000    0.0  0.0  0.0  0.0  0.0  0.0    0.0  0.0  ...   \n",
            "1996  0.0  0.000000    0.0  0.0  0.0  0.0  0.0  0.0    0.0  0.0  ...   \n",
            "1997  0.0  0.000000    0.0  0.0  0.0  0.0  0.0  0.0    0.0  0.0  ...   \n",
            "1998  0.0  0.000000    0.0  0.0  0.0  0.0  0.0  0.0    0.0  0.0  ...   \n",
            "1999  0.0  0.000000    0.0  0.0  0.0  0.0  0.0  0.0    0.0  0.0  ...   \n",
            "\n",
            "      zukovsky  zulu  zundel  zurg  zus  zweibel     zwick  zwigoff  zycie  \\\n",
            "0          0.0   0.0     0.0   0.0  0.0      0.0  0.000000      0.0    0.0   \n",
            "1          0.0   0.0     0.0   0.0  0.0      0.0  0.000000      0.0    0.0   \n",
            "2          0.0   0.0     0.0   0.0  0.0      0.0  0.000000      0.0    0.0   \n",
            "3          0.0   0.0     0.0   0.0  0.0      0.0  0.000000      0.0    0.0   \n",
            "4          0.0   0.0     0.0   0.0  0.0      0.0  0.000000      0.0    0.0   \n",
            "...        ...   ...     ...   ...  ...      ...       ...      ...    ...   \n",
            "1995       0.0   0.0     0.0   0.0  0.0      0.0  0.000000      0.0    0.0   \n",
            "1996       0.0   0.0     0.0   0.0  0.0      0.0  0.000000      0.0    0.0   \n",
            "1997       0.0   0.0     0.0   0.0  0.0      0.0  0.000000      0.0    0.0   \n",
            "1998       0.0   0.0     0.0   0.0  0.0      0.0  0.155599      0.0    0.0   \n",
            "1999       0.0   0.0     0.0   0.0  0.0      0.0  0.000000      0.0    0.0   \n",
            "\n",
            "      zzzzzzz  \n",
            "0         0.0  \n",
            "1         0.0  \n",
            "2         0.0  \n",
            "3         0.0  \n",
            "4         0.0  \n",
            "...       ...  \n",
            "1995      0.0  \n",
            "1996      0.0  \n",
            "1997      0.0  \n",
            "1998      0.0  \n",
            "1999      0.0  \n",
            "\n",
            "[2000 rows x 39659 columns]\n"
          ]
        }
      ]
    },
    {
      "cell_type": "markdown",
      "source": [
        "**TextBlob**\n",
        "\n",
        "TextBlob includes a pre-trained model for sentiment analysis. It is a Python library for processing textual data. It provides a simple API for common natural language processing (NLP) tasks, such as part-of-speech tagging, noun phrase extraction, sentiment analysis, classification, translation, and more. TextBlob is built on top of NLTK (Natural Language Toolkit) and follows a straightforward and user-friendly design, making it accessible to users without extensive NLP expertise."
      ],
      "metadata": {
        "id": "G-yLN0izMv3e"
      }
    },
    {
      "cell_type": "code",
      "source": [
        "from textblob import TextBlob\n",
        "\n",
        "# Example text\n",
        "text = \"I love this product! It's amazing.\"\n",
        "\n",
        "# Create a TextBlob object\n",
        "blob = TextBlob(text)\n",
        "\n",
        "# Get sentiment polarity (-1 to 1, where -1 is negative, 1 is positive)\n",
        "sentiment_polarity = blob.sentiment.polarity\n",
        "\n",
        "# Print sentiment polarity\n",
        "print(sentiment_polarity)"
      ],
      "metadata": {
        "colab": {
          "base_uri": "https://localhost:8080/"
        },
        "id": "jY7BphPt5WCf",
        "outputId": "f2d68b88-eec9-4264-b3ca-dd4b24957f49"
      },
      "execution_count": 40,
      "outputs": [
        {
          "output_type": "stream",
          "name": "stdout",
          "text": [
            "0.6125\n"
          ]
        }
      ]
    },
    {
      "cell_type": "markdown",
      "source": [
        "**Transformers Pipeline**"
      ],
      "metadata": {
        "id": "neZqW-UXNsZG"
      }
    },
    {
      "cell_type": "code",
      "source": [
        "from transformers import pipeline\n",
        "\n",
        "sent_pipeline = pipeline(\"sentiment-analysis\")"
      ],
      "metadata": {
        "colab": {
          "base_uri": "https://localhost:8080/",
          "height": 301,
          "referenced_widgets": [
            "71d4bd0d4f68482d826d2f832d1c9f95",
            "d7addc155bca42d3b4d94a5dc66e2040",
            "ad1cbe235276406bac2572eb13ea70b5",
            "debee889e69948d6a7601e540c6fc701",
            "b062dfdc36b54051b5bca89e5acff590",
            "21df2c82cd9340baa024221d278ff7c7",
            "aaaa77f15ce94a03bc0a827f2eabb5c3",
            "e2fbba974e9546f293085c806b2a99f5",
            "e436b9d9f1fe4d7da2684220771bd455",
            "8e21def4ff71481292f5ce3ef21c62c1",
            "c6676afe8d434ea0829f735ab0f69446",
            "d8d906df1cf949f8a964e13fb18f25a0",
            "4048b6030b8345aa82778c717eac18aa",
            "a10bfafbcdd54c99abbc5b1e78ca3cbd",
            "1371494feb8147749d7754058fdcae2e",
            "da855993c3b84f8b9d2f624c25af8e4d",
            "bfd0ecaa73e14439a8327aaad54ec758",
            "f137344d52de4e99a95f95b28f4473d5",
            "509fbd0729b54f38aa50a0aacc5548b3",
            "224f8b4613d64590b1fce3d28ed07625",
            "1f712195f8014da2b0150efccbdecc25",
            "a6cfc51d804e4a52b1b6693506f4f22c",
            "8226f489866943da8b7819ca628b424f",
            "5541ee4df14f46e5b308ca1465cf67c2",
            "adb995e330634806b1e696a9f69d9e62",
            "f9f6fe30fc7e4949a25382a04031b85d",
            "f0f0391e9eb9461c921849bca4c057d6",
            "ffd533647d534fe6bfc8f95ee3fd095c",
            "530d3f3bfcb1494eaa7d6e757c7bb589",
            "d7cc9f522c9944bba7dc5b81cf9836e8",
            "9c33b755353d43f5bea22ac6dc7dc847",
            "a60224cd334f41d0a2f353e050578be3",
            "8b06cc6b4d8c41c7899f1aa1821dd30a",
            "1655cfb40c1b4f3cb63eb4c570dfe03e",
            "3683d0d2238745fe840016d03651faa9",
            "09e5990cc1e4447f9001c9ec281f3c79",
            "ba84a2e681f142bf92fdbc0a16f8c814",
            "e3a53844965246aa8addd6cdd94fad3d",
            "dba270a8997141729149fb4bad400440",
            "a8c98d9ad2cd455f9fac40ab0079a844",
            "375a4024661d4cee964fb59c662f9e11",
            "e2ce37d559c94c23b8bd677f3a801003",
            "8e4048fa472c4fbcbeb0b439cd81e7a4",
            "2316d40170e445118ece0592f62a406f"
          ]
        },
        "id": "w0AZz3TMADgV",
        "outputId": "72862fb6-c103-4236-fa84-5f565e0799a4"
      },
      "execution_count": 41,
      "outputs": [
        {
          "output_type": "stream",
          "name": "stderr",
          "text": [
            "No model was supplied, defaulted to distilbert/distilbert-base-uncased-finetuned-sst-2-english and revision 714eb0f (https://huggingface.co/distilbert/distilbert-base-uncased-finetuned-sst-2-english).\n",
            "Using a pipeline without specifying a model name and revision in production is not recommended.\n",
            "/usr/local/lib/python3.12/dist-packages/huggingface_hub/utils/_auth.py:94: UserWarning: \n",
            "The secret `HF_TOKEN` does not exist in your Colab secrets.\n",
            "To authenticate with the Hugging Face Hub, create a token in your settings tab (https://huggingface.co/settings/tokens), set it as secret in your Google Colab and restart your session.\n",
            "You will be able to reuse this secret in all of your notebooks.\n",
            "Please note that authentication is recommended but still optional to access public models or datasets.\n",
            "  warnings.warn(\n"
          ]
        },
        {
          "output_type": "display_data",
          "data": {
            "text/plain": [
              "config.json:   0%|          | 0.00/629 [00:00<?, ?B/s]"
            ],
            "application/vnd.jupyter.widget-view+json": {
              "version_major": 2,
              "version_minor": 0,
              "model_id": "71d4bd0d4f68482d826d2f832d1c9f95"
            }
          },
          "metadata": {}
        },
        {
          "output_type": "display_data",
          "data": {
            "text/plain": [
              "model.safetensors:   0%|          | 0.00/268M [00:00<?, ?B/s]"
            ],
            "application/vnd.jupyter.widget-view+json": {
              "version_major": 2,
              "version_minor": 0,
              "model_id": "d8d906df1cf949f8a964e13fb18f25a0"
            }
          },
          "metadata": {}
        },
        {
          "output_type": "display_data",
          "data": {
            "text/plain": [
              "tokenizer_config.json:   0%|          | 0.00/48.0 [00:00<?, ?B/s]"
            ],
            "application/vnd.jupyter.widget-view+json": {
              "version_major": 2,
              "version_minor": 0,
              "model_id": "8226f489866943da8b7819ca628b424f"
            }
          },
          "metadata": {}
        },
        {
          "output_type": "display_data",
          "data": {
            "text/plain": [
              "vocab.txt: 0.00B [00:00, ?B/s]"
            ],
            "application/vnd.jupyter.widget-view+json": {
              "version_major": 2,
              "version_minor": 0,
              "model_id": "1655cfb40c1b4f3cb63eb4c570dfe03e"
            }
          },
          "metadata": {}
        },
        {
          "output_type": "stream",
          "name": "stderr",
          "text": [
            "Device set to use cpu\n"
          ]
        }
      ]
    },
    {
      "cell_type": "code",
      "source": [
        "sent_pipeline('I love sentiment analysis!')"
      ],
      "metadata": {
        "colab": {
          "base_uri": "https://localhost:8080/"
        },
        "id": "guAhuvNgBGpO",
        "outputId": "4f779547-76db-476a-a49f-fedea279a0d5"
      },
      "execution_count": 42,
      "outputs": [
        {
          "output_type": "execute_result",
          "data": {
            "text/plain": [
              "[{'label': 'POSITIVE', 'score': 0.9997853636741638}]"
            ]
          },
          "metadata": {},
          "execution_count": 42
        }
      ]
    },
    {
      "cell_type": "code",
      "source": [
        "sent_pipeline('booo')"
      ],
      "metadata": {
        "colab": {
          "base_uri": "https://localhost:8080/"
        },
        "id": "S-Thg90RBMp2",
        "outputId": "12afae98-5e06-4710-8ffc-7e017da8d512"
      },
      "execution_count": 43,
      "outputs": [
        {
          "output_type": "execute_result",
          "data": {
            "text/plain": [
              "[{'label': 'NEGATIVE', 'score': 0.9936267137527466}]"
            ]
          },
          "metadata": {},
          "execution_count": 43
        }
      ]
    },
    {
      "cell_type": "markdown",
      "source": [
        "### 7. Machine Learning Model"
      ],
      "metadata": {
        "id": "R3iygwDDL6lb"
      }
    },
    {
      "cell_type": "markdown",
      "source": [
        "\n",
        "** Na¨ıve Bayes model**\n",
        "\n",
        "  Na¨ıve Bayes model uses the scikit-learn library to implement a sentiment analysis model on a movie reviews dataset. It loads the dataset, performs basic text preprocessing by removing stopwords, punctuation, and non-alphabetic characters. The data is then split into training and testing sets. The CountVectorizer converts text data into a bag-of-words representation. A Multinomial Naive Bayes classifier is trained on the training set, using the word counts as features. Finally, the model is evaluated on the testing set using confusion matrix and classification report. Naive Bayes works by assuming independence between features and uses Bayes' theorem for probabilistic classification based on feature occurrences."
      ],
      "metadata": {
        "id": "g7ghNWEfQ4mX"
      }
    },
    {
      "cell_type": "code",
      "source": [
        "import pandas as pd\n",
        "from sklearn.model_selection import train_test_split\n",
        "from sklearn.feature_extraction.text import CountVectorizer\n",
        "from sklearn.naive_bayes import MultinomialNB\n",
        "from sklearn.metrics import classification_report, confusion_matrix\n"
      ],
      "metadata": {
        "id": "mrsjV4TzHrE4"
      },
      "execution_count": 44,
      "outputs": []
    },
    {
      "cell_type": "code",
      "source": [
        "from nltk.corpus import stopwords\n",
        "df = pd.read_csv('movie_reviews_dataset.csv')\n",
        "nltk.download('stopwords')\n",
        "# Perform basic data preprocessing, such as removing stop words, punctuation, and special characters\n",
        "df['review'] = df['review'].apply(lambda x: ' '.join([word for word in x.split() if word not in (stopwords.words('english'))]))\n",
        "df['review'] = df['review'].apply(lambda x: ' '.join([word for word in x.split() if word.isalpha()]))"
      ],
      "metadata": {
        "colab": {
          "base_uri": "https://localhost:8080/"
        },
        "id": "TNrfkd3PIPOP",
        "outputId": "b867f7a1-2083-4984-b4fc-e12fd0395b1a"
      },
      "execution_count": 45,
      "outputs": [
        {
          "output_type": "stream",
          "name": "stderr",
          "text": [
            "[nltk_data] Downloading package stopwords to /root/nltk_data...\n",
            "[nltk_data]   Unzipping corpora/stopwords.zip.\n"
          ]
        }
      ]
    },
    {
      "cell_type": "code",
      "source": [
        "X_train, X_test, y_train, y_test = train_test_split(df['review'], df['sentiment'], test_size=0.2, random_state=51)"
      ],
      "metadata": {
        "id": "QNFZfbTSJ5DK"
      },
      "execution_count": 46,
      "outputs": []
    },
    {
      "cell_type": "code",
      "source": [
        "vectorizer = CountVectorizer()\n",
        "X_train_counts = vectorizer.fit_transform(X_train)\n",
        "X_test_counts = vectorizer.transform(X_test)"
      ],
      "metadata": {
        "id": "ne71N_PgJ9rT"
      },
      "execution_count": 47,
      "outputs": []
    },
    {
      "cell_type": "code",
      "source": [
        "nb_classifier = MultinomialNB()\n",
        "nb_classifier.fit(X_train_counts, y_train)"
      ],
      "metadata": {
        "colab": {
          "base_uri": "https://localhost:8080/",
          "height": 80
        },
        "id": "dm6T1LRDKCIT",
        "outputId": "5d774839-c24a-42a1-bddc-49aca921be45"
      },
      "execution_count": 48,
      "outputs": [
        {
          "output_type": "execute_result",
          "data": {
            "text/plain": [
              "MultinomialNB()"
            ],
            "text/html": [
              "<style>#sk-container-id-1 {\n",
              "  /* Definition of color scheme common for light and dark mode */\n",
              "  --sklearn-color-text: #000;\n",
              "  --sklearn-color-text-muted: #666;\n",
              "  --sklearn-color-line: gray;\n",
              "  /* Definition of color scheme for unfitted estimators */\n",
              "  --sklearn-color-unfitted-level-0: #fff5e6;\n",
              "  --sklearn-color-unfitted-level-1: #f6e4d2;\n",
              "  --sklearn-color-unfitted-level-2: #ffe0b3;\n",
              "  --sklearn-color-unfitted-level-3: chocolate;\n",
              "  /* Definition of color scheme for fitted estimators */\n",
              "  --sklearn-color-fitted-level-0: #f0f8ff;\n",
              "  --sklearn-color-fitted-level-1: #d4ebff;\n",
              "  --sklearn-color-fitted-level-2: #b3dbfd;\n",
              "  --sklearn-color-fitted-level-3: cornflowerblue;\n",
              "\n",
              "  /* Specific color for light theme */\n",
              "  --sklearn-color-text-on-default-background: var(--sg-text-color, var(--theme-code-foreground, var(--jp-content-font-color1, black)));\n",
              "  --sklearn-color-background: var(--sg-background-color, var(--theme-background, var(--jp-layout-color0, white)));\n",
              "  --sklearn-color-border-box: var(--sg-text-color, var(--theme-code-foreground, var(--jp-content-font-color1, black)));\n",
              "  --sklearn-color-icon: #696969;\n",
              "\n",
              "  @media (prefers-color-scheme: dark) {\n",
              "    /* Redefinition of color scheme for dark theme */\n",
              "    --sklearn-color-text-on-default-background: var(--sg-text-color, var(--theme-code-foreground, var(--jp-content-font-color1, white)));\n",
              "    --sklearn-color-background: var(--sg-background-color, var(--theme-background, var(--jp-layout-color0, #111)));\n",
              "    --sklearn-color-border-box: var(--sg-text-color, var(--theme-code-foreground, var(--jp-content-font-color1, white)));\n",
              "    --sklearn-color-icon: #878787;\n",
              "  }\n",
              "}\n",
              "\n",
              "#sk-container-id-1 {\n",
              "  color: var(--sklearn-color-text);\n",
              "}\n",
              "\n",
              "#sk-container-id-1 pre {\n",
              "  padding: 0;\n",
              "}\n",
              "\n",
              "#sk-container-id-1 input.sk-hidden--visually {\n",
              "  border: 0;\n",
              "  clip: rect(1px 1px 1px 1px);\n",
              "  clip: rect(1px, 1px, 1px, 1px);\n",
              "  height: 1px;\n",
              "  margin: -1px;\n",
              "  overflow: hidden;\n",
              "  padding: 0;\n",
              "  position: absolute;\n",
              "  width: 1px;\n",
              "}\n",
              "\n",
              "#sk-container-id-1 div.sk-dashed-wrapped {\n",
              "  border: 1px dashed var(--sklearn-color-line);\n",
              "  margin: 0 0.4em 0.5em 0.4em;\n",
              "  box-sizing: border-box;\n",
              "  padding-bottom: 0.4em;\n",
              "  background-color: var(--sklearn-color-background);\n",
              "}\n",
              "\n",
              "#sk-container-id-1 div.sk-container {\n",
              "  /* jupyter's `normalize.less` sets `[hidden] { display: none; }`\n",
              "     but bootstrap.min.css set `[hidden] { display: none !important; }`\n",
              "     so we also need the `!important` here to be able to override the\n",
              "     default hidden behavior on the sphinx rendered scikit-learn.org.\n",
              "     See: https://github.com/scikit-learn/scikit-learn/issues/21755 */\n",
              "  display: inline-block !important;\n",
              "  position: relative;\n",
              "}\n",
              "\n",
              "#sk-container-id-1 div.sk-text-repr-fallback {\n",
              "  display: none;\n",
              "}\n",
              "\n",
              "div.sk-parallel-item,\n",
              "div.sk-serial,\n",
              "div.sk-item {\n",
              "  /* draw centered vertical line to link estimators */\n",
              "  background-image: linear-gradient(var(--sklearn-color-text-on-default-background), var(--sklearn-color-text-on-default-background));\n",
              "  background-size: 2px 100%;\n",
              "  background-repeat: no-repeat;\n",
              "  background-position: center center;\n",
              "}\n",
              "\n",
              "/* Parallel-specific style estimator block */\n",
              "\n",
              "#sk-container-id-1 div.sk-parallel-item::after {\n",
              "  content: \"\";\n",
              "  width: 100%;\n",
              "  border-bottom: 2px solid var(--sklearn-color-text-on-default-background);\n",
              "  flex-grow: 1;\n",
              "}\n",
              "\n",
              "#sk-container-id-1 div.sk-parallel {\n",
              "  display: flex;\n",
              "  align-items: stretch;\n",
              "  justify-content: center;\n",
              "  background-color: var(--sklearn-color-background);\n",
              "  position: relative;\n",
              "}\n",
              "\n",
              "#sk-container-id-1 div.sk-parallel-item {\n",
              "  display: flex;\n",
              "  flex-direction: column;\n",
              "}\n",
              "\n",
              "#sk-container-id-1 div.sk-parallel-item:first-child::after {\n",
              "  align-self: flex-end;\n",
              "  width: 50%;\n",
              "}\n",
              "\n",
              "#sk-container-id-1 div.sk-parallel-item:last-child::after {\n",
              "  align-self: flex-start;\n",
              "  width: 50%;\n",
              "}\n",
              "\n",
              "#sk-container-id-1 div.sk-parallel-item:only-child::after {\n",
              "  width: 0;\n",
              "}\n",
              "\n",
              "/* Serial-specific style estimator block */\n",
              "\n",
              "#sk-container-id-1 div.sk-serial {\n",
              "  display: flex;\n",
              "  flex-direction: column;\n",
              "  align-items: center;\n",
              "  background-color: var(--sklearn-color-background);\n",
              "  padding-right: 1em;\n",
              "  padding-left: 1em;\n",
              "}\n",
              "\n",
              "\n",
              "/* Toggleable style: style used for estimator/Pipeline/ColumnTransformer box that is\n",
              "clickable and can be expanded/collapsed.\n",
              "- Pipeline and ColumnTransformer use this feature and define the default style\n",
              "- Estimators will overwrite some part of the style using the `sk-estimator` class\n",
              "*/\n",
              "\n",
              "/* Pipeline and ColumnTransformer style (default) */\n",
              "\n",
              "#sk-container-id-1 div.sk-toggleable {\n",
              "  /* Default theme specific background. It is overwritten whether we have a\n",
              "  specific estimator or a Pipeline/ColumnTransformer */\n",
              "  background-color: var(--sklearn-color-background);\n",
              "}\n",
              "\n",
              "/* Toggleable label */\n",
              "#sk-container-id-1 label.sk-toggleable__label {\n",
              "  cursor: pointer;\n",
              "  display: flex;\n",
              "  width: 100%;\n",
              "  margin-bottom: 0;\n",
              "  padding: 0.5em;\n",
              "  box-sizing: border-box;\n",
              "  text-align: center;\n",
              "  align-items: start;\n",
              "  justify-content: space-between;\n",
              "  gap: 0.5em;\n",
              "}\n",
              "\n",
              "#sk-container-id-1 label.sk-toggleable__label .caption {\n",
              "  font-size: 0.6rem;\n",
              "  font-weight: lighter;\n",
              "  color: var(--sklearn-color-text-muted);\n",
              "}\n",
              "\n",
              "#sk-container-id-1 label.sk-toggleable__label-arrow:before {\n",
              "  /* Arrow on the left of the label */\n",
              "  content: \"▸\";\n",
              "  float: left;\n",
              "  margin-right: 0.25em;\n",
              "  color: var(--sklearn-color-icon);\n",
              "}\n",
              "\n",
              "#sk-container-id-1 label.sk-toggleable__label-arrow:hover:before {\n",
              "  color: var(--sklearn-color-text);\n",
              "}\n",
              "\n",
              "/* Toggleable content - dropdown */\n",
              "\n",
              "#sk-container-id-1 div.sk-toggleable__content {\n",
              "  max-height: 0;\n",
              "  max-width: 0;\n",
              "  overflow: hidden;\n",
              "  text-align: left;\n",
              "  /* unfitted */\n",
              "  background-color: var(--sklearn-color-unfitted-level-0);\n",
              "}\n",
              "\n",
              "#sk-container-id-1 div.sk-toggleable__content.fitted {\n",
              "  /* fitted */\n",
              "  background-color: var(--sklearn-color-fitted-level-0);\n",
              "}\n",
              "\n",
              "#sk-container-id-1 div.sk-toggleable__content pre {\n",
              "  margin: 0.2em;\n",
              "  border-radius: 0.25em;\n",
              "  color: var(--sklearn-color-text);\n",
              "  /* unfitted */\n",
              "  background-color: var(--sklearn-color-unfitted-level-0);\n",
              "}\n",
              "\n",
              "#sk-container-id-1 div.sk-toggleable__content.fitted pre {\n",
              "  /* unfitted */\n",
              "  background-color: var(--sklearn-color-fitted-level-0);\n",
              "}\n",
              "\n",
              "#sk-container-id-1 input.sk-toggleable__control:checked~div.sk-toggleable__content {\n",
              "  /* Expand drop-down */\n",
              "  max-height: 200px;\n",
              "  max-width: 100%;\n",
              "  overflow: auto;\n",
              "}\n",
              "\n",
              "#sk-container-id-1 input.sk-toggleable__control:checked~label.sk-toggleable__label-arrow:before {\n",
              "  content: \"▾\";\n",
              "}\n",
              "\n",
              "/* Pipeline/ColumnTransformer-specific style */\n",
              "\n",
              "#sk-container-id-1 div.sk-label input.sk-toggleable__control:checked~label.sk-toggleable__label {\n",
              "  color: var(--sklearn-color-text);\n",
              "  background-color: var(--sklearn-color-unfitted-level-2);\n",
              "}\n",
              "\n",
              "#sk-container-id-1 div.sk-label.fitted input.sk-toggleable__control:checked~label.sk-toggleable__label {\n",
              "  background-color: var(--sklearn-color-fitted-level-2);\n",
              "}\n",
              "\n",
              "/* Estimator-specific style */\n",
              "\n",
              "/* Colorize estimator box */\n",
              "#sk-container-id-1 div.sk-estimator input.sk-toggleable__control:checked~label.sk-toggleable__label {\n",
              "  /* unfitted */\n",
              "  background-color: var(--sklearn-color-unfitted-level-2);\n",
              "}\n",
              "\n",
              "#sk-container-id-1 div.sk-estimator.fitted input.sk-toggleable__control:checked~label.sk-toggleable__label {\n",
              "  /* fitted */\n",
              "  background-color: var(--sklearn-color-fitted-level-2);\n",
              "}\n",
              "\n",
              "#sk-container-id-1 div.sk-label label.sk-toggleable__label,\n",
              "#sk-container-id-1 div.sk-label label {\n",
              "  /* The background is the default theme color */\n",
              "  color: var(--sklearn-color-text-on-default-background);\n",
              "}\n",
              "\n",
              "/* On hover, darken the color of the background */\n",
              "#sk-container-id-1 div.sk-label:hover label.sk-toggleable__label {\n",
              "  color: var(--sklearn-color-text);\n",
              "  background-color: var(--sklearn-color-unfitted-level-2);\n",
              "}\n",
              "\n",
              "/* Label box, darken color on hover, fitted */\n",
              "#sk-container-id-1 div.sk-label.fitted:hover label.sk-toggleable__label.fitted {\n",
              "  color: var(--sklearn-color-text);\n",
              "  background-color: var(--sklearn-color-fitted-level-2);\n",
              "}\n",
              "\n",
              "/* Estimator label */\n",
              "\n",
              "#sk-container-id-1 div.sk-label label {\n",
              "  font-family: monospace;\n",
              "  font-weight: bold;\n",
              "  display: inline-block;\n",
              "  line-height: 1.2em;\n",
              "}\n",
              "\n",
              "#sk-container-id-1 div.sk-label-container {\n",
              "  text-align: center;\n",
              "}\n",
              "\n",
              "/* Estimator-specific */\n",
              "#sk-container-id-1 div.sk-estimator {\n",
              "  font-family: monospace;\n",
              "  border: 1px dotted var(--sklearn-color-border-box);\n",
              "  border-radius: 0.25em;\n",
              "  box-sizing: border-box;\n",
              "  margin-bottom: 0.5em;\n",
              "  /* unfitted */\n",
              "  background-color: var(--sklearn-color-unfitted-level-0);\n",
              "}\n",
              "\n",
              "#sk-container-id-1 div.sk-estimator.fitted {\n",
              "  /* fitted */\n",
              "  background-color: var(--sklearn-color-fitted-level-0);\n",
              "}\n",
              "\n",
              "/* on hover */\n",
              "#sk-container-id-1 div.sk-estimator:hover {\n",
              "  /* unfitted */\n",
              "  background-color: var(--sklearn-color-unfitted-level-2);\n",
              "}\n",
              "\n",
              "#sk-container-id-1 div.sk-estimator.fitted:hover {\n",
              "  /* fitted */\n",
              "  background-color: var(--sklearn-color-fitted-level-2);\n",
              "}\n",
              "\n",
              "/* Specification for estimator info (e.g. \"i\" and \"?\") */\n",
              "\n",
              "/* Common style for \"i\" and \"?\" */\n",
              "\n",
              ".sk-estimator-doc-link,\n",
              "a:link.sk-estimator-doc-link,\n",
              "a:visited.sk-estimator-doc-link {\n",
              "  float: right;\n",
              "  font-size: smaller;\n",
              "  line-height: 1em;\n",
              "  font-family: monospace;\n",
              "  background-color: var(--sklearn-color-background);\n",
              "  border-radius: 1em;\n",
              "  height: 1em;\n",
              "  width: 1em;\n",
              "  text-decoration: none !important;\n",
              "  margin-left: 0.5em;\n",
              "  text-align: center;\n",
              "  /* unfitted */\n",
              "  border: var(--sklearn-color-unfitted-level-1) 1pt solid;\n",
              "  color: var(--sklearn-color-unfitted-level-1);\n",
              "}\n",
              "\n",
              ".sk-estimator-doc-link.fitted,\n",
              "a:link.sk-estimator-doc-link.fitted,\n",
              "a:visited.sk-estimator-doc-link.fitted {\n",
              "  /* fitted */\n",
              "  border: var(--sklearn-color-fitted-level-1) 1pt solid;\n",
              "  color: var(--sklearn-color-fitted-level-1);\n",
              "}\n",
              "\n",
              "/* On hover */\n",
              "div.sk-estimator:hover .sk-estimator-doc-link:hover,\n",
              ".sk-estimator-doc-link:hover,\n",
              "div.sk-label-container:hover .sk-estimator-doc-link:hover,\n",
              ".sk-estimator-doc-link:hover {\n",
              "  /* unfitted */\n",
              "  background-color: var(--sklearn-color-unfitted-level-3);\n",
              "  color: var(--sklearn-color-background);\n",
              "  text-decoration: none;\n",
              "}\n",
              "\n",
              "div.sk-estimator.fitted:hover .sk-estimator-doc-link.fitted:hover,\n",
              ".sk-estimator-doc-link.fitted:hover,\n",
              "div.sk-label-container:hover .sk-estimator-doc-link.fitted:hover,\n",
              ".sk-estimator-doc-link.fitted:hover {\n",
              "  /* fitted */\n",
              "  background-color: var(--sklearn-color-fitted-level-3);\n",
              "  color: var(--sklearn-color-background);\n",
              "  text-decoration: none;\n",
              "}\n",
              "\n",
              "/* Span, style for the box shown on hovering the info icon */\n",
              ".sk-estimator-doc-link span {\n",
              "  display: none;\n",
              "  z-index: 9999;\n",
              "  position: relative;\n",
              "  font-weight: normal;\n",
              "  right: .2ex;\n",
              "  padding: .5ex;\n",
              "  margin: .5ex;\n",
              "  width: min-content;\n",
              "  min-width: 20ex;\n",
              "  max-width: 50ex;\n",
              "  color: var(--sklearn-color-text);\n",
              "  box-shadow: 2pt 2pt 4pt #999;\n",
              "  /* unfitted */\n",
              "  background: var(--sklearn-color-unfitted-level-0);\n",
              "  border: .5pt solid var(--sklearn-color-unfitted-level-3);\n",
              "}\n",
              "\n",
              ".sk-estimator-doc-link.fitted span {\n",
              "  /* fitted */\n",
              "  background: var(--sklearn-color-fitted-level-0);\n",
              "  border: var(--sklearn-color-fitted-level-3);\n",
              "}\n",
              "\n",
              ".sk-estimator-doc-link:hover span {\n",
              "  display: block;\n",
              "}\n",
              "\n",
              "/* \"?\"-specific style due to the `<a>` HTML tag */\n",
              "\n",
              "#sk-container-id-1 a.estimator_doc_link {\n",
              "  float: right;\n",
              "  font-size: 1rem;\n",
              "  line-height: 1em;\n",
              "  font-family: monospace;\n",
              "  background-color: var(--sklearn-color-background);\n",
              "  border-radius: 1rem;\n",
              "  height: 1rem;\n",
              "  width: 1rem;\n",
              "  text-decoration: none;\n",
              "  /* unfitted */\n",
              "  color: var(--sklearn-color-unfitted-level-1);\n",
              "  border: var(--sklearn-color-unfitted-level-1) 1pt solid;\n",
              "}\n",
              "\n",
              "#sk-container-id-1 a.estimator_doc_link.fitted {\n",
              "  /* fitted */\n",
              "  border: var(--sklearn-color-fitted-level-1) 1pt solid;\n",
              "  color: var(--sklearn-color-fitted-level-1);\n",
              "}\n",
              "\n",
              "/* On hover */\n",
              "#sk-container-id-1 a.estimator_doc_link:hover {\n",
              "  /* unfitted */\n",
              "  background-color: var(--sklearn-color-unfitted-level-3);\n",
              "  color: var(--sklearn-color-background);\n",
              "  text-decoration: none;\n",
              "}\n",
              "\n",
              "#sk-container-id-1 a.estimator_doc_link.fitted:hover {\n",
              "  /* fitted */\n",
              "  background-color: var(--sklearn-color-fitted-level-3);\n",
              "}\n",
              "</style><div id=\"sk-container-id-1\" class=\"sk-top-container\"><div class=\"sk-text-repr-fallback\"><pre>MultinomialNB()</pre><b>In a Jupyter environment, please rerun this cell to show the HTML representation or trust the notebook. <br />On GitHub, the HTML representation is unable to render, please try loading this page with nbviewer.org.</b></div><div class=\"sk-container\" hidden><div class=\"sk-item\"><div class=\"sk-estimator fitted sk-toggleable\"><input class=\"sk-toggleable__control sk-hidden--visually\" id=\"sk-estimator-id-1\" type=\"checkbox\" checked><label for=\"sk-estimator-id-1\" class=\"sk-toggleable__label fitted sk-toggleable__label-arrow\"><div><div>MultinomialNB</div></div><div><a class=\"sk-estimator-doc-link fitted\" rel=\"noreferrer\" target=\"_blank\" href=\"https://scikit-learn.org/1.6/modules/generated/sklearn.naive_bayes.MultinomialNB.html\">?<span>Documentation for MultinomialNB</span></a><span class=\"sk-estimator-doc-link fitted\">i<span>Fitted</span></span></div></label><div class=\"sk-toggleable__content fitted\"><pre>MultinomialNB()</pre></div> </div></div></div></div>"
            ]
          },
          "metadata": {},
          "execution_count": 48
        }
      ]
    },
    {
      "cell_type": "code",
      "source": [
        "y_pred = nb_classifier.predict(X_test_counts)\n",
        "\n",
        "print(confusion_matrix(y_test, y_pred))"
      ],
      "metadata": {
        "colab": {
          "base_uri": "https://localhost:8080/"
        },
        "id": "bVYYkXgaKG_-",
        "outputId": "1a70071c-19a9-45df-e043-f4b030f2f9db"
      },
      "execution_count": 49,
      "outputs": [
        {
          "output_type": "stream",
          "name": "stdout",
          "text": [
            "[[159  34]\n",
            " [ 35 172]]\n"
          ]
        }
      ]
    },
    {
      "cell_type": "code",
      "source": [
        "# Calculate confusion matrix\n",
        "conf_matrix = confusion_matrix(y_test, y_pred)\n",
        "\n",
        "# Plot the confusion matrix heatmap\n",
        "plt.figure(figsize=(8, 6))\n",
        "sns.heatmap(conf_matrix, annot=True, fmt='d', cmap='Blues', xticklabels=['Negative', 'Positive'], yticklabels=['Negative', 'Positive'])\n",
        "plt.title('Confusion Matrix')\n",
        "plt.xlabel('Predicted')\n",
        "plt.ylabel('Actual')\n",
        "plt.show()\n",
        "\n",
        "# Print classification report\n",
        "print(classification_report(y_test, y_pred))\n"
      ],
      "metadata": {
        "colab": {
          "base_uri": "https://localhost:8080/",
          "height": 725
        },
        "id": "Az7Td4A4ja9G",
        "outputId": "60cb62ad-1602-4cca-e79c-75fb59ef1a2e"
      },
      "execution_count": 50,
      "outputs": [
        {
          "output_type": "display_data",
          "data": {
            "text/plain": [
              "<Figure size 800x600 with 2 Axes>"
            ],
            "image/png": "[encoded data removed]"
          },
          "metadata": {}
        },
        {
          "output_type": "stream",
          "name": "stdout",
          "text": [
            "              precision    recall  f1-score   support\n",
            "\n",
            "    negative       0.82      0.82      0.82       193\n",
            "    positive       0.83      0.83      0.83       207\n",
            "\n",
            "    accuracy                           0.83       400\n",
            "   macro avg       0.83      0.83      0.83       400\n",
            "weighted avg       0.83      0.83      0.83       400\n",
            "\n"
          ]
        }
      ]
    },
    {
      "cell_type": "markdown",
      "source": [
        "### 8. Evaluation"
      ],
      "metadata": {
        "id": "JBCP3AbQL_pu"
      }
    },
    {
      "cell_type": "markdown",
      "source": [
        "\n",
        "In this sentiment analysis task, the VADER model has been applied, leveraging its ability to analyze sentiment from textual data, especially in the context of social media. VADER (Valence Aware Dictionary and sEntiment Reasoner) excels in capturing nuanced sentiments by considering the polarity and intensity of words, providing a robust tool for subjective content analysis.\n",
        "\n",
        "Two feature extraction models, TextBlob and TF-IDF, were employed for sentiment analysis. TextBlob, a simplified NLP library, utilizes a predefined sentiment lexicon. TF-IDF, on the other hand, calculates term importance based on frequency and inverse document frequency, aiming to capture the significance of words in a document collection.\n",
        "\n",
        "Performance evaluation criteria, including accuracy, precision, recall, and F1-score, were employed. Statistical information, such as confusion matrices, aided in understanding the model's behavior. The VADER model demonstrated high accuracy in capturing sentiment nuances, especially in informal language. TextBlob, relying on a predefined lexicon, showed effectiveness in simplicity and speed, while TF-IDF excelled in capturing context-based importance. Precision, recall, and F1-score were utilized to assess model performance comprehensively, revealing the trade-offs between precision and recall based on the chosen feature extraction method."
      ],
      "metadata": {
        "id": "FzlluvrASHu5"
      }
    },
    {
      "cell_type": "markdown",
      "source": [
        "### 9. Summary and Direction of the Researcher"
      ],
      "metadata": {
        "id": "XnZ8Ue_DX9Qv"
      }
    },
    {
      "cell_type": "markdown",
      "source": [
        "To further develop this activity, incorporating more advanced techniques like deep learning models or embeddings could enhance the model's understanding of context and semantics. Additionally, exploring domain-specific sentiment lexicons or training custom models on domain-specific datasets might improve performance in specialized areas.\n",
        "\n",
        "One relevant article supporting future directions \"Deep Learning for sentiment analysis\" by TIEN TRAN. (2022). https://www.kaggle.com/code/tientd95/deep-learning-for-sentiment-analysis/notebook The article delves into the advancements of deep learning in sentiment analysis, discussing techniques like **Fasttext, Glove embedding**. Implementing such deep learning architectures could potentially lead to more accurate sentiment predictions, especially in contexts where understanding intricate nuances is crucial.\n",
        "\n",
        "In summary, the sentiment analysis project's next steps involve integrating advanced models and exploring domain-specific adaptations. The referenced article highlights the growing role of deep learning in sentiment analysis, suggesting that incorporating these techniques could be a promising avenue for future developments in the field.\n"
      ],
      "metadata": {
        "id": "kJgIS6TLYnrL"
      }
    }
  ]
}