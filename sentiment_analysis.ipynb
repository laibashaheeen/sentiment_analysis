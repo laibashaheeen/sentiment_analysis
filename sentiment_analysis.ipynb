{
  "nbformat": 4,
  "nbformat_minor": 0,
  "metadata": {
    "colab": {
      "provenance": [],
      "toc_visible": true,
      "include_colab_link": true
    },
    "kernelspec": {
      "name": "python3",
      "display_name": "Python 3"
    },
    "language_info": {
      "name": "python"
    },
    "widgets": {
      "application/vnd.jupyter.widget-state+json": {
        "2ccbda80e2c04239a3b25fa523d985e3": {
          "model_module": "@jupyter-widgets/controls",
          "model_name": "HBoxModel",
          "model_module_version": "1.5.0",
          "state": {
            "_dom_classes": [],
            "_model_module": "@jupyter-widgets/controls",
            "_model_module_version": "1.5.0",
            "_model_name": "HBoxModel",
            "_view_count": null,
            "_view_module": "@jupyter-widgets/controls",
            "_view_module_version": "1.5.0",
            "_view_name": "HBoxView",
            "box_style": "",
            "children": [
              "IPY_MODEL_af05c2abb50f4da181ccbcdedee3e2e0",
              "IPY_MODEL_9f10fd3cc8714cb2a6771b839612e1de",
              "IPY_MODEL_3a7c9f6117ba417881228a4ede9b7936"
            ],
            "layout": "IPY_MODEL_ad5b05a702424a2d96f2cc6f8f536228"
          }
        },
        "af05c2abb50f4da181ccbcdedee3e2e0": {
          "model_module": "@jupyter-widgets/controls",
          "model_name": "HTMLModel",
          "model_module_version": "1.5.0",
          "state": {
            "_dom_classes": [],
            "_model_module": "@jupyter-widgets/controls",
            "_model_module_version": "1.5.0",
            "_model_name": "HTMLModel",
            "_view_count": null,
            "_view_module": "@jupyter-widgets/controls",
            "_view_module_version": "1.5.0",
            "_view_name": "HTMLView",
            "description": "",
            "description_tooltip": null,
            "layout": "IPY_MODEL_497ee83b66eb448d8ac2f6bd4efa43cd",
            "placeholder": "​",
            "style": "IPY_MODEL_50894ae1a049447e8da70b60e0cb587f",
            "value": "100%"
          }
        },
        "9f10fd3cc8714cb2a6771b839612e1de": {
          "model_module": "@jupyter-widgets/controls",
          "model_name": "FloatProgressModel",
          "model_module_version": "1.5.0",
          "state": {
            "_dom_classes": [],
            "_model_module": "@jupyter-widgets/controls",
            "_model_module_version": "1.5.0",
            "_model_name": "FloatProgressModel",
            "_view_count": null,
            "_view_module": "@jupyter-widgets/controls",
            "_view_module_version": "1.5.0",
            "_view_name": "ProgressView",
            "bar_style": "success",
            "description": "",
            "description_tooltip": null,
            "layout": "IPY_MODEL_2f0afdb7a31f4b77bc397dc46a642b87",
            "max": 2000,
            "min": 0,
            "orientation": "horizontal",
            "style": "IPY_MODEL_c02ec58cd3194ae4a481f519b460f32e",
            "value": 2000
          }
        },
        "3a7c9f6117ba417881228a4ede9b7936": {
          "model_module": "@jupyter-widgets/controls",
          "model_name": "HTMLModel",
          "model_module_version": "1.5.0",
          "state": {
            "_dom_classes": [],
            "_model_module": "@jupyter-widgets/controls",
            "_model_module_version": "1.5.0",
            "_model_name": "HTMLModel",
            "_view_count": null,
            "_view_module": "@jupyter-widgets/controls",
            "_view_module_version": "1.5.0",
            "_view_name": "HTMLView",
            "description": "",
            "description_tooltip": null,
            "layout": "IPY_MODEL_e650b3df3a884ac6ad0e64d59f29d78d",
            "placeholder": "​",
            "style": "IPY_MODEL_591c4e78f4f24892b9ff65453db3cd03",
            "value": " 2000/2000 [00:41&lt;00:00, 83.99it/s]"
          }
        },
        "ad5b05a702424a2d96f2cc6f8f536228": {
          "model_module": "@jupyter-widgets/base",
          "model_name": "LayoutModel",
          "model_module_version": "1.2.0",
          "state": {
            "_model_module": "@jupyter-widgets/base",
            "_model_module_version": "1.2.0",
            "_model_name": "LayoutModel",
            "_view_count": null,
            "_view_module": "@jupyter-widgets/base",
            "_view_module_version": "1.2.0",
            "_view_name": "LayoutView",
            "align_content": null,
            "align_items": null,
            "align_self": null,
            "border": null,
            "bottom": null,
            "display": null,
            "flex": null,
            "flex_flow": null,
            "grid_area": null,
            "grid_auto_columns": null,
            "grid_auto_flow": null,
            "grid_auto_rows": null,
            "grid_column": null,
            "grid_gap": null,
            "grid_row": null,
            "grid_template_areas": null,
            "grid_template_columns": null,
            "grid_template_rows": null,
            "height": null,
            "justify_content": null,
            "justify_items": null,
            "left": null,
            "margin": null,
            "max_height": null,
            "max_width": null,
            "min_height": null,
            "min_width": null,
            "object_fit": null,
            "object_position": null,
            "order": null,
            "overflow": null,
            "overflow_x": null,
            "overflow_y": null,
            "padding": null,
            "right": null,
            "top": null,
            "visibility": null,
            "width": null
          }
        },
        "497ee83b66eb448d8ac2f6bd4efa43cd": {
          "model_module": "@jupyter-widgets/base",
          "model_name": "LayoutModel",
          "model_module_version": "1.2.0",
          "state": {
            "_model_module": "@jupyter-widgets/base",
            "_model_module_version": "1.2.0",
            "_model_name": "LayoutModel",
            "_view_count": null,
            "_view_module": "@jupyter-widgets/base",
            "_view_module_version": "1.2.0",
            "_view_name": "LayoutView",
            "align_content": null,
            "align_items": null,
            "align_self": null,
            "border": null,
            "bottom": null,
            "display": null,
            "flex": null,
            "flex_flow": null,
            "grid_area": null,
            "grid_auto_columns": null,
            "grid_auto_flow": null,
            "grid_auto_rows": null,
            "grid_column": null,
            "grid_gap": null,
            "grid_row": null,
            "grid_template_areas": null,
            "grid_template_columns": null,
            "grid_template_rows": null,
            "height": null,
            "justify_content": null,
            "justify_items": null,
            "left": null,
            "margin": null,
            "max_height": null,
            "max_width": null,
            "min_height": null,
            "min_width": null,
            "object_fit": null,
            "object_position": null,
            "order": null,
            "overflow": null,
            "overflow_x": null,
            "overflow_y": null,
            "padding": null,
            "right": null,
            "top": null,
            "visibility": null,
            "width": null
          }
        },
        "50894ae1a049447e8da70b60e0cb587f": {
          "model_module": "@jupyter-widgets/controls",
          "model_name": "DescriptionStyleModel",
          "model_module_version": "1.5.0",
          "state": {
            "_model_module": "@jupyter-widgets/controls",
            "_model_module_version": "1.5.0",
            "_model_name": "DescriptionStyleModel",
            "_view_count": null,
            "_view_module": "@jupyter-widgets/base",
            "_view_module_version": "1.2.0",
            "_view_name": "StyleView",
            "description_width": ""
          }
        },
        "2f0afdb7a31f4b77bc397dc46a642b87": {
          "model_module": "@jupyter-widgets/base",
          "model_name": "LayoutModel",
          "model_module_version": "1.2.0",
          "state": {
            "_model_module": "@jupyter-widgets/base",
            "_model_module_version": "1.2.0",
            "_model_name": "LayoutModel",
            "_view_count": null,
            "_view_module": "@jupyter-widgets/base",
            "_view_module_version": "1.2.0",
            "_view_name": "LayoutView",
            "align_content": null,
            "align_items": null,
            "align_self": null,
            "border": null,
            "bottom": null,
            "display": null,
            "flex": null,
            "flex_flow": null,
            "grid_area": null,
            "grid_auto_columns": null,
            "grid_auto_flow": null,
            "grid_auto_rows": null,
            "grid_column": null,
            "grid_gap": null,
            "grid_row": null,
            "grid_template_areas": null,
            "grid_template_columns": null,
            "grid_template_rows": null,
            "height": null,
            "justify_content": null,
            "justify_items": null,
            "left": null,
            "margin": null,
            "max_height": null,
            "max_width": null,
            "min_height": null,
            "min_width": null,
            "object_fit": null,
            "object_position": null,
            "order": null,
            "overflow": null,
            "overflow_x": null,
            "overflow_y": null,
            "padding": null,
            "right": null,
            "top": null,
            "visibility": null,
            "width": null
          }
        },
        "c02ec58cd3194ae4a481f519b460f32e": {
          "model_module": "@jupyter-widgets/controls",
          "model_name": "ProgressStyleModel",
          "model_module_version": "1.5.0",
          "state": {
            "_model_module": "@jupyter-widgets/controls",
            "_model_module_version": "1.5.0",
            "_model_name": "ProgressStyleModel",
            "_view_count": null,
            "_view_module": "@jupyter-widgets/base",
            "_view_module_version": "1.2.0",
            "_view_name": "StyleView",
            "bar_color": null,
            "description_width": ""
          }
        },
        "e650b3df3a884ac6ad0e64d59f29d78d": {
          "model_module": "@jupyter-widgets/base",
          "model_name": "LayoutModel",
          "model_module_version": "1.2.0",
          "state": {
            "_model_module": "@jupyter-widgets/base",
            "_model_module_version": "1.2.0",
            "_model_name": "LayoutModel",
            "_view_count": null,
            "_view_module": "@jupyter-widgets/base",
            "_view_module_version": "1.2.0",
            "_view_name": "LayoutView",
            "align_content": null,
            "align_items": null,
            "align_self": null,
            "border": null,
            "bottom": null,
            "display": null,
            "flex": null,
            "flex_flow": null,
            "grid_area": null,
            "grid_auto_columns": null,
            "grid_auto_flow": null,
            "grid_auto_rows": null,
            "grid_column": null,
            "grid_gap": null,
            "grid_row": null,
            "grid_template_areas": null,
            "grid_template_columns": null,
            "grid_template_rows": null,
            "height": null,
            "justify_content": null,
            "justify_items": null,
            "left": null,
            "margin": null,
            "max_height": null,
            "max_width": null,
            "min_height": null,
            "min_width": null,
            "object_fit": null,
            "object_position": null,
            "order": null,
            "overflow": null,
            "overflow_x": null,
            "overflow_y": null,
            "padding": null,
            "right": null,
            "top": null,
            "visibility": null,
            "width": null
          }
        },
        "591c4e78f4f24892b9ff65453db3cd03": {
          "model_module": "@jupyter-widgets/controls",
          "model_name": "DescriptionStyleModel",
          "model_module_version": "1.5.0",
          "state": {
            "_model_module": "@jupyter-widgets/controls",
            "_model_module_version": "1.5.0",
            "_model_name": "DescriptionStyleModel",
            "_view_count": null,
            "_view_module": "@jupyter-widgets/base",
            "_view_module_version": "1.2.0",
            "_view_name": "StyleView",
            "description_width": ""
          }
        }
      }
    }
  },
  "cells": [
    {
      "cell_type": "markdown",
      "metadata": {
        "id": "view-in-github",
        "colab_type": "text"
      },
      "source": [
        "<a href=\"https://colab.research.google.com/github/laibashaheeen/sentiment_analysis/blob/main/sentiment_analysis.ipynb\" target=\"_parent\"><img src=\"https://colab.research.google.com/assets/colab-badge.svg\" alt=\"Open In Colab\"/></a>"
      ]
    },
    {
      "cell_type": "markdown",
      "source": [
        "# **Movie Reviews**"
      ],
      "metadata": {
        "id": "gmGTjI7EJLF1"
      }
    },
    {
      "cell_type": "markdown",
      "source": [
        "# Sentiment Analysis in Python"
      ],
      "metadata": {
        "id": "0tqyaPsPJfbA"
      }
    },
    {
      "cell_type": "markdown",
      "source": [
        "## 1. Definition of the Problem"
      ],
      "metadata": {
        "id": "OcRg_HA3MHAf"
      }
    },
    {
      "cell_type": "markdown",
      "source": [
        "\n",
        "The problem addressed through sentiment analysis on movie reviews dataset is the need to discern audience opinions—whether positive, negative, or neutral—about films. Understanding user sentiments in the movie industry is crucial for filmmakers, studios, and distributors. It provides valuable insights into audience preferences, guides marketing strategies, aids in content improvement, and influences box office success. By comprehending sentiments, stakeholders can enhance audience engagement, refine storytelling elements, and make data-driven decisions that ultimately contribute to the overall success and reception of movies in the highly competitive entertainment landscape."
      ],
      "metadata": {
        "id": "8OhviuHXNKNT"
      }
    },
    {
      "cell_type": "markdown",
      "source": [
        "## 2. Dataset"
      ],
      "metadata": {
        "id": "TleOTko7K5iK"
      }
    },
    {
      "cell_type": "markdown",
      "source": [
        "NLTK offers access to the Movie Reviews Corpus, a small dataset included in the toolkit for educational purposes. This corpus consists of 2,000 movie reviews categorized into positive and negative sentiments.The data was collected in a CSV format, with each row representing a different review and each column representing a features."
      ],
      "metadata": {
        "id": "s65x0aKOQ1SC"
      }
    },
    {
      "cell_type": "code",
      "execution_count": 79,
      "metadata": {
        "id": "RCoPrWsjJHJX"
      },
      "outputs": [],
      "source": [
        "import pandas as pd\n",
        "import numpy as np\n",
        "import matplotlib.pyplot as plt\n",
        "import seaborn as sns\n",
        "\n",
        "plt.style.use('ggplot')\n",
        "\n",
        "import nltk"
      ]
    },
    {
      "cell_type": "code",
      "source": [
        "import csv\n",
        "from nltk.corpus import movie_reviews"
      ],
      "metadata": {
        "id": "tRFZqkqbKD_v"
      },
      "execution_count": 80,
      "outputs": []
    },
    {
      "cell_type": "code",
      "source": [
        "nltk.download('movie_reviews')"
      ],
      "metadata": {
        "colab": {
          "base_uri": "https://localhost:8080/"
        },
        "id": "B2aZGePML2ZX",
        "outputId": "835b22c5-a361-472a-f024-fbcfe20583e9"
      },
      "execution_count": 81,
      "outputs": [
        {
          "output_type": "stream",
          "name": "stderr",
          "text": [
            "[nltk_data] Downloading package movie_reviews to /root/nltk_data...\n",
            "[nltk_data]   Package movie_reviews is already up-to-date!\n"
          ]
        },
        {
          "output_type": "execute_result",
          "data": {
            "text/plain": [
              "True"
            ]
          },
          "metadata": {},
          "execution_count": 81
        }
      ]
    },
    {
      "cell_type": "code",
      "source": [
        "data = []"
      ],
      "metadata": {
        "id": "VkbAuCDdL5RK"
      },
      "execution_count": 82,
      "outputs": []
    },
    {
      "cell_type": "code",
      "source": [
        "movie_reviews = nltk.corpus.movie_reviews"
      ],
      "metadata": {
        "id": "yDYe5h8SL8sa"
      },
      "execution_count": 83,
      "outputs": []
    },
    {
      "cell_type": "code",
      "source": [
        "# Load positive and negative reviews\n",
        "positive_reviews = [(movie_reviews.raw(fileid), 'positive') for fileid in movie_reviews.fileids('pos')]\n",
        "negative_reviews = [(movie_reviews.raw(fileid), 'negative') for fileid in movie_reviews.fileids('neg')]\n",
        "\n",
        "all_reviews = positive_reviews + negative_reviews\n",
        "\n",
        "import random\n",
        "random.shuffle(all_reviews)\n",
        "\n",
        "# Define the CSV file name\n",
        "csv_file_name = 'movie_reviews_dataset.csv'\n",
        "\n",
        "# Write reviews to a CSV file\n",
        "with open(csv_file_name, 'w', newline='', encoding='utf-8') as csvfile:\n",
        "    fieldnames = ['review', 'sentiment']\n",
        "    writer = csv.DictWriter(csvfile, fieldnames=fieldnames)\n",
        "\n",
        "    writer.writeheader()\n",
        "\n",
        "    for review, sentiment in all_reviews:\n",
        "        writer.writerow({'review': review, 'sentiment': sentiment})\n",
        "\n",
        "print(f\"CSV file '{csv_file_name}' has been created.\")\n"
      ],
      "metadata": {
        "colab": {
          "base_uri": "https://localhost:8080/"
        },
        "id": "bhhqQsIv8msV",
        "outputId": "9384809b-41b7-4b83-c3d7-2c56d28c6d3a"
      },
      "execution_count": 84,
      "outputs": [
        {
          "output_type": "stream",
          "name": "stdout",
          "text": [
            "CSV file 'movie_reviews_dataset.csv' has been created.\n"
          ]
        }
      ]
    },
    {
      "cell_type": "code",
      "source": [
        "df = pd.read_csv('movie_reviews_dataset.csv')\n",
        "print(df.shape)"
      ],
      "metadata": {
        "colab": {
          "base_uri": "https://localhost:8080/"
        },
        "id": "HJzj8nqNjv8c",
        "outputId": "ab3033a8-1f63-478d-d321-bde12ce4dc0b"
      },
      "execution_count": 85,
      "outputs": [
        {
          "output_type": "stream",
          "name": "stdout",
          "text": [
            "(2000, 2)\n"
          ]
        }
      ]
    },
    {
      "cell_type": "code",
      "source": [
        "df.head()"
      ],
      "metadata": {
        "colab": {
          "base_uri": "https://localhost:8080/",
          "height": 206
        },
        "id": "MZecYv6dj6O6",
        "outputId": "69cb30ee-0320-4def-a53a-c1884a334897"
      },
      "execution_count": 86,
      "outputs": [
        {
          "output_type": "execute_result",
          "data": {
            "text/plain": [
              "                                              review sentiment\n",
              "0  the central focus of michael winterbottom's \" ...  positive\n",
              "1  the \" fab 4 \" of ronald reagan high are four s...  negative\n",
              "2  saving private ryan ( dreamworks ) running tim...  positive\n",
              "3  there must be some unwritten rule that states ...  positive\n",
              "4  well , what are you going to expect ? \\nit's a...  negative"
            ],
            "text/html": [
              "\n",
              "  <div id=\"df-bf1f1d67-8761-44f0-a512-c56dfaaab122\" class=\"colab-df-container\">\n",
              "    <div>\n",
              "<style scoped>\n",
              "    .dataframe tbody tr th:only-of-type {\n",
              "        vertical-align: middle;\n",
              "    }\n",
              "\n",
              "    .dataframe tbody tr th {\n",
              "        vertical-align: top;\n",
              "    }\n",
              "\n",
              "    .dataframe thead th {\n",
              "        text-align: right;\n",
              "    }\n",
              "</style>\n",
              "<table border=\"1\" class=\"dataframe\">\n",
              "  <thead>\n",
              "    <tr style=\"text-align: right;\">\n",
              "      <th></th>\n",
              "      <th>review</th>\n",
              "      <th>sentiment</th>\n",
              "    </tr>\n",
              "  </thead>\n",
              "  <tbody>\n",
              "    <tr>\n",
              "      <th>0</th>\n",
              "      <td>the central focus of michael winterbottom's \" ...</td>\n",
              "      <td>positive</td>\n",
              "    </tr>\n",
              "    <tr>\n",
              "      <th>1</th>\n",
              "      <td>the \" fab 4 \" of ronald reagan high are four s...</td>\n",
              "      <td>negative</td>\n",
              "    </tr>\n",
              "    <tr>\n",
              "      <th>2</th>\n",
              "      <td>saving private ryan ( dreamworks ) running tim...</td>\n",
              "      <td>positive</td>\n",
              "    </tr>\n",
              "    <tr>\n",
              "      <th>3</th>\n",
              "      <td>there must be some unwritten rule that states ...</td>\n",
              "      <td>positive</td>\n",
              "    </tr>\n",
              "    <tr>\n",
              "      <th>4</th>\n",
              "      <td>well , what are you going to expect ? \\nit's a...</td>\n",
              "      <td>negative</td>\n",
              "    </tr>\n",
              "  </tbody>\n",
              "</table>\n",
              "</div>\n",
              "    <div class=\"colab-df-buttons\">\n",
              "\n",
              "  <div class=\"colab-df-container\">\n",
              "    <button class=\"colab-df-convert\" onclick=\"convertToInteractive('df-bf1f1d67-8761-44f0-a512-c56dfaaab122')\"\n",
              "            title=\"Convert this dataframe to an interactive table.\"\n",
              "            style=\"display:none;\">\n",
              "\n",
              "  <svg xmlns=\"http://www.w3.org/2000/svg\" height=\"24px\" viewBox=\"0 -960 960 960\">\n",
              "    <path d=\"M120-120v-720h720v720H120Zm60-500h600v-160H180v160Zm220 220h160v-160H400v160Zm0 220h160v-160H400v160ZM180-400h160v-160H180v160Zm440 0h160v-160H620v160ZM180-180h160v-160H180v160Zm440 0h160v-160H620v160Z\"/>\n",
              "  </svg>\n",
              "    </button>\n",
              "\n",
              "  <style>\n",
              "    .colab-df-container {\n",
              "      display:flex;\n",
              "      gap: 12px;\n",
              "    }\n",
              "\n",
              "    .colab-df-convert {\n",
              "      background-color: #E8F0FE;\n",
              "      border: none;\n",
              "      border-radius: 50%;\n",
              "      cursor: pointer;\n",
              "      display: none;\n",
              "      fill: #1967D2;\n",
              "      height: 32px;\n",
              "      padding: 0 0 0 0;\n",
              "      width: 32px;\n",
              "    }\n",
              "\n",
              "    .colab-df-convert:hover {\n",
              "      background-color: #E2EBFA;\n",
              "      box-shadow: 0px 1px 2px rgba(60, 64, 67, 0.3), 0px 1px 3px 1px rgba(60, 64, 67, 0.15);\n",
              "      fill: #174EA6;\n",
              "    }\n",
              "\n",
              "    .colab-df-buttons div {\n",
              "      margin-bottom: 4px;\n",
              "    }\n",
              "\n",
              "    [theme=dark] .colab-df-convert {\n",
              "      background-color: #3B4455;\n",
              "      fill: #D2E3FC;\n",
              "    }\n",
              "\n",
              "    [theme=dark] .colab-df-convert:hover {\n",
              "      background-color: #434B5C;\n",
              "      box-shadow: 0px 1px 3px 1px rgba(0, 0, 0, 0.15);\n",
              "      filter: drop-shadow(0px 1px 2px rgba(0, 0, 0, 0.3));\n",
              "      fill: #FFFFFF;\n",
              "    }\n",
              "  </style>\n",
              "\n",
              "    <script>\n",
              "      const buttonEl =\n",
              "        document.querySelector('#df-bf1f1d67-8761-44f0-a512-c56dfaaab122 button.colab-df-convert');\n",
              "      buttonEl.style.display =\n",
              "        google.colab.kernel.accessAllowed ? 'block' : 'none';\n",
              "\n",
              "      async function convertToInteractive(key) {\n",
              "        const element = document.querySelector('#df-bf1f1d67-8761-44f0-a512-c56dfaaab122');\n",
              "        const dataTable =\n",
              "          await google.colab.kernel.invokeFunction('convertToInteractive',\n",
              "                                                    [key], {});\n",
              "        if (!dataTable) return;\n",
              "\n",
              "        const docLinkHtml = 'Like what you see? Visit the ' +\n",
              "          '<a target=\"_blank\" href=https://colab.research.google.com/notebooks/data_table.ipynb>data table notebook</a>'\n",
              "          + ' to learn more about interactive tables.';\n",
              "        element.innerHTML = '';\n",
              "        dataTable['output_type'] = 'display_data';\n",
              "        await google.colab.output.renderOutput(dataTable, element);\n",
              "        const docLink = document.createElement('div');\n",
              "        docLink.innerHTML = docLinkHtml;\n",
              "        element.appendChild(docLink);\n",
              "      }\n",
              "    </script>\n",
              "  </div>\n",
              "\n",
              "\n",
              "    <div id=\"df-3700233f-9712-4c6e-9e9b-3b46802a8ceb\">\n",
              "      <button class=\"colab-df-quickchart\" onclick=\"quickchart('df-3700233f-9712-4c6e-9e9b-3b46802a8ceb')\"\n",
              "                title=\"Suggest charts\"\n",
              "                style=\"display:none;\">\n",
              "\n",
              "<svg xmlns=\"http://www.w3.org/2000/svg\" height=\"24px\"viewBox=\"0 0 24 24\"\n",
              "     width=\"24px\">\n",
              "    <g>\n",
              "        <path d=\"M19 3H5c-1.1 0-2 .9-2 2v14c0 1.1.9 2 2 2h14c1.1 0 2-.9 2-2V5c0-1.1-.9-2-2-2zM9 17H7v-7h2v7zm4 0h-2V7h2v10zm4 0h-2v-4h2v4z\"/>\n",
              "    </g>\n",
              "</svg>\n",
              "      </button>\n",
              "\n",
              "<style>\n",
              "  .colab-df-quickchart {\n",
              "      --bg-color: #E8F0FE;\n",
              "      --fill-color: #1967D2;\n",
              "      --hover-bg-color: #E2EBFA;\n",
              "      --hover-fill-color: #174EA6;\n",
              "      --disabled-fill-color: #AAA;\n",
              "      --disabled-bg-color: #DDD;\n",
              "  }\n",
              "\n",
              "  [theme=dark] .colab-df-quickchart {\n",
              "      --bg-color: #3B4455;\n",
              "      --fill-color: #D2E3FC;\n",
              "      --hover-bg-color: #434B5C;\n",
              "      --hover-fill-color: #FFFFFF;\n",
              "      --disabled-bg-color: #3B4455;\n",
              "      --disabled-fill-color: #666;\n",
              "  }\n",
              "\n",
              "  .colab-df-quickchart {\n",
              "    background-color: var(--bg-color);\n",
              "    border: none;\n",
              "    border-radius: 50%;\n",
              "    cursor: pointer;\n",
              "    display: none;\n",
              "    fill: var(--fill-color);\n",
              "    height: 32px;\n",
              "    padding: 0;\n",
              "    width: 32px;\n",
              "  }\n",
              "\n",
              "  .colab-df-quickchart:hover {\n",
              "    background-color: var(--hover-bg-color);\n",
              "    box-shadow: 0 1px 2px rgba(60, 64, 67, 0.3), 0 1px 3px 1px rgba(60, 64, 67, 0.15);\n",
              "    fill: var(--button-hover-fill-color);\n",
              "  }\n",
              "\n",
              "  .colab-df-quickchart-complete:disabled,\n",
              "  .colab-df-quickchart-complete:disabled:hover {\n",
              "    background-color: var(--disabled-bg-color);\n",
              "    fill: var(--disabled-fill-color);\n",
              "    box-shadow: none;\n",
              "  }\n",
              "\n",
              "  .colab-df-spinner {\n",
              "    border: 2px solid var(--fill-color);\n",
              "    border-color: transparent;\n",
              "    border-bottom-color: var(--fill-color);\n",
              "    animation:\n",
              "      spin 1s steps(1) infinite;\n",
              "  }\n",
              "\n",
              "  @keyframes spin {\n",
              "    0% {\n",
              "      border-color: transparent;\n",
              "      border-bottom-color: var(--fill-color);\n",
              "      border-left-color: var(--fill-color);\n",
              "    }\n",
              "    20% {\n",
              "      border-color: transparent;\n",
              "      border-left-color: var(--fill-color);\n",
              "      border-top-color: var(--fill-color);\n",
              "    }\n",
              "    30% {\n",
              "      border-color: transparent;\n",
              "      border-left-color: var(--fill-color);\n",
              "      border-top-color: var(--fill-color);\n",
              "      border-right-color: var(--fill-color);\n",
              "    }\n",
              "    40% {\n",
              "      border-color: transparent;\n",
              "      border-right-color: var(--fill-color);\n",
              "      border-top-color: var(--fill-color);\n",
              "    }\n",
              "    60% {\n",
              "      border-color: transparent;\n",
              "      border-right-color: var(--fill-color);\n",
              "    }\n",
              "    80% {\n",
              "      border-color: transparent;\n",
              "      border-right-color: var(--fill-color);\n",
              "      border-bottom-color: var(--fill-color);\n",
              "    }\n",
              "    90% {\n",
              "      border-color: transparent;\n",
              "      border-bottom-color: var(--fill-color);\n",
              "    }\n",
              "  }\n",
              "</style>\n",
              "\n",
              "      <script>\n",
              "        async function quickchart(key) {\n",
              "          const quickchartButtonEl =\n",
              "            document.querySelector('#' + key + ' button');\n",
              "          quickchartButtonEl.disabled = true;  // To prevent multiple clicks.\n",
              "          quickchartButtonEl.classList.add('colab-df-spinner');\n",
              "          try {\n",
              "            const charts = await google.colab.kernel.invokeFunction(\n",
              "                'suggestCharts', [key], {});\n",
              "          } catch (error) {\n",
              "            console.error('Error during call to suggestCharts:', error);\n",
              "          }\n",
              "          quickchartButtonEl.classList.remove('colab-df-spinner');\n",
              "          quickchartButtonEl.classList.add('colab-df-quickchart-complete');\n",
              "        }\n",
              "        (() => {\n",
              "          let quickchartButtonEl =\n",
              "            document.querySelector('#df-3700233f-9712-4c6e-9e9b-3b46802a8ceb button');\n",
              "          quickchartButtonEl.style.display =\n",
              "            google.colab.kernel.accessAllowed ? 'block' : 'none';\n",
              "        })();\n",
              "      </script>\n",
              "    </div>\n",
              "\n",
              "    </div>\n",
              "  </div>\n"
            ],
            "application/vnd.google.colaboratory.intrinsic+json": {
              "type": "dataframe",
              "variable_name": "df",
              "summary": "{\n  \"name\": \"df\",\n  \"rows\": 2000,\n  \"fields\": [\n    {\n      \"column\": \"review\",\n      \"properties\": {\n        \"dtype\": \"string\",\n        \"num_unique_values\": 2000,\n        \"samples\": [\n          \"there are times when the success of a particular film depends entirely on one actor's effort . \\noften a single performance can turn what might have been a rather mediocre movie into something worthwhile . \\nwhen one of these comes along , i usually try to think about how many other people put work into the movie , that there is no way one person could possible carry the entire project on his shoulders . \\nbut sometimes there is simply no other explanation , and such is the case with \\\" the hurricane . \\\" \\nthis biopic about falsely convicted boxer rubin \\\" hurricane \\\" carter would normally be called \\\" norman jewison's 'the hurricane , ' \\\" as per the tradition of referring to a film \\\" belonging \\\" to a director . \\nbut though he does decent work , jewison cannot claim ownership of \\\" the hurricane , \\\" because there is one reason this film works at all , and his name is denzel washington . \\nwashington plays carter , a boxer who in 1967 was convicted of a late-night shooting in a bar . \\njailed for 20 years , he maintained that he had never committed the crimes , but remained in jail after a second trial and countless appeals . \\nthe situation changed when a group of canadians moved to washington and worked on freeing carter . \\nthrough the efforts of that group and carter's lawyers , he was eventually freed when their case was heard in federal court and the judge ruled that rubin carter had been unfairly convicted . \\nthe film details carter's childhood , which had him in and out of jail because of the efforts of a racist cop ( dan hedaya ) . \\nwhen he finally got out of prison for good , carter became a rising star as a middleweight pro boxer , seemingly having his career on track , until the police framed him for multiple homicide . \\ndespite the efforts of political activists and celebrities , he remained imprisoned . \\nflash forward to 1983 , when lesra ( vicellous reon shannon ) a young african-american boy , living with a group of canadian tutors , reads the book carter wrote while in prison . \\nthe book , entitled \\\" the sixteenth round , \\\" opens young lesra's eyes to the injustice that was carter's life , and he vows to help free the incarcerated boxer . \\nlesra convinces his canadian friends ( deborah unger , liev schreiber , john hannah ) to work with him towards his goal . \\n \\\" the hurricane \\\" leans on denzel washington . \\nhe must carry virtually every scene by sheer force of will , and he does so brilliantly . \\nit's probably accurate to say that washington does not embody rubin carter , because he plays a character far stronger and nobler than any real person could hope to be . \\nit would perhaps be more accurate to say that washington embodies the character of rubin carter--a fictional personality invented solely for the film . \\nthe actor's work is masterful ; washington throws himself into every moment , refusing to keep the audience at arm's length . \\nwe feel everything he feels : the humiliation of having to return to prison after fighting so hard to make something of his life , the pain of having to order his wife to give up the fight , and the utter despair he feels when coming to the conclusion that all hope is lost . \\nwashington's is a performance of weight and emotional depth . \\nhe doesn't merely play angry , happy , or sad ; he feels it at the deepest level . \\nhis work is masterful , and for half of this film i realized that the scene i was watching would not have been nearly as affecting as it was if it had been in the hands of another actor . \\nnorman jewison directs the film , doing a reasonably good job of pacing and shot selection . \\n \\\" the hurricane \\\" moves quickly , with no scene drawn out much further than necessary and the narrative galloping along nicely . \\njewison handles his multiple flashbacks well ; the audience is always aware of just what the time and place of each scene is , and nothing is terribly confusing . \\nhis boxing scenes , constructed with clear inspiration from \\\" raging bull , \\\" get inside the action very well , and they are believable as real sports footage . \\njewison puts together a particularly nice scene by utilizing a pretty cool trick : carter is sent to solitary confinement for 90 days when he refuses to wear a prison uniform , and jewison , assisted by some wonderful acting from a game washington , shows how carter gradually starts to lose his mind during the constant solitude , and eventually we get three rubin carters arguing with each other in one cell . \\njewison's best achievement in \\\" the hurricane \\\" is succeeding at showing how carter becomes an embittered man during his hard-knock life , and how he is able to break out of that bitterness and learn to trust people again . \\nsadly , though , the film's chief failures lie with the screenplay , as with most of the good-but-not-great efforts to round the pike this winter . \\nthere is much to interest a viewer in \\\" the hurricane , \\\" but it seems that every time the film gets a chance to take the most clich ? d route possible , it does . \\ntake a look at the supporting characters , for example , who are drawn up as either entirely good or entirely evil . \\ncarter and lesra ( played nicely by shannon , who deserves credit ) are the only real people here ; everyone else is a stereotype . \\nthe canadians are good . \\nthe cops are bad . \\nthe canadians spend most of their time dolefully grinning at each other in their lovey-dovey commune ( and it is a commune , despite the film's failure to make that clear ) , while every racist cop ( especially dan hedaya's ) melts in out of the shadows and glowers at every black person that enters the room . \\nmuch of the dialogue comes off as rather hokey ( \\\" hate put me in prison . \\nlove's gonna bust me out . \\\" ) , and the big courtroom climax during which everyone gets to make an impassioned speech could have been lifted from a made-for-tv lifetime special . \\nit's too bad . \\nthe cast is game , the director does his job , and the subject matter is interesting , but the script takes the safer , slightly more boring route far too often . \\ni wanted a real reason for the cop to hold a grudge against carter other than \\\" he's a racist pig . \\\" \\ni wanted more evidence that these canadians are real people with faults and virtues instead of a bunch of saintly crusaders looking for justice . \\nin short , i wanted to see the film through a less distorted lens . \\ncriticism has been levied against the liberties \\\" the hurricane \\\" takes with the truth of what really happened to carter , and much of it is deserved . \\nfor example , the film gives us a boxing scene showing carter pummeling defending champ joey giardello , only to be screwed by the judges , who ruled giardello the winner . \\nmost accounts of the fight , however , have carter losing fairly . \\nfurthermore , much of carter's criminal past is conveniently left out of the film , and just why he was convicted again in his second trial is never really explained . \\nof course , \\\" the hurricane \\\" works mainly as a fable , so digressions from the truth can be excused at least partially , but even dismissing such issues don't remove one fact : \\\" the hurricane \\\" is a highly flawed film . \\nonly one actor could have made a schmaltzy , predictable picture like this work as well as it does , and it's a good thing \\\" the hurricane \\\" has that actor . \\ncarter has been quoted as saying , \\\" denzel washington is making me look good , \\\" but he's not the only one . \\nwashington makes this film look good . \\ndenzel washington's \\\" the hurricane . \\\" \\nsounds pretty good to me . \\n\",\n          \"books could be , and indeed have been written about the star wars trilogy , and rightfully so . \\nthis is a set of movies that shattered all expectations of what science fiction could be in the late 70s/early 80s , inspiring literally dozens of clones , from battlestar galactica all the way up to stargate and independance day , and one could argue revitalizing the whole science fiction genre . \\nthe special effects were groundbreaking , revolutionary for their day and still eminently watchable well into twenty years later . \\nliterally millions of people have seen the star wars trilogy and been touched by it . \\nand now , george lucas brings it back for a new audience to enjoy . \\nmuch has been and is still being made of the fact that mr . lucas has gone back and revised his trilogy for rerelease now . \\nsome fans are angry that he has dared to meddle with what they consider perfection , while others are thrilled by the idea of seeing yesterday's star wars updated with today's special effects wizardry . \\neither way , the special edition release means that star wars is back on the big screen , where it rightfully deserves to be seen . \\ncan there be anyone in the world who doesn't know what star wars is about ? \\nin a way , star wars is so much a part of our cultural heritage that it feels silly and almost artificial to try to summarize it . \\nit's a story about a young man's coming of age , a fight for freedom against an oppressive empire , a tale of swashbuckling and derring-do the likes of which haven't been seen on the silver screen in decades , strange new worlds with strange alien creatures and weird surprises around every turn , and the yearning within each of us to realize our dreams and make a difference in the world . \\nit's high adventure , incredible special effects , and . . . well , it's just an _experience_ . \\nsomething about this movie sparked the imagination of a generation . . . and \\nit's about to do so again . \\nthis new release of star wars comes as no surprise to many of the film's devoted fans , who have been trading rumors and bits of information about it for quite some time now . \\ninterviews , trailers , leaks from within lucasfilm . . . all of these have been collected , collated , and placed on webpages for people to see ( pages such as http : //www . islandnet . com/~corona/films/details/sw4 . html \\nor , my personal favorite , http : //leopard . cs . latrobe . edu . au/~koukoula/ \\n ) . \\npictures of before and after have been placed side by side . . . even \\nmonths before the movies were released , fans were making comparisons . \\nin some cases , the changes were nothing less than phenomenal , and this can be seen from the comparison shots even before you go into the movie theater . \\nthe digital matte effects that were little more than a toy in forrest gump are put to excellent use here , unnoticeably sprucing up scenes that that george lucas was unsatisfied with in the original . \\nfor instance , in my personal favorite example , the ancient temple on yavin that was formerly a flat stone edifice now has deep , moss-covered carvings and etchings . \\nand mos eisley spaceport is now a bustling , booming city , with more surprises and things going on in the background than you can notice on the first viewing . \\nall the starships and fighters are now computer-animated , getting rid of glitches and artifacts of the special effects processes used when the film was originally made--and they look _fantastic_ . \\nfour and a half minutes of new or missing footage have been added , including a scene with jabba the hutt that had originally been shelved because the state of special effects in 1977 simply couldn't do it justice . \\nhowever , much of the ten million dollars that was spent on the star wars special edition restoration went into restoring the quality of the film itself . \\nthe negatives , badly damaged by the ravages of time , were brightened and returned to their original splendor . \\nthe audio tracks were remixed and reprocessed , with reworked sound effects by effects maven ben burtt , into glorious , booming , theater-shaking full-thx dolby digital stereo . \\nand _that_ , more than the added scenes or new special effects , is where the real value of this new version lies . \\nit's really true what they say in the commercials : star wars loses _so much_ on the small screen . \\neven letterboxing doesn't make up for the decrease in size and definition . \\nin regard to the star wars special edition , and to the other two films of the trilogy which have yet to be released , i'll make this final recommendation : go and see it . \\ngo and see it more than once . . . it \\nmay be another twenty years before it comes back to the big screen after it's gone this time . \\ntake along the youngsters who've never had the big-screen star wars experience--you'll enjoy seeing it through their eyes as much as they will enjoy it for the first time . \\nthere's magic in this movie--special edition or no , there can be no denying that it's still star wars , and still has the power to thrill and enthrall children of all ages , from four to four hundred . \\nlet's all return to that time long ago , and that galaxy far , far away . . . \\n\",\n          \"starring ben stiller , elizabeth hurley , maria bello , janeane garofalo screenplay by david veloz , based on the novel by jerry stahl directed by david veloz \\npermanent midnight is a pretty bad movie , though it took me a few days to conclude this . \\nthe film is more masturbatory than bleak , with its main character intent on confounding us with his stupidity . \\n ( he has a $6000 a week drug habit . ) \\nultimately , as adapted by veloz , jerry stahl comes off as one of those playground braggarts who chainsmokes at the age of twelve ; you are less mystified by his self-destructive nature than bored into a stupor yourself . \\nben stiller plays stahl , a young author who arrives in l . a . with ambition and a nasty drug habit . \\nhe eventually gets a gig for $5000/week writing for a sitcom called mr . chompers ( a thinly veiled stand-in for \\\" alf \\\" : chompers looks just like alf except he's blue ) , marries a producer ( hurley ) so she can get a green card , and hooks up with a spanish mother ( liz torres ) , who shoots heroin with him in the afternoons . \\ninsert proverbial downward spiral here . \\npermanent midnight is structured mostly as a flashback , with recovering addict bello meeting stiller ( at a fastfood restaurant , where stiller works the drive-thru as part of rehab ) , taking him back to a hotel , and between bouts of serious screwing , listening to his life story . \\ni've spent the last week trying to figure out why stiller never seemed to find the frighteningly gorgeous hurley attractive-worse , i've been trying to figure out why hurley did find stiller attractive . \\nas stahl , stiller displays none of the charm or wit one would expect ( post-there's something about mary ) of either the actor or a comedy writer . \\nwhat separates stahl from the hundreds of other hollywood punk-junkies , it seems , is that stahl wrote a book about his idiocy . \\nwatch stahl shoot heroin next to a baby ! \\nwatch stahl spoil numerous pitch meetings with smack-fueled babble ! \\nstiller gives a technically flawless performance : the film could double as a documentary on how to be a junkie . \\nbut permanent midnight is mostly soulless . \\nwhen the movie poses the question will stahl be saved ? \\nand then answers it in the form of bello's character ( basically a shrink in black panties ) , could a person care less ? \\nin the film version of his autobiography of the same name , stahl doesn't need saving , he needs someone who will sit there and listen to him go on about himself . \\nif you learn anything about the other characters in this movie , it's that they are the most incredibly tolerant hollywood-types known to man . \\n ( stahl also seems to be the only person at schmooze parties doing drugs . \\nis this hollywood . . . california ? ) \\ni learned very little about the entertainment business from permanent midnight and a whole lot about an egotistical lunkhead . \\nof course you know that stahl triumphed because he lived to talk about his problems . \\nso , basically , his drug habit got him a book deal , a movie based on his life , and now he's apparently collaborating with stiller on future projects . \\nso much for the moral of that story . \\ntemporary midnight is more like it . \\n-bill chambers ; september , 1998 \\n\"\n        ],\n        \"semantic_type\": \"\",\n        \"description\": \"\"\n      }\n    },\n    {\n      \"column\": \"sentiment\",\n      \"properties\": {\n        \"dtype\": \"category\",\n        \"num_unique_values\": 2,\n        \"samples\": [\n          \"negative\",\n          \"positive\"\n        ],\n        \"semantic_type\": \"\",\n        \"description\": \"\"\n      }\n    }\n  ]\n}"
            }
          },
          "metadata": {},
          "execution_count": 86
        }
      ]
    },
    {
      "cell_type": "code",
      "source": [
        "df['ID'] = range(1, len(df) + 1)\n",
        "df = df[['ID'] + [col for col in df.columns if col != 'ID']]\n",
        "\n",
        "df.head()"
      ],
      "metadata": {
        "colab": {
          "base_uri": "https://localhost:8080/",
          "height": 206
        },
        "id": "q2yEEzj4y7Pb",
        "outputId": "c2f4de21-a20e-4051-d915-4de7a1bcdbdb"
      },
      "execution_count": 87,
      "outputs": [
        {
          "output_type": "execute_result",
          "data": {
            "text/plain": [
              "   ID                                             review sentiment\n",
              "0   1  the central focus of michael winterbottom's \" ...  positive\n",
              "1   2  the \" fab 4 \" of ronald reagan high are four s...  negative\n",
              "2   3  saving private ryan ( dreamworks ) running tim...  positive\n",
              "3   4  there must be some unwritten rule that states ...  positive\n",
              "4   5  well , what are you going to expect ? \\nit's a...  negative"
            ],
            "text/html": [
              "\n",
              "  <div id=\"df-4a74f6b7-d54a-47c5-925e-37a170c760d1\" class=\"colab-df-container\">\n",
              "    <div>\n",
              "<style scoped>\n",
              "    .dataframe tbody tr th:only-of-type {\n",
              "        vertical-align: middle;\n",
              "    }\n",
              "\n",
              "    .dataframe tbody tr th {\n",
              "        vertical-align: top;\n",
              "    }\n",
              "\n",
              "    .dataframe thead th {\n",
              "        text-align: right;\n",
              "    }\n",
              "</style>\n",
              "<table border=\"1\" class=\"dataframe\">\n",
              "  <thead>\n",
              "    <tr style=\"text-align: right;\">\n",
              "      <th></th>\n",
              "      <th>ID</th>\n",
              "      <th>review</th>\n",
              "      <th>sentiment</th>\n",
              "    </tr>\n",
              "  </thead>\n",
              "  <tbody>\n",
              "    <tr>\n",
              "      <th>0</th>\n",
              "      <td>1</td>\n",
              "      <td>the central focus of michael winterbottom's \" ...</td>\n",
              "      <td>positive</td>\n",
              "    </tr>\n",
              "    <tr>\n",
              "      <th>1</th>\n",
              "      <td>2</td>\n",
              "      <td>the \" fab 4 \" of ronald reagan high are four s...</td>\n",
              "      <td>negative</td>\n",
              "    </tr>\n",
              "    <tr>\n",
              "      <th>2</th>\n",
              "      <td>3</td>\n",
              "      <td>saving private ryan ( dreamworks ) running tim...</td>\n",
              "      <td>positive</td>\n",
              "    </tr>\n",
              "    <tr>\n",
              "      <th>3</th>\n",
              "      <td>4</td>\n",
              "      <td>there must be some unwritten rule that states ...</td>\n",
              "      <td>positive</td>\n",
              "    </tr>\n",
              "    <tr>\n",
              "      <th>4</th>\n",
              "      <td>5</td>\n",
              "      <td>well , what are you going to expect ? \\nit's a...</td>\n",
              "      <td>negative</td>\n",
              "    </tr>\n",
              "  </tbody>\n",
              "</table>\n",
              "</div>\n",
              "    <div class=\"colab-df-buttons\">\n",
              "\n",
              "  <div class=\"colab-df-container\">\n",
              "    <button class=\"colab-df-convert\" onclick=\"convertToInteractive('df-4a74f6b7-d54a-47c5-925e-37a170c760d1')\"\n",
              "            title=\"Convert this dataframe to an interactive table.\"\n",
              "            style=\"display:none;\">\n",
              "\n",
              "  <svg xmlns=\"http://www.w3.org/2000/svg\" height=\"24px\" viewBox=\"0 -960 960 960\">\n",
              "    <path d=\"M120-120v-720h720v720H120Zm60-500h600v-160H180v160Zm220 220h160v-160H400v160Zm0 220h160v-160H400v160ZM180-400h160v-160H180v160Zm440 0h160v-160H620v160ZM180-180h160v-160H180v160Zm440 0h160v-160H620v160Z\"/>\n",
              "  </svg>\n",
              "    </button>\n",
              "\n",
              "  <style>\n",
              "    .colab-df-container {\n",
              "      display:flex;\n",
              "      gap: 12px;\n",
              "    }\n",
              "\n",
              "    .colab-df-convert {\n",
              "      background-color: #E8F0FE;\n",
              "      border: none;\n",
              "      border-radius: 50%;\n",
              "      cursor: pointer;\n",
              "      display: none;\n",
              "      fill: #1967D2;\n",
              "      height: 32px;\n",
              "      padding: 0 0 0 0;\n",
              "      width: 32px;\n",
              "    }\n",
              "\n",
              "    .colab-df-convert:hover {\n",
              "      background-color: #E2EBFA;\n",
              "      box-shadow: 0px 1px 2px rgba(60, 64, 67, 0.3), 0px 1px 3px 1px rgba(60, 64, 67, 0.15);\n",
              "      fill: #174EA6;\n",
              "    }\n",
              "\n",
              "    .colab-df-buttons div {\n",
              "      margin-bottom: 4px;\n",
              "    }\n",
              "\n",
              "    [theme=dark] .colab-df-convert {\n",
              "      background-color: #3B4455;\n",
              "      fill: #D2E3FC;\n",
              "    }\n",
              "\n",
              "    [theme=dark] .colab-df-convert:hover {\n",
              "      background-color: #434B5C;\n",
              "      box-shadow: 0px 1px 3px 1px rgba(0, 0, 0, 0.15);\n",
              "      filter: drop-shadow(0px 1px 2px rgba(0, 0, 0, 0.3));\n",
              "      fill: #FFFFFF;\n",
              "    }\n",
              "  </style>\n",
              "\n",
              "    <script>\n",
              "      const buttonEl =\n",
              "        document.querySelector('#df-4a74f6b7-d54a-47c5-925e-37a170c760d1 button.colab-df-convert');\n",
              "      buttonEl.style.display =\n",
              "        google.colab.kernel.accessAllowed ? 'block' : 'none';\n",
              "\n",
              "      async function convertToInteractive(key) {\n",
              "        const element = document.querySelector('#df-4a74f6b7-d54a-47c5-925e-37a170c760d1');\n",
              "        const dataTable =\n",
              "          await google.colab.kernel.invokeFunction('convertToInteractive',\n",
              "                                                    [key], {});\n",
              "        if (!dataTable) return;\n",
              "\n",
              "        const docLinkHtml = 'Like what you see? Visit the ' +\n",
              "          '<a target=\"_blank\" href=https://colab.research.google.com/notebooks/data_table.ipynb>data table notebook</a>'\n",
              "          + ' to learn more about interactive tables.';\n",
              "        element.innerHTML = '';\n",
              "        dataTable['output_type'] = 'display_data';\n",
              "        await google.colab.output.renderOutput(dataTable, element);\n",
              "        const docLink = document.createElement('div');\n",
              "        docLink.innerHTML = docLinkHtml;\n",
              "        element.appendChild(docLink);\n",
              "      }\n",
              "    </script>\n",
              "  </div>\n",
              "\n",
              "\n",
              "    <div id=\"df-fb928f27-50c5-43d3-9fb3-534db995faf4\">\n",
              "      <button class=\"colab-df-quickchart\" onclick=\"quickchart('df-fb928f27-50c5-43d3-9fb3-534db995faf4')\"\n",
              "                title=\"Suggest charts\"\n",
              "                style=\"display:none;\">\n",
              "\n",
              "<svg xmlns=\"http://www.w3.org/2000/svg\" height=\"24px\"viewBox=\"0 0 24 24\"\n",
              "     width=\"24px\">\n",
              "    <g>\n",
              "        <path d=\"M19 3H5c-1.1 0-2 .9-2 2v14c0 1.1.9 2 2 2h14c1.1 0 2-.9 2-2V5c0-1.1-.9-2-2-2zM9 17H7v-7h2v7zm4 0h-2V7h2v10zm4 0h-2v-4h2v4z\"/>\n",
              "    </g>\n",
              "</svg>\n",
              "      </button>\n",
              "\n",
              "<style>\n",
              "  .colab-df-quickchart {\n",
              "      --bg-color: #E8F0FE;\n",
              "      --fill-color: #1967D2;\n",
              "      --hover-bg-color: #E2EBFA;\n",
              "      --hover-fill-color: #174EA6;\n",
              "      --disabled-fill-color: #AAA;\n",
              "      --disabled-bg-color: #DDD;\n",
              "  }\n",
              "\n",
              "  [theme=dark] .colab-df-quickchart {\n",
              "      --bg-color: #3B4455;\n",
              "      --fill-color: #D2E3FC;\n",
              "      --hover-bg-color: #434B5C;\n",
              "      --hover-fill-color: #FFFFFF;\n",
              "      --disabled-bg-color: #3B4455;\n",
              "      --disabled-fill-color: #666;\n",
              "  }\n",
              "\n",
              "  .colab-df-quickchart {\n",
              "    background-color: var(--bg-color);\n",
              "    border: none;\n",
              "    border-radius: 50%;\n",
              "    cursor: pointer;\n",
              "    display: none;\n",
              "    fill: var(--fill-color);\n",
              "    height: 32px;\n",
              "    padding: 0;\n",
              "    width: 32px;\n",
              "  }\n",
              "\n",
              "  .colab-df-quickchart:hover {\n",
              "    background-color: var(--hover-bg-color);\n",
              "    box-shadow: 0 1px 2px rgba(60, 64, 67, 0.3), 0 1px 3px 1px rgba(60, 64, 67, 0.15);\n",
              "    fill: var(--button-hover-fill-color);\n",
              "  }\n",
              "\n",
              "  .colab-df-quickchart-complete:disabled,\n",
              "  .colab-df-quickchart-complete:disabled:hover {\n",
              "    background-color: var(--disabled-bg-color);\n",
              "    fill: var(--disabled-fill-color);\n",
              "    box-shadow: none;\n",
              "  }\n",
              "\n",
              "  .colab-df-spinner {\n",
              "    border: 2px solid var(--fill-color);\n",
              "    border-color: transparent;\n",
              "    border-bottom-color: var(--fill-color);\n",
              "    animation:\n",
              "      spin 1s steps(1) infinite;\n",
              "  }\n",
              "\n",
              "  @keyframes spin {\n",
              "    0% {\n",
              "      border-color: transparent;\n",
              "      border-bottom-color: var(--fill-color);\n",
              "      border-left-color: var(--fill-color);\n",
              "    }\n",
              "    20% {\n",
              "      border-color: transparent;\n",
              "      border-left-color: var(--fill-color);\n",
              "      border-top-color: var(--fill-color);\n",
              "    }\n",
              "    30% {\n",
              "      border-color: transparent;\n",
              "      border-left-color: var(--fill-color);\n",
              "      border-top-color: var(--fill-color);\n",
              "      border-right-color: var(--fill-color);\n",
              "    }\n",
              "    40% {\n",
              "      border-color: transparent;\n",
              "      border-right-color: var(--fill-color);\n",
              "      border-top-color: var(--fill-color);\n",
              "    }\n",
              "    60% {\n",
              "      border-color: transparent;\n",
              "      border-right-color: var(--fill-color);\n",
              "    }\n",
              "    80% {\n",
              "      border-color: transparent;\n",
              "      border-right-color: var(--fill-color);\n",
              "      border-bottom-color: var(--fill-color);\n",
              "    }\n",
              "    90% {\n",
              "      border-color: transparent;\n",
              "      border-bottom-color: var(--fill-color);\n",
              "    }\n",
              "  }\n",
              "</style>\n",
              "\n",
              "      <script>\n",
              "        async function quickchart(key) {\n",
              "          const quickchartButtonEl =\n",
              "            document.querySelector('#' + key + ' button');\n",
              "          quickchartButtonEl.disabled = true;  // To prevent multiple clicks.\n",
              "          quickchartButtonEl.classList.add('colab-df-spinner');\n",
              "          try {\n",
              "            const charts = await google.colab.kernel.invokeFunction(\n",
              "                'suggestCharts', [key], {});\n",
              "          } catch (error) {\n",
              "            console.error('Error during call to suggestCharts:', error);\n",
              "          }\n",
              "          quickchartButtonEl.classList.remove('colab-df-spinner');\n",
              "          quickchartButtonEl.classList.add('colab-df-quickchart-complete');\n",
              "        }\n",
              "        (() => {\n",
              "          let quickchartButtonEl =\n",
              "            document.querySelector('#df-fb928f27-50c5-43d3-9fb3-534db995faf4 button');\n",
              "          quickchartButtonEl.style.display =\n",
              "            google.colab.kernel.accessAllowed ? 'block' : 'none';\n",
              "        })();\n",
              "      </script>\n",
              "    </div>\n",
              "\n",
              "    </div>\n",
              "  </div>\n"
            ],
            "application/vnd.google.colaboratory.intrinsic+json": {
              "type": "dataframe",
              "variable_name": "df",
              "summary": "{\n  \"name\": \"df\",\n  \"rows\": 2000,\n  \"fields\": [\n    {\n      \"column\": \"ID\",\n      \"properties\": {\n        \"dtype\": \"number\",\n        \"std\": 577,\n        \"min\": 1,\n        \"max\": 2000,\n        \"num_unique_values\": 2000,\n        \"samples\": [\n          1861,\n          354,\n          1334\n        ],\n        \"semantic_type\": \"\",\n        \"description\": \"\"\n      }\n    },\n    {\n      \"column\": \"review\",\n      \"properties\": {\n        \"dtype\": \"string\",\n        \"num_unique_values\": 2000,\n        \"samples\": [\n          \"there are times when the success of a particular film depends entirely on one actor's effort . \\noften a single performance can turn what might have been a rather mediocre movie into something worthwhile . \\nwhen one of these comes along , i usually try to think about how many other people put work into the movie , that there is no way one person could possible carry the entire project on his shoulders . \\nbut sometimes there is simply no other explanation , and such is the case with \\\" the hurricane . \\\" \\nthis biopic about falsely convicted boxer rubin \\\" hurricane \\\" carter would normally be called \\\" norman jewison's 'the hurricane , ' \\\" as per the tradition of referring to a film \\\" belonging \\\" to a director . \\nbut though he does decent work , jewison cannot claim ownership of \\\" the hurricane , \\\" because there is one reason this film works at all , and his name is denzel washington . \\nwashington plays carter , a boxer who in 1967 was convicted of a late-night shooting in a bar . \\njailed for 20 years , he maintained that he had never committed the crimes , but remained in jail after a second trial and countless appeals . \\nthe situation changed when a group of canadians moved to washington and worked on freeing carter . \\nthrough the efforts of that group and carter's lawyers , he was eventually freed when their case was heard in federal court and the judge ruled that rubin carter had been unfairly convicted . \\nthe film details carter's childhood , which had him in and out of jail because of the efforts of a racist cop ( dan hedaya ) . \\nwhen he finally got out of prison for good , carter became a rising star as a middleweight pro boxer , seemingly having his career on track , until the police framed him for multiple homicide . \\ndespite the efforts of political activists and celebrities , he remained imprisoned . \\nflash forward to 1983 , when lesra ( vicellous reon shannon ) a young african-american boy , living with a group of canadian tutors , reads the book carter wrote while in prison . \\nthe book , entitled \\\" the sixteenth round , \\\" opens young lesra's eyes to the injustice that was carter's life , and he vows to help free the incarcerated boxer . \\nlesra convinces his canadian friends ( deborah unger , liev schreiber , john hannah ) to work with him towards his goal . \\n \\\" the hurricane \\\" leans on denzel washington . \\nhe must carry virtually every scene by sheer force of will , and he does so brilliantly . \\nit's probably accurate to say that washington does not embody rubin carter , because he plays a character far stronger and nobler than any real person could hope to be . \\nit would perhaps be more accurate to say that washington embodies the character of rubin carter--a fictional personality invented solely for the film . \\nthe actor's work is masterful ; washington throws himself into every moment , refusing to keep the audience at arm's length . \\nwe feel everything he feels : the humiliation of having to return to prison after fighting so hard to make something of his life , the pain of having to order his wife to give up the fight , and the utter despair he feels when coming to the conclusion that all hope is lost . \\nwashington's is a performance of weight and emotional depth . \\nhe doesn't merely play angry , happy , or sad ; he feels it at the deepest level . \\nhis work is masterful , and for half of this film i realized that the scene i was watching would not have been nearly as affecting as it was if it had been in the hands of another actor . \\nnorman jewison directs the film , doing a reasonably good job of pacing and shot selection . \\n \\\" the hurricane \\\" moves quickly , with no scene drawn out much further than necessary and the narrative galloping along nicely . \\njewison handles his multiple flashbacks well ; the audience is always aware of just what the time and place of each scene is , and nothing is terribly confusing . \\nhis boxing scenes , constructed with clear inspiration from \\\" raging bull , \\\" get inside the action very well , and they are believable as real sports footage . \\njewison puts together a particularly nice scene by utilizing a pretty cool trick : carter is sent to solitary confinement for 90 days when he refuses to wear a prison uniform , and jewison , assisted by some wonderful acting from a game washington , shows how carter gradually starts to lose his mind during the constant solitude , and eventually we get three rubin carters arguing with each other in one cell . \\njewison's best achievement in \\\" the hurricane \\\" is succeeding at showing how carter becomes an embittered man during his hard-knock life , and how he is able to break out of that bitterness and learn to trust people again . \\nsadly , though , the film's chief failures lie with the screenplay , as with most of the good-but-not-great efforts to round the pike this winter . \\nthere is much to interest a viewer in \\\" the hurricane , \\\" but it seems that every time the film gets a chance to take the most clich ? d route possible , it does . \\ntake a look at the supporting characters , for example , who are drawn up as either entirely good or entirely evil . \\ncarter and lesra ( played nicely by shannon , who deserves credit ) are the only real people here ; everyone else is a stereotype . \\nthe canadians are good . \\nthe cops are bad . \\nthe canadians spend most of their time dolefully grinning at each other in their lovey-dovey commune ( and it is a commune , despite the film's failure to make that clear ) , while every racist cop ( especially dan hedaya's ) melts in out of the shadows and glowers at every black person that enters the room . \\nmuch of the dialogue comes off as rather hokey ( \\\" hate put me in prison . \\nlove's gonna bust me out . \\\" ) , and the big courtroom climax during which everyone gets to make an impassioned speech could have been lifted from a made-for-tv lifetime special . \\nit's too bad . \\nthe cast is game , the director does his job , and the subject matter is interesting , but the script takes the safer , slightly more boring route far too often . \\ni wanted a real reason for the cop to hold a grudge against carter other than \\\" he's a racist pig . \\\" \\ni wanted more evidence that these canadians are real people with faults and virtues instead of a bunch of saintly crusaders looking for justice . \\nin short , i wanted to see the film through a less distorted lens . \\ncriticism has been levied against the liberties \\\" the hurricane \\\" takes with the truth of what really happened to carter , and much of it is deserved . \\nfor example , the film gives us a boxing scene showing carter pummeling defending champ joey giardello , only to be screwed by the judges , who ruled giardello the winner . \\nmost accounts of the fight , however , have carter losing fairly . \\nfurthermore , much of carter's criminal past is conveniently left out of the film , and just why he was convicted again in his second trial is never really explained . \\nof course , \\\" the hurricane \\\" works mainly as a fable , so digressions from the truth can be excused at least partially , but even dismissing such issues don't remove one fact : \\\" the hurricane \\\" is a highly flawed film . \\nonly one actor could have made a schmaltzy , predictable picture like this work as well as it does , and it's a good thing \\\" the hurricane \\\" has that actor . \\ncarter has been quoted as saying , \\\" denzel washington is making me look good , \\\" but he's not the only one . \\nwashington makes this film look good . \\ndenzel washington's \\\" the hurricane . \\\" \\nsounds pretty good to me . \\n\",\n          \"books could be , and indeed have been written about the star wars trilogy , and rightfully so . \\nthis is a set of movies that shattered all expectations of what science fiction could be in the late 70s/early 80s , inspiring literally dozens of clones , from battlestar galactica all the way up to stargate and independance day , and one could argue revitalizing the whole science fiction genre . \\nthe special effects were groundbreaking , revolutionary for their day and still eminently watchable well into twenty years later . \\nliterally millions of people have seen the star wars trilogy and been touched by it . \\nand now , george lucas brings it back for a new audience to enjoy . \\nmuch has been and is still being made of the fact that mr . lucas has gone back and revised his trilogy for rerelease now . \\nsome fans are angry that he has dared to meddle with what they consider perfection , while others are thrilled by the idea of seeing yesterday's star wars updated with today's special effects wizardry . \\neither way , the special edition release means that star wars is back on the big screen , where it rightfully deserves to be seen . \\ncan there be anyone in the world who doesn't know what star wars is about ? \\nin a way , star wars is so much a part of our cultural heritage that it feels silly and almost artificial to try to summarize it . \\nit's a story about a young man's coming of age , a fight for freedom against an oppressive empire , a tale of swashbuckling and derring-do the likes of which haven't been seen on the silver screen in decades , strange new worlds with strange alien creatures and weird surprises around every turn , and the yearning within each of us to realize our dreams and make a difference in the world . \\nit's high adventure , incredible special effects , and . . . well , it's just an _experience_ . \\nsomething about this movie sparked the imagination of a generation . . . and \\nit's about to do so again . \\nthis new release of star wars comes as no surprise to many of the film's devoted fans , who have been trading rumors and bits of information about it for quite some time now . \\ninterviews , trailers , leaks from within lucasfilm . . . all of these have been collected , collated , and placed on webpages for people to see ( pages such as http : //www . islandnet . com/~corona/films/details/sw4 . html \\nor , my personal favorite , http : //leopard . cs . latrobe . edu . au/~koukoula/ \\n ) . \\npictures of before and after have been placed side by side . . . even \\nmonths before the movies were released , fans were making comparisons . \\nin some cases , the changes were nothing less than phenomenal , and this can be seen from the comparison shots even before you go into the movie theater . \\nthe digital matte effects that were little more than a toy in forrest gump are put to excellent use here , unnoticeably sprucing up scenes that that george lucas was unsatisfied with in the original . \\nfor instance , in my personal favorite example , the ancient temple on yavin that was formerly a flat stone edifice now has deep , moss-covered carvings and etchings . \\nand mos eisley spaceport is now a bustling , booming city , with more surprises and things going on in the background than you can notice on the first viewing . \\nall the starships and fighters are now computer-animated , getting rid of glitches and artifacts of the special effects processes used when the film was originally made--and they look _fantastic_ . \\nfour and a half minutes of new or missing footage have been added , including a scene with jabba the hutt that had originally been shelved because the state of special effects in 1977 simply couldn't do it justice . \\nhowever , much of the ten million dollars that was spent on the star wars special edition restoration went into restoring the quality of the film itself . \\nthe negatives , badly damaged by the ravages of time , were brightened and returned to their original splendor . \\nthe audio tracks were remixed and reprocessed , with reworked sound effects by effects maven ben burtt , into glorious , booming , theater-shaking full-thx dolby digital stereo . \\nand _that_ , more than the added scenes or new special effects , is where the real value of this new version lies . \\nit's really true what they say in the commercials : star wars loses _so much_ on the small screen . \\neven letterboxing doesn't make up for the decrease in size and definition . \\nin regard to the star wars special edition , and to the other two films of the trilogy which have yet to be released , i'll make this final recommendation : go and see it . \\ngo and see it more than once . . . it \\nmay be another twenty years before it comes back to the big screen after it's gone this time . \\ntake along the youngsters who've never had the big-screen star wars experience--you'll enjoy seeing it through their eyes as much as they will enjoy it for the first time . \\nthere's magic in this movie--special edition or no , there can be no denying that it's still star wars , and still has the power to thrill and enthrall children of all ages , from four to four hundred . \\nlet's all return to that time long ago , and that galaxy far , far away . . . \\n\",\n          \"starring ben stiller , elizabeth hurley , maria bello , janeane garofalo screenplay by david veloz , based on the novel by jerry stahl directed by david veloz \\npermanent midnight is a pretty bad movie , though it took me a few days to conclude this . \\nthe film is more masturbatory than bleak , with its main character intent on confounding us with his stupidity . \\n ( he has a $6000 a week drug habit . ) \\nultimately , as adapted by veloz , jerry stahl comes off as one of those playground braggarts who chainsmokes at the age of twelve ; you are less mystified by his self-destructive nature than bored into a stupor yourself . \\nben stiller plays stahl , a young author who arrives in l . a . with ambition and a nasty drug habit . \\nhe eventually gets a gig for $5000/week writing for a sitcom called mr . chompers ( a thinly veiled stand-in for \\\" alf \\\" : chompers looks just like alf except he's blue ) , marries a producer ( hurley ) so she can get a green card , and hooks up with a spanish mother ( liz torres ) , who shoots heroin with him in the afternoons . \\ninsert proverbial downward spiral here . \\npermanent midnight is structured mostly as a flashback , with recovering addict bello meeting stiller ( at a fastfood restaurant , where stiller works the drive-thru as part of rehab ) , taking him back to a hotel , and between bouts of serious screwing , listening to his life story . \\ni've spent the last week trying to figure out why stiller never seemed to find the frighteningly gorgeous hurley attractive-worse , i've been trying to figure out why hurley did find stiller attractive . \\nas stahl , stiller displays none of the charm or wit one would expect ( post-there's something about mary ) of either the actor or a comedy writer . \\nwhat separates stahl from the hundreds of other hollywood punk-junkies , it seems , is that stahl wrote a book about his idiocy . \\nwatch stahl shoot heroin next to a baby ! \\nwatch stahl spoil numerous pitch meetings with smack-fueled babble ! \\nstiller gives a technically flawless performance : the film could double as a documentary on how to be a junkie . \\nbut permanent midnight is mostly soulless . \\nwhen the movie poses the question will stahl be saved ? \\nand then answers it in the form of bello's character ( basically a shrink in black panties ) , could a person care less ? \\nin the film version of his autobiography of the same name , stahl doesn't need saving , he needs someone who will sit there and listen to him go on about himself . \\nif you learn anything about the other characters in this movie , it's that they are the most incredibly tolerant hollywood-types known to man . \\n ( stahl also seems to be the only person at schmooze parties doing drugs . \\nis this hollywood . . . california ? ) \\ni learned very little about the entertainment business from permanent midnight and a whole lot about an egotistical lunkhead . \\nof course you know that stahl triumphed because he lived to talk about his problems . \\nso , basically , his drug habit got him a book deal , a movie based on his life , and now he's apparently collaborating with stiller on future projects . \\nso much for the moral of that story . \\ntemporary midnight is more like it . \\n-bill chambers ; september , 1998 \\n\"\n        ],\n        \"semantic_type\": \"\",\n        \"description\": \"\"\n      }\n    },\n    {\n      \"column\": \"sentiment\",\n      \"properties\": {\n        \"dtype\": \"category\",\n        \"num_unique_values\": 2,\n        \"samples\": [\n          \"negative\",\n          \"positive\"\n        ],\n        \"semantic_type\": \"\",\n        \"description\": \"\"\n      }\n    }\n  ]\n}"
            }
          },
          "metadata": {},
          "execution_count": 87
        }
      ]
    },
    {
      "cell_type": "code",
      "source": [
        "ax = df['sentiment'].value_counts().sort_index() \\\n",
        "    .plot(kind='bar',\n",
        "          title='Count of sentiments',\n",
        "          figsize=(10, 5))\n",
        "ax.set_xlabel('Sentiment')\n",
        "plt.show()"
      ],
      "metadata": {
        "colab": {
          "base_uri": "https://localhost:8080/",
          "height": 539
        },
        "id": "oO0w_hEGoeiV",
        "outputId": "4ad5767b-bf6b-49e1-ae52-0aab4e5f27a9"
      },
      "execution_count": 88,
      "outputs": [
        {
          "output_type": "display_data",
          "data": {
            "text/plain": [
              "<Figure size 1000x500 with 1 Axes>"
            ],
            "image/png": "[encoded data removed]"
          },
          "metadata": {}
        }
      ]
    },
    {
      "cell_type": "code",
      "source": [
        "df.info()"
      ],
      "metadata": {
        "colab": {
          "base_uri": "https://localhost:8080/"
        },
        "id": "1f7o9IbuAiWG",
        "outputId": "c04c7deb-9107-40fb-bdc0-71d3b6a6f273"
      },
      "execution_count": 89,
      "outputs": [
        {
          "output_type": "stream",
          "name": "stdout",
          "text": [
            "<class 'pandas.core.frame.DataFrame'>\n",
            "RangeIndex: 2000 entries, 0 to 1999\n",
            "Data columns (total 3 columns):\n",
            " #   Column     Non-Null Count  Dtype \n",
            "---  ------     --------------  ----- \n",
            " 0   ID         2000 non-null   int64 \n",
            " 1   review     2000 non-null   object\n",
            " 2   sentiment  2000 non-null   object\n",
            "dtypes: int64(1), object(2)\n",
            "memory usage: 47.0+ KB\n"
          ]
        }
      ]
    },
    {
      "cell_type": "code",
      "source": [
        "from tabulate import tabulate\n",
        "table = tabulate(df.dtypes.reset_index(), headers=['Column', 'Data Type'], tablefmt='pretty', showindex=False)\n",
        "\n",
        "print(table)"
      ],
      "metadata": {
        "colab": {
          "base_uri": "https://localhost:8080/"
        },
        "id": "QU5TMWHbBFgC",
        "outputId": "48048755-de0f-4192-cd06-8ed4805deb99"
      },
      "execution_count": 90,
      "outputs": [
        {
          "output_type": "stream",
          "name": "stdout",
          "text": [
            "+-----------+-----------+\n",
            "|  Column   | Data Type |\n",
            "+-----------+-----------+\n",
            "|    ID     |   int64   |\n",
            "|  review   |  object   |\n",
            "| sentiment |  object   |\n",
            "+-----------+-----------+\n"
          ]
        }
      ]
    },
    {
      "cell_type": "markdown",
      "source": [
        "## 3. Pre-processing Phase"
      ],
      "metadata": {
        "id": "w4yRAD0vn0PB"
      }
    },
    {
      "cell_type": "markdown",
      "source": [
        "\n",
        "In the process of sentiment analysis, I meticulously applied tokenization to preprocess data to transform raw text data into a format conducive to effective analysis. Tokenization is a pivotal step involving the division of text into individual units or tokens, typically words or subwords. This method facilitated the creation of a structured and numerical representation of the input, which was paramount for machine learning model comprehension."
      ],
      "metadata": {
        "id": "oX-LQtjCT9TE"
      }
    },
    {
      "cell_type": "code",
      "source": [
        "example = df['review'][50]\n",
        "print(example)"
      ],
      "metadata": {
        "colab": {
          "base_uri": "https://localhost:8080/"
        },
        "id": "kFKQv8fVpAIS",
        "outputId": "e310f786-0bb1-4986-e70f-4c1feb84a935"
      },
      "execution_count": 91,
      "outputs": [
        {
          "output_type": "stream",
          "name": "stdout",
          "text": [
            "as the film opens up , expectant unwed mother sally ( played by drew barrymore ) encounters her baby's father in a fast food drive-through window . \n",
            "after he gets his milkshake , he drives off , only to be pursued by a military helicopter . \n",
            "from this moment forward , you know that this isn't going to be your run-of-the-mill romantic comedy . \n",
            "home fries tells the tale of the relationship between sally and dorian ( played by luke wilson ) , a helicopter pilot who has a different kind of connection with sally . . . more \n",
            "than he would care to admit ( hint : it has something to do with the father of sally's unborn child ) . \n",
            "after taking a personal ( and professional ) interest in her , he finds work at the local fast food restaurant at which she works , and the fun goes on from there . \n",
            "this movie is a lot of fun . \n",
            "it is comedic on two levels , as a romantic comedy and a dark comedy . \n",
            "the romantic moments are sweet , yet not sappy . \n",
            "one of the more poignant moments is when dorian accompanies sally to lamaze classes . \n",
            "however , the dark comedic moments are more memorable . \n",
            "this is also a tale of revenge , and a funny one at that . \n",
            "the father of sally's unborn child also happened to be a married man , whose wife is played by catherine o'hara . \n",
            "she does a wonderful portrayal of a jealous wife who is targeting the person who had an affair , and is not above getting other people to do her dirty work . \n",
            " ( my apologies if this sounds cryptic , but there is too much of the plot to give away ) . \n",
            "rounding out the cast are jake busey as angus , dorian's overzealous brother and daryl mitchell as roy , dorian's trainer at the fast food restaurant . \n",
            "the dialogue is sharp and not filled with sappy overtones , even with the romantic nature of the plot . \n",
            "if there are any complaints , it is over drew barrymore's performance . \n",
            "while she does light up the screen , there are moments when she doesn't seem all that convincing . \n",
            "the movie was filmed in texas , and most of the characters have southern texan accents . \n",
            "drew barrymore's accent tends to come and go ( luke wilson doesn't seem to have this problem ) . \n",
            "as well , she seems awfully agile for a woman that is eight months pregnant . \n",
            "still , this movie is one that will please many viewers . \n",
            "with plot twists galore and hilarious dark moments , this is sure to entertain . \n",
            "\n"
          ]
        }
      ]
    },
    {
      "cell_type": "code",
      "source": [
        "nltk.download('punkt')"
      ],
      "metadata": {
        "colab": {
          "base_uri": "https://localhost:8080/"
        },
        "id": "zuh0Sm3IsUpw",
        "outputId": "1aec08e2-b31e-441a-ea62-0216c4b2b797"
      },
      "execution_count": 92,
      "outputs": [
        {
          "output_type": "stream",
          "name": "stderr",
          "text": [
            "[nltk_data] Downloading package punkt to /root/nltk_data...\n",
            "[nltk_data]   Package punkt is already up-to-date!\n"
          ]
        },
        {
          "output_type": "execute_result",
          "data": {
            "text/plain": [
              "True"
            ]
          },
          "metadata": {},
          "execution_count": 92
        }
      ]
    },
    {
      "cell_type": "code",
      "source": [
        "nltk.download('punkt_tab')\n",
        "tokens = nltk.word_tokenize(example)\n",
        "tokens[:20]"
      ],
      "metadata": {
        "colab": {
          "base_uri": "https://localhost:8080/"
        },
        "id": "9_rTszJ8soHJ",
        "outputId": "61a90241-a1c3-4e95-9620-3da9aa4674c7"
      },
      "execution_count": 93,
      "outputs": [
        {
          "output_type": "stream",
          "name": "stderr",
          "text": [
            "[nltk_data] Downloading package punkt_tab to /root/nltk_data...\n",
            "[nltk_data]   Package punkt_tab is already up-to-date!\n"
          ]
        },
        {
          "output_type": "execute_result",
          "data": {
            "text/plain": [
              "['as',\n",
              " 'the',\n",
              " 'film',\n",
              " 'opens',\n",
              " 'up',\n",
              " ',',\n",
              " 'expectant',\n",
              " 'unwed',\n",
              " 'mother',\n",
              " 'sally',\n",
              " '(',\n",
              " 'played',\n",
              " 'by',\n",
              " 'drew',\n",
              " 'barrymore',\n",
              " ')',\n",
              " 'encounters',\n",
              " 'her',\n",
              " 'baby',\n",
              " \"'s\"]"
            ]
          },
          "metadata": {},
          "execution_count": 93
        }
      ]
    },
    {
      "cell_type": "code",
      "source": [
        "nltk.download('averaged_perceptron_tagger')"
      ],
      "metadata": {
        "colab": {
          "base_uri": "https://localhost:8080/"
        },
        "id": "cvU-AtsHtTk9",
        "outputId": "50fb4265-ff10-4551-924b-b78f1d9e486d"
      },
      "execution_count": 94,
      "outputs": [
        {
          "output_type": "stream",
          "name": "stderr",
          "text": [
            "[nltk_data] Downloading package averaged_perceptron_tagger to\n",
            "[nltk_data]     /root/nltk_data...\n",
            "[nltk_data]   Package averaged_perceptron_tagger is already up-to-\n",
            "[nltk_data]       date!\n"
          ]
        },
        {
          "output_type": "execute_result",
          "data": {
            "text/plain": [
              "True"
            ]
          },
          "metadata": {},
          "execution_count": 94
        }
      ]
    },
    {
      "cell_type": "code",
      "source": [
        "nltk.download('averaged_perceptron_tagger_eng')\n",
        "tagged = nltk.pos_tag(tokens)\n",
        "tagged[:20]"
      ],
      "metadata": {
        "colab": {
          "base_uri": "https://localhost:8080/"
        },
        "id": "mgbEk_0qtnih",
        "outputId": "4e649b60-1a19-46e8-da0b-6997f63f176d"
      },
      "execution_count": 95,
      "outputs": [
        {
          "output_type": "stream",
          "name": "stderr",
          "text": [
            "[nltk_data] Downloading package averaged_perceptron_tagger_eng to\n",
            "[nltk_data]     /root/nltk_data...\n",
            "[nltk_data]   Package averaged_perceptron_tagger_eng is already up-to-\n",
            "[nltk_data]       date!\n"
          ]
        },
        {
          "output_type": "execute_result",
          "data": {
            "text/plain": [
              "[('as', 'IN'),\n",
              " ('the', 'DT'),\n",
              " ('film', 'NN'),\n",
              " ('opens', 'VBZ'),\n",
              " ('up', 'RP'),\n",
              " (',', ','),\n",
              " ('expectant', 'JJ'),\n",
              " ('unwed', 'VBD'),\n",
              " ('mother', 'NN'),\n",
              " ('sally', 'RB'),\n",
              " ('(', '('),\n",
              " ('played', 'VBN'),\n",
              " ('by', 'IN'),\n",
              " ('drew', 'NNS'),\n",
              " ('barrymore', 'RB'),\n",
              " (')', ')'),\n",
              " ('encounters', 'VBZ'),\n",
              " ('her', 'PRP$'),\n",
              " ('baby', 'NN'),\n",
              " (\"'s\", 'POS')]"
            ]
          },
          "metadata": {},
          "execution_count": 95
        }
      ]
    },
    {
      "cell_type": "code",
      "source": [
        "nltk.download('maxent_ne_chunker')\n",
        "nltk.download('words')"
      ],
      "metadata": {
        "colab": {
          "base_uri": "https://localhost:8080/"
        },
        "id": "z0cl8T6ntvUe",
        "outputId": "e914cba0-2516-468e-c557-577a83a31376"
      },
      "execution_count": 96,
      "outputs": [
        {
          "output_type": "stream",
          "name": "stderr",
          "text": [
            "[nltk_data] Downloading package maxent_ne_chunker to\n",
            "[nltk_data]     /root/nltk_data...\n",
            "[nltk_data]   Package maxent_ne_chunker is already up-to-date!\n",
            "[nltk_data] Downloading package words to /root/nltk_data...\n",
            "[nltk_data]   Package words is already up-to-date!\n"
          ]
        },
        {
          "output_type": "execute_result",
          "data": {
            "text/plain": [
              "True"
            ]
          },
          "metadata": {},
          "execution_count": 96
        }
      ]
    },
    {
      "cell_type": "code",
      "source": [
        "nltk.download('maxent_ne_chunker_tab')\n",
        "entities = nltk.chunk.ne_chunk(tagged)\n",
        "\n",
        "print(entities[:20])"
      ],
      "metadata": {
        "colab": {
          "base_uri": "https://localhost:8080/"
        },
        "id": "ON5SHWd5t4RO",
        "outputId": "22fe4c1f-2780-4924-d00b-99a1009b0e47"
      },
      "execution_count": 97,
      "outputs": [
        {
          "output_type": "stream",
          "name": "stderr",
          "text": [
            "[nltk_data] Downloading package maxent_ne_chunker_tab to\n",
            "[nltk_data]     /root/nltk_data...\n",
            "[nltk_data]   Package maxent_ne_chunker_tab is already up-to-date!\n"
          ]
        },
        {
          "output_type": "stream",
          "name": "stdout",
          "text": [
            "[('as', 'IN'), ('the', 'DT'), ('film', 'NN'), ('opens', 'VBZ'), ('up', 'RP'), (',', ','), ('expectant', 'JJ'), ('unwed', 'VBD'), ('mother', 'NN'), ('sally', 'RB'), ('(', '('), ('played', 'VBN'), ('by', 'IN'), ('drew', 'NNS'), ('barrymore', 'RB'), (')', ')'), ('encounters', 'VBZ'), ('her', 'PRP$'), ('baby', 'NN'), (\"'s\", 'POS')]\n"
          ]
        }
      ]
    },
    {
      "cell_type": "markdown",
      "source": [
        "## 4. Models"
      ],
      "metadata": {
        "id": "0gZtu0dotRJF"
      }
    },
    {
      "cell_type": "markdown",
      "source": [
        "### **VADER model**\n",
        "\n",
        " The VADER model is a rule-based sentiment analysis tool designed for analyzing text and determining the sentiment expressed within it. Developed by researchers at the Georgia Institute of Technology, VADER is particularly useful for social media , customer feedback, and market analysis text analysis due to its ability to handle nuances such as slang, emoticons, and context-dependent sentiment."
      ],
      "metadata": {
        "id": "6VebTMaFUxZZ"
      }
    },
    {
      "cell_type": "code",
      "source": [
        "from nltk.sentiment import SentimentIntensityAnalyzer\n",
        "from tqdm.notebook import tqdm\n",
        "\n",
        "nltk.download('vader_lexicon')\n",
        "sia = SentimentIntensityAnalyzer()"
      ],
      "metadata": {
        "colab": {
          "base_uri": "https://localhost:8080/"
        },
        "id": "F8ZY1agJvaZy",
        "outputId": "901e93ca-bd4a-4a0e-9e0e-0dfa24990416"
      },
      "execution_count": 98,
      "outputs": [
        {
          "output_type": "stream",
          "name": "stderr",
          "text": [
            "[nltk_data] Downloading package vader_lexicon to /root/nltk_data...\n",
            "[nltk_data]   Package vader_lexicon is already up-to-date!\n"
          ]
        }
      ]
    },
    {
      "cell_type": "code",
      "source": [
        "sia.polarity_scores('I am so happy!')"
      ],
      "metadata": {
        "colab": {
          "base_uri": "https://localhost:8080/"
        },
        "id": "bF9SLId7vrjU",
        "outputId": "06045e33-1961-4ab7-b22e-5f3f19f22c44"
      },
      "execution_count": 99,
      "outputs": [
        {
          "output_type": "execute_result",
          "data": {
            "text/plain": [
              "{'neg': 0.0, 'neu': 0.318, 'pos': 0.682, 'compound': 0.6468}"
            ]
          },
          "metadata": {},
          "execution_count": 99
        }
      ]
    },
    {
      "cell_type": "code",
      "source": [
        "sia.polarity_scores('This is the worst thing ever.')"
      ],
      "metadata": {
        "colab": {
          "base_uri": "https://localhost:8080/"
        },
        "id": "l4xJmLruvwRS",
        "outputId": "449f6679-f164-41f2-90bd-91eeeb3848d4"
      },
      "execution_count": 100,
      "outputs": [
        {
          "output_type": "execute_result",
          "data": {
            "text/plain": [
              "{'neg': 0.451, 'neu': 0.549, 'pos': 0.0, 'compound': -0.6249}"
            ]
          },
          "metadata": {},
          "execution_count": 100
        }
      ]
    },
    {
      "cell_type": "code",
      "source": [
        "sia.polarity_scores(example)"
      ],
      "metadata": {
        "colab": {
          "base_uri": "https://localhost:8080/"
        },
        "id": "YZGtefcYv0c6",
        "outputId": "c0323ce9-f134-40c9-8bfb-6e432cbeea28"
      },
      "execution_count": 101,
      "outputs": [
        {
          "output_type": "execute_result",
          "data": {
            "text/plain": [
              "{'neg': 0.032, 'neu': 0.825, 'pos': 0.143, 'compound': 0.9877}"
            ]
          },
          "metadata": {},
          "execution_count": 101
        }
      ]
    },
    {
      "cell_type": "code",
      "source": [
        "res = {}\n",
        "for i, row in tqdm(df.iterrows(), total=len(df)):\n",
        "    text = row['review']\n",
        "    myid = row['ID']\n",
        "    res[myid] = sia.polarity_scores(text)"
      ],
      "metadata": {
        "colab": {
          "base_uri": "https://localhost:8080/",
          "height": 49,
          "referenced_widgets": [
            "2ccbda80e2c04239a3b25fa523d985e3",
            "af05c2abb50f4da181ccbcdedee3e2e0",
            "9f10fd3cc8714cb2a6771b839612e1de",
            "3a7c9f6117ba417881228a4ede9b7936",
            "ad5b05a702424a2d96f2cc6f8f536228",
            "497ee83b66eb448d8ac2f6bd4efa43cd",
            "50894ae1a049447e8da70b60e0cb587f",
            "2f0afdb7a31f4b77bc397dc46a642b87",
            "c02ec58cd3194ae4a481f519b460f32e",
            "e650b3df3a884ac6ad0e64d59f29d78d",
            "591c4e78f4f24892b9ff65453db3cd03"
          ]
        },
        "id": "4FsMPlNEwBSB",
        "outputId": "e1f186b3-3fa0-4268-c2b9-b2fc55b18b9a"
      },
      "execution_count": 102,
      "outputs": [
        {
          "output_type": "display_data",
          "data": {
            "text/plain": [
              "  0%|          | 0/2000 [00:00<?, ?it/s]"
            ],
            "application/vnd.jupyter.widget-view+json": {
              "version_major": 2,
              "version_minor": 0,
              "model_id": "2ccbda80e2c04239a3b25fa523d985e3"
            }
          },
          "metadata": {}
        }
      ]
    },
    {
      "cell_type": "code",
      "source": [
        "vaders = pd.DataFrame(res).T\n",
        "vaders = vaders.reset_index().rename(columns={'index': 'ID'})\n",
        "vaders = vaders.merge(df, how='left')"
      ],
      "metadata": {
        "id": "ue_zDfl40Cs5"
      },
      "execution_count": 103,
      "outputs": []
    },
    {
      "cell_type": "code",
      "source": [
        "vaders.head()"
      ],
      "metadata": {
        "colab": {
          "base_uri": "https://localhost:8080/",
          "height": 206
        },
        "id": "d0a2Uj7l0Qzp",
        "outputId": "886ab8aa-d613-4f1b-aca3-ad86e09fd0b8"
      },
      "execution_count": 104,
      "outputs": [
        {
          "output_type": "execute_result",
          "data": {
            "text/plain": [
              "   ID    neg    neu    pos  compound  \\\n",
              "0   1  0.104  0.763  0.133    0.9807   \n",
              "1   2  0.142  0.761  0.097   -0.9898   \n",
              "2   3  0.124  0.657  0.219    0.9969   \n",
              "3   4  0.074  0.777  0.149    0.9990   \n",
              "4   5  0.089  0.809  0.102    0.8670   \n",
              "\n",
              "                                              review sentiment  \n",
              "0  the central focus of michael winterbottom's \" ...  positive  \n",
              "1  the \" fab 4 \" of ronald reagan high are four s...  negative  \n",
              "2  saving private ryan ( dreamworks ) running tim...  positive  \n",
              "3  there must be some unwritten rule that states ...  positive  \n",
              "4  well , what are you going to expect ? \\nit's a...  negative  "
            ],
            "text/html": [
              "\n",
              "  <div id=\"df-554789ff-61dd-4255-bb2c-587798e5a1f3\" class=\"colab-df-container\">\n",
              "    <div>\n",
              "<style scoped>\n",
              "    .dataframe tbody tr th:only-of-type {\n",
              "        vertical-align: middle;\n",
              "    }\n",
              "\n",
              "    .dataframe tbody tr th {\n",
              "        vertical-align: top;\n",
              "    }\n",
              "\n",
              "    .dataframe thead th {\n",
              "        text-align: right;\n",
              "    }\n",
              "</style>\n",
              "<table border=\"1\" class=\"dataframe\">\n",
              "  <thead>\n",
              "    <tr style=\"text-align: right;\">\n",
              "      <th></th>\n",
              "      <th>ID</th>\n",
              "      <th>neg</th>\n",
              "      <th>neu</th>\n",
              "      <th>pos</th>\n",
              "      <th>compound</th>\n",
              "      <th>review</th>\n",
              "      <th>sentiment</th>\n",
              "    </tr>\n",
              "  </thead>\n",
              "  <tbody>\n",
              "    <tr>\n",
              "      <th>0</th>\n",
              "      <td>1</td>\n",
              "      <td>0.104</td>\n",
              "      <td>0.763</td>\n",
              "      <td>0.133</td>\n",
              "      <td>0.9807</td>\n",
              "      <td>the central focus of michael winterbottom's \" ...</td>\n",
              "      <td>positive</td>\n",
              "    </tr>\n",
              "    <tr>\n",
              "      <th>1</th>\n",
              "      <td>2</td>\n",
              "      <td>0.142</td>\n",
              "      <td>0.761</td>\n",
              "      <td>0.097</td>\n",
              "      <td>-0.9898</td>\n",
              "      <td>the \" fab 4 \" of ronald reagan high are four s...</td>\n",
              "      <td>negative</td>\n",
              "    </tr>\n",
              "    <tr>\n",
              "      <th>2</th>\n",
              "      <td>3</td>\n",
              "      <td>0.124</td>\n",
              "      <td>0.657</td>\n",
              "      <td>0.219</td>\n",
              "      <td>0.9969</td>\n",
              "      <td>saving private ryan ( dreamworks ) running tim...</td>\n",
              "      <td>positive</td>\n",
              "    </tr>\n",
              "    <tr>\n",
              "      <th>3</th>\n",
              "      <td>4</td>\n",
              "      <td>0.074</td>\n",
              "      <td>0.777</td>\n",
              "      <td>0.149</td>\n",
              "      <td>0.9990</td>\n",
              "      <td>there must be some unwritten rule that states ...</td>\n",
              "      <td>positive</td>\n",
              "    </tr>\n",
              "    <tr>\n",
              "      <th>4</th>\n",
              "      <td>5</td>\n",
              "      <td>0.089</td>\n",
              "      <td>0.809</td>\n",
              "      <td>0.102</td>\n",
              "      <td>0.8670</td>\n",
              "      <td>well , what are you going to expect ? \\nit's a...</td>\n",
              "      <td>negative</td>\n",
              "    </tr>\n",
              "  </tbody>\n",
              "</table>\n",
              "</div>\n",
              "    <div class=\"colab-df-buttons\">\n",
              "\n",
              "  <div class=\"colab-df-container\">\n",
              "    <button class=\"colab-df-convert\" onclick=\"convertToInteractive('df-554789ff-61dd-4255-bb2c-587798e5a1f3')\"\n",
              "            title=\"Convert this dataframe to an interactive table.\"\n",
              "            style=\"display:none;\">\n",
              "\n",
              "  <svg xmlns=\"http://www.w3.org/2000/svg\" height=\"24px\" viewBox=\"0 -960 960 960\">\n",
              "    <path d=\"M120-120v-720h720v720H120Zm60-500h600v-160H180v160Zm220 220h160v-160H400v160Zm0 220h160v-160H400v160ZM180-400h160v-160H180v160Zm440 0h160v-160H620v160ZM180-180h160v-160H180v160Zm440 0h160v-160H620v160Z\"/>\n",
              "  </svg>\n",
              "    </button>\n",
              "\n",
              "  <style>\n",
              "    .colab-df-container {\n",
              "      display:flex;\n",
              "      gap: 12px;\n",
              "    }\n",
              "\n",
              "    .colab-df-convert {\n",
              "      background-color: #E8F0FE;\n",
              "      border: none;\n",
              "      border-radius: 50%;\n",
              "      cursor: pointer;\n",
              "      display: none;\n",
              "      fill: #1967D2;\n",
              "      height: 32px;\n",
              "      padding: 0 0 0 0;\n",
              "      width: 32px;\n",
              "    }\n",
              "\n",
              "    .colab-df-convert:hover {\n",
              "      background-color: #E2EBFA;\n",
              "      box-shadow: 0px 1px 2px rgba(60, 64, 67, 0.3), 0px 1px 3px 1px rgba(60, 64, 67, 0.15);\n",
              "      fill: #174EA6;\n",
              "    }\n",
              "\n",
              "    .colab-df-buttons div {\n",
              "      margin-bottom: 4px;\n",
              "    }\n",
              "\n",
              "    [theme=dark] .colab-df-convert {\n",
              "      background-color: #3B4455;\n",
              "      fill: #D2E3FC;\n",
              "    }\n",
              "\n",
              "    [theme=dark] .colab-df-convert:hover {\n",
              "      background-color: #434B5C;\n",
              "      box-shadow: 0px 1px 3px 1px rgba(0, 0, 0, 0.15);\n",
              "      filter: drop-shadow(0px 1px 2px rgba(0, 0, 0, 0.3));\n",
              "      fill: #FFFFFF;\n",
              "    }\n",
              "  </style>\n",
              "\n",
              "    <script>\n",
              "      const buttonEl =\n",
              "        document.querySelector('#df-554789ff-61dd-4255-bb2c-587798e5a1f3 button.colab-df-convert');\n",
              "      buttonEl.style.display =\n",
              "        google.colab.kernel.accessAllowed ? 'block' : 'none';\n",
              "\n",
              "      async function convertToInteractive(key) {\n",
              "        const element = document.querySelector('#df-554789ff-61dd-4255-bb2c-587798e5a1f3');\n",
              "        const dataTable =\n",
              "          await google.colab.kernel.invokeFunction('convertToInteractive',\n",
              "                                                    [key], {});\n",
              "        if (!dataTable) return;\n",
              "\n",
              "        const docLinkHtml = 'Like what you see? Visit the ' +\n",
              "          '<a target=\"_blank\" href=https://colab.research.google.com/notebooks/data_table.ipynb>data table notebook</a>'\n",
              "          + ' to learn more about interactive tables.';\n",
              "        element.innerHTML = '';\n",
              "        dataTable['output_type'] = 'display_data';\n",
              "        await google.colab.output.renderOutput(dataTable, element);\n",
              "        const docLink = document.createElement('div');\n",
              "        docLink.innerHTML = docLinkHtml;\n",
              "        element.appendChild(docLink);\n",
              "      }\n",
              "    </script>\n",
              "  </div>\n",
              "\n",
              "\n",
              "    <div id=\"df-aff42975-6fa5-4bd4-a897-fff07cf41eb0\">\n",
              "      <button class=\"colab-df-quickchart\" onclick=\"quickchart('df-aff42975-6fa5-4bd4-a897-fff07cf41eb0')\"\n",
              "                title=\"Suggest charts\"\n",
              "                style=\"display:none;\">\n",
              "\n",
              "<svg xmlns=\"http://www.w3.org/2000/svg\" height=\"24px\"viewBox=\"0 0 24 24\"\n",
              "     width=\"24px\">\n",
              "    <g>\n",
              "        <path d=\"M19 3H5c-1.1 0-2 .9-2 2v14c0 1.1.9 2 2 2h14c1.1 0 2-.9 2-2V5c0-1.1-.9-2-2-2zM9 17H7v-7h2v7zm4 0h-2V7h2v10zm4 0h-2v-4h2v4z\"/>\n",
              "    </g>\n",
              "</svg>\n",
              "      </button>\n",
              "\n",
              "<style>\n",
              "  .colab-df-quickchart {\n",
              "      --bg-color: #E8F0FE;\n",
              "      --fill-color: #1967D2;\n",
              "      --hover-bg-color: #E2EBFA;\n",
              "      --hover-fill-color: #174EA6;\n",
              "      --disabled-fill-color: #AAA;\n",
              "      --disabled-bg-color: #DDD;\n",
              "  }\n",
              "\n",
              "  [theme=dark] .colab-df-quickchart {\n",
              "      --bg-color: #3B4455;\n",
              "      --fill-color: #D2E3FC;\n",
              "      --hover-bg-color: #434B5C;\n",
              "      --hover-fill-color: #FFFFFF;\n",
              "      --disabled-bg-color: #3B4455;\n",
              "      --disabled-fill-color: #666;\n",
              "  }\n",
              "\n",
              "  .colab-df-quickchart {\n",
              "    background-color: var(--bg-color);\n",
              "    border: none;\n",
              "    border-radius: 50%;\n",
              "    cursor: pointer;\n",
              "    display: none;\n",
              "    fill: var(--fill-color);\n",
              "    height: 32px;\n",
              "    padding: 0;\n",
              "    width: 32px;\n",
              "  }\n",
              "\n",
              "  .colab-df-quickchart:hover {\n",
              "    background-color: var(--hover-bg-color);\n",
              "    box-shadow: 0 1px 2px rgba(60, 64, 67, 0.3), 0 1px 3px 1px rgba(60, 64, 67, 0.15);\n",
              "    fill: var(--button-hover-fill-color);\n",
              "  }\n",
              "\n",
              "  .colab-df-quickchart-complete:disabled,\n",
              "  .colab-df-quickchart-complete:disabled:hover {\n",
              "    background-color: var(--disabled-bg-color);\n",
              "    fill: var(--disabled-fill-color);\n",
              "    box-shadow: none;\n",
              "  }\n",
              "\n",
              "  .colab-df-spinner {\n",
              "    border: 2px solid var(--fill-color);\n",
              "    border-color: transparent;\n",
              "    border-bottom-color: var(--fill-color);\n",
              "    animation:\n",
              "      spin 1s steps(1) infinite;\n",
              "  }\n",
              "\n",
              "  @keyframes spin {\n",
              "    0% {\n",
              "      border-color: transparent;\n",
              "      border-bottom-color: var(--fill-color);\n",
              "      border-left-color: var(--fill-color);\n",
              "    }\n",
              "    20% {\n",
              "      border-color: transparent;\n",
              "      border-left-color: var(--fill-color);\n",
              "      border-top-color: var(--fill-color);\n",
              "    }\n",
              "    30% {\n",
              "      border-color: transparent;\n",
              "      border-left-color: var(--fill-color);\n",
              "      border-top-color: var(--fill-color);\n",
              "      border-right-color: var(--fill-color);\n",
              "    }\n",
              "    40% {\n",
              "      border-color: transparent;\n",
              "      border-right-color: var(--fill-color);\n",
              "      border-top-color: var(--fill-color);\n",
              "    }\n",
              "    60% {\n",
              "      border-color: transparent;\n",
              "      border-right-color: var(--fill-color);\n",
              "    }\n",
              "    80% {\n",
              "      border-color: transparent;\n",
              "      border-right-color: var(--fill-color);\n",
              "      border-bottom-color: var(--fill-color);\n",
              "    }\n",
              "    90% {\n",
              "      border-color: transparent;\n",
              "      border-bottom-color: var(--fill-color);\n",
              "    }\n",
              "  }\n",
              "</style>\n",
              "\n",
              "      <script>\n",
              "        async function quickchart(key) {\n",
              "          const quickchartButtonEl =\n",
              "            document.querySelector('#' + key + ' button');\n",
              "          quickchartButtonEl.disabled = true;  // To prevent multiple clicks.\n",
              "          quickchartButtonEl.classList.add('colab-df-spinner');\n",
              "          try {\n",
              "            const charts = await google.colab.kernel.invokeFunction(\n",
              "                'suggestCharts', [key], {});\n",
              "          } catch (error) {\n",
              "            console.error('Error during call to suggestCharts:', error);\n",
              "          }\n",
              "          quickchartButtonEl.classList.remove('colab-df-spinner');\n",
              "          quickchartButtonEl.classList.add('colab-df-quickchart-complete');\n",
              "        }\n",
              "        (() => {\n",
              "          let quickchartButtonEl =\n",
              "            document.querySelector('#df-aff42975-6fa5-4bd4-a897-fff07cf41eb0 button');\n",
              "          quickchartButtonEl.style.display =\n",
              "            google.colab.kernel.accessAllowed ? 'block' : 'none';\n",
              "        })();\n",
              "      </script>\n",
              "    </div>\n",
              "\n",
              "    </div>\n",
              "  </div>\n"
            ],
            "application/vnd.google.colaboratory.intrinsic+json": {
              "type": "dataframe",
              "variable_name": "vaders",
              "summary": "{\n  \"name\": \"vaders\",\n  \"rows\": 2000,\n  \"fields\": [\n    {\n      \"column\": \"ID\",\n      \"properties\": {\n        \"dtype\": \"number\",\n        \"std\": 577,\n        \"min\": 1,\n        \"max\": 2000,\n        \"num_unique_values\": 2000,\n        \"samples\": [\n          1861,\n          354,\n          1334\n        ],\n        \"semantic_type\": \"\",\n        \"description\": \"\"\n      }\n    },\n    {\n      \"column\": \"neg\",\n      \"properties\": {\n        \"dtype\": \"number\",\n        \"std\": 0.03916617398141126,\n        \"min\": 0.0,\n        \"max\": 0.254,\n        \"num_unique_values\": 202,\n        \"samples\": [\n          0.128,\n          0.118,\n          0.106\n        ],\n        \"semantic_type\": \"\",\n        \"description\": \"\"\n      }\n    },\n    {\n      \"column\": \"neu\",\n      \"properties\": {\n        \"dtype\": \"number\",\n        \"std\": 0.04794990720325124,\n        \"min\": 0.597,\n        \"max\": 0.918,\n        \"num_unique_values\": 250,\n        \"samples\": [\n          0.744,\n          0.817,\n          0.764\n        ],\n        \"semantic_type\": \"\",\n        \"description\": \"\"\n      }\n    },\n    {\n      \"column\": \"pos\",\n      \"properties\": {\n        \"dtype\": \"number\",\n        \"std\": 0.04102338766079147,\n        \"min\": 0.027,\n        \"max\": 0.33,\n        \"num_unique_values\": 214,\n        \"samples\": [\n          0.128,\n          0.208,\n          0.076\n        ],\n        \"semantic_type\": \"\",\n        \"description\": \"\"\n      }\n    },\n    {\n      \"column\": \"compound\",\n      \"properties\": {\n        \"dtype\": \"number\",\n        \"std\": 0.8530373193722536,\n        \"min\": -0.9997,\n        \"max\": 0.9999,\n        \"num_unique_values\": 1076,\n        \"samples\": [\n          0.9423,\n          0.9909,\n          0.9702\n        ],\n        \"semantic_type\": \"\",\n        \"description\": \"\"\n      }\n    },\n    {\n      \"column\": \"review\",\n      \"properties\": {\n        \"dtype\": \"string\",\n        \"num_unique_values\": 2000,\n        \"samples\": [\n          \"there are times when the success of a particular film depends entirely on one actor's effort . \\noften a single performance can turn what might have been a rather mediocre movie into something worthwhile . \\nwhen one of these comes along , i usually try to think about how many other people put work into the movie , that there is no way one person could possible carry the entire project on his shoulders . \\nbut sometimes there is simply no other explanation , and such is the case with \\\" the hurricane . \\\" \\nthis biopic about falsely convicted boxer rubin \\\" hurricane \\\" carter would normally be called \\\" norman jewison's 'the hurricane , ' \\\" as per the tradition of referring to a film \\\" belonging \\\" to a director . \\nbut though he does decent work , jewison cannot claim ownership of \\\" the hurricane , \\\" because there is one reason this film works at all , and his name is denzel washington . \\nwashington plays carter , a boxer who in 1967 was convicted of a late-night shooting in a bar . \\njailed for 20 years , he maintained that he had never committed the crimes , but remained in jail after a second trial and countless appeals . \\nthe situation changed when a group of canadians moved to washington and worked on freeing carter . \\nthrough the efforts of that group and carter's lawyers , he was eventually freed when their case was heard in federal court and the judge ruled that rubin carter had been unfairly convicted . \\nthe film details carter's childhood , which had him in and out of jail because of the efforts of a racist cop ( dan hedaya ) . \\nwhen he finally got out of prison for good , carter became a rising star as a middleweight pro boxer , seemingly having his career on track , until the police framed him for multiple homicide . \\ndespite the efforts of political activists and celebrities , he remained imprisoned . \\nflash forward to 1983 , when lesra ( vicellous reon shannon ) a young african-american boy , living with a group of canadian tutors , reads the book carter wrote while in prison . \\nthe book , entitled \\\" the sixteenth round , \\\" opens young lesra's eyes to the injustice that was carter's life , and he vows to help free the incarcerated boxer . \\nlesra convinces his canadian friends ( deborah unger , liev schreiber , john hannah ) to work with him towards his goal . \\n \\\" the hurricane \\\" leans on denzel washington . \\nhe must carry virtually every scene by sheer force of will , and he does so brilliantly . \\nit's probably accurate to say that washington does not embody rubin carter , because he plays a character far stronger and nobler than any real person could hope to be . \\nit would perhaps be more accurate to say that washington embodies the character of rubin carter--a fictional personality invented solely for the film . \\nthe actor's work is masterful ; washington throws himself into every moment , refusing to keep the audience at arm's length . \\nwe feel everything he feels : the humiliation of having to return to prison after fighting so hard to make something of his life , the pain of having to order his wife to give up the fight , and the utter despair he feels when coming to the conclusion that all hope is lost . \\nwashington's is a performance of weight and emotional depth . \\nhe doesn't merely play angry , happy , or sad ; he feels it at the deepest level . \\nhis work is masterful , and for half of this film i realized that the scene i was watching would not have been nearly as affecting as it was if it had been in the hands of another actor . \\nnorman jewison directs the film , doing a reasonably good job of pacing and shot selection . \\n \\\" the hurricane \\\" moves quickly , with no scene drawn out much further than necessary and the narrative galloping along nicely . \\njewison handles his multiple flashbacks well ; the audience is always aware of just what the time and place of each scene is , and nothing is terribly confusing . \\nhis boxing scenes , constructed with clear inspiration from \\\" raging bull , \\\" get inside the action very well , and they are believable as real sports footage . \\njewison puts together a particularly nice scene by utilizing a pretty cool trick : carter is sent to solitary confinement for 90 days when he refuses to wear a prison uniform , and jewison , assisted by some wonderful acting from a game washington , shows how carter gradually starts to lose his mind during the constant solitude , and eventually we get three rubin carters arguing with each other in one cell . \\njewison's best achievement in \\\" the hurricane \\\" is succeeding at showing how carter becomes an embittered man during his hard-knock life , and how he is able to break out of that bitterness and learn to trust people again . \\nsadly , though , the film's chief failures lie with the screenplay , as with most of the good-but-not-great efforts to round the pike this winter . \\nthere is much to interest a viewer in \\\" the hurricane , \\\" but it seems that every time the film gets a chance to take the most clich ? d route possible , it does . \\ntake a look at the supporting characters , for example , who are drawn up as either entirely good or entirely evil . \\ncarter and lesra ( played nicely by shannon , who deserves credit ) are the only real people here ; everyone else is a stereotype . \\nthe canadians are good . \\nthe cops are bad . \\nthe canadians spend most of their time dolefully grinning at each other in their lovey-dovey commune ( and it is a commune , despite the film's failure to make that clear ) , while every racist cop ( especially dan hedaya's ) melts in out of the shadows and glowers at every black person that enters the room . \\nmuch of the dialogue comes off as rather hokey ( \\\" hate put me in prison . \\nlove's gonna bust me out . \\\" ) , and the big courtroom climax during which everyone gets to make an impassioned speech could have been lifted from a made-for-tv lifetime special . \\nit's too bad . \\nthe cast is game , the director does his job , and the subject matter is interesting , but the script takes the safer , slightly more boring route far too often . \\ni wanted a real reason for the cop to hold a grudge against carter other than \\\" he's a racist pig . \\\" \\ni wanted more evidence that these canadians are real people with faults and virtues instead of a bunch of saintly crusaders looking for justice . \\nin short , i wanted to see the film through a less distorted lens . \\ncriticism has been levied against the liberties \\\" the hurricane \\\" takes with the truth of what really happened to carter , and much of it is deserved . \\nfor example , the film gives us a boxing scene showing carter pummeling defending champ joey giardello , only to be screwed by the judges , who ruled giardello the winner . \\nmost accounts of the fight , however , have carter losing fairly . \\nfurthermore , much of carter's criminal past is conveniently left out of the film , and just why he was convicted again in his second trial is never really explained . \\nof course , \\\" the hurricane \\\" works mainly as a fable , so digressions from the truth can be excused at least partially , but even dismissing such issues don't remove one fact : \\\" the hurricane \\\" is a highly flawed film . \\nonly one actor could have made a schmaltzy , predictable picture like this work as well as it does , and it's a good thing \\\" the hurricane \\\" has that actor . \\ncarter has been quoted as saying , \\\" denzel washington is making me look good , \\\" but he's not the only one . \\nwashington makes this film look good . \\ndenzel washington's \\\" the hurricane . \\\" \\nsounds pretty good to me . \\n\",\n          \"books could be , and indeed have been written about the star wars trilogy , and rightfully so . \\nthis is a set of movies that shattered all expectations of what science fiction could be in the late 70s/early 80s , inspiring literally dozens of clones , from battlestar galactica all the way up to stargate and independance day , and one could argue revitalizing the whole science fiction genre . \\nthe special effects were groundbreaking , revolutionary for their day and still eminently watchable well into twenty years later . \\nliterally millions of people have seen the star wars trilogy and been touched by it . \\nand now , george lucas brings it back for a new audience to enjoy . \\nmuch has been and is still being made of the fact that mr . lucas has gone back and revised his trilogy for rerelease now . \\nsome fans are angry that he has dared to meddle with what they consider perfection , while others are thrilled by the idea of seeing yesterday's star wars updated with today's special effects wizardry . \\neither way , the special edition release means that star wars is back on the big screen , where it rightfully deserves to be seen . \\ncan there be anyone in the world who doesn't know what star wars is about ? \\nin a way , star wars is so much a part of our cultural heritage that it feels silly and almost artificial to try to summarize it . \\nit's a story about a young man's coming of age , a fight for freedom against an oppressive empire , a tale of swashbuckling and derring-do the likes of which haven't been seen on the silver screen in decades , strange new worlds with strange alien creatures and weird surprises around every turn , and the yearning within each of us to realize our dreams and make a difference in the world . \\nit's high adventure , incredible special effects , and . . . well , it's just an _experience_ . \\nsomething about this movie sparked the imagination of a generation . . . and \\nit's about to do so again . \\nthis new release of star wars comes as no surprise to many of the film's devoted fans , who have been trading rumors and bits of information about it for quite some time now . \\ninterviews , trailers , leaks from within lucasfilm . . . all of these have been collected , collated , and placed on webpages for people to see ( pages such as http : //www . islandnet . com/~corona/films/details/sw4 . html \\nor , my personal favorite , http : //leopard . cs . latrobe . edu . au/~koukoula/ \\n ) . \\npictures of before and after have been placed side by side . . . even \\nmonths before the movies were released , fans were making comparisons . \\nin some cases , the changes were nothing less than phenomenal , and this can be seen from the comparison shots even before you go into the movie theater . \\nthe digital matte effects that were little more than a toy in forrest gump are put to excellent use here , unnoticeably sprucing up scenes that that george lucas was unsatisfied with in the original . \\nfor instance , in my personal favorite example , the ancient temple on yavin that was formerly a flat stone edifice now has deep , moss-covered carvings and etchings . \\nand mos eisley spaceport is now a bustling , booming city , with more surprises and things going on in the background than you can notice on the first viewing . \\nall the starships and fighters are now computer-animated , getting rid of glitches and artifacts of the special effects processes used when the film was originally made--and they look _fantastic_ . \\nfour and a half minutes of new or missing footage have been added , including a scene with jabba the hutt that had originally been shelved because the state of special effects in 1977 simply couldn't do it justice . \\nhowever , much of the ten million dollars that was spent on the star wars special edition restoration went into restoring the quality of the film itself . \\nthe negatives , badly damaged by the ravages of time , were brightened and returned to their original splendor . \\nthe audio tracks were remixed and reprocessed , with reworked sound effects by effects maven ben burtt , into glorious , booming , theater-shaking full-thx dolby digital stereo . \\nand _that_ , more than the added scenes or new special effects , is where the real value of this new version lies . \\nit's really true what they say in the commercials : star wars loses _so much_ on the small screen . \\neven letterboxing doesn't make up for the decrease in size and definition . \\nin regard to the star wars special edition , and to the other two films of the trilogy which have yet to be released , i'll make this final recommendation : go and see it . \\ngo and see it more than once . . . it \\nmay be another twenty years before it comes back to the big screen after it's gone this time . \\ntake along the youngsters who've never had the big-screen star wars experience--you'll enjoy seeing it through their eyes as much as they will enjoy it for the first time . \\nthere's magic in this movie--special edition or no , there can be no denying that it's still star wars , and still has the power to thrill and enthrall children of all ages , from four to four hundred . \\nlet's all return to that time long ago , and that galaxy far , far away . . . \\n\",\n          \"starring ben stiller , elizabeth hurley , maria bello , janeane garofalo screenplay by david veloz , based on the novel by jerry stahl directed by david veloz \\npermanent midnight is a pretty bad movie , though it took me a few days to conclude this . \\nthe film is more masturbatory than bleak , with its main character intent on confounding us with his stupidity . \\n ( he has a $6000 a week drug habit . ) \\nultimately , as adapted by veloz , jerry stahl comes off as one of those playground braggarts who chainsmokes at the age of twelve ; you are less mystified by his self-destructive nature than bored into a stupor yourself . \\nben stiller plays stahl , a young author who arrives in l . a . with ambition and a nasty drug habit . \\nhe eventually gets a gig for $5000/week writing for a sitcom called mr . chompers ( a thinly veiled stand-in for \\\" alf \\\" : chompers looks just like alf except he's blue ) , marries a producer ( hurley ) so she can get a green card , and hooks up with a spanish mother ( liz torres ) , who shoots heroin with him in the afternoons . \\ninsert proverbial downward spiral here . \\npermanent midnight is structured mostly as a flashback , with recovering addict bello meeting stiller ( at a fastfood restaurant , where stiller works the drive-thru as part of rehab ) , taking him back to a hotel , and between bouts of serious screwing , listening to his life story . \\ni've spent the last week trying to figure out why stiller never seemed to find the frighteningly gorgeous hurley attractive-worse , i've been trying to figure out why hurley did find stiller attractive . \\nas stahl , stiller displays none of the charm or wit one would expect ( post-there's something about mary ) of either the actor or a comedy writer . \\nwhat separates stahl from the hundreds of other hollywood punk-junkies , it seems , is that stahl wrote a book about his idiocy . \\nwatch stahl shoot heroin next to a baby ! \\nwatch stahl spoil numerous pitch meetings with smack-fueled babble ! \\nstiller gives a technically flawless performance : the film could double as a documentary on how to be a junkie . \\nbut permanent midnight is mostly soulless . \\nwhen the movie poses the question will stahl be saved ? \\nand then answers it in the form of bello's character ( basically a shrink in black panties ) , could a person care less ? \\nin the film version of his autobiography of the same name , stahl doesn't need saving , he needs someone who will sit there and listen to him go on about himself . \\nif you learn anything about the other characters in this movie , it's that they are the most incredibly tolerant hollywood-types known to man . \\n ( stahl also seems to be the only person at schmooze parties doing drugs . \\nis this hollywood . . . california ? ) \\ni learned very little about the entertainment business from permanent midnight and a whole lot about an egotistical lunkhead . \\nof course you know that stahl triumphed because he lived to talk about his problems . \\nso , basically , his drug habit got him a book deal , a movie based on his life , and now he's apparently collaborating with stiller on future projects . \\nso much for the moral of that story . \\ntemporary midnight is more like it . \\n-bill chambers ; september , 1998 \\n\"\n        ],\n        \"semantic_type\": \"\",\n        \"description\": \"\"\n      }\n    },\n    {\n      \"column\": \"sentiment\",\n      \"properties\": {\n        \"dtype\": \"category\",\n        \"num_unique_values\": 2,\n        \"samples\": [\n          \"negative\",\n          \"positive\"\n        ],\n        \"semantic_type\": \"\",\n        \"description\": \"\"\n      }\n    }\n  ]\n}"
            }
          },
          "metadata": {},
          "execution_count": 104
        }
      ]
    },
    {
      "cell_type": "code",
      "source": [
        "ax = sns.barplot(data=vaders, x='sentiment', y='compound')\n",
        "ax.set_title('Compund Score by sentiments')\n",
        "plt.show()"
      ],
      "metadata": {
        "colab": {
          "base_uri": "https://localhost:8080/",
          "height": 477
        },
        "id": "sViTX85j0ZJm",
        "outputId": "31ef3e05-d1cb-44ba-9262-9f4f4e03fa06"
      },
      "execution_count": 105,
      "outputs": [
        {
          "output_type": "display_data",
          "data": {
            "text/plain": [
              "<Figure size 640x480 with 1 Axes>"
            ],
            "image/png": "[encoded data removed]"
          },
          "metadata": {}
        }
      ]
    },
    {
      "cell_type": "code",
      "source": [
        "fig, axs = plt.subplots(1, 3, figsize=(12, 3))\n",
        "sns.barplot(data=vaders, x='sentiment', y='pos', ax=axs[0])\n",
        "sns.barplot(data=vaders, x='sentiment', y='neu', ax=axs[1])\n",
        "sns.barplot(data=vaders, x='sentiment', y='neg', ax=axs[2])\n",
        "axs[0].set_title('Positive')\n",
        "axs[1].set_title('Neutral')\n",
        "axs[2].set_title('Negative')\n",
        "plt.tight_layout()\n",
        "plt.show()"
      ],
      "metadata": {
        "colab": {
          "base_uri": "https://localhost:8080/",
          "height": 307
        },
        "id": "HDtU5MWn0_9L",
        "outputId": "6cf469fe-07ca-4c73-9a85-d5ecea13020b"
      },
      "execution_count": 106,
      "outputs": [
        {
          "output_type": "display_data",
          "data": {
            "text/plain": [
              "<Figure size 1200x300 with 3 Axes>"
            ],
            "image/png": "[encoded data removed]"
          },
          "metadata": {}
        }
      ]
    },
    {
      "cell_type": "code",
      "source": [
        "from sklearn.metrics import classification_report\n",
        "\n",
        "def vader_sentiment(c):\n",
        "    if c >= 0.05:\n",
        "        return \"positive\"\n",
        "    elif c <= -0.05:\n",
        "        return \"negative\"\n",
        "    else:\n",
        "        return \"neutral\"\n",
        "\n",
        "vaders['predicted'] = vaders['compound'].apply(vader_sentiment)\n",
        "\n",
        "print(classification_report(vaders['sentiment'], vaders['predicted'], digits=3))\n"
      ],
      "metadata": {
        "colab": {
          "base_uri": "https://localhost:8080/"
        },
        "id": "MSIum3qpaiqa",
        "outputId": "795612b8-c30f-4b34-84bb-1b1e4b38341f"
      },
      "execution_count": 107,
      "outputs": [
        {
          "output_type": "stream",
          "name": "stdout",
          "text": [
            "              precision    recall  f1-score   support\n",
            "\n",
            "    negative      0.720     0.444     0.549      1000\n",
            "     neutral      0.000     0.000     0.000         0\n",
            "    positive      0.598     0.826     0.694      1000\n",
            "\n",
            "    accuracy                          0.635      2000\n",
            "   macro avg      0.439     0.423     0.414      2000\n",
            "weighted avg      0.659     0.635     0.621      2000\n",
            "\n"
          ]
        },
        {
          "output_type": "stream",
          "name": "stderr",
          "text": [
            "/usr/local/lib/python3.12/dist-packages/sklearn/metrics/_classification.py:1565: UndefinedMetricWarning: Recall is ill-defined and being set to 0.0 in labels with no true samples. Use `zero_division` parameter to control this behavior.\n",
            "  _warn_prf(average, modifier, f\"{metric.capitalize()} is\", len(result))\n",
            "/usr/local/lib/python3.12/dist-packages/sklearn/metrics/_classification.py:1565: UndefinedMetricWarning: Recall is ill-defined and being set to 0.0 in labels with no true samples. Use `zero_division` parameter to control this behavior.\n",
            "  _warn_prf(average, modifier, f\"{metric.capitalize()} is\", len(result))\n",
            "/usr/local/lib/python3.12/dist-packages/sklearn/metrics/_classification.py:1565: UndefinedMetricWarning: Recall is ill-defined and being set to 0.0 in labels with no true samples. Use `zero_division` parameter to control this behavior.\n",
            "  _warn_prf(average, modifier, f\"{metric.capitalize()} is\", len(result))\n"
          ]
        }
      ]
    },
    {
      "cell_type": "code",
      "source": [
        "filtered = vaders[vaders['sentiment'] != \"neutral\"]\n",
        "\n",
        "cm = confusion_matrix(filtered['sentiment'], filtered['predicted'], labels=[\"negative\", \"positive\"])\n",
        "\n",
        "plt.figure(figsize=(5,4))\n",
        "sns.heatmap(cm, annot=True, fmt='d', cmap=\"Blues\",\n",
        "            xticklabels=[\"negative\", \"positive\"],\n",
        "            yticklabels=[\"negative\", \"positive\"])\n",
        "plt.xlabel(\"Predicted\")\n",
        "plt.ylabel(\"Actual\")\n",
        "plt.title(\"Confusion Matrix - VADER (Positive vs Negative)\")\n",
        "plt.show()"
      ],
      "metadata": {
        "colab": {
          "base_uri": "https://localhost:8080/",
          "height": 415
        },
        "id": "uhpFSA2rqkUx",
        "outputId": "d8a17961-0cbd-428e-d25e-753843a552e2"
      },
      "execution_count": 108,
      "outputs": [
        {
          "output_type": "display_data",
          "data": {
            "text/plain": [
              "<Figure size 500x400 with 2 Axes>"
            ],
            "image/png": "[encoded data removed]"
          },
          "metadata": {}
        }
      ]
    },
    {
      "cell_type": "markdown",
      "source": [
        "### **TextBlob**\n",
        "\n",
        "TextBlob includes a pre-trained model for sentiment analysis. It is a Python library for processing textual data. It provides a simple API for common natural language processing (NLP) tasks, such as part-of-speech tagging, noun phrase extraction, sentiment analysis, classification, translation, and more. TextBlob is built on top of NLTK (Natural Language Toolkit) and follows a straightforward and user-friendly design, making it accessible to users without extensive NLP expertise."
      ],
      "metadata": {
        "id": "G-yLN0izMv3e"
      }
    },
    {
      "cell_type": "code",
      "source": [
        "from textblob import TextBlob\n",
        "\n",
        "text = \"I love this product! It's amazing.\"\n",
        "\n",
        "blob = TextBlob(text)\n",
        "\n",
        "sentiment_polarity = blob.sentiment.polarity\n",
        "\n",
        "print(sentiment_polarity)"
      ],
      "metadata": {
        "id": "SP0RfZ5lnC5f",
        "colab": {
          "base_uri": "https://localhost:8080/"
        },
        "outputId": "6047f1c9-0279-4eb9-daea-4c5e40a82e00"
      },
      "execution_count": 110,
      "outputs": [
        {
          "output_type": "stream",
          "name": "stdout",
          "text": [
            "0.6125\n"
          ]
        }
      ]
    },
    {
      "cell_type": "code",
      "source": [
        "\n",
        "def polarity_to_label(p):\n",
        "    if p > 0:\n",
        "        return \"positive\"\n",
        "    elif p < 0:\n",
        "        return \"negative\"\n",
        "    else:\n",
        "        return \"neutral\"\n",
        "\n",
        "df['tb_polarity'] = df['review'].apply(lambda x: TextBlob(x).sentiment.polarity)\n",
        "df['tb_predicted'] = df['tb_polarity'].apply(polarity_to_label)\n",
        "\n",
        "print(\"Classification Report - TextBlob:\\n\")\n",
        "print(classification_report(df['sentiment'], df['tb_predicted'], digits=3))\n"
      ],
      "metadata": {
        "colab": {
          "base_uri": "https://localhost:8080/"
        },
        "id": "jY7BphPt5WCf",
        "outputId": "3dd4387c-fd1c-4682-b7eb-cd5ff06a2fad"
      },
      "execution_count": 111,
      "outputs": [
        {
          "output_type": "stream",
          "name": "stdout",
          "text": [
            "Classification Report - TextBlob:\n",
            "\n",
            "              precision    recall  f1-score   support\n",
            "\n",
            "    negative      0.888     0.229     0.364      1000\n",
            "    positive      0.557     0.971     0.708      1000\n",
            "\n",
            "    accuracy                          0.600      2000\n",
            "   macro avg      0.723     0.600     0.536      2000\n",
            "weighted avg      0.723     0.600     0.536      2000\n",
            "\n"
          ]
        }
      ]
    },
    {
      "cell_type": "code",
      "source": [
        "# Confusion matrix\n",
        "cm = confusion_matrix(df['sentiment'], df['tb_predicted'], labels=[\"negative\", \"positive\"])\n",
        "\n",
        "# Plot heatmap\n",
        "plt.figure(figsize=(6,4))\n",
        "sns.heatmap(cm, annot=True, fmt='d', cmap=\"Blues\", xticklabels=[\"negative\", \"positive\"], yticklabels=[\"negative\", \"positive\"])\n",
        "plt.xlabel(\"Predicted\")\n",
        "plt.ylabel(\"Actual\")\n",
        "plt.title(\"Confusion Matrix - TextBlob\")\n",
        "plt.show()\n"
      ],
      "metadata": {
        "colab": {
          "base_uri": "https://localhost:8080/",
          "height": 415
        },
        "id": "3SaMXgK7idDp",
        "outputId": "3d1fa705-07be-43bb-81d1-46deb152c8fb"
      },
      "execution_count": 112,
      "outputs": [
        {
          "output_type": "display_data",
          "data": {
            "text/plain": [
              "<Figure size 600x400 with 2 Axes>"
            ],
            "image/png": "[encoded data removed]"
          },
          "metadata": {}
        }
      ]
    },
    {
      "cell_type": "markdown",
      "source": [
        "### **TF-IDF Model**\n",
        "\n",
        "TF-IDF (Term Frequency-Inverse Document Frequency) is not directly used for sentiment analysis on its own. Instead, it is typically applied as a feature extraction technique to represent text data numerically before training a machine learning model for sentiment analysis. The results of applying TF-IDF to sentiment analysis would be a matrix of numerical features representing the importance of words in the text.\n",
        "\n",
        "Once you have the TF-IDF matrix, it can be used as input features to train a sentiment analysis model. Following code can be extended to perform sentiment analysis using scikit-learn's train_test_split and MultinomialNB (Multinomial Naive Bayes) classifier which we will be under analysis in 7th section of Machiine Learning model"
      ],
      "metadata": {
        "id": "0KZVfjBnKkUx"
      }
    },
    {
      "cell_type": "code",
      "source": [
        "from sklearn.feature_extraction.text import TfidfVectorizer\n",
        "\n",
        "corpus = df['review'].tolist()\n",
        "\n",
        "# Create a TF-IDF vectorizer\n",
        "tfidf_vectorizer = TfidfVectorizer()\n",
        "\n",
        "tfidf_features = tfidf_vectorizer.fit_transform(corpus)\n",
        "\n",
        "tfidf_df = pd.DataFrame(tfidf_features.toarray(), columns=tfidf_vectorizer.get_feature_names_out())\n",
        "\n",
        "print(tfidf_df)\n"
      ],
      "metadata": {
        "colab": {
          "base_uri": "https://localhost:8080/"
        },
        "id": "s8wyVBcK3Gjk",
        "outputId": "049f1822-1e91-43cf-e059-333b90fca59d"
      },
      "execution_count": 113,
      "outputs": [
        {
          "output_type": "stream",
          "name": "stdout",
          "text": [
            "       00  000  0009f  007  00s   03   04   05  05425       10  ...  zukovsky  \\\n",
            "0     0.0  0.0    0.0  0.0  0.0  0.0  0.0  0.0    0.0  0.00000  ...       0.0   \n",
            "1     0.0  0.0    0.0  0.0  0.0  0.0  0.0  0.0    0.0  0.00000  ...       0.0   \n",
            "2     0.0  0.0    0.0  0.0  0.0  0.0  0.0  0.0    0.0  0.00000  ...       0.0   \n",
            "3     0.0  0.0    0.0  0.0  0.0  0.0  0.0  0.0    0.0  0.00000  ...       0.0   \n",
            "4     0.0  0.0    0.0  0.0  0.0  0.0  0.0  0.0    0.0  0.00000  ...       0.0   \n",
            "...   ...  ...    ...  ...  ...  ...  ...  ...    ...      ...  ...       ...   \n",
            "1995  0.0  0.0    0.0  0.0  0.0  0.0  0.0  0.0    0.0  0.00000  ...       0.0   \n",
            "1996  0.0  0.0    0.0  0.0  0.0  0.0  0.0  0.0    0.0  0.03642  ...       0.0   \n",
            "1997  0.0  0.0    0.0  0.0  0.0  0.0  0.0  0.0    0.0  0.00000  ...       0.0   \n",
            "1998  0.0  0.0    0.0  0.0  0.0  0.0  0.0  0.0    0.0  0.00000  ...       0.0   \n",
            "1999  0.0  0.0    0.0  0.0  0.0  0.0  0.0  0.0    0.0  0.00000  ...       0.0   \n",
            "\n",
            "      zulu  zundel  zurg  zus  zweibel  zwick  zwigoff  zycie  zzzzzzz  \n",
            "0      0.0     0.0   0.0  0.0      0.0    0.0      0.0    0.0      0.0  \n",
            "1      0.0     0.0   0.0  0.0      0.0    0.0      0.0    0.0      0.0  \n",
            "2      0.0     0.0   0.0  0.0      0.0    0.0      0.0    0.0      0.0  \n",
            "3      0.0     0.0   0.0  0.0      0.0    0.0      0.0    0.0      0.0  \n",
            "4      0.0     0.0   0.0  0.0      0.0    0.0      0.0    0.0      0.0  \n",
            "...    ...     ...   ...  ...      ...    ...      ...    ...      ...  \n",
            "1995   0.0     0.0   0.0  0.0      0.0    0.0      0.0    0.0      0.0  \n",
            "1996   0.0     0.0   0.0  0.0      0.0    0.0      0.0    0.0      0.0  \n",
            "1997   0.0     0.0   0.0  0.0      0.0    0.0      0.0    0.0      0.0  \n",
            "1998   0.0     0.0   0.0  0.0      0.0    0.0      0.0    0.0      0.0  \n",
            "1999   0.0     0.0   0.0  0.0      0.0    0.0      0.0    0.0      0.0  \n",
            "\n",
            "[2000 rows x 39659 columns]\n"
          ]
        }
      ]
    },
    {
      "cell_type": "markdown",
      "source": [
        "### **Na¨ıve Bayes model**\n",
        "\n",
        "  Na¨ıve Bayes model uses the scikit-learn library to implement a sentiment analysis model on a movie reviews dataset. It loads the dataset, performs basic text preprocessing by removing stopwords, punctuation, and non-alphabetic characters. The data is then split into training and testing sets. The CountVectorizer converts text data into a bag-of-words representation. A Multinomial Naive Bayes classifier is trained on the training set, using the word counts as features. Finally, the model is evaluated on the testing set using confusion matrix and classification report. Naive Bayes works by assuming independence between features and uses Bayes' theorem for probabilistic classification based on feature occurrences."
      ],
      "metadata": {
        "id": "g7ghNWEfQ4mX"
      }
    },
    {
      "cell_type": "code",
      "source": [
        "from sklearn.model_selection import train_test_split\n",
        "from sklearn.naive_bayes import MultinomialNB\n",
        "from sklearn.metrics import classification_report, accuracy_score, confusion_matrix\n",
        "\n",
        "X = tfidf_features\n",
        "y = df['sentiment']\n",
        "\n",
        "# Train-test split\n",
        "X_train, X_test, y_train, y_test = train_test_split(\n",
        "    X, y, test_size=0.2, random_state=42, stratify=y\n",
        ")\n",
        "\n",
        "# Train Multinomial Naive Bayes\n",
        "nb_classifier = MultinomialNB()\n",
        "nb_classifier.fit(X_train, y_train)\n",
        "\n",
        "y_pred = nb_classifier.predict(X_test)\n",
        "\n",
        "print(\"Classification Report:\\n\")\n",
        "print(classification_report(y_test, y_pred, digits=3))"
      ],
      "metadata": {
        "colab": {
          "base_uri": "https://localhost:8080/"
        },
        "id": "OZhsLVArcB5X",
        "outputId": "6cd3be35-2826-465c-b39e-eb1f44676436"
      },
      "execution_count": 114,
      "outputs": [
        {
          "output_type": "stream",
          "name": "stdout",
          "text": [
            "Classification Report:\n",
            "\n",
            "              precision    recall  f1-score   support\n",
            "\n",
            "    negative      0.803     0.875     0.837       200\n",
            "    positive      0.863     0.785     0.822       200\n",
            "\n",
            "    accuracy                          0.830       400\n",
            "   macro avg      0.833     0.830     0.830       400\n",
            "weighted avg      0.833     0.830     0.830       400\n",
            "\n"
          ]
        }
      ]
    },
    {
      "cell_type": "code",
      "source": [
        "from sklearn.metrics import ConfusionMatrixDisplay\n",
        "\n",
        "cm = confusion_matrix(y_test, y_pred, labels=nb_classifier.classes_)\n",
        "\n",
        "plt.figure(figsize=(6,4))\n",
        "sns.heatmap(cm, annot=True, fmt='d', cmap=\"Blues\", xticklabels=nb_classifier.classes_, yticklabels=nb_classifier.classes_)\n",
        "plt.xlabel(\"Predicted\")\n",
        "plt.ylabel(\"Actual\")\n",
        "plt.title(\"Confusion Matrix - TF-IDF + Naive Bayes\")\n",
        "plt.show()"
      ],
      "metadata": {
        "colab": {
          "base_uri": "https://localhost:8080/",
          "height": 415
        },
        "id": "Mep7hSb2cWN4",
        "outputId": "f34cb86f-2752-43e2-9467-880cc447ed30"
      },
      "execution_count": 115,
      "outputs": [
        {
          "output_type": "display_data",
          "data": {
            "text/plain": [
              "<Figure size 600x400 with 2 Axes>"
            ],
            "image/png": "[encoded data removed]"
          },
          "metadata": {}
        }
      ]
    },
    {
      "cell_type": "markdown",
      "source": [
        "### **Transformers Pipeline**\n",
        "Hugging Face - DistilBERT"
      ],
      "metadata": {
        "id": "neZqW-UXNsZG"
      }
    },
    {
      "cell_type": "code",
      "source": [
        "from transformers import pipeline\n",
        "\n",
        "sent_pipeline = pipeline(\"sentiment-analysis\")"
      ],
      "metadata": {
        "colab": {
          "base_uri": "https://localhost:8080/"
        },
        "id": "w0AZz3TMADgV",
        "outputId": "27560516-1ef9-4f09-ab72-14cc6f8ef758"
      },
      "execution_count": 116,
      "outputs": [
        {
          "output_type": "stream",
          "name": "stderr",
          "text": [
            "No model was supplied, defaulted to distilbert/distilbert-base-uncased-finetuned-sst-2-english and revision 714eb0f (https://huggingface.co/distilbert/distilbert-base-uncased-finetuned-sst-2-english).\n",
            "Using a pipeline without specifying a model name and revision in production is not recommended.\n",
            "Device set to use cpu\n"
          ]
        }
      ]
    },
    {
      "cell_type": "code",
      "source": [
        "sent_pipeline('I love sentiment analysis!')"
      ],
      "metadata": {
        "colab": {
          "base_uri": "https://localhost:8080/"
        },
        "id": "guAhuvNgBGpO",
        "outputId": "5ab469a2-d3d0-4ca5-ef47-43a1abf84bc3"
      },
      "execution_count": 117,
      "outputs": [
        {
          "output_type": "execute_result",
          "data": {
            "text/plain": [
              "[{'label': 'POSITIVE', 'score': 0.9997853636741638}]"
            ]
          },
          "metadata": {},
          "execution_count": 117
        }
      ]
    },
    {
      "cell_type": "code",
      "source": [
        "transformer_preds = []\n",
        "for text in df['review']:\n",
        "    truncated_text = text[:512]\n",
        "    result = sent_pipeline(truncated_text)[0]\n",
        "    transformer_preds.append(result['label'].lower())\n",
        "\n",
        "\n",
        "df['transformer_pred'] = transformer_preds\n",
        "\n",
        "\n",
        "print(\"Classification Report - Transformer (DistilBERT):\\n\")\n",
        "print(classification_report(df['sentiment'], df['transformer_pred'], digits=3))"
      ],
      "metadata": {
        "colab": {
          "base_uri": "https://localhost:8080/"
        },
        "id": "3nhSn6Eijyua",
        "outputId": "d6347353-5c42-49a3-8fde-18da0f6830e1"
      },
      "execution_count": 118,
      "outputs": [
        {
          "output_type": "stream",
          "name": "stdout",
          "text": [
            "Classification Report - Transformer (DistilBERT):\n",
            "\n",
            "              precision    recall  f1-score   support\n",
            "\n",
            "    negative      0.703     0.735     0.719      1000\n",
            "    positive      0.723     0.690     0.706      1000\n",
            "\n",
            "    accuracy                          0.713      2000\n",
            "   macro avg      0.713     0.712     0.712      2000\n",
            "weighted avg      0.713     0.713     0.712      2000\n",
            "\n"
          ]
        }
      ]
    },
    {
      "cell_type": "code",
      "source": [
        "cm = confusion_matrix(df['sentiment'], df['transformer_pred'], labels=[\"negative\", \"positive\"])\n",
        "\n",
        "plt.figure(figsize=(6,4))\n",
        "sns.heatmap(cm, annot=True, fmt='d', cmap=\"Blues\",\n",
        "            xticklabels=[\"negative\", \"positive\"],\n",
        "            yticklabels=[\"negative\", \"positive\"])\n",
        "plt.xlabel(\"Predicted\")\n",
        "plt.ylabel(\"Actual\")\n",
        "plt.title(\"Confusion Matrix - Transformer (DistilBERT)\")\n",
        "plt.show()"
      ],
      "metadata": {
        "colab": {
          "base_uri": "https://localhost:8080/",
          "height": 415
        },
        "id": "-QigeEVYmuvO",
        "outputId": "0639cb58-df1b-44b7-e577-2fa5c2de0bcf"
      },
      "execution_count": 119,
      "outputs": [
        {
          "output_type": "display_data",
          "data": {
            "text/plain": [
              "<Figure size 600x400 with 2 Axes>"
            ],
            "image/png": "[encoded data removed]"
          },
          "metadata": {}
        }
      ]
    },
    {
      "cell_type": "markdown",
      "source": [
        "## 8. Evaluation"
      ],
      "metadata": {
        "id": "JBCP3AbQL_pu"
      }
    },
    {
      "cell_type": "markdown",
      "source": [
        "\n",
        "In this sentiment analysis task, the VADER model has been applied, leveraging its ability to analyze sentiment from textual data, especially in the context of social media. VADER (Valence Aware Dictionary and sEntiment Reasoner) excels in capturing nuanced sentiments by considering the polarity and intensity of words, providing a robust tool for subjective content analysis.\n",
        "\n",
        "Two feature extraction models, TextBlob and TF-IDF, were employed for sentiment analysis. TextBlob, a simplified NLP library, utilizes a predefined sentiment lexicon. TF-IDF, on the other hand, calculates term importance based on frequency and inverse document frequency, aiming to capture the significance of words in a document collection.\n",
        "\n",
        "Performance evaluation criteria, including accuracy, precision, recall, and F1-score, were employed. Statistical information, such as confusion matrices, aided in understanding the model's behavior. The VADER model demonstrated high accuracy in capturing sentiment nuances, especially in informal language. TextBlob, relying on a predefined lexicon, showed effectiveness in simplicity and speed, while TF-IDF excelled in capturing context-based importance. Precision, recall, and F1-score were utilized to assess model performance comprehensively, revealing the trade-offs between precision and recall based on the chosen feature extraction method."
      ],
      "metadata": {
        "id": "FzlluvrASHu5"
      }
    },
    {
      "cell_type": "markdown",
      "source": [
        "**Bar Chart: Model Performance Comparison (VADER, TextBlob, Naive Bayes, DistilBERT)**"
      ],
      "metadata": {
        "id": "D8CYob8K1TQc"
      }
    },
    {
      "cell_type": "code",
      "source": [
        "models = [\"VADER\", \"TextBlob\", \"Naive Bayes\", \"DistilBERT\"]\n",
        "accuracy = [0.635, 0.600, 0.830, 0.713]\n",
        "precision = [0.659, 0.723, 0.833, 0.713]\n",
        "recall = [0.635, 0.600, 0.830, 0.712]\n",
        "f1 = [0.621, 0.536, 0.830, 0.712]\n",
        "\n",
        "x = np.arange(len(models))\n",
        "width = 0.2\n",
        "\n",
        "fig, ax = plt.subplots(figsize=(10,6))\n",
        "\n",
        "bars1 = ax.bar(x - 1.5*width, accuracy, width, label=\"Accuracy\")\n",
        "bars2 = ax.bar(x - 0.5*width, precision, width, label=\"Precision\")\n",
        "bars3 = ax.bar(x + 0.5*width, recall, width, label=\"Recall\")\n",
        "bars4 = ax.bar(x + 1.5*width, f1, width, label=\"F1-Score\")\n",
        "\n",
        "# Function to add labels\n",
        "def add_labels(bars):\n",
        "    for bar in bars:\n",
        "        height = bar.get_height()\n",
        "        ax.annotate(f'{height:.2f}',\n",
        "                    xy=(bar.get_x() + bar.get_width() / 2, height),\n",
        "                    xytext=(0, 3),  # offset\n",
        "                    textcoords=\"offset points\",\n",
        "                    ha='center', va='bottom', fontsize=8)\n",
        "\n",
        "# Add value labels\n",
        "add_labels(bars1)\n",
        "add_labels(bars2)\n",
        "add_labels(bars3)\n",
        "add_labels(bars4)\n",
        "\n",
        "# Labels and formatting\n",
        "ax.set_ylabel(\"Scores\")\n",
        "ax.set_title(\"Model Performance Comparison\")\n",
        "ax.set_xticks(x)\n",
        "ax.set_xticklabels(models)\n",
        "ax.legend()\n",
        "\n",
        "plt.ylim(0, 1.0)\n",
        "plt.tight_layout()\n",
        "plt.show()\n"
      ],
      "metadata": {
        "colab": {
          "base_uri": "https://localhost:8080/",
          "height": 606
        },
        "id": "vNqcy5JA1LEi",
        "outputId": "2eb58b20-02e9-43be-8342-3ec17e6b8b89"
      },
      "execution_count": 120,
      "outputs": [
        {
          "output_type": "display_data",
          "data": {
            "text/plain": [
              "<Figure size 1000x600 with 1 Axes>"
            ],
            "image/png": "[encoded data removed]"
          },
          "metadata": {}
        }
      ]
    },
    {
      "cell_type": "code",
      "source": [
        "import matplotlib.pyplot as plt\n",
        "import seaborn as sns\n",
        "\n",
        "# Model names\n",
        "models = [\"VADER\", \"TextBlob\", \"Naïve Bayes\", \"DistilBERT\"]\n",
        "\n",
        "# Accuracy values (converted to percentages)\n",
        "accuracies = [0.635, 0.600, 0.830, 0.713]\n",
        "accuracies_percent = [acc * 100 for acc in accuracies]\n",
        "\n",
        "plt.figure(figsize=(8,6))\n",
        "sns.barplot(x=models, y=accuracies_percent, palette=\"viridis\")\n",
        "\n",
        "\n",
        "for i, acc in enumerate(accuracies_percent):\n",
        "    plt.text(i, acc + 1, f\"{acc:.1f}%\", ha='center', fontsize=12, weight='bold')\n",
        "\n",
        "plt.ylim(0, 100)\n",
        "plt.ylabel(\"Accuracy (%)\")\n",
        "plt.title(\"Model Accuracy Comparison\")\n",
        "plt.show()\n"
      ],
      "metadata": {
        "colab": {
          "base_uri": "https://localhost:8080/",
          "height": 633
        },
        "id": "rn7r8PkH4tDm",
        "outputId": "1582ffcc-1686-4364-885f-8c4f3ca75a22"
      },
      "execution_count": 122,
      "outputs": [
        {
          "output_type": "stream",
          "name": "stderr",
          "text": [
            "/tmp/ipython-input-1667360672.py:13: FutureWarning: \n",
            "\n",
            "Passing `palette` without assigning `hue` is deprecated and will be removed in v0.14.0. Assign the `x` variable to `hue` and set `legend=False` for the same effect.\n",
            "\n",
            "  sns.barplot(x=models, y=accuracies_percent, palette=\"viridis\")\n"
          ]
        },
        {
          "output_type": "display_data",
          "data": {
            "text/plain": [
              "<Figure size 800x600 with 1 Axes>"
            ],
            "image/png": "[encoded data removed]"
          },
          "metadata": {}
        }
      ]
    },
    {
      "cell_type": "markdown",
      "source": [
        "## 9. Summary and Direction of the Researcher"
      ],
      "metadata": {
        "id": "XnZ8Ue_DX9Qv"
      }
    },
    {
      "cell_type": "markdown",
      "source": [
        "To further develop this activity, incorporating more advanced techniques like deep learning models or embeddings could enhance the model's understanding of context and semantics. Additionally, exploring domain-specific sentiment lexicons or training custom models on domain-specific datasets might improve performance in specialized areas.\n",
        "\n",
        "One relevant article supporting future directions \"Deep Learning for sentiment analysis\" by TIEN TRAN. (2022). https://www.kaggle.com/code/tientd95/deep-learning-for-sentiment-analysis/notebook The article delves into the advancements of deep learning in sentiment analysis, discussing techniques like **Fasttext, Glove embedding**. Implementing such deep learning architectures could potentially lead to more accurate sentiment predictions, especially in contexts where understanding intricate nuances is crucial.\n",
        "\n",
        "In summary, the sentiment analysis project's next steps involve integrating advanced models and exploring domain-specific adaptations. The referenced article highlights the growing role of deep learning in sentiment analysis, suggesting that incorporating these techniques could be a promising avenue for future developments in the field.\n"
      ],
      "metadata": {
        "id": "kJgIS6TLYnrL"
      }
    }
  ]
}