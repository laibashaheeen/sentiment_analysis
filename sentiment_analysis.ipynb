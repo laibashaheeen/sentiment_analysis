{
  "nbformat": 4,
  "nbformat_minor": 0,
  "metadata": {
    "colab": {
      "provenance": [],
      "authorship_tag": "ABX9TyOnaJTlxCiC8ve/1Ml2Q9M4",
      "include_colab_link": true
    },
    "kernelspec": {
      "name": "python3",
      "display_name": "Python 3"
    },
    "language_info": {
      "name": "python"
    },
    "widgets": {
      "application/vnd.jupyter.widget-state+json": {
        "b531673c31514d2da2621c739b5e0734": {
          "model_module": "@jupyter-widgets/controls",
          "model_name": "HBoxModel",
          "model_module_version": "1.5.0",
          "state": {
            "_dom_classes": [],
            "_model_module": "@jupyter-widgets/controls",
            "_model_module_version": "1.5.0",
            "_model_name": "HBoxModel",
            "_view_count": null,
            "_view_module": "@jupyter-widgets/controls",
            "_view_module_version": "1.5.0",
            "_view_name": "HBoxView",
            "box_style": "",
            "children": [
              "IPY_MODEL_868e04cea01d41c599c7946aa680f28c",
              "IPY_MODEL_fa531917d12d4cbba7d3f68ef89054c8",
              "IPY_MODEL_010c4caca4e04fc8bd0bf24fbd63615a"
            ],
            "layout": "IPY_MODEL_b38ee2def4ff47cc9622ef711fc58516"
          }
        },
        "868e04cea01d41c599c7946aa680f28c": {
          "model_module": "@jupyter-widgets/controls",
          "model_name": "HTMLModel",
          "model_module_version": "1.5.0",
          "state": {
            "_dom_classes": [],
            "_model_module": "@jupyter-widgets/controls",
            "_model_module_version": "1.5.0",
            "_model_name": "HTMLModel",
            "_view_count": null,
            "_view_module": "@jupyter-widgets/controls",
            "_view_module_version": "1.5.0",
            "_view_name": "HTMLView",
            "description": "",
            "description_tooltip": null,
            "layout": "IPY_MODEL_bcc8fe1f61c54f10aaace5e0a277c457",
            "placeholder": "​",
            "style": "IPY_MODEL_7dc9f7a78804464abe3e7d82efd01c66",
            "value": "100%"
          }
        },
        "fa531917d12d4cbba7d3f68ef89054c8": {
          "model_module": "@jupyter-widgets/controls",
          "model_name": "FloatProgressModel",
          "model_module_version": "1.5.0",
          "state": {
            "_dom_classes": [],
            "_model_module": "@jupyter-widgets/controls",
            "_model_module_version": "1.5.0",
            "_model_name": "FloatProgressModel",
            "_view_count": null,
            "_view_module": "@jupyter-widgets/controls",
            "_view_module_version": "1.5.0",
            "_view_name": "ProgressView",
            "bar_style": "success",
            "description": "",
            "description_tooltip": null,
            "layout": "IPY_MODEL_6591909b8eb04039b5c9be141d5e5ed5",
            "max": 2000,
            "min": 0,
            "orientation": "horizontal",
            "style": "IPY_MODEL_7b57a80dbc4a442aba25b88167c7794f",
            "value": 2000
          }
        },
        "010c4caca4e04fc8bd0bf24fbd63615a": {
          "model_module": "@jupyter-widgets/controls",
          "model_name": "HTMLModel",
          "model_module_version": "1.5.0",
          "state": {
            "_dom_classes": [],
            "_model_module": "@jupyter-widgets/controls",
            "_model_module_version": "1.5.0",
            "_model_name": "HTMLModel",
            "_view_count": null,
            "_view_module": "@jupyter-widgets/controls",
            "_view_module_version": "1.5.0",
            "_view_name": "HTMLView",
            "description": "",
            "description_tooltip": null,
            "layout": "IPY_MODEL_6bf36bb6ee5e40a7a229f1eb4d5b68d9",
            "placeholder": "​",
            "style": "IPY_MODEL_e6c045c1a93346548abe5f665fbc5f62",
            "value": " 2000/2000 [00:31&lt;00:00, 85.56it/s]"
          }
        },
        "b38ee2def4ff47cc9622ef711fc58516": {
          "model_module": "@jupyter-widgets/base",
          "model_name": "LayoutModel",
          "model_module_version": "1.2.0",
          "state": {
            "_model_module": "@jupyter-widgets/base",
            "_model_module_version": "1.2.0",
            "_model_name": "LayoutModel",
            "_view_count": null,
            "_view_module": "@jupyter-widgets/base",
            "_view_module_version": "1.2.0",
            "_view_name": "LayoutView",
            "align_content": null,
            "align_items": null,
            "align_self": null,
            "border": null,
            "bottom": null,
            "display": null,
            "flex": null,
            "flex_flow": null,
            "grid_area": null,
            "grid_auto_columns": null,
            "grid_auto_flow": null,
            "grid_auto_rows": null,
            "grid_column": null,
            "grid_gap": null,
            "grid_row": null,
            "grid_template_areas": null,
            "grid_template_columns": null,
            "grid_template_rows": null,
            "height": null,
            "justify_content": null,
            "justify_items": null,
            "left": null,
            "margin": null,
            "max_height": null,
            "max_width": null,
            "min_height": null,
            "min_width": null,
            "object_fit": null,
            "object_position": null,
            "order": null,
            "overflow": null,
            "overflow_x": null,
            "overflow_y": null,
            "padding": null,
            "right": null,
            "top": null,
            "visibility": null,
            "width": null
          }
        },
        "bcc8fe1f61c54f10aaace5e0a277c457": {
          "model_module": "@jupyter-widgets/base",
          "model_name": "LayoutModel",
          "model_module_version": "1.2.0",
          "state": {
            "_model_module": "@jupyter-widgets/base",
            "_model_module_version": "1.2.0",
            "_model_name": "LayoutModel",
            "_view_count": null,
            "_view_module": "@jupyter-widgets/base",
            "_view_module_version": "1.2.0",
            "_view_name": "LayoutView",
            "align_content": null,
            "align_items": null,
            "align_self": null,
            "border": null,
            "bottom": null,
            "display": null,
            "flex": null,
            "flex_flow": null,
            "grid_area": null,
            "grid_auto_columns": null,
            "grid_auto_flow": null,
            "grid_auto_rows": null,
            "grid_column": null,
            "grid_gap": null,
            "grid_row": null,
            "grid_template_areas": null,
            "grid_template_columns": null,
            "grid_template_rows": null,
            "height": null,
            "justify_content": null,
            "justify_items": null,
            "left": null,
            "margin": null,
            "max_height": null,
            "max_width": null,
            "min_height": null,
            "min_width": null,
            "object_fit": null,
            "object_position": null,
            "order": null,
            "overflow": null,
            "overflow_x": null,
            "overflow_y": null,
            "padding": null,
            "right": null,
            "top": null,
            "visibility": null,
            "width": null
          }
        },
        "7dc9f7a78804464abe3e7d82efd01c66": {
          "model_module": "@jupyter-widgets/controls",
          "model_name": "DescriptionStyleModel",
          "model_module_version": "1.5.0",
          "state": {
            "_model_module": "@jupyter-widgets/controls",
            "_model_module_version": "1.5.0",
            "_model_name": "DescriptionStyleModel",
            "_view_count": null,
            "_view_module": "@jupyter-widgets/base",
            "_view_module_version": "1.2.0",
            "_view_name": "StyleView",
            "description_width": ""
          }
        },
        "6591909b8eb04039b5c9be141d5e5ed5": {
          "model_module": "@jupyter-widgets/base",
          "model_name": "LayoutModel",
          "model_module_version": "1.2.0",
          "state": {
            "_model_module": "@jupyter-widgets/base",
            "_model_module_version": "1.2.0",
            "_model_name": "LayoutModel",
            "_view_count": null,
            "_view_module": "@jupyter-widgets/base",
            "_view_module_version": "1.2.0",
            "_view_name": "LayoutView",
            "align_content": null,
            "align_items": null,
            "align_self": null,
            "border": null,
            "bottom": null,
            "display": null,
            "flex": null,
            "flex_flow": null,
            "grid_area": null,
            "grid_auto_columns": null,
            "grid_auto_flow": null,
            "grid_auto_rows": null,
            "grid_column": null,
            "grid_gap": null,
            "grid_row": null,
            "grid_template_areas": null,
            "grid_template_columns": null,
            "grid_template_rows": null,
            "height": null,
            "justify_content": null,
            "justify_items": null,
            "left": null,
            "margin": null,
            "max_height": null,
            "max_width": null,
            "min_height": null,
            "min_width": null,
            "object_fit": null,
            "object_position": null,
            "order": null,
            "overflow": null,
            "overflow_x": null,
            "overflow_y": null,
            "padding": null,
            "right": null,
            "top": null,
            "visibility": null,
            "width": null
          }
        },
        "7b57a80dbc4a442aba25b88167c7794f": {
          "model_module": "@jupyter-widgets/controls",
          "model_name": "ProgressStyleModel",
          "model_module_version": "1.5.0",
          "state": {
            "_model_module": "@jupyter-widgets/controls",
            "_model_module_version": "1.5.0",
            "_model_name": "ProgressStyleModel",
            "_view_count": null,
            "_view_module": "@jupyter-widgets/base",
            "_view_module_version": "1.2.0",
            "_view_name": "StyleView",
            "bar_color": null,
            "description_width": ""
          }
        },
        "6bf36bb6ee5e40a7a229f1eb4d5b68d9": {
          "model_module": "@jupyter-widgets/base",
          "model_name": "LayoutModel",
          "model_module_version": "1.2.0",
          "state": {
            "_model_module": "@jupyter-widgets/base",
            "_model_module_version": "1.2.0",
            "_model_name": "LayoutModel",
            "_view_count": null,
            "_view_module": "@jupyter-widgets/base",
            "_view_module_version": "1.2.0",
            "_view_name": "LayoutView",
            "align_content": null,
            "align_items": null,
            "align_self": null,
            "border": null,
            "bottom": null,
            "display": null,
            "flex": null,
            "flex_flow": null,
            "grid_area": null,
            "grid_auto_columns": null,
            "grid_auto_flow": null,
            "grid_auto_rows": null,
            "grid_column": null,
            "grid_gap": null,
            "grid_row": null,
            "grid_template_areas": null,
            "grid_template_columns": null,
            "grid_template_rows": null,
            "height": null,
            "justify_content": null,
            "justify_items": null,
            "left": null,
            "margin": null,
            "max_height": null,
            "max_width": null,
            "min_height": null,
            "min_width": null,
            "object_fit": null,
            "object_position": null,
            "order": null,
            "overflow": null,
            "overflow_x": null,
            "overflow_y": null,
            "padding": null,
            "right": null,
            "top": null,
            "visibility": null,
            "width": null
          }
        },
        "e6c045c1a93346548abe5f665fbc5f62": {
          "model_module": "@jupyter-widgets/controls",
          "model_name": "DescriptionStyleModel",
          "model_module_version": "1.5.0",
          "state": {
            "_model_module": "@jupyter-widgets/controls",
            "_model_module_version": "1.5.0",
            "_model_name": "DescriptionStyleModel",
            "_view_count": null,
            "_view_module": "@jupyter-widgets/base",
            "_view_module_version": "1.2.0",
            "_view_name": "StyleView",
            "description_width": ""
          }
        },
        "d78f630b27b34b218de7d48ebe9a9710": {
          "model_module": "@jupyter-widgets/controls",
          "model_name": "HBoxModel",
          "model_module_version": "1.5.0",
          "state": {
            "_dom_classes": [],
            "_model_module": "@jupyter-widgets/controls",
            "_model_module_version": "1.5.0",
            "_model_name": "HBoxModel",
            "_view_count": null,
            "_view_module": "@jupyter-widgets/controls",
            "_view_module_version": "1.5.0",
            "_view_name": "HBoxView",
            "box_style": "",
            "children": [
              "IPY_MODEL_857b659ebdbb41d09178cef0a3a13789",
              "IPY_MODEL_8daf8f8c725644b6a94c9f939bc280a3",
              "IPY_MODEL_c0eec7163ff648829ef908ff3172f99b"
            ],
            "layout": "IPY_MODEL_cbce19ff4fd8416fba81a9897d8a5f52"
          }
        },
        "857b659ebdbb41d09178cef0a3a13789": {
          "model_module": "@jupyter-widgets/controls",
          "model_name": "HTMLModel",
          "model_module_version": "1.5.0",
          "state": {
            "_dom_classes": [],
            "_model_module": "@jupyter-widgets/controls",
            "_model_module_version": "1.5.0",
            "_model_name": "HTMLModel",
            "_view_count": null,
            "_view_module": "@jupyter-widgets/controls",
            "_view_module_version": "1.5.0",
            "_view_name": "HTMLView",
            "description": "",
            "description_tooltip": null,
            "layout": "IPY_MODEL_29ed5b9df0b244eeb995d026d750b5ca",
            "placeholder": "​",
            "style": "IPY_MODEL_dc8a2a67a47c42588d51652470d0c3ea",
            "value": "config.json: 100%"
          }
        },
        "8daf8f8c725644b6a94c9f939bc280a3": {
          "model_module": "@jupyter-widgets/controls",
          "model_name": "FloatProgressModel",
          "model_module_version": "1.5.0",
          "state": {
            "_dom_classes": [],
            "_model_module": "@jupyter-widgets/controls",
            "_model_module_version": "1.5.0",
            "_model_name": "FloatProgressModel",
            "_view_count": null,
            "_view_module": "@jupyter-widgets/controls",
            "_view_module_version": "1.5.0",
            "_view_name": "ProgressView",
            "bar_style": "success",
            "description": "",
            "description_tooltip": null,
            "layout": "IPY_MODEL_8433dd75fe5e443894950a8cb2e1350c",
            "max": 629,
            "min": 0,
            "orientation": "horizontal",
            "style": "IPY_MODEL_bc09654af2824b1ebb8d2324547a6707",
            "value": 629
          }
        },
        "c0eec7163ff648829ef908ff3172f99b": {
          "model_module": "@jupyter-widgets/controls",
          "model_name": "HTMLModel",
          "model_module_version": "1.5.0",
          "state": {
            "_dom_classes": [],
            "_model_module": "@jupyter-widgets/controls",
            "_model_module_version": "1.5.0",
            "_model_name": "HTMLModel",
            "_view_count": null,
            "_view_module": "@jupyter-widgets/controls",
            "_view_module_version": "1.5.0",
            "_view_name": "HTMLView",
            "description": "",
            "description_tooltip": null,
            "layout": "IPY_MODEL_53fc9f2a89034ba2853d179b0a95628a",
            "placeholder": "​",
            "style": "IPY_MODEL_15c6fedd1e974530aa4bda8c55c4c43d",
            "value": " 629/629 [00:00&lt;00:00, 40.4kB/s]"
          }
        },
        "cbce19ff4fd8416fba81a9897d8a5f52": {
          "model_module": "@jupyter-widgets/base",
          "model_name": "LayoutModel",
          "model_module_version": "1.2.0",
          "state": {
            "_model_module": "@jupyter-widgets/base",
            "_model_module_version": "1.2.0",
            "_model_name": "LayoutModel",
            "_view_count": null,
            "_view_module": "@jupyter-widgets/base",
            "_view_module_version": "1.2.0",
            "_view_name": "LayoutView",
            "align_content": null,
            "align_items": null,
            "align_self": null,
            "border": null,
            "bottom": null,
            "display": null,
            "flex": null,
            "flex_flow": null,
            "grid_area": null,
            "grid_auto_columns": null,
            "grid_auto_flow": null,
            "grid_auto_rows": null,
            "grid_column": null,
            "grid_gap": null,
            "grid_row": null,
            "grid_template_areas": null,
            "grid_template_columns": null,
            "grid_template_rows": null,
            "height": null,
            "justify_content": null,
            "justify_items": null,
            "left": null,
            "margin": null,
            "max_height": null,
            "max_width": null,
            "min_height": null,
            "min_width": null,
            "object_fit": null,
            "object_position": null,
            "order": null,
            "overflow": null,
            "overflow_x": null,
            "overflow_y": null,
            "padding": null,
            "right": null,
            "top": null,
            "visibility": null,
            "width": null
          }
        },
        "29ed5b9df0b244eeb995d026d750b5ca": {
          "model_module": "@jupyter-widgets/base",
          "model_name": "LayoutModel",
          "model_module_version": "1.2.0",
          "state": {
            "_model_module": "@jupyter-widgets/base",
            "_model_module_version": "1.2.0",
            "_model_name": "LayoutModel",
            "_view_count": null,
            "_view_module": "@jupyter-widgets/base",
            "_view_module_version": "1.2.0",
            "_view_name": "LayoutView",
            "align_content": null,
            "align_items": null,
            "align_self": null,
            "border": null,
            "bottom": null,
            "display": null,
            "flex": null,
            "flex_flow": null,
            "grid_area": null,
            "grid_auto_columns": null,
            "grid_auto_flow": null,
            "grid_auto_rows": null,
            "grid_column": null,
            "grid_gap": null,
            "grid_row": null,
            "grid_template_areas": null,
            "grid_template_columns": null,
            "grid_template_rows": null,
            "height": null,
            "justify_content": null,
            "justify_items": null,
            "left": null,
            "margin": null,
            "max_height": null,
            "max_width": null,
            "min_height": null,
            "min_width": null,
            "object_fit": null,
            "object_position": null,
            "order": null,
            "overflow": null,
            "overflow_x": null,
            "overflow_y": null,
            "padding": null,
            "right": null,
            "top": null,
            "visibility": null,
            "width": null
          }
        },
        "dc8a2a67a47c42588d51652470d0c3ea": {
          "model_module": "@jupyter-widgets/controls",
          "model_name": "DescriptionStyleModel",
          "model_module_version": "1.5.0",
          "state": {
            "_model_module": "@jupyter-widgets/controls",
            "_model_module_version": "1.5.0",
            "_model_name": "DescriptionStyleModel",
            "_view_count": null,
            "_view_module": "@jupyter-widgets/base",
            "_view_module_version": "1.2.0",
            "_view_name": "StyleView",
            "description_width": ""
          }
        },
        "8433dd75fe5e443894950a8cb2e1350c": {
          "model_module": "@jupyter-widgets/base",
          "model_name": "LayoutModel",
          "model_module_version": "1.2.0",
          "state": {
            "_model_module": "@jupyter-widgets/base",
            "_model_module_version": "1.2.0",
            "_model_name": "LayoutModel",
            "_view_count": null,
            "_view_module": "@jupyter-widgets/base",
            "_view_module_version": "1.2.0",
            "_view_name": "LayoutView",
            "align_content": null,
            "align_items": null,
            "align_self": null,
            "border": null,
            "bottom": null,
            "display": null,
            "flex": null,
            "flex_flow": null,
            "grid_area": null,
            "grid_auto_columns": null,
            "grid_auto_flow": null,
            "grid_auto_rows": null,
            "grid_column": null,
            "grid_gap": null,
            "grid_row": null,
            "grid_template_areas": null,
            "grid_template_columns": null,
            "grid_template_rows": null,
            "height": null,
            "justify_content": null,
            "justify_items": null,
            "left": null,
            "margin": null,
            "max_height": null,
            "max_width": null,
            "min_height": null,
            "min_width": null,
            "object_fit": null,
            "object_position": null,
            "order": null,
            "overflow": null,
            "overflow_x": null,
            "overflow_y": null,
            "padding": null,
            "right": null,
            "top": null,
            "visibility": null,
            "width": null
          }
        },
        "bc09654af2824b1ebb8d2324547a6707": {
          "model_module": "@jupyter-widgets/controls",
          "model_name": "ProgressStyleModel",
          "model_module_version": "1.5.0",
          "state": {
            "_model_module": "@jupyter-widgets/controls",
            "_model_module_version": "1.5.0",
            "_model_name": "ProgressStyleModel",
            "_view_count": null,
            "_view_module": "@jupyter-widgets/base",
            "_view_module_version": "1.2.0",
            "_view_name": "StyleView",
            "bar_color": null,
            "description_width": ""
          }
        },
        "53fc9f2a89034ba2853d179b0a95628a": {
          "model_module": "@jupyter-widgets/base",
          "model_name": "LayoutModel",
          "model_module_version": "1.2.0",
          "state": {
            "_model_module": "@jupyter-widgets/base",
            "_model_module_version": "1.2.0",
            "_model_name": "LayoutModel",
            "_view_count": null,
            "_view_module": "@jupyter-widgets/base",
            "_view_module_version": "1.2.0",
            "_view_name": "LayoutView",
            "align_content": null,
            "align_items": null,
            "align_self": null,
            "border": null,
            "bottom": null,
            "display": null,
            "flex": null,
            "flex_flow": null,
            "grid_area": null,
            "grid_auto_columns": null,
            "grid_auto_flow": null,
            "grid_auto_rows": null,
            "grid_column": null,
            "grid_gap": null,
            "grid_row": null,
            "grid_template_areas": null,
            "grid_template_columns": null,
            "grid_template_rows": null,
            "height": null,
            "justify_content": null,
            "justify_items": null,
            "left": null,
            "margin": null,
            "max_height": null,
            "max_width": null,
            "min_height": null,
            "min_width": null,
            "object_fit": null,
            "object_position": null,
            "order": null,
            "overflow": null,
            "overflow_x": null,
            "overflow_y": null,
            "padding": null,
            "right": null,
            "top": null,
            "visibility": null,
            "width": null
          }
        },
        "15c6fedd1e974530aa4bda8c55c4c43d": {
          "model_module": "@jupyter-widgets/controls",
          "model_name": "DescriptionStyleModel",
          "model_module_version": "1.5.0",
          "state": {
            "_model_module": "@jupyter-widgets/controls",
            "_model_module_version": "1.5.0",
            "_model_name": "DescriptionStyleModel",
            "_view_count": null,
            "_view_module": "@jupyter-widgets/base",
            "_view_module_version": "1.2.0",
            "_view_name": "StyleView",
            "description_width": ""
          }
        },
        "3b2a1a8c09b043a19a684c8c5faf035a": {
          "model_module": "@jupyter-widgets/controls",
          "model_name": "HBoxModel",
          "model_module_version": "1.5.0",
          "state": {
            "_dom_classes": [],
            "_model_module": "@jupyter-widgets/controls",
            "_model_module_version": "1.5.0",
            "_model_name": "HBoxModel",
            "_view_count": null,
            "_view_module": "@jupyter-widgets/controls",
            "_view_module_version": "1.5.0",
            "_view_name": "HBoxView",
            "box_style": "",
            "children": [
              "IPY_MODEL_93990e48bb5b4a8ebc21a591a6114c2c",
              "IPY_MODEL_588490f4261e422ab2991a0e868b806a",
              "IPY_MODEL_9c401d2c0af24d33b04dd89ad942168e"
            ],
            "layout": "IPY_MODEL_0c4fb51794b54e25b8b6878d2ffbe3aa"
          }
        },
        "93990e48bb5b4a8ebc21a591a6114c2c": {
          "model_module": "@jupyter-widgets/controls",
          "model_name": "HTMLModel",
          "model_module_version": "1.5.0",
          "state": {
            "_dom_classes": [],
            "_model_module": "@jupyter-widgets/controls",
            "_model_module_version": "1.5.0",
            "_model_name": "HTMLModel",
            "_view_count": null,
            "_view_module": "@jupyter-widgets/controls",
            "_view_module_version": "1.5.0",
            "_view_name": "HTMLView",
            "description": "",
            "description_tooltip": null,
            "layout": "IPY_MODEL_6c1e74b56031436cac80a9f59cf07410",
            "placeholder": "​",
            "style": "IPY_MODEL_49a34e76100944af9ebbc7e9d5ec2760",
            "value": "model.safetensors: 100%"
          }
        },
        "588490f4261e422ab2991a0e868b806a": {
          "model_module": "@jupyter-widgets/controls",
          "model_name": "FloatProgressModel",
          "model_module_version": "1.5.0",
          "state": {
            "_dom_classes": [],
            "_model_module": "@jupyter-widgets/controls",
            "_model_module_version": "1.5.0",
            "_model_name": "FloatProgressModel",
            "_view_count": null,
            "_view_module": "@jupyter-widgets/controls",
            "_view_module_version": "1.5.0",
            "_view_name": "ProgressView",
            "bar_style": "success",
            "description": "",
            "description_tooltip": null,
            "layout": "IPY_MODEL_6df6655f796f4d05957294547668cdcb",
            "max": 267832558,
            "min": 0,
            "orientation": "horizontal",
            "style": "IPY_MODEL_49bb47d4cb174fda8617e4499efa0791",
            "value": 267832558
          }
        },
        "9c401d2c0af24d33b04dd89ad942168e": {
          "model_module": "@jupyter-widgets/controls",
          "model_name": "HTMLModel",
          "model_module_version": "1.5.0",
          "state": {
            "_dom_classes": [],
            "_model_module": "@jupyter-widgets/controls",
            "_model_module_version": "1.5.0",
            "_model_name": "HTMLModel",
            "_view_count": null,
            "_view_module": "@jupyter-widgets/controls",
            "_view_module_version": "1.5.0",
            "_view_name": "HTMLView",
            "description": "",
            "description_tooltip": null,
            "layout": "IPY_MODEL_94616e21672f461082cb39ee57ad75d3",
            "placeholder": "​",
            "style": "IPY_MODEL_91ff010f6b0f41e1be1c9e0c1b6f7cdf",
            "value": " 268M/268M [00:01&lt;00:00, 157MB/s]"
          }
        },
        "0c4fb51794b54e25b8b6878d2ffbe3aa": {
          "model_module": "@jupyter-widgets/base",
          "model_name": "LayoutModel",
          "model_module_version": "1.2.0",
          "state": {
            "_model_module": "@jupyter-widgets/base",
            "_model_module_version": "1.2.0",
            "_model_name": "LayoutModel",
            "_view_count": null,
            "_view_module": "@jupyter-widgets/base",
            "_view_module_version": "1.2.0",
            "_view_name": "LayoutView",
            "align_content": null,
            "align_items": null,
            "align_self": null,
            "border": null,
            "bottom": null,
            "display": null,
            "flex": null,
            "flex_flow": null,
            "grid_area": null,
            "grid_auto_columns": null,
            "grid_auto_flow": null,
            "grid_auto_rows": null,
            "grid_column": null,
            "grid_gap": null,
            "grid_row": null,
            "grid_template_areas": null,
            "grid_template_columns": null,
            "grid_template_rows": null,
            "height": null,
            "justify_content": null,
            "justify_items": null,
            "left": null,
            "margin": null,
            "max_height": null,
            "max_width": null,
            "min_height": null,
            "min_width": null,
            "object_fit": null,
            "object_position": null,
            "order": null,
            "overflow": null,
            "overflow_x": null,
            "overflow_y": null,
            "padding": null,
            "right": null,
            "top": null,
            "visibility": null,
            "width": null
          }
        },
        "6c1e74b56031436cac80a9f59cf07410": {
          "model_module": "@jupyter-widgets/base",
          "model_name": "LayoutModel",
          "model_module_version": "1.2.0",
          "state": {
            "_model_module": "@jupyter-widgets/base",
            "_model_module_version": "1.2.0",
            "_model_name": "LayoutModel",
            "_view_count": null,
            "_view_module": "@jupyter-widgets/base",
            "_view_module_version": "1.2.0",
            "_view_name": "LayoutView",
            "align_content": null,
            "align_items": null,
            "align_self": null,
            "border": null,
            "bottom": null,
            "display": null,
            "flex": null,
            "flex_flow": null,
            "grid_area": null,
            "grid_auto_columns": null,
            "grid_auto_flow": null,
            "grid_auto_rows": null,
            "grid_column": null,
            "grid_gap": null,
            "grid_row": null,
            "grid_template_areas": null,
            "grid_template_columns": null,
            "grid_template_rows": null,
            "height": null,
            "justify_content": null,
            "justify_items": null,
            "left": null,
            "margin": null,
            "max_height": null,
            "max_width": null,
            "min_height": null,
            "min_width": null,
            "object_fit": null,
            "object_position": null,
            "order": null,
            "overflow": null,
            "overflow_x": null,
            "overflow_y": null,
            "padding": null,
            "right": null,
            "top": null,
            "visibility": null,
            "width": null
          }
        },
        "49a34e76100944af9ebbc7e9d5ec2760": {
          "model_module": "@jupyter-widgets/controls",
          "model_name": "DescriptionStyleModel",
          "model_module_version": "1.5.0",
          "state": {
            "_model_module": "@jupyter-widgets/controls",
            "_model_module_version": "1.5.0",
            "_model_name": "DescriptionStyleModel",
            "_view_count": null,
            "_view_module": "@jupyter-widgets/base",
            "_view_module_version": "1.2.0",
            "_view_name": "StyleView",
            "description_width": ""
          }
        },
        "6df6655f796f4d05957294547668cdcb": {
          "model_module": "@jupyter-widgets/base",
          "model_name": "LayoutModel",
          "model_module_version": "1.2.0",
          "state": {
            "_model_module": "@jupyter-widgets/base",
            "_model_module_version": "1.2.0",
            "_model_name": "LayoutModel",
            "_view_count": null,
            "_view_module": "@jupyter-widgets/base",
            "_view_module_version": "1.2.0",
            "_view_name": "LayoutView",
            "align_content": null,
            "align_items": null,
            "align_self": null,
            "border": null,
            "bottom": null,
            "display": null,
            "flex": null,
            "flex_flow": null,
            "grid_area": null,
            "grid_auto_columns": null,
            "grid_auto_flow": null,
            "grid_auto_rows": null,
            "grid_column": null,
            "grid_gap": null,
            "grid_row": null,
            "grid_template_areas": null,
            "grid_template_columns": null,
            "grid_template_rows": null,
            "height": null,
            "justify_content": null,
            "justify_items": null,
            "left": null,
            "margin": null,
            "max_height": null,
            "max_width": null,
            "min_height": null,
            "min_width": null,
            "object_fit": null,
            "object_position": null,
            "order": null,
            "overflow": null,
            "overflow_x": null,
            "overflow_y": null,
            "padding": null,
            "right": null,
            "top": null,
            "visibility": null,
            "width": null
          }
        },
        "49bb47d4cb174fda8617e4499efa0791": {
          "model_module": "@jupyter-widgets/controls",
          "model_name": "ProgressStyleModel",
          "model_module_version": "1.5.0",
          "state": {
            "_model_module": "@jupyter-widgets/controls",
            "_model_module_version": "1.5.0",
            "_model_name": "ProgressStyleModel",
            "_view_count": null,
            "_view_module": "@jupyter-widgets/base",
            "_view_module_version": "1.2.0",
            "_view_name": "StyleView",
            "bar_color": null,
            "description_width": ""
          }
        },
        "94616e21672f461082cb39ee57ad75d3": {
          "model_module": "@jupyter-widgets/base",
          "model_name": "LayoutModel",
          "model_module_version": "1.2.0",
          "state": {
            "_model_module": "@jupyter-widgets/base",
            "_model_module_version": "1.2.0",
            "_model_name": "LayoutModel",
            "_view_count": null,
            "_view_module": "@jupyter-widgets/base",
            "_view_module_version": "1.2.0",
            "_view_name": "LayoutView",
            "align_content": null,
            "align_items": null,
            "align_self": null,
            "border": null,
            "bottom": null,
            "display": null,
            "flex": null,
            "flex_flow": null,
            "grid_area": null,
            "grid_auto_columns": null,
            "grid_auto_flow": null,
            "grid_auto_rows": null,
            "grid_column": null,
            "grid_gap": null,
            "grid_row": null,
            "grid_template_areas": null,
            "grid_template_columns": null,
            "grid_template_rows": null,
            "height": null,
            "justify_content": null,
            "justify_items": null,
            "left": null,
            "margin": null,
            "max_height": null,
            "max_width": null,
            "min_height": null,
            "min_width": null,
            "object_fit": null,
            "object_position": null,
            "order": null,
            "overflow": null,
            "overflow_x": null,
            "overflow_y": null,
            "padding": null,
            "right": null,
            "top": null,
            "visibility": null,
            "width": null
          }
        },
        "91ff010f6b0f41e1be1c9e0c1b6f7cdf": {
          "model_module": "@jupyter-widgets/controls",
          "model_name": "DescriptionStyleModel",
          "model_module_version": "1.5.0",
          "state": {
            "_model_module": "@jupyter-widgets/controls",
            "_model_module_version": "1.5.0",
            "_model_name": "DescriptionStyleModel",
            "_view_count": null,
            "_view_module": "@jupyter-widgets/base",
            "_view_module_version": "1.2.0",
            "_view_name": "StyleView",
            "description_width": ""
          }
        },
        "443448551d314c87b8aabb1e1f1abf90": {
          "model_module": "@jupyter-widgets/controls",
          "model_name": "HBoxModel",
          "model_module_version": "1.5.0",
          "state": {
            "_dom_classes": [],
            "_model_module": "@jupyter-widgets/controls",
            "_model_module_version": "1.5.0",
            "_model_name": "HBoxModel",
            "_view_count": null,
            "_view_module": "@jupyter-widgets/controls",
            "_view_module_version": "1.5.0",
            "_view_name": "HBoxView",
            "box_style": "",
            "children": [
              "IPY_MODEL_a29985e449614f0baa5802821179d170",
              "IPY_MODEL_7a17b7a1160648f6abe5c40d4306b52d",
              "IPY_MODEL_940497c068e240a88d0a2cc494ebe999"
            ],
            "layout": "IPY_MODEL_ad755671bf5f4572ba2089ef2ec12f73"
          }
        },
        "a29985e449614f0baa5802821179d170": {
          "model_module": "@jupyter-widgets/controls",
          "model_name": "HTMLModel",
          "model_module_version": "1.5.0",
          "state": {
            "_dom_classes": [],
            "_model_module": "@jupyter-widgets/controls",
            "_model_module_version": "1.5.0",
            "_model_name": "HTMLModel",
            "_view_count": null,
            "_view_module": "@jupyter-widgets/controls",
            "_view_module_version": "1.5.0",
            "_view_name": "HTMLView",
            "description": "",
            "description_tooltip": null,
            "layout": "IPY_MODEL_aa55e89af5b24d51a325bbbc5a47adb0",
            "placeholder": "​",
            "style": "IPY_MODEL_21ec596433664ca1aaf82601f9dfe884",
            "value": "tokenizer_config.json: 100%"
          }
        },
        "7a17b7a1160648f6abe5c40d4306b52d": {
          "model_module": "@jupyter-widgets/controls",
          "model_name": "FloatProgressModel",
          "model_module_version": "1.5.0",
          "state": {
            "_dom_classes": [],
            "_model_module": "@jupyter-widgets/controls",
            "_model_module_version": "1.5.0",
            "_model_name": "FloatProgressModel",
            "_view_count": null,
            "_view_module": "@jupyter-widgets/controls",
            "_view_module_version": "1.5.0",
            "_view_name": "ProgressView",
            "bar_style": "success",
            "description": "",
            "description_tooltip": null,
            "layout": "IPY_MODEL_54d28c67564a45658496d3cc3b9e252f",
            "max": 48,
            "min": 0,
            "orientation": "horizontal",
            "style": "IPY_MODEL_27e2cc83345641be95c42e1c917bc209",
            "value": 48
          }
        },
        "940497c068e240a88d0a2cc494ebe999": {
          "model_module": "@jupyter-widgets/controls",
          "model_name": "HTMLModel",
          "model_module_version": "1.5.0",
          "state": {
            "_dom_classes": [],
            "_model_module": "@jupyter-widgets/controls",
            "_model_module_version": "1.5.0",
            "_model_name": "HTMLModel",
            "_view_count": null,
            "_view_module": "@jupyter-widgets/controls",
            "_view_module_version": "1.5.0",
            "_view_name": "HTMLView",
            "description": "",
            "description_tooltip": null,
            "layout": "IPY_MODEL_bfb6596b430d4a50b0010c9532172577",
            "placeholder": "​",
            "style": "IPY_MODEL_279486f7ac3f43548074b5c665f3a3fc",
            "value": " 48.0/48.0 [00:00&lt;00:00, 2.26kB/s]"
          }
        },
        "ad755671bf5f4572ba2089ef2ec12f73": {
          "model_module": "@jupyter-widgets/base",
          "model_name": "LayoutModel",
          "model_module_version": "1.2.0",
          "state": {
            "_model_module": "@jupyter-widgets/base",
            "_model_module_version": "1.2.0",
            "_model_name": "LayoutModel",
            "_view_count": null,
            "_view_module": "@jupyter-widgets/base",
            "_view_module_version": "1.2.0",
            "_view_name": "LayoutView",
            "align_content": null,
            "align_items": null,
            "align_self": null,
            "border": null,
            "bottom": null,
            "display": null,
            "flex": null,
            "flex_flow": null,
            "grid_area": null,
            "grid_auto_columns": null,
            "grid_auto_flow": null,
            "grid_auto_rows": null,
            "grid_column": null,
            "grid_gap": null,
            "grid_row": null,
            "grid_template_areas": null,
            "grid_template_columns": null,
            "grid_template_rows": null,
            "height": null,
            "justify_content": null,
            "justify_items": null,
            "left": null,
            "margin": null,
            "max_height": null,
            "max_width": null,
            "min_height": null,
            "min_width": null,
            "object_fit": null,
            "object_position": null,
            "order": null,
            "overflow": null,
            "overflow_x": null,
            "overflow_y": null,
            "padding": null,
            "right": null,
            "top": null,
            "visibility": null,
            "width": null
          }
        },
        "aa55e89af5b24d51a325bbbc5a47adb0": {
          "model_module": "@jupyter-widgets/base",
          "model_name": "LayoutModel",
          "model_module_version": "1.2.0",
          "state": {
            "_model_module": "@jupyter-widgets/base",
            "_model_module_version": "1.2.0",
            "_model_name": "LayoutModel",
            "_view_count": null,
            "_view_module": "@jupyter-widgets/base",
            "_view_module_version": "1.2.0",
            "_view_name": "LayoutView",
            "align_content": null,
            "align_items": null,
            "align_self": null,
            "border": null,
            "bottom": null,
            "display": null,
            "flex": null,
            "flex_flow": null,
            "grid_area": null,
            "grid_auto_columns": null,
            "grid_auto_flow": null,
            "grid_auto_rows": null,
            "grid_column": null,
            "grid_gap": null,
            "grid_row": null,
            "grid_template_areas": null,
            "grid_template_columns": null,
            "grid_template_rows": null,
            "height": null,
            "justify_content": null,
            "justify_items": null,
            "left": null,
            "margin": null,
            "max_height": null,
            "max_width": null,
            "min_height": null,
            "min_width": null,
            "object_fit": null,
            "object_position": null,
            "order": null,
            "overflow": null,
            "overflow_x": null,
            "overflow_y": null,
            "padding": null,
            "right": null,
            "top": null,
            "visibility": null,
            "width": null
          }
        },
        "21ec596433664ca1aaf82601f9dfe884": {
          "model_module": "@jupyter-widgets/controls",
          "model_name": "DescriptionStyleModel",
          "model_module_version": "1.5.0",
          "state": {
            "_model_module": "@jupyter-widgets/controls",
            "_model_module_version": "1.5.0",
            "_model_name": "DescriptionStyleModel",
            "_view_count": null,
            "_view_module": "@jupyter-widgets/base",
            "_view_module_version": "1.2.0",
            "_view_name": "StyleView",
            "description_width": ""
          }
        },
        "54d28c67564a45658496d3cc3b9e252f": {
          "model_module": "@jupyter-widgets/base",
          "model_name": "LayoutModel",
          "model_module_version": "1.2.0",
          "state": {
            "_model_module": "@jupyter-widgets/base",
            "_model_module_version": "1.2.0",
            "_model_name": "LayoutModel",
            "_view_count": null,
            "_view_module": "@jupyter-widgets/base",
            "_view_module_version": "1.2.0",
            "_view_name": "LayoutView",
            "align_content": null,
            "align_items": null,
            "align_self": null,
            "border": null,
            "bottom": null,
            "display": null,
            "flex": null,
            "flex_flow": null,
            "grid_area": null,
            "grid_auto_columns": null,
            "grid_auto_flow": null,
            "grid_auto_rows": null,
            "grid_column": null,
            "grid_gap": null,
            "grid_row": null,
            "grid_template_areas": null,
            "grid_template_columns": null,
            "grid_template_rows": null,
            "height": null,
            "justify_content": null,
            "justify_items": null,
            "left": null,
            "margin": null,
            "max_height": null,
            "max_width": null,
            "min_height": null,
            "min_width": null,
            "object_fit": null,
            "object_position": null,
            "order": null,
            "overflow": null,
            "overflow_x": null,
            "overflow_y": null,
            "padding": null,
            "right": null,
            "top": null,
            "visibility": null,
            "width": null
          }
        },
        "27e2cc83345641be95c42e1c917bc209": {
          "model_module": "@jupyter-widgets/controls",
          "model_name": "ProgressStyleModel",
          "model_module_version": "1.5.0",
          "state": {
            "_model_module": "@jupyter-widgets/controls",
            "_model_module_version": "1.5.0",
            "_model_name": "ProgressStyleModel",
            "_view_count": null,
            "_view_module": "@jupyter-widgets/base",
            "_view_module_version": "1.2.0",
            "_view_name": "StyleView",
            "bar_color": null,
            "description_width": ""
          }
        },
        "bfb6596b430d4a50b0010c9532172577": {
          "model_module": "@jupyter-widgets/base",
          "model_name": "LayoutModel",
          "model_module_version": "1.2.0",
          "state": {
            "_model_module": "@jupyter-widgets/base",
            "_model_module_version": "1.2.0",
            "_model_name": "LayoutModel",
            "_view_count": null,
            "_view_module": "@jupyter-widgets/base",
            "_view_module_version": "1.2.0",
            "_view_name": "LayoutView",
            "align_content": null,
            "align_items": null,
            "align_self": null,
            "border": null,
            "bottom": null,
            "display": null,
            "flex": null,
            "flex_flow": null,
            "grid_area": null,
            "grid_auto_columns": null,
            "grid_auto_flow": null,
            "grid_auto_rows": null,
            "grid_column": null,
            "grid_gap": null,
            "grid_row": null,
            "grid_template_areas": null,
            "grid_template_columns": null,
            "grid_template_rows": null,
            "height": null,
            "justify_content": null,
            "justify_items": null,
            "left": null,
            "margin": null,
            "max_height": null,
            "max_width": null,
            "min_height": null,
            "min_width": null,
            "object_fit": null,
            "object_position": null,
            "order": null,
            "overflow": null,
            "overflow_x": null,
            "overflow_y": null,
            "padding": null,
            "right": null,
            "top": null,
            "visibility": null,
            "width": null
          }
        },
        "279486f7ac3f43548074b5c665f3a3fc": {
          "model_module": "@jupyter-widgets/controls",
          "model_name": "DescriptionStyleModel",
          "model_module_version": "1.5.0",
          "state": {
            "_model_module": "@jupyter-widgets/controls",
            "_model_module_version": "1.5.0",
            "_model_name": "DescriptionStyleModel",
            "_view_count": null,
            "_view_module": "@jupyter-widgets/base",
            "_view_module_version": "1.2.0",
            "_view_name": "StyleView",
            "description_width": ""
          }
        },
        "7b3174afbbba4011aaab78302bfd4be8": {
          "model_module": "@jupyter-widgets/controls",
          "model_name": "HBoxModel",
          "model_module_version": "1.5.0",
          "state": {
            "_dom_classes": [],
            "_model_module": "@jupyter-widgets/controls",
            "_model_module_version": "1.5.0",
            "_model_name": "HBoxModel",
            "_view_count": null,
            "_view_module": "@jupyter-widgets/controls",
            "_view_module_version": "1.5.0",
            "_view_name": "HBoxView",
            "box_style": "",
            "children": [
              "IPY_MODEL_178948959f20467ca58f693f916020cb",
              "IPY_MODEL_b5f54d3ce24f4f618e6f4dae7d994704",
              "IPY_MODEL_a50e01e6e92e4785b3ef4817b9cddbf2"
            ],
            "layout": "IPY_MODEL_3c395fd4a19b4ce9b7ebcfbe5f104248"
          }
        },
        "178948959f20467ca58f693f916020cb": {
          "model_module": "@jupyter-widgets/controls",
          "model_name": "HTMLModel",
          "model_module_version": "1.5.0",
          "state": {
            "_dom_classes": [],
            "_model_module": "@jupyter-widgets/controls",
            "_model_module_version": "1.5.0",
            "_model_name": "HTMLModel",
            "_view_count": null,
            "_view_module": "@jupyter-widgets/controls",
            "_view_module_version": "1.5.0",
            "_view_name": "HTMLView",
            "description": "",
            "description_tooltip": null,
            "layout": "IPY_MODEL_fd8022a408a44135858b6ba510023634",
            "placeholder": "​",
            "style": "IPY_MODEL_59781a1001584cf397d91dd64cee7d61",
            "value": "vocab.txt: 100%"
          }
        },
        "b5f54d3ce24f4f618e6f4dae7d994704": {
          "model_module": "@jupyter-widgets/controls",
          "model_name": "FloatProgressModel",
          "model_module_version": "1.5.0",
          "state": {
            "_dom_classes": [],
            "_model_module": "@jupyter-widgets/controls",
            "_model_module_version": "1.5.0",
            "_model_name": "FloatProgressModel",
            "_view_count": null,
            "_view_module": "@jupyter-widgets/controls",
            "_view_module_version": "1.5.0",
            "_view_name": "ProgressView",
            "bar_style": "success",
            "description": "",
            "description_tooltip": null,
            "layout": "IPY_MODEL_07753877124f41b4bcbdc3d2439c1305",
            "max": 231508,
            "min": 0,
            "orientation": "horizontal",
            "style": "IPY_MODEL_fe0c3e43bd034aba82c2afc0991ce715",
            "value": 231508
          }
        },
        "a50e01e6e92e4785b3ef4817b9cddbf2": {
          "model_module": "@jupyter-widgets/controls",
          "model_name": "HTMLModel",
          "model_module_version": "1.5.0",
          "state": {
            "_dom_classes": [],
            "_model_module": "@jupyter-widgets/controls",
            "_model_module_version": "1.5.0",
            "_model_name": "HTMLModel",
            "_view_count": null,
            "_view_module": "@jupyter-widgets/controls",
            "_view_module_version": "1.5.0",
            "_view_name": "HTMLView",
            "description": "",
            "description_tooltip": null,
            "layout": "IPY_MODEL_5dfaac05778a46b6b2f326270ad293f1",
            "placeholder": "​",
            "style": "IPY_MODEL_d0d2a53338e642a88515816347e7d3fe",
            "value": " 232k/232k [00:00&lt;00:00, 4.60MB/s]"
          }
        },
        "3c395fd4a19b4ce9b7ebcfbe5f104248": {
          "model_module": "@jupyter-widgets/base",
          "model_name": "LayoutModel",
          "model_module_version": "1.2.0",
          "state": {
            "_model_module": "@jupyter-widgets/base",
            "_model_module_version": "1.2.0",
            "_model_name": "LayoutModel",
            "_view_count": null,
            "_view_module": "@jupyter-widgets/base",
            "_view_module_version": "1.2.0",
            "_view_name": "LayoutView",
            "align_content": null,
            "align_items": null,
            "align_self": null,
            "border": null,
            "bottom": null,
            "display": null,
            "flex": null,
            "flex_flow": null,
            "grid_area": null,
            "grid_auto_columns": null,
            "grid_auto_flow": null,
            "grid_auto_rows": null,
            "grid_column": null,
            "grid_gap": null,
            "grid_row": null,
            "grid_template_areas": null,
            "grid_template_columns": null,
            "grid_template_rows": null,
            "height": null,
            "justify_content": null,
            "justify_items": null,
            "left": null,
            "margin": null,
            "max_height": null,
            "max_width": null,
            "min_height": null,
            "min_width": null,
            "object_fit": null,
            "object_position": null,
            "order": null,
            "overflow": null,
            "overflow_x": null,
            "overflow_y": null,
            "padding": null,
            "right": null,
            "top": null,
            "visibility": null,
            "width": null
          }
        },
        "fd8022a408a44135858b6ba510023634": {
          "model_module": "@jupyter-widgets/base",
          "model_name": "LayoutModel",
          "model_module_version": "1.2.0",
          "state": {
            "_model_module": "@jupyter-widgets/base",
            "_model_module_version": "1.2.0",
            "_model_name": "LayoutModel",
            "_view_count": null,
            "_view_module": "@jupyter-widgets/base",
            "_view_module_version": "1.2.0",
            "_view_name": "LayoutView",
            "align_content": null,
            "align_items": null,
            "align_self": null,
            "border": null,
            "bottom": null,
            "display": null,
            "flex": null,
            "flex_flow": null,
            "grid_area": null,
            "grid_auto_columns": null,
            "grid_auto_flow": null,
            "grid_auto_rows": null,
            "grid_column": null,
            "grid_gap": null,
            "grid_row": null,
            "grid_template_areas": null,
            "grid_template_columns": null,
            "grid_template_rows": null,
            "height": null,
            "justify_content": null,
            "justify_items": null,
            "left": null,
            "margin": null,
            "max_height": null,
            "max_width": null,
            "min_height": null,
            "min_width": null,
            "object_fit": null,
            "object_position": null,
            "order": null,
            "overflow": null,
            "overflow_x": null,
            "overflow_y": null,
            "padding": null,
            "right": null,
            "top": null,
            "visibility": null,
            "width": null
          }
        },
        "59781a1001584cf397d91dd64cee7d61": {
          "model_module": "@jupyter-widgets/controls",
          "model_name": "DescriptionStyleModel",
          "model_module_version": "1.5.0",
          "state": {
            "_model_module": "@jupyter-widgets/controls",
            "_model_module_version": "1.5.0",
            "_model_name": "DescriptionStyleModel",
            "_view_count": null,
            "_view_module": "@jupyter-widgets/base",
            "_view_module_version": "1.2.0",
            "_view_name": "StyleView",
            "description_width": ""
          }
        },
        "07753877124f41b4bcbdc3d2439c1305": {
          "model_module": "@jupyter-widgets/base",
          "model_name": "LayoutModel",
          "model_module_version": "1.2.0",
          "state": {
            "_model_module": "@jupyter-widgets/base",
            "_model_module_version": "1.2.0",
            "_model_name": "LayoutModel",
            "_view_count": null,
            "_view_module": "@jupyter-widgets/base",
            "_view_module_version": "1.2.0",
            "_view_name": "LayoutView",
            "align_content": null,
            "align_items": null,
            "align_self": null,
            "border": null,
            "bottom": null,
            "display": null,
            "flex": null,
            "flex_flow": null,
            "grid_area": null,
            "grid_auto_columns": null,
            "grid_auto_flow": null,
            "grid_auto_rows": null,
            "grid_column": null,
            "grid_gap": null,
            "grid_row": null,
            "grid_template_areas": null,
            "grid_template_columns": null,
            "grid_template_rows": null,
            "height": null,
            "justify_content": null,
            "justify_items": null,
            "left": null,
            "margin": null,
            "max_height": null,
            "max_width": null,
            "min_height": null,
            "min_width": null,
            "object_fit": null,
            "object_position": null,
            "order": null,
            "overflow": null,
            "overflow_x": null,
            "overflow_y": null,
            "padding": null,
            "right": null,
            "top": null,
            "visibility": null,
            "width": null
          }
        },
        "fe0c3e43bd034aba82c2afc0991ce715": {
          "model_module": "@jupyter-widgets/controls",
          "model_name": "ProgressStyleModel",
          "model_module_version": "1.5.0",
          "state": {
            "_model_module": "@jupyter-widgets/controls",
            "_model_module_version": "1.5.0",
            "_model_name": "ProgressStyleModel",
            "_view_count": null,
            "_view_module": "@jupyter-widgets/base",
            "_view_module_version": "1.2.0",
            "_view_name": "StyleView",
            "bar_color": null,
            "description_width": ""
          }
        },
        "5dfaac05778a46b6b2f326270ad293f1": {
          "model_module": "@jupyter-widgets/base",
          "model_name": "LayoutModel",
          "model_module_version": "1.2.0",
          "state": {
            "_model_module": "@jupyter-widgets/base",
            "_model_module_version": "1.2.0",
            "_model_name": "LayoutModel",
            "_view_count": null,
            "_view_module": "@jupyter-widgets/base",
            "_view_module_version": "1.2.0",
            "_view_name": "LayoutView",
            "align_content": null,
            "align_items": null,
            "align_self": null,
            "border": null,
            "bottom": null,
            "display": null,
            "flex": null,
            "flex_flow": null,
            "grid_area": null,
            "grid_auto_columns": null,
            "grid_auto_flow": null,
            "grid_auto_rows": null,
            "grid_column": null,
            "grid_gap": null,
            "grid_row": null,
            "grid_template_areas": null,
            "grid_template_columns": null,
            "grid_template_rows": null,
            "height": null,
            "justify_content": null,
            "justify_items": null,
            "left": null,
            "margin": null,
            "max_height": null,
            "max_width": null,
            "min_height": null,
            "min_width": null,
            "object_fit": null,
            "object_position": null,
            "order": null,
            "overflow": null,
            "overflow_x": null,
            "overflow_y": null,
            "padding": null,
            "right": null,
            "top": null,
            "visibility": null,
            "width": null
          }
        },
        "d0d2a53338e642a88515816347e7d3fe": {
          "model_module": "@jupyter-widgets/controls",
          "model_name": "DescriptionStyleModel",
          "model_module_version": "1.5.0",
          "state": {
            "_model_module": "@jupyter-widgets/controls",
            "_model_module_version": "1.5.0",
            "_model_name": "DescriptionStyleModel",
            "_view_count": null,
            "_view_module": "@jupyter-widgets/base",
            "_view_module_version": "1.2.0",
            "_view_name": "StyleView",
            "description_width": ""
          }
        }
      }
    }
  },
  "cells": [
    {
      "cell_type": "markdown",
      "metadata": {
        "id": "view-in-github",
        "colab_type": "text"
      },
      "source": [
        "<a href=\"https://colab.research.google.com/github/laibashaheeen/sentiment_analysis/blob/main/sentiment_analysis.ipynb\" target=\"_parent\"><img src=\"https://colab.research.google.com/assets/colab-badge.svg\" alt=\"Open In Colab\"/></a>"
      ]
    },
    {
      "cell_type": "markdown",
      "source": [
        "# **Movie Reviews**"
      ],
      "metadata": {
        "id": "gmGTjI7EJLF1"
      }
    },
    {
      "cell_type": "markdown",
      "source": [
        "## Sentiment Analysis in Python"
      ],
      "metadata": {
        "id": "0tqyaPsPJfbA"
      }
    },
    {
      "cell_type": "markdown",
      "source": [
        "### 1. Definition of the Problem"
      ],
      "metadata": {
        "id": "OcRg_HA3MHAf"
      }
    },
    {
      "cell_type": "markdown",
      "source": [
        "\n",
        "The problem addressed through sentiment analysis on movie reviews dataset is the need to discern audience opinions—whether positive, negative, or neutral—about films. Understanding user sentiments in the movie industry is crucial for filmmakers, studios, and distributors. It provides valuable insights into audience preferences, guides marketing strategies, aids in content improvement, and influences box office success. By comprehending sentiments, stakeholders can enhance audience engagement, refine storytelling elements, and make data-driven decisions that ultimately contribute to the overall success and reception of movies in the highly competitive entertainment landscape."
      ],
      "metadata": {
        "id": "8OhviuHXNKNT"
      }
    },
    {
      "cell_type": "markdown",
      "source": [
        "### 2. Dataset"
      ],
      "metadata": {
        "id": "TleOTko7K5iK"
      }
    },
    {
      "cell_type": "markdown",
      "source": [
        "NLTK offers access to the Movie Reviews Corpus, a small dataset included in the toolkit for educational purposes. This corpus consists of 2,000 movie reviews categorized into positive and negative sentiments.The data was collected in a CSV format, with each row representing a different review and each column representing a features."
      ],
      "metadata": {
        "id": "s65x0aKOQ1SC"
      }
    },
    {
      "cell_type": "code",
      "execution_count": null,
      "metadata": {
        "id": "RCoPrWsjJHJX"
      },
      "outputs": [],
      "source": [
        "import pandas as pd\n",
        "import numpy as np\n",
        "import matplotlib.pyplot as plt\n",
        "import seaborn as sns\n",
        "\n",
        "plt.style.use('ggplot')\n",
        "\n",
        "import nltk"
      ]
    },
    {
      "cell_type": "code",
      "source": [
        "import csv\n",
        "from nltk.corpus import movie_reviews"
      ],
      "metadata": {
        "id": "tRFZqkqbKD_v"
      },
      "execution_count": null,
      "outputs": []
    },
    {
      "cell_type": "code",
      "source": [
        "nltk.download('movie_reviews')"
      ],
      "metadata": {
        "colab": {
          "base_uri": "https://localhost:8080/"
        },
        "id": "B2aZGePML2ZX",
        "outputId": "fb063fb4-3cf5-4296-fa78-01a3e2bb29e5"
      },
      "execution_count": null,
      "outputs": [
        {
          "output_type": "stream",
          "name": "stderr",
          "text": [
            "[nltk_data] Downloading package movie_reviews to /root/nltk_data...\n",
            "[nltk_data]   Unzipping corpora/movie_reviews.zip.\n"
          ]
        },
        {
          "output_type": "execute_result",
          "data": {
            "text/plain": [
              "True"
            ]
          },
          "metadata": {},
          "execution_count": 3
        }
      ]
    },
    {
      "cell_type": "code",
      "source": [
        "data = []"
      ],
      "metadata": {
        "id": "VkbAuCDdL5RK"
      },
      "execution_count": null,
      "outputs": []
    },
    {
      "cell_type": "code",
      "source": [
        "movie_reviews = nltk.corpus.movie_reviews"
      ],
      "metadata": {
        "id": "yDYe5h8SL8sa"
      },
      "execution_count": null,
      "outputs": []
    },
    {
      "cell_type": "code",
      "source": [
        "\n",
        "# Load positive and negative reviews\n",
        "positive_reviews = [(movie_reviews.raw(fileid), 'positive') for fileid in movie_reviews.fileids('pos')]\n",
        "negative_reviews = [(movie_reviews.raw(fileid), 'negative') for fileid in movie_reviews.fileids('neg')]\n",
        "\n",
        "# Combine positive and negative reviews\n",
        "all_reviews = positive_reviews + negative_reviews\n",
        "\n",
        "# Shuffle the reviews (optional)\n",
        "import random\n",
        "random.shuffle(all_reviews)\n",
        "\n",
        "# Define the CSV file name\n",
        "csv_file_name = 'movie_reviews_dataset.csv'\n",
        "\n",
        "# Write reviews to a CSV file\n",
        "with open(csv_file_name, 'w', newline='', encoding='utf-8') as csvfile:\n",
        "    fieldnames = ['review', 'sentiment']\n",
        "    writer = csv.DictWriter(csvfile, fieldnames=fieldnames)\n",
        "\n",
        "    # Write header\n",
        "    writer.writeheader()\n",
        "\n",
        "    # Write reviews\n",
        "    for review, sentiment in all_reviews:\n",
        "        writer.writerow({'review': review, 'sentiment': sentiment})\n",
        "\n",
        "print(f\"CSV file '{csv_file_name}' has been created.\")\n"
      ],
      "metadata": {
        "colab": {
          "base_uri": "https://localhost:8080/"
        },
        "id": "bhhqQsIv8msV",
        "outputId": "344c3ae3-a295-4b88-ad2c-0988404eca90"
      },
      "execution_count": null,
      "outputs": [
        {
          "output_type": "stream",
          "name": "stdout",
          "text": [
            "CSV file 'movie_reviews_dataset.csv' has been created.\n"
          ]
        }
      ]
    },
    {
      "cell_type": "code",
      "source": [
        "df = pd.read_csv('movie_reviews_dataset.csv')\n",
        "print(df.shape)"
      ],
      "metadata": {
        "colab": {
          "base_uri": "https://localhost:8080/"
        },
        "id": "HJzj8nqNjv8c",
        "outputId": "c167c583-7c2f-4521-bdbd-3d8dcdb59c3d"
      },
      "execution_count": null,
      "outputs": [
        {
          "output_type": "stream",
          "name": "stdout",
          "text": [
            "(2000, 2)\n"
          ]
        }
      ]
    },
    {
      "cell_type": "code",
      "source": [
        "df.head()"
      ],
      "metadata": {
        "colab": {
          "base_uri": "https://localhost:8080/",
          "height": 206
        },
        "id": "MZecYv6dj6O6",
        "outputId": "33527ffd-862f-479f-e712-11b46c8243c5"
      },
      "execution_count": null,
      "outputs": [
        {
          "output_type": "execute_result",
          "data": {
            "text/plain": [
              "                                              review sentiment\n",
              "0  what happens when you put martin lawrence in a...  negative\n",
              "1   \" desperate measures \" is a generic title for...  negative\n",
              "2  synopsis : it's 1977 in a small italian americ...  positive\n",
              "3  seen may 19 , 1999 at 5 p . m . at the crossga...  positive\n",
              "4  no , it is not a bad film , in fact it is so g...  positive"
            ],
            "text/html": [
              "\n",
              "  <div id=\"df-7bc4d6d2-900d-490e-ba56-8e3f48568aca\" class=\"colab-df-container\">\n",
              "    <div>\n",
              "<style scoped>\n",
              "    .dataframe tbody tr th:only-of-type {\n",
              "        vertical-align: middle;\n",
              "    }\n",
              "\n",
              "    .dataframe tbody tr th {\n",
              "        vertical-align: top;\n",
              "    }\n",
              "\n",
              "    .dataframe thead th {\n",
              "        text-align: right;\n",
              "    }\n",
              "</style>\n",
              "<table border=\"1\" class=\"dataframe\">\n",
              "  <thead>\n",
              "    <tr style=\"text-align: right;\">\n",
              "      <th></th>\n",
              "      <th>review</th>\n",
              "      <th>sentiment</th>\n",
              "    </tr>\n",
              "  </thead>\n",
              "  <tbody>\n",
              "    <tr>\n",
              "      <th>0</th>\n",
              "      <td>what happens when you put martin lawrence in a...</td>\n",
              "      <td>negative</td>\n",
              "    </tr>\n",
              "    <tr>\n",
              "      <th>1</th>\n",
              "      <td>\" desperate measures \" is a generic title for...</td>\n",
              "      <td>negative</td>\n",
              "    </tr>\n",
              "    <tr>\n",
              "      <th>2</th>\n",
              "      <td>synopsis : it's 1977 in a small italian americ...</td>\n",
              "      <td>positive</td>\n",
              "    </tr>\n",
              "    <tr>\n",
              "      <th>3</th>\n",
              "      <td>seen may 19 , 1999 at 5 p . m . at the crossga...</td>\n",
              "      <td>positive</td>\n",
              "    </tr>\n",
              "    <tr>\n",
              "      <th>4</th>\n",
              "      <td>no , it is not a bad film , in fact it is so g...</td>\n",
              "      <td>positive</td>\n",
              "    </tr>\n",
              "  </tbody>\n",
              "</table>\n",
              "</div>\n",
              "    <div class=\"colab-df-buttons\">\n",
              "\n",
              "  <div class=\"colab-df-container\">\n",
              "    <button class=\"colab-df-convert\" onclick=\"convertToInteractive('df-7bc4d6d2-900d-490e-ba56-8e3f48568aca')\"\n",
              "            title=\"Convert this dataframe to an interactive table.\"\n",
              "            style=\"display:none;\">\n",
              "\n",
              "  <svg xmlns=\"http://www.w3.org/2000/svg\" height=\"24px\" viewBox=\"0 -960 960 960\">\n",
              "    <path d=\"M120-120v-720h720v720H120Zm60-500h600v-160H180v160Zm220 220h160v-160H400v160Zm0 220h160v-160H400v160ZM180-400h160v-160H180v160Zm440 0h160v-160H620v160ZM180-180h160v-160H180v160Zm440 0h160v-160H620v160Z\"/>\n",
              "  </svg>\n",
              "    </button>\n",
              "\n",
              "  <style>\n",
              "    .colab-df-container {\n",
              "      display:flex;\n",
              "      gap: 12px;\n",
              "    }\n",
              "\n",
              "    .colab-df-convert {\n",
              "      background-color: #E8F0FE;\n",
              "      border: none;\n",
              "      border-radius: 50%;\n",
              "      cursor: pointer;\n",
              "      display: none;\n",
              "      fill: #1967D2;\n",
              "      height: 32px;\n",
              "      padding: 0 0 0 0;\n",
              "      width: 32px;\n",
              "    }\n",
              "\n",
              "    .colab-df-convert:hover {\n",
              "      background-color: #E2EBFA;\n",
              "      box-shadow: 0px 1px 2px rgba(60, 64, 67, 0.3), 0px 1px 3px 1px rgba(60, 64, 67, 0.15);\n",
              "      fill: #174EA6;\n",
              "    }\n",
              "\n",
              "    .colab-df-buttons div {\n",
              "      margin-bottom: 4px;\n",
              "    }\n",
              "\n",
              "    [theme=dark] .colab-df-convert {\n",
              "      background-color: #3B4455;\n",
              "      fill: #D2E3FC;\n",
              "    }\n",
              "\n",
              "    [theme=dark] .colab-df-convert:hover {\n",
              "      background-color: #434B5C;\n",
              "      box-shadow: 0px 1px 3px 1px rgba(0, 0, 0, 0.15);\n",
              "      filter: drop-shadow(0px 1px 2px rgba(0, 0, 0, 0.3));\n",
              "      fill: #FFFFFF;\n",
              "    }\n",
              "  </style>\n",
              "\n",
              "    <script>\n",
              "      const buttonEl =\n",
              "        document.querySelector('#df-7bc4d6d2-900d-490e-ba56-8e3f48568aca button.colab-df-convert');\n",
              "      buttonEl.style.display =\n",
              "        google.colab.kernel.accessAllowed ? 'block' : 'none';\n",
              "\n",
              "      async function convertToInteractive(key) {\n",
              "        const element = document.querySelector('#df-7bc4d6d2-900d-490e-ba56-8e3f48568aca');\n",
              "        const dataTable =\n",
              "          await google.colab.kernel.invokeFunction('convertToInteractive',\n",
              "                                                    [key], {});\n",
              "        if (!dataTable) return;\n",
              "\n",
              "        const docLinkHtml = 'Like what you see? Visit the ' +\n",
              "          '<a target=\"_blank\" href=https://colab.research.google.com/notebooks/data_table.ipynb>data table notebook</a>'\n",
              "          + ' to learn more about interactive tables.';\n",
              "        element.innerHTML = '';\n",
              "        dataTable['output_type'] = 'display_data';\n",
              "        await google.colab.output.renderOutput(dataTable, element);\n",
              "        const docLink = document.createElement('div');\n",
              "        docLink.innerHTML = docLinkHtml;\n",
              "        element.appendChild(docLink);\n",
              "      }\n",
              "    </script>\n",
              "  </div>\n",
              "\n",
              "\n",
              "<div id=\"df-8d1d11d2-14bd-4003-9955-96bd0eda23e8\">\n",
              "  <button class=\"colab-df-quickchart\" onclick=\"quickchart('df-8d1d11d2-14bd-4003-9955-96bd0eda23e8')\"\n",
              "            title=\"Suggest charts\"\n",
              "            style=\"display:none;\">\n",
              "\n",
              "<svg xmlns=\"http://www.w3.org/2000/svg\" height=\"24px\"viewBox=\"0 0 24 24\"\n",
              "     width=\"24px\">\n",
              "    <g>\n",
              "        <path d=\"M19 3H5c-1.1 0-2 .9-2 2v14c0 1.1.9 2 2 2h14c1.1 0 2-.9 2-2V5c0-1.1-.9-2-2-2zM9 17H7v-7h2v7zm4 0h-2V7h2v10zm4 0h-2v-4h2v4z\"/>\n",
              "    </g>\n",
              "</svg>\n",
              "  </button>\n",
              "\n",
              "<style>\n",
              "  .colab-df-quickchart {\n",
              "      --bg-color: #E8F0FE;\n",
              "      --fill-color: #1967D2;\n",
              "      --hover-bg-color: #E2EBFA;\n",
              "      --hover-fill-color: #174EA6;\n",
              "      --disabled-fill-color: #AAA;\n",
              "      --disabled-bg-color: #DDD;\n",
              "  }\n",
              "\n",
              "  [theme=dark] .colab-df-quickchart {\n",
              "      --bg-color: #3B4455;\n",
              "      --fill-color: #D2E3FC;\n",
              "      --hover-bg-color: #434B5C;\n",
              "      --hover-fill-color: #FFFFFF;\n",
              "      --disabled-bg-color: #3B4455;\n",
              "      --disabled-fill-color: #666;\n",
              "  }\n",
              "\n",
              "  .colab-df-quickchart {\n",
              "    background-color: var(--bg-color);\n",
              "    border: none;\n",
              "    border-radius: 50%;\n",
              "    cursor: pointer;\n",
              "    display: none;\n",
              "    fill: var(--fill-color);\n",
              "    height: 32px;\n",
              "    padding: 0;\n",
              "    width: 32px;\n",
              "  }\n",
              "\n",
              "  .colab-df-quickchart:hover {\n",
              "    background-color: var(--hover-bg-color);\n",
              "    box-shadow: 0 1px 2px rgba(60, 64, 67, 0.3), 0 1px 3px 1px rgba(60, 64, 67, 0.15);\n",
              "    fill: var(--button-hover-fill-color);\n",
              "  }\n",
              "\n",
              "  .colab-df-quickchart-complete:disabled,\n",
              "  .colab-df-quickchart-complete:disabled:hover {\n",
              "    background-color: var(--disabled-bg-color);\n",
              "    fill: var(--disabled-fill-color);\n",
              "    box-shadow: none;\n",
              "  }\n",
              "\n",
              "  .colab-df-spinner {\n",
              "    border: 2px solid var(--fill-color);\n",
              "    border-color: transparent;\n",
              "    border-bottom-color: var(--fill-color);\n",
              "    animation:\n",
              "      spin 1s steps(1) infinite;\n",
              "  }\n",
              "\n",
              "  @keyframes spin {\n",
              "    0% {\n",
              "      border-color: transparent;\n",
              "      border-bottom-color: var(--fill-color);\n",
              "      border-left-color: var(--fill-color);\n",
              "    }\n",
              "    20% {\n",
              "      border-color: transparent;\n",
              "      border-left-color: var(--fill-color);\n",
              "      border-top-color: var(--fill-color);\n",
              "    }\n",
              "    30% {\n",
              "      border-color: transparent;\n",
              "      border-left-color: var(--fill-color);\n",
              "      border-top-color: var(--fill-color);\n",
              "      border-right-color: var(--fill-color);\n",
              "    }\n",
              "    40% {\n",
              "      border-color: transparent;\n",
              "      border-right-color: var(--fill-color);\n",
              "      border-top-color: var(--fill-color);\n",
              "    }\n",
              "    60% {\n",
              "      border-color: transparent;\n",
              "      border-right-color: var(--fill-color);\n",
              "    }\n",
              "    80% {\n",
              "      border-color: transparent;\n",
              "      border-right-color: var(--fill-color);\n",
              "      border-bottom-color: var(--fill-color);\n",
              "    }\n",
              "    90% {\n",
              "      border-color: transparent;\n",
              "      border-bottom-color: var(--fill-color);\n",
              "    }\n",
              "  }\n",
              "</style>\n",
              "\n",
              "  <script>\n",
              "    async function quickchart(key) {\n",
              "      const quickchartButtonEl =\n",
              "        document.querySelector('#' + key + ' button');\n",
              "      quickchartButtonEl.disabled = true;  // To prevent multiple clicks.\n",
              "      quickchartButtonEl.classList.add('colab-df-spinner');\n",
              "      try {\n",
              "        const charts = await google.colab.kernel.invokeFunction(\n",
              "            'suggestCharts', [key], {});\n",
              "      } catch (error) {\n",
              "        console.error('Error during call to suggestCharts:', error);\n",
              "      }\n",
              "      quickchartButtonEl.classList.remove('colab-df-spinner');\n",
              "      quickchartButtonEl.classList.add('colab-df-quickchart-complete');\n",
              "    }\n",
              "    (() => {\n",
              "      let quickchartButtonEl =\n",
              "        document.querySelector('#df-8d1d11d2-14bd-4003-9955-96bd0eda23e8 button');\n",
              "      quickchartButtonEl.style.display =\n",
              "        google.colab.kernel.accessAllowed ? 'block' : 'none';\n",
              "    })();\n",
              "  </script>\n",
              "</div>\n",
              "\n",
              "    </div>\n",
              "  </div>\n"
            ],
            "application/vnd.google.colaboratory.intrinsic+json": {
              "type": "dataframe",
              "variable_name": "df",
              "summary": "{\n  \"name\": \"df\",\n  \"rows\": 2000,\n  \"fields\": [\n    {\n      \"column\": \"review\",\n      \"properties\": {\n        \"dtype\": \"string\",\n        \"num_unique_values\": 2000,\n        \"samples\": [\n          \"when the mediums in question are video game and feature film , has there ever been a respective here-to-there transformation that achieved any ground higher than noodle-headed mediocrity ? \\n \\\" super mario bros . , \\\" \\\" street fighter \\\" and \\\" mortal kombat \\\" were silly stinkers all , and now the empty , execrable \\\" wing commander \\\" joins their lowly ranks . \\nenduring this spectacularly bad bit of sci-fi , easily the worst of its kind , is like watching someone futz around with a video game for 100 minutes - that is to say , there's little fun to be had when you're not the one holding the joystick . \\nthe movie , then , is a missed opportunity for director chris roberts , who created the original , groundbreaking pc incarnation of \\\" wing commander \\\" back in 1990 . \\nhow an interactive brainchild so revered could end up such a cinematic pile of junk under the helm of the same guy is a head-scratcher . \\n \\\" wing commander \\\" 's story , credited to roberts and screenwriter kevin droney , is clueless chaos melding incoherent narrative and unoriginal ideas . \\nit rips off the finest films of its genre , top gun and , in one scene , even those spiffy \\\" stereoscopic freeze \\\" gap commercials . \\nset in 2654 , \\\" wing commander \\\" stars freddie prinze jr . as a daredevil cosmos cowboy who hopes to be a great fighter pilot like his father before him . \\nalong the way , he plays kissy-face with his stoic superior ( saffron burrows ) at the new galaxy hangout where he's posted , comes to terms with bigots who resent him for his \\\" pilgrim \\\" heritage ( don't ask ) , and goes on a top-secret mission involving the \\\" jump coordinates \\\" ( what , no death star plans ? ) of a nasty alien race known as the kilrathi . \\nor something like that . \\ngiven the immensely confusing activity , it's hard to tell . \\non the other hand , what's easy to see is that \\\" wing commander \\\" is a big old mess . \\nthe lame dialogue strains , filled with such original lines as \\\" don't you die on me ! \\\" , \\n \\\" battle stations ! \\\" \\nand repeated ( and frequently unanswered ) calls for a \\\" medic ! \\\" \\naction sequences fizzle . \\nthe character conflict garners unintentional giggles . \\nthe sole source of suspense here is what these kilrathi creeps look like , as they're kept out of view until the concluding 15 minutes . \\nimagine bearded siamese cats crossed with something from a ? 50s roger corman cheapie and you've got a good idea . \\nlittle but techno-babble happens for an hour , and then it's as if \\\" wing commander \\\" tries to do too much at once ; when it appears as though the movie's about to show signs of a pulse , it instead provides a hilarious touch of human drama culminating with a use for a bulldozer that has probably never been seen in this kind of space camp before . \\nmatthew lillard , featured prominently in said sequence , is cast as prinze's hotshot partner , and though the two are fine young actors - recently paired in the hit \\\" she's all that \\\" - they're fighting more than otherworldly evil here . \\nrumor has it that \\\" wing commander \\\" was slated as a later-in-the-year release , bumped up to capitalize off this hot casting coup as well as the premiere of the new \\\" star wars : episode i \\\" trailer . \\nbut in my audience , there were no females present to make goo-goo eyes at prinze or lillard , and many a member exited after the much-ballyhooed sneak peek . \\nsince most cineplexes won't be granting refunds to the latter contingency , \\\" commander \\\" might rake in some dough , but be warned : the high wears off as soon as the coming attraction gives way to the feature presentation . \\n\",\n          \"steve martin took an extended vacation from all facets of moviemaking a few years back ; he spent this time writing essays and short stories for \\\" the new yorker , \\\" several of which wound up in his hilarious hardback compilation , pure drivel ( 1998 ) . \\nmuch of the book spares tinseltown from mockery , although he does riff on the racist comments made by marlon brando during a larry king interview , in a fine chapter called \\\" in search of the wily filipino . \\\" \\nnow , as writer and star of bowfinger , he offers the masses plenty of good reasons not to pursue a career in the cinema , perhaps finally venting the frustrations ( 'everything being made now is crap' ) that led to his brief retirement from hollywood . \\nmartin stars as bobby bowfinger , a roger corman-wannabe on the cusp of fifty and desperate for some success as a producer , quality of the projects be damned . \\nhis accountant ( adam alexi-malle ) proposes a movie called \\\" chubby rain , \\\" about aliens who travel to earth in raindrops slightly fatter than regular raindrops . \\nbowfinger latches onto the idea immediately , and convinces his troupe of actor friends to appear in the film , based on the lie that america's top box office draw , kit ramsey ( murphy ) , has agreed to star . \\nramsey , of course , wants nothing to do with such low-grade material , so bowfinger , on the thinking that action stars need to run , not speak , decides to photograph the superstar surreptitiously . \\nhe sends his cast members ( who aren't in on it , either ; they are told ramsey hates the sight of cameras and fraternizing with his co-stars ) to ramsey's table at restaurants , asks them to follow him in parking lots , etc . , spouting script dialogue , all the while shooting the outcome from a great distance . \\nthe paranoid ramsey flees the scene nearly every time . \\nramsey is a member of mind head , a cultish self-help organization apparently dedicated to recruiting celebrities . \\n ( as if that's not familiar enough , mind head guru terry stricter ( terence stamp ) has been dressed and combed to resemble l . ron hubbard , founder of scientology . ) \\nwhen he goes to mind head with tales of caucasian strangers appearing from nowhere to babble \\\" white code \\\" in his face , they fear the nervous breakdown of an important client and rush him off to a retreat , requiring bowfinger to find a stand-in . \\nmurphy will probably win more fans as jiff , ramsey's adorable , ignoramus double , than as kit , but it is his portrayal of the latter that took courage . \\nalways surrounded by an entourage , suffering from a racial inferiority complex , murphy plays right into the tabloid image of himself . \\nfurthermore , consider the enemies he'll make of popular scientologists . \\npacing stricter's neutral-coloured office as if on an amphetamine binge and stripped of his bigshot veneer , ramsey is asked to shout inane personal affirmations repeatedly . \\nmurphy's scenes with stamp are exactly what i imagine of a john travolta \\\" clearing . \\\" \\nnot that murphy is entirely responsible for this schtick ; bowfinger is steve martin's invention . \\nhis script is surprisingly clever as satire , given that the pseudo-religion is a sitting duck , as is the entire los angeles film industry . \\n ( the griffin mill-types take quite a beating , in the form of robert downey jr . as bigwig jerry renfro . ) \\nmartin's decision to tell the story from a bottom feeder's point of view is what keeps it fresh and innovative-never have we seen on screen a group of people struggle this hard to complete a motion picture . \\nas expected , there are laughs only to be had insiders or buffs , such as martin's crew of mexican border-jumpers , who gain unexpected appreciation for the classics from reading \\\" cahiers du cinema , \\\" or martin's nonsensical explanation to dave , his loyal cinematographer ( jamie kennedy ) , that every movie , in the end , has a budget of two-thousand dollars ( ! ) . \\nmost of bowfinger is universally funny , however ; i defy any viewer to keep a straight face when christine baranski , one of our brightest comediennes , is on screen . \\nbowfinger's main flaw is a plot twist that has an insubstantial aftermath . \\nwe're also asked to believe that a few simple close-ups of kit ramsey would redeem \\\" chubby rain , \\\" z-grade entertainment that would make ed wood blush . \\n ( this aspect of bowfinger has much in common with the ludicrous oscar sequence in oz's last directorial effort , the poorly conceived in & out . ) \\nthese are significant enough weaknesses that they distracted from my enjoyment of the piece . \\nas i mentioned at the start of this review , bowfinger offers solid reasons not to do what heather graham's character daisy does : hop a bus to hollywood in search of stardom . \\nthat said , it offers one fantastic reason to get on that bus : the sense of community between filmmakers who gel is awesome . \\nmartin gets sentimental by story's end as he did in l . a . story , and how could he not ? \\nfor those who can hack it , the movies might be the greatest business in the world . \\n\",\n          \"though it is a fine piece of filmmaking , there's something about elizabeth . . . that \\nleft me a bit cold , and i think it is something that bugs me quite often in films , particularly these days ; i just didn't care about the characters . \\nto me , the first and foremost job of a filmmaker is to create characters ( be they imagined or historical as the case may be ) that the audience gives a hoot about . \\nand though elizabeth works well on many levels , it falls short of excellence because of that very reason . \\nelizabeth takes place in england in 1554 , as queen mary , half sister of elizabeth and a monarch on the side of catholicism is dying . \\nbefore she dies , though , she cannot bear to sign a document which would condemn her half sister to death because of her heretical protestant beliefs . \\nas a result , amidst much anger within the council , elizabeth becomes the queen of england . \\nthe film chronicles her rise to power as she fights for a unified church of england and tries to bring order to her personal and political life . \\nmuch of the film deals with elizabeth's love for lord robert , a mysterious man who thrusts his lordship onto many a woman as he continues to proclaim his love for the queen . \\nthere is much ado about her lack of a husband , and political pressures from spain and france enter into the equation . \\nthe problem with the film lies with this as its centerpiece , as love interests are such a character driven element . \\ni didn't much care about the characters ( perhaps aside for elizabeth who is played quite well by blanchett ) and so i didn't have much interest in who would join her in her nuptials . \\nthe cast is rounded out well with the marvelous rush who plays the queen's most loyal advisor , sir francis , and attenborough as a well-meaning but old-fashioned lead council . \\nwhy then , you must be asking , do i recommend elizabeth ? \\nsimply because it is the result of a perfect pairing of director and cinematographer . \\nkapur and his cinematographer remi adefarasin ( neither of whom i have heard ) create a beautifully realized piece of filmmkaing from the technical side . \\nthe light streams through each frame as in any painting from the period and beautifully captures the realistic light sources that would have been found in churches , cellars and castles in 16th century europe . \\neach frame is rich with color contrasted with blackness or blown-out white light from windows . \\nthe costumes by alexandra byrne deserve a mention as they are such an inportant aspect of each shot . \\nindeed , elizabeth is one of the most visually beautiful films of the decade , ranking with kundun and braveheart . \\nwatch also for the incredibly \\\" godfather-esque \\\" mass murder scene . \\nit made me think in retrospect of the similarities between the two films . \\n\"\n        ],\n        \"semantic_type\": \"\",\n        \"description\": \"\"\n      }\n    },\n    {\n      \"column\": \"sentiment\",\n      \"properties\": {\n        \"dtype\": \"category\",\n        \"num_unique_values\": 2,\n        \"samples\": [\n          \"positive\",\n          \"negative\"\n        ],\n        \"semantic_type\": \"\",\n        \"description\": \"\"\n      }\n    }\n  ]\n}"
            }
          },
          "metadata": {},
          "execution_count": 8
        }
      ]
    },
    {
      "cell_type": "code",
      "source": [
        "df['ID'] = range(1, len(df) + 1)\n",
        "df = df[['ID'] + [col for col in df.columns if col != 'ID']]\n",
        "# Display the updated DataFrame\n",
        "df.head()"
      ],
      "metadata": {
        "colab": {
          "base_uri": "https://localhost:8080/",
          "height": 206
        },
        "id": "q2yEEzj4y7Pb",
        "outputId": "04fd0ceb-83e9-45b8-f214-717aa035465f"
      },
      "execution_count": null,
      "outputs": [
        {
          "output_type": "execute_result",
          "data": {
            "text/plain": [
              "   ID                                             review sentiment\n",
              "0   1  gord brody ( tom green ) is an aspiring animat...  negative\n",
              "1   2  i find most of television so intensely boring ...  positive\n",
              "2   3  there are some pretty impressive stars in lost...  negative\n",
              "3   4  the recent onslaught of film noir that has pop...  negative\n",
              "4   5  there're so many things to criticize about i d...  negative"
            ],
            "text/html": [
              "\n",
              "  <div id=\"df-fdc23d22-d59b-440a-b079-d3a3f14a2e00\" class=\"colab-df-container\">\n",
              "    <div>\n",
              "<style scoped>\n",
              "    .dataframe tbody tr th:only-of-type {\n",
              "        vertical-align: middle;\n",
              "    }\n",
              "\n",
              "    .dataframe tbody tr th {\n",
              "        vertical-align: top;\n",
              "    }\n",
              "\n",
              "    .dataframe thead th {\n",
              "        text-align: right;\n",
              "    }\n",
              "</style>\n",
              "<table border=\"1\" class=\"dataframe\">\n",
              "  <thead>\n",
              "    <tr style=\"text-align: right;\">\n",
              "      <th></th>\n",
              "      <th>ID</th>\n",
              "      <th>review</th>\n",
              "      <th>sentiment</th>\n",
              "    </tr>\n",
              "  </thead>\n",
              "  <tbody>\n",
              "    <tr>\n",
              "      <th>0</th>\n",
              "      <td>1</td>\n",
              "      <td>gord brody ( tom green ) is an aspiring animat...</td>\n",
              "      <td>negative</td>\n",
              "    </tr>\n",
              "    <tr>\n",
              "      <th>1</th>\n",
              "      <td>2</td>\n",
              "      <td>i find most of television so intensely boring ...</td>\n",
              "      <td>positive</td>\n",
              "    </tr>\n",
              "    <tr>\n",
              "      <th>2</th>\n",
              "      <td>3</td>\n",
              "      <td>there are some pretty impressive stars in lost...</td>\n",
              "      <td>negative</td>\n",
              "    </tr>\n",
              "    <tr>\n",
              "      <th>3</th>\n",
              "      <td>4</td>\n",
              "      <td>the recent onslaught of film noir that has pop...</td>\n",
              "      <td>negative</td>\n",
              "    </tr>\n",
              "    <tr>\n",
              "      <th>4</th>\n",
              "      <td>5</td>\n",
              "      <td>there're so many things to criticize about i d...</td>\n",
              "      <td>negative</td>\n",
              "    </tr>\n",
              "  </tbody>\n",
              "</table>\n",
              "</div>\n",
              "    <div class=\"colab-df-buttons\">\n",
              "\n",
              "  <div class=\"colab-df-container\">\n",
              "    <button class=\"colab-df-convert\" onclick=\"convertToInteractive('df-fdc23d22-d59b-440a-b079-d3a3f14a2e00')\"\n",
              "            title=\"Convert this dataframe to an interactive table.\"\n",
              "            style=\"display:none;\">\n",
              "\n",
              "  <svg xmlns=\"http://www.w3.org/2000/svg\" height=\"24px\" viewBox=\"0 -960 960 960\">\n",
              "    <path d=\"M120-120v-720h720v720H120Zm60-500h600v-160H180v160Zm220 220h160v-160H400v160Zm0 220h160v-160H400v160ZM180-400h160v-160H180v160Zm440 0h160v-160H620v160ZM180-180h160v-160H180v160Zm440 0h160v-160H620v160Z\"/>\n",
              "  </svg>\n",
              "    </button>\n",
              "\n",
              "  <style>\n",
              "    .colab-df-container {\n",
              "      display:flex;\n",
              "      gap: 12px;\n",
              "    }\n",
              "\n",
              "    .colab-df-convert {\n",
              "      background-color: #E8F0FE;\n",
              "      border: none;\n",
              "      border-radius: 50%;\n",
              "      cursor: pointer;\n",
              "      display: none;\n",
              "      fill: #1967D2;\n",
              "      height: 32px;\n",
              "      padding: 0 0 0 0;\n",
              "      width: 32px;\n",
              "    }\n",
              "\n",
              "    .colab-df-convert:hover {\n",
              "      background-color: #E2EBFA;\n",
              "      box-shadow: 0px 1px 2px rgba(60, 64, 67, 0.3), 0px 1px 3px 1px rgba(60, 64, 67, 0.15);\n",
              "      fill: #174EA6;\n",
              "    }\n",
              "\n",
              "    .colab-df-buttons div {\n",
              "      margin-bottom: 4px;\n",
              "    }\n",
              "\n",
              "    [theme=dark] .colab-df-convert {\n",
              "      background-color: #3B4455;\n",
              "      fill: #D2E3FC;\n",
              "    }\n",
              "\n",
              "    [theme=dark] .colab-df-convert:hover {\n",
              "      background-color: #434B5C;\n",
              "      box-shadow: 0px 1px 3px 1px rgba(0, 0, 0, 0.15);\n",
              "      filter: drop-shadow(0px 1px 2px rgba(0, 0, 0, 0.3));\n",
              "      fill: #FFFFFF;\n",
              "    }\n",
              "  </style>\n",
              "\n",
              "    <script>\n",
              "      const buttonEl =\n",
              "        document.querySelector('#df-fdc23d22-d59b-440a-b079-d3a3f14a2e00 button.colab-df-convert');\n",
              "      buttonEl.style.display =\n",
              "        google.colab.kernel.accessAllowed ? 'block' : 'none';\n",
              "\n",
              "      async function convertToInteractive(key) {\n",
              "        const element = document.querySelector('#df-fdc23d22-d59b-440a-b079-d3a3f14a2e00');\n",
              "        const dataTable =\n",
              "          await google.colab.kernel.invokeFunction('convertToInteractive',\n",
              "                                                    [key], {});\n",
              "        if (!dataTable) return;\n",
              "\n",
              "        const docLinkHtml = 'Like what you see? Visit the ' +\n",
              "          '<a target=\"_blank\" href=https://colab.research.google.com/notebooks/data_table.ipynb>data table notebook</a>'\n",
              "          + ' to learn more about interactive tables.';\n",
              "        element.innerHTML = '';\n",
              "        dataTable['output_type'] = 'display_data';\n",
              "        await google.colab.output.renderOutput(dataTable, element);\n",
              "        const docLink = document.createElement('div');\n",
              "        docLink.innerHTML = docLinkHtml;\n",
              "        element.appendChild(docLink);\n",
              "      }\n",
              "    </script>\n",
              "  </div>\n",
              "\n",
              "\n",
              "<div id=\"df-e0a07d1d-37cc-490a-9955-fc3cb5fcb59f\">\n",
              "  <button class=\"colab-df-quickchart\" onclick=\"quickchart('df-e0a07d1d-37cc-490a-9955-fc3cb5fcb59f')\"\n",
              "            title=\"Suggest charts\"\n",
              "            style=\"display:none;\">\n",
              "\n",
              "<svg xmlns=\"http://www.w3.org/2000/svg\" height=\"24px\"viewBox=\"0 0 24 24\"\n",
              "     width=\"24px\">\n",
              "    <g>\n",
              "        <path d=\"M19 3H5c-1.1 0-2 .9-2 2v14c0 1.1.9 2 2 2h14c1.1 0 2-.9 2-2V5c0-1.1-.9-2-2-2zM9 17H7v-7h2v7zm4 0h-2V7h2v10zm4 0h-2v-4h2v4z\"/>\n",
              "    </g>\n",
              "</svg>\n",
              "  </button>\n",
              "\n",
              "<style>\n",
              "  .colab-df-quickchart {\n",
              "      --bg-color: #E8F0FE;\n",
              "      --fill-color: #1967D2;\n",
              "      --hover-bg-color: #E2EBFA;\n",
              "      --hover-fill-color: #174EA6;\n",
              "      --disabled-fill-color: #AAA;\n",
              "      --disabled-bg-color: #DDD;\n",
              "  }\n",
              "\n",
              "  [theme=dark] .colab-df-quickchart {\n",
              "      --bg-color: #3B4455;\n",
              "      --fill-color: #D2E3FC;\n",
              "      --hover-bg-color: #434B5C;\n",
              "      --hover-fill-color: #FFFFFF;\n",
              "      --disabled-bg-color: #3B4455;\n",
              "      --disabled-fill-color: #666;\n",
              "  }\n",
              "\n",
              "  .colab-df-quickchart {\n",
              "    background-color: var(--bg-color);\n",
              "    border: none;\n",
              "    border-radius: 50%;\n",
              "    cursor: pointer;\n",
              "    display: none;\n",
              "    fill: var(--fill-color);\n",
              "    height: 32px;\n",
              "    padding: 0;\n",
              "    width: 32px;\n",
              "  }\n",
              "\n",
              "  .colab-df-quickchart:hover {\n",
              "    background-color: var(--hover-bg-color);\n",
              "    box-shadow: 0 1px 2px rgba(60, 64, 67, 0.3), 0 1px 3px 1px rgba(60, 64, 67, 0.15);\n",
              "    fill: var(--button-hover-fill-color);\n",
              "  }\n",
              "\n",
              "  .colab-df-quickchart-complete:disabled,\n",
              "  .colab-df-quickchart-complete:disabled:hover {\n",
              "    background-color: var(--disabled-bg-color);\n",
              "    fill: var(--disabled-fill-color);\n",
              "    box-shadow: none;\n",
              "  }\n",
              "\n",
              "  .colab-df-spinner {\n",
              "    border: 2px solid var(--fill-color);\n",
              "    border-color: transparent;\n",
              "    border-bottom-color: var(--fill-color);\n",
              "    animation:\n",
              "      spin 1s steps(1) infinite;\n",
              "  }\n",
              "\n",
              "  @keyframes spin {\n",
              "    0% {\n",
              "      border-color: transparent;\n",
              "      border-bottom-color: var(--fill-color);\n",
              "      border-left-color: var(--fill-color);\n",
              "    }\n",
              "    20% {\n",
              "      border-color: transparent;\n",
              "      border-left-color: var(--fill-color);\n",
              "      border-top-color: var(--fill-color);\n",
              "    }\n",
              "    30% {\n",
              "      border-color: transparent;\n",
              "      border-left-color: var(--fill-color);\n",
              "      border-top-color: var(--fill-color);\n",
              "      border-right-color: var(--fill-color);\n",
              "    }\n",
              "    40% {\n",
              "      border-color: transparent;\n",
              "      border-right-color: var(--fill-color);\n",
              "      border-top-color: var(--fill-color);\n",
              "    }\n",
              "    60% {\n",
              "      border-color: transparent;\n",
              "      border-right-color: var(--fill-color);\n",
              "    }\n",
              "    80% {\n",
              "      border-color: transparent;\n",
              "      border-right-color: var(--fill-color);\n",
              "      border-bottom-color: var(--fill-color);\n",
              "    }\n",
              "    90% {\n",
              "      border-color: transparent;\n",
              "      border-bottom-color: var(--fill-color);\n",
              "    }\n",
              "  }\n",
              "</style>\n",
              "\n",
              "  <script>\n",
              "    async function quickchart(key) {\n",
              "      const quickchartButtonEl =\n",
              "        document.querySelector('#' + key + ' button');\n",
              "      quickchartButtonEl.disabled = true;  // To prevent multiple clicks.\n",
              "      quickchartButtonEl.classList.add('colab-df-spinner');\n",
              "      try {\n",
              "        const charts = await google.colab.kernel.invokeFunction(\n",
              "            'suggestCharts', [key], {});\n",
              "      } catch (error) {\n",
              "        console.error('Error during call to suggestCharts:', error);\n",
              "      }\n",
              "      quickchartButtonEl.classList.remove('colab-df-spinner');\n",
              "      quickchartButtonEl.classList.add('colab-df-quickchart-complete');\n",
              "    }\n",
              "    (() => {\n",
              "      let quickchartButtonEl =\n",
              "        document.querySelector('#df-e0a07d1d-37cc-490a-9955-fc3cb5fcb59f button');\n",
              "      quickchartButtonEl.style.display =\n",
              "        google.colab.kernel.accessAllowed ? 'block' : 'none';\n",
              "    })();\n",
              "  </script>\n",
              "</div>\n",
              "\n",
              "    </div>\n",
              "  </div>\n"
            ]
          },
          "metadata": {},
          "execution_count": 9
        }
      ]
    },
    {
      "cell_type": "code",
      "source": [
        "ax = df['sentiment'].value_counts().sort_index() \\\n",
        "    .plot(kind='bar',\n",
        "          title='Count of sentiments',\n",
        "          figsize=(10, 5))\n",
        "ax.set_xlabel('Sentiment')\n",
        "plt.show()"
      ],
      "metadata": {
        "colab": {
          "base_uri": "https://localhost:8080/",
          "height": 408
        },
        "id": "oO0w_hEGoeiV",
        "outputId": "b0fe8564-a231-41c9-bd3d-c190fd4ba5dd"
      },
      "execution_count": null,
      "outputs": [
        {
          "output_type": "display_data",
          "data": {
            "text/plain": [
              "<Figure size 1000x500 with 1 Axes>"
            ],
            "image/png": "[encoded data removed]"
          },
          "metadata": {}
        }
      ]
    },
    {
      "cell_type": "code",
      "source": [
        "df.info()"
      ],
      "metadata": {
        "colab": {
          "base_uri": "https://localhost:8080/"
        },
        "id": "1f7o9IbuAiWG",
        "outputId": "bce88db3-ae65-4427-f067-6b9d36dc23fa"
      },
      "execution_count": null,
      "outputs": [
        {
          "output_type": "stream",
          "name": "stdout",
          "text": [
            "<class 'pandas.core.frame.DataFrame'>\n",
            "RangeIndex: 2000 entries, 0 to 1999\n",
            "Data columns (total 2 columns):\n",
            " #   Column     Non-Null Count  Dtype \n",
            "---  ------     --------------  ----- \n",
            " 0   review     2000 non-null   object\n",
            " 1   sentiment  2000 non-null   object\n",
            "dtypes: object(2)\n",
            "memory usage: 31.4+ KB\n"
          ]
        }
      ]
    },
    {
      "cell_type": "code",
      "source": [
        "# Create a table of data types\n",
        "from tabulate import tabulate\n",
        "table = tabulate(df.dtypes.reset_index(), headers=['Column', 'Data Type'], tablefmt='pretty', showindex=False)\n",
        "\n",
        "# Display the table\n",
        "print(table)"
      ],
      "metadata": {
        "colab": {
          "base_uri": "https://localhost:8080/"
        },
        "id": "QU5TMWHbBFgC",
        "outputId": "7938cac9-961a-4f68-fa17-0f4a4dc6b887"
      },
      "execution_count": null,
      "outputs": [
        {
          "output_type": "stream",
          "name": "stdout",
          "text": [
            "+-----------+-----------+\n",
            "|  Column   | Data Type |\n",
            "+-----------+-----------+\n",
            "|  review   |  object   |\n",
            "| sentiment |  object   |\n",
            "+-----------+-----------+\n"
          ]
        }
      ]
    },
    {
      "cell_type": "markdown",
      "source": [
        "### 3. Pre-processing Phase"
      ],
      "metadata": {
        "id": "w4yRAD0vn0PB"
      }
    },
    {
      "cell_type": "markdown",
      "source": [
        "\n",
        "In the process of sentiment analysis, I meticulously applied tokenization to preprocess data to transform raw text data into a format conducive to effective analysis. Tokenization is a pivotal step involving the division of text into individual units or tokens, typically words or subwords. This method facilitated the creation of a structured and numerical representation of the input, which was paramount for machine learning model comprehension."
      ],
      "metadata": {
        "id": "oX-LQtjCT9TE"
      }
    },
    {
      "cell_type": "code",
      "source": [
        "example = df['review'][50]\n",
        "print(example)"
      ],
      "metadata": {
        "colab": {
          "base_uri": "https://localhost:8080/"
        },
        "id": "kFKQv8fVpAIS",
        "outputId": "0a40e862-63d6-4d2b-94ba-bf1c20f4e4d8"
      },
      "execution_count": null,
      "outputs": [
        {
          "output_type": "stream",
          "name": "stdout",
          "text": [
            "when considering david fincher's latest film , \" the game \" , four words come to mind . \n",
            " \" don't believe the hype . \" \n",
            "this michael douglas vehicle , from the director of \" seven \" , isn't nearly as clever or innovatively suspenseful as it would have us believe . \n",
            "the film draws us in with an intriguing concept ( aided no doubt by the riveting trailer ) where a jaded millionaire ( douglas ) is presented with the opportunity to enter into a living fantasy . \n",
            "this isn't simply virtual reality . \n",
            "this is real life with a deadly twist . \n",
            "on his 48th birthday , nicholas van orton ( douglas ) is invited to dinner by his underachieving younger brother , conrad ( sean penn ) . \n",
            "conrad has a special birthday present for his brother . \n",
            "he hands nicholas a gift certificate and tells him to contact a company called consumer recreation services . \n",
            " \" they make your life fun , \" conrad tells him . \n",
            "nicholas humors his brother , telling him he'll call , but it's clear he has no time for any foolish , \" fantasy role-playing , \" as he calls it . \n",
            "then , for reasons that are never really made clear , nicholas decides to go to crs and see what they're all about . \n",
            "he ends up spending a whole day going through their screening process , which to me made no sense considering the tight schedule he keeps claiming to have . \n",
            "nevertheless , when it seems nicholas has been rejected as a crs client , the weird things start happening . \n",
            "of course , when we've only covered about 30 minutes of screen time , what else should we expect . \n",
            "douglas has built his modern career around playing powerful , violent and unlikable men being manipulated by unseen hands . \n",
            "one of those films , \" basic instinct \" , came from the creative minds of writer , joe eszterhas and director , paul verhoeven . \n",
            "the premise of \" the game , \" is not unlike the concept of another verhoeven film , \" total recall . \" \n",
            "in that case , the premise was implanting someone else's memories as a way to enhance one's own life through a dream vacation . \n",
            "yet , in both films , the real goal is to create a vicarious bond with the audience . \n",
            "we live the adventure along with the protagonist , reacting to each twist and turn . \n",
            "in theory , the key to the suspense is not being to tell what is real and what isn't . \n",
            "all we can do is hang on until the end of the ride , when the truth is finally revealed . \n",
            "now , for those of you who forgot , let me say this again . \n",
            " \" don't believe the hype . \" \n",
            " \" the game \" is not a thrilling roller coaster ride . \n",
            "as a suspense-thriller , it doesn't do much but spin in circles . \n",
            "by the third reel , i was fighting back sleep and checking my watch as i endured the predictable plot . \n",
            "is it any wonder douglas won't be able to resist the charms of a mysterious , potentially life-threatening blonde ( ever heard of glenn close ? \n",
            "no ? well , how about sharon stone ? \n",
            "thought so ) . \n",
            "if anything in this film surprises you at all , i would guess you haven't seen that many films . \n",
            "there is no suspense here . \n",
            "trust me , i looked hard to find some . \n",
            "i had to settle for contrived gimmicks and ridiculously implausible situations . \n",
            "fincher aim's for hitchcock but lands somewhere just north of joe eszterhas . \n",
            "there are those that might say \" the game \" is not intended to be viewed literally . \n",
            "i would submit that is exactly the way i tried to view the film . \n",
            "the film simply does not have the teeth to bite into any real psychological issues . \n",
            "there is a moment early in the film where van orton , realizing his game has begun , smiles as he walks through the airport trying to figure out who's in on the whole thing . \n",
            "he is charged by his paranoia . \n",
            "he is looking at the world through new eyes . \n",
            "it is the last thought-provoking moment in the film . \n",
            "from there on , the director only wants to stay a step ahead of us . \n",
            "any significant archetype that is set up in the beginning of the film is simply turned into a plot device . \n",
            "at the outset , we're told each \" game \" is tailored to the individual . \n",
            "ultimately , this \" game \" is supposed to work like a crucible , trying this obscenely wealthy and emotionally detached aristocrat by fire , proving his soul . \n",
            "yet , as douglas endures his personal gauntlet , we're given very few pieces of the puzzle to illuminate us on who this man really is . \n",
            "i wanted to like this film more than i did . \n",
            "i look at it as just anothergreat idea , poorly realized . \n",
            "i can think of at least two other superior films where watching the film didn't mean we were seeing what was really happening . \n",
            "bryan singer's \" the usual suspects \" for one , a film that was truly unique in its ability to get you lost in the details before pulling back to show you the full masterpiece on the canvas . \n",
            "also , there is the underrated \" jacob's ladder , \" with tim robbins , a film that really has to be watched twice before you recognize the significance of all its symbolism . \n",
            "here are two examples of films that don't simply manipulate for manipulations' sake . \n",
            "there are films that use their labyrinth structure to lead us to a meaningful place . \n",
            "one major issue that comes up in \" the game \" is whether or not the whole \" illusion \" is just a highly sophisticated con game . \n",
            "well , i can tell you right now , after you've spent your $7 dollars , you may be asking yourself the same thing . \n",
            "\n"
          ]
        }
      ]
    },
    {
      "cell_type": "code",
      "source": [
        "nltk.download('punkt')"
      ],
      "metadata": {
        "colab": {
          "base_uri": "https://localhost:8080/"
        },
        "id": "zuh0Sm3IsUpw",
        "outputId": "8ef0542c-1fcb-4d37-e454-7186cfc7f79d"
      },
      "execution_count": null,
      "outputs": [
        {
          "output_type": "stream",
          "name": "stderr",
          "text": [
            "[nltk_data] Downloading package punkt to /root/nltk_data...\n",
            "[nltk_data]   Unzipping tokenizers/punkt.zip.\n"
          ]
        },
        {
          "output_type": "execute_result",
          "data": {
            "text/plain": [
              "True"
            ]
          },
          "metadata": {},
          "execution_count": 12
        }
      ]
    },
    {
      "cell_type": "code",
      "source": [
        "tokens = nltk.word_tokenize(example)\n",
        "tokens[:20]"
      ],
      "metadata": {
        "colab": {
          "base_uri": "https://localhost:8080/"
        },
        "id": "9_rTszJ8soHJ",
        "outputId": "04c4a48b-9191-4c03-c634-d39374f017be"
      },
      "execution_count": null,
      "outputs": [
        {
          "output_type": "execute_result",
          "data": {
            "text/plain": [
              "['when',\n",
              " 'considering',\n",
              " 'david',\n",
              " 'fincher',\n",
              " \"'s\",\n",
              " 'latest',\n",
              " 'film',\n",
              " ',',\n",
              " '``',\n",
              " 'the',\n",
              " 'game',\n",
              " '``',\n",
              " ',',\n",
              " 'four',\n",
              " 'words',\n",
              " 'come',\n",
              " 'to',\n",
              " 'mind',\n",
              " '.',\n",
              " '``']"
            ]
          },
          "metadata": {},
          "execution_count": 13
        }
      ]
    },
    {
      "cell_type": "code",
      "source": [
        "nltk.download('averaged_perceptron_tagger')"
      ],
      "metadata": {
        "colab": {
          "base_uri": "https://localhost:8080/"
        },
        "id": "cvU-AtsHtTk9",
        "outputId": "8f8fa43b-ed69-448a-f5d1-542fafa4def5"
      },
      "execution_count": null,
      "outputs": [
        {
          "output_type": "stream",
          "name": "stderr",
          "text": [
            "[nltk_data] Downloading package averaged_perceptron_tagger to\n",
            "[nltk_data]     /root/nltk_data...\n",
            "[nltk_data]   Unzipping taggers/averaged_perceptron_tagger.zip.\n"
          ]
        },
        {
          "output_type": "execute_result",
          "data": {
            "text/plain": [
              "True"
            ]
          },
          "metadata": {},
          "execution_count": 14
        }
      ]
    },
    {
      "cell_type": "code",
      "source": [
        "tagged = nltk.pos_tag(tokens)\n",
        "tagged[:20]"
      ],
      "metadata": {
        "colab": {
          "base_uri": "https://localhost:8080/"
        },
        "id": "mgbEk_0qtnih",
        "outputId": "7d28fe8e-3f2d-43b5-957e-82883e53b2f2"
      },
      "execution_count": null,
      "outputs": [
        {
          "output_type": "execute_result",
          "data": {
            "text/plain": [
              "[('when', 'WRB'),\n",
              " ('considering', 'VBG'),\n",
              " ('david', 'VBP'),\n",
              " ('fincher', 'NN'),\n",
              " (\"'s\", 'POS'),\n",
              " ('latest', 'JJS'),\n",
              " ('film', 'NN'),\n",
              " (',', ','),\n",
              " ('``', '``'),\n",
              " ('the', 'DT'),\n",
              " ('game', 'NN'),\n",
              " ('``', '``'),\n",
              " (',', ','),\n",
              " ('four', 'CD'),\n",
              " ('words', 'NNS'),\n",
              " ('come', 'VBP'),\n",
              " ('to', 'TO'),\n",
              " ('mind', 'VB'),\n",
              " ('.', '.'),\n",
              " ('``', '``')]"
            ]
          },
          "metadata": {},
          "execution_count": 15
        }
      ]
    },
    {
      "cell_type": "code",
      "source": [
        "nltk.download('maxent_ne_chunker')\n",
        "nltk.download('words')"
      ],
      "metadata": {
        "colab": {
          "base_uri": "https://localhost:8080/"
        },
        "id": "z0cl8T6ntvUe",
        "outputId": "d0dcca78-502c-4a23-8599-db52cac33ac1"
      },
      "execution_count": null,
      "outputs": [
        {
          "output_type": "stream",
          "name": "stderr",
          "text": [
            "[nltk_data] Downloading package maxent_ne_chunker to\n",
            "[nltk_data]     /root/nltk_data...\n",
            "[nltk_data]   Unzipping chunkers/maxent_ne_chunker.zip.\n",
            "[nltk_data] Downloading package words to /root/nltk_data...\n",
            "[nltk_data]   Unzipping corpora/words.zip.\n"
          ]
        },
        {
          "output_type": "execute_result",
          "data": {
            "text/plain": [
              "True"
            ]
          },
          "metadata": {},
          "execution_count": 16
        }
      ]
    },
    {
      "cell_type": "code",
      "source": [
        "entities = nltk.chunk.ne_chunk(tagged)\n",
        "# entities.pprint()\n",
        "print(entities[:20])"
      ],
      "metadata": {
        "colab": {
          "base_uri": "https://localhost:8080/"
        },
        "id": "ON5SHWd5t4RO",
        "outputId": "8cfcd28d-ef8a-4688-8175-1c2a6a45f110"
      },
      "execution_count": null,
      "outputs": [
        {
          "output_type": "stream",
          "name": "stdout",
          "text": [
            "[('when', 'WRB'), ('considering', 'VBG'), ('david', 'VBP'), ('fincher', 'NN'), (\"'s\", 'POS'), ('latest', 'JJS'), ('film', 'NN'), (',', ','), ('``', '``'), ('the', 'DT'), ('game', 'NN'), ('``', '``'), (',', ','), ('four', 'CD'), ('words', 'NNS'), ('come', 'VBP'), ('to', 'TO'), ('mind', 'VB'), ('.', '.'), ('``', '``')]\n"
          ]
        }
      ]
    },
    {
      "cell_type": "markdown",
      "source": [
        "### 4. Data Transient Label Phase"
      ],
      "metadata": {
        "id": "0gZtu0dotRJF"
      }
    },
    {
      "cell_type": "markdown",
      "source": [
        "** VADER model**\n",
        "\n",
        " The VADER model is a rule-based sentiment analysis tool designed for analyzing text and determining the sentiment expressed within it. Developed by researchers at the Georgia Institute of Technology, VADER is particularly useful for social media , customer feedback, and market analysis text analysis due to its ability to handle nuances such as slang, emoticons, and context-dependent sentiment."
      ],
      "metadata": {
        "id": "6VebTMaFUxZZ"
      }
    },
    {
      "cell_type": "code",
      "source": [
        "from nltk.sentiment import SentimentIntensityAnalyzer\n",
        "from tqdm.notebook import tqdm\n",
        "\n",
        "nltk.download('vader_lexicon')\n",
        "sia = SentimentIntensityAnalyzer()"
      ],
      "metadata": {
        "colab": {
          "base_uri": "https://localhost:8080/"
        },
        "id": "F8ZY1agJvaZy",
        "outputId": "9fcf4aa1-dd2e-4634-e959-3abcbeae0b74"
      },
      "execution_count": null,
      "outputs": [
        {
          "output_type": "stream",
          "name": "stderr",
          "text": [
            "[nltk_data] Downloading package vader_lexicon to /root/nltk_data...\n"
          ]
        }
      ]
    },
    {
      "cell_type": "code",
      "source": [
        "sia.polarity_scores('I am so happy!')"
      ],
      "metadata": {
        "colab": {
          "base_uri": "https://localhost:8080/"
        },
        "id": "bF9SLId7vrjU",
        "outputId": "bb96e7ea-08f2-4d18-b97c-3187dcaf7904"
      },
      "execution_count": null,
      "outputs": [
        {
          "output_type": "execute_result",
          "data": {
            "text/plain": [
              "{'neg': 0.0, 'neu': 0.318, 'pos': 0.682, 'compound': 0.6468}"
            ]
          },
          "metadata": {},
          "execution_count": 19
        }
      ]
    },
    {
      "cell_type": "code",
      "source": [
        "sia.polarity_scores('This is the worst thing ever.')"
      ],
      "metadata": {
        "colab": {
          "base_uri": "https://localhost:8080/"
        },
        "id": "l4xJmLruvwRS",
        "outputId": "036c7353-4dbe-4222-d111-f80919fffbf0"
      },
      "execution_count": null,
      "outputs": [
        {
          "output_type": "execute_result",
          "data": {
            "text/plain": [
              "{'neg': 0.451, 'neu': 0.549, 'pos': 0.0, 'compound': -0.6249}"
            ]
          },
          "metadata": {},
          "execution_count": 20
        }
      ]
    },
    {
      "cell_type": "code",
      "source": [
        "sia.polarity_scores(example)"
      ],
      "metadata": {
        "colab": {
          "base_uri": "https://localhost:8080/"
        },
        "id": "YZGtefcYv0c6",
        "outputId": "fea47c4e-922a-4a69-e7af-f86cb2cd9eb7"
      },
      "execution_count": null,
      "outputs": [
        {
          "output_type": "execute_result",
          "data": {
            "text/plain": [
              "{'neg': 0.065, 'neu': 0.834, 'pos': 0.101, 'compound': 0.9899}"
            ]
          },
          "metadata": {},
          "execution_count": 21
        }
      ]
    },
    {
      "cell_type": "code",
      "source": [
        "# Run the polarity score on the entire dataset\n",
        "res = {}\n",
        "for i, row in tqdm(df.iterrows(), total=len(df)):\n",
        "    text = row['review']\n",
        "    myid = row['ID']\n",
        "    res[myid] = sia.polarity_scores(text)"
      ],
      "metadata": {
        "colab": {
          "base_uri": "https://localhost:8080/",
          "height": 49,
          "referenced_widgets": [
            "b531673c31514d2da2621c739b5e0734",
            "868e04cea01d41c599c7946aa680f28c",
            "fa531917d12d4cbba7d3f68ef89054c8",
            "010c4caca4e04fc8bd0bf24fbd63615a",
            "b38ee2def4ff47cc9622ef711fc58516",
            "bcc8fe1f61c54f10aaace5e0a277c457",
            "7dc9f7a78804464abe3e7d82efd01c66",
            "6591909b8eb04039b5c9be141d5e5ed5",
            "7b57a80dbc4a442aba25b88167c7794f",
            "6bf36bb6ee5e40a7a229f1eb4d5b68d9",
            "e6c045c1a93346548abe5f665fbc5f62"
          ]
        },
        "id": "4FsMPlNEwBSB",
        "outputId": "3a973bd5-b74a-4d7b-bcf4-25847627cb8b"
      },
      "execution_count": null,
      "outputs": [
        {
          "output_type": "display_data",
          "data": {
            "text/plain": [
              "  0%|          | 0/2000 [00:00<?, ?it/s]"
            ],
            "application/vnd.jupyter.widget-view+json": {
              "version_major": 2,
              "version_minor": 0,
              "model_id": "b531673c31514d2da2621c739b5e0734"
            }
          },
          "metadata": {}
        }
      ]
    },
    {
      "cell_type": "code",
      "source": [
        "vaders = pd.DataFrame(res).T\n",
        "vaders = vaders.reset_index().rename(columns={'index': 'ID'})\n",
        "vaders = vaders.merge(df, how='left')"
      ],
      "metadata": {
        "id": "ue_zDfl40Cs5"
      },
      "execution_count": null,
      "outputs": []
    },
    {
      "cell_type": "code",
      "source": [
        "# Now we have sentiment score and metadata\n",
        "vaders.head()"
      ],
      "metadata": {
        "colab": {
          "base_uri": "https://localhost:8080/",
          "height": 293
        },
        "id": "d0a2Uj7l0Qzp",
        "outputId": "af3e214b-82bd-481e-f88e-7017ca0a47f5"
      },
      "execution_count": null,
      "outputs": [
        {
          "output_type": "execute_result",
          "data": {
            "text/plain": [
              "   ID    neg    neu    pos  compound  \\\n",
              "0   1  0.113  0.779  0.109   -0.7847   \n",
              "1   2  0.104  0.733  0.163    0.9955   \n",
              "2   3  0.162  0.678  0.160   -0.8611   \n",
              "3   4  0.124  0.812  0.064   -0.9947   \n",
              "4   5  0.127  0.795  0.078   -0.9893   \n",
              "\n",
              "                                              review sentiment  \n",
              "0  gord brody ( tom green ) is an aspiring animat...  negative  \n",
              "1  i find most of television so intensely boring ...  positive  \n",
              "2  there are some pretty impressive stars in lost...  negative  \n",
              "3  the recent onslaught of film noir that has pop...  negative  \n",
              "4  there're so many things to criticize about i d...  negative  "
            ],
            "text/html": [
              "\n",
              "  <div id=\"df-5256e311-2649-4444-a247-943b95b3bf9a\" class=\"colab-df-container\">\n",
              "    <div>\n",
              "<style scoped>\n",
              "    .dataframe tbody tr th:only-of-type {\n",
              "        vertical-align: middle;\n",
              "    }\n",
              "\n",
              "    .dataframe tbody tr th {\n",
              "        vertical-align: top;\n",
              "    }\n",
              "\n",
              "    .dataframe thead th {\n",
              "        text-align: right;\n",
              "    }\n",
              "</style>\n",
              "<table border=\"1\" class=\"dataframe\">\n",
              "  <thead>\n",
              "    <tr style=\"text-align: right;\">\n",
              "      <th></th>\n",
              "      <th>ID</th>\n",
              "      <th>neg</th>\n",
              "      <th>neu</th>\n",
              "      <th>pos</th>\n",
              "      <th>compound</th>\n",
              "      <th>review</th>\n",
              "      <th>sentiment</th>\n",
              "    </tr>\n",
              "  </thead>\n",
              "  <tbody>\n",
              "    <tr>\n",
              "      <th>0</th>\n",
              "      <td>1</td>\n",
              "      <td>0.113</td>\n",
              "      <td>0.779</td>\n",
              "      <td>0.109</td>\n",
              "      <td>-0.7847</td>\n",
              "      <td>gord brody ( tom green ) is an aspiring animat...</td>\n",
              "      <td>negative</td>\n",
              "    </tr>\n",
              "    <tr>\n",
              "      <th>1</th>\n",
              "      <td>2</td>\n",
              "      <td>0.104</td>\n",
              "      <td>0.733</td>\n",
              "      <td>0.163</td>\n",
              "      <td>0.9955</td>\n",
              "      <td>i find most of television so intensely boring ...</td>\n",
              "      <td>positive</td>\n",
              "    </tr>\n",
              "    <tr>\n",
              "      <th>2</th>\n",
              "      <td>3</td>\n",
              "      <td>0.162</td>\n",
              "      <td>0.678</td>\n",
              "      <td>0.160</td>\n",
              "      <td>-0.8611</td>\n",
              "      <td>there are some pretty impressive stars in lost...</td>\n",
              "      <td>negative</td>\n",
              "    </tr>\n",
              "    <tr>\n",
              "      <th>3</th>\n",
              "      <td>4</td>\n",
              "      <td>0.124</td>\n",
              "      <td>0.812</td>\n",
              "      <td>0.064</td>\n",
              "      <td>-0.9947</td>\n",
              "      <td>the recent onslaught of film noir that has pop...</td>\n",
              "      <td>negative</td>\n",
              "    </tr>\n",
              "    <tr>\n",
              "      <th>4</th>\n",
              "      <td>5</td>\n",
              "      <td>0.127</td>\n",
              "      <td>0.795</td>\n",
              "      <td>0.078</td>\n",
              "      <td>-0.9893</td>\n",
              "      <td>there're so many things to criticize about i d...</td>\n",
              "      <td>negative</td>\n",
              "    </tr>\n",
              "  </tbody>\n",
              "</table>\n",
              "</div>\n",
              "    <div class=\"colab-df-buttons\">\n",
              "\n",
              "  <div class=\"colab-df-container\">\n",
              "    <button class=\"colab-df-convert\" onclick=\"convertToInteractive('df-5256e311-2649-4444-a247-943b95b3bf9a')\"\n",
              "            title=\"Convert this dataframe to an interactive table.\"\n",
              "            style=\"display:none;\">\n",
              "\n",
              "  <svg xmlns=\"http://www.w3.org/2000/svg\" height=\"24px\" viewBox=\"0 -960 960 960\">\n",
              "    <path d=\"M120-120v-720h720v720H120Zm60-500h600v-160H180v160Zm220 220h160v-160H400v160Zm0 220h160v-160H400v160ZM180-400h160v-160H180v160Zm440 0h160v-160H620v160ZM180-180h160v-160H180v160Zm440 0h160v-160H620v160Z\"/>\n",
              "  </svg>\n",
              "    </button>\n",
              "\n",
              "  <style>\n",
              "    .colab-df-container {\n",
              "      display:flex;\n",
              "      gap: 12px;\n",
              "    }\n",
              "\n",
              "    .colab-df-convert {\n",
              "      background-color: #E8F0FE;\n",
              "      border: none;\n",
              "      border-radius: 50%;\n",
              "      cursor: pointer;\n",
              "      display: none;\n",
              "      fill: #1967D2;\n",
              "      height: 32px;\n",
              "      padding: 0 0 0 0;\n",
              "      width: 32px;\n",
              "    }\n",
              "\n",
              "    .colab-df-convert:hover {\n",
              "      background-color: #E2EBFA;\n",
              "      box-shadow: 0px 1px 2px rgba(60, 64, 67, 0.3), 0px 1px 3px 1px rgba(60, 64, 67, 0.15);\n",
              "      fill: #174EA6;\n",
              "    }\n",
              "\n",
              "    .colab-df-buttons div {\n",
              "      margin-bottom: 4px;\n",
              "    }\n",
              "\n",
              "    [theme=dark] .colab-df-convert {\n",
              "      background-color: #3B4455;\n",
              "      fill: #D2E3FC;\n",
              "    }\n",
              "\n",
              "    [theme=dark] .colab-df-convert:hover {\n",
              "      background-color: #434B5C;\n",
              "      box-shadow: 0px 1px 3px 1px rgba(0, 0, 0, 0.15);\n",
              "      filter: drop-shadow(0px 1px 2px rgba(0, 0, 0, 0.3));\n",
              "      fill: #FFFFFF;\n",
              "    }\n",
              "  </style>\n",
              "\n",
              "    <script>\n",
              "      const buttonEl =\n",
              "        document.querySelector('#df-5256e311-2649-4444-a247-943b95b3bf9a button.colab-df-convert');\n",
              "      buttonEl.style.display =\n",
              "        google.colab.kernel.accessAllowed ? 'block' : 'none';\n",
              "\n",
              "      async function convertToInteractive(key) {\n",
              "        const element = document.querySelector('#df-5256e311-2649-4444-a247-943b95b3bf9a');\n",
              "        const dataTable =\n",
              "          await google.colab.kernel.invokeFunction('convertToInteractive',\n",
              "                                                    [key], {});\n",
              "        if (!dataTable) return;\n",
              "\n",
              "        const docLinkHtml = 'Like what you see? Visit the ' +\n",
              "          '<a target=\"_blank\" href=https://colab.research.google.com/notebooks/data_table.ipynb>data table notebook</a>'\n",
              "          + ' to learn more about interactive tables.';\n",
              "        element.innerHTML = '';\n",
              "        dataTable['output_type'] = 'display_data';\n",
              "        await google.colab.output.renderOutput(dataTable, element);\n",
              "        const docLink = document.createElement('div');\n",
              "        docLink.innerHTML = docLinkHtml;\n",
              "        element.appendChild(docLink);\n",
              "      }\n",
              "    </script>\n",
              "  </div>\n",
              "\n",
              "\n",
              "<div id=\"df-77178778-961f-436b-9c7c-1da3cd08ffd3\">\n",
              "  <button class=\"colab-df-quickchart\" onclick=\"quickchart('df-77178778-961f-436b-9c7c-1da3cd08ffd3')\"\n",
              "            title=\"Suggest charts\"\n",
              "            style=\"display:none;\">\n",
              "\n",
              "<svg xmlns=\"http://www.w3.org/2000/svg\" height=\"24px\"viewBox=\"0 0 24 24\"\n",
              "     width=\"24px\">\n",
              "    <g>\n",
              "        <path d=\"M19 3H5c-1.1 0-2 .9-2 2v14c0 1.1.9 2 2 2h14c1.1 0 2-.9 2-2V5c0-1.1-.9-2-2-2zM9 17H7v-7h2v7zm4 0h-2V7h2v10zm4 0h-2v-4h2v4z\"/>\n",
              "    </g>\n",
              "</svg>\n",
              "  </button>\n",
              "\n",
              "<style>\n",
              "  .colab-df-quickchart {\n",
              "      --bg-color: #E8F0FE;\n",
              "      --fill-color: #1967D2;\n",
              "      --hover-bg-color: #E2EBFA;\n",
              "      --hover-fill-color: #174EA6;\n",
              "      --disabled-fill-color: #AAA;\n",
              "      --disabled-bg-color: #DDD;\n",
              "  }\n",
              "\n",
              "  [theme=dark] .colab-df-quickchart {\n",
              "      --bg-color: #3B4455;\n",
              "      --fill-color: #D2E3FC;\n",
              "      --hover-bg-color: #434B5C;\n",
              "      --hover-fill-color: #FFFFFF;\n",
              "      --disabled-bg-color: #3B4455;\n",
              "      --disabled-fill-color: #666;\n",
              "  }\n",
              "\n",
              "  .colab-df-quickchart {\n",
              "    background-color: var(--bg-color);\n",
              "    border: none;\n",
              "    border-radius: 50%;\n",
              "    cursor: pointer;\n",
              "    display: none;\n",
              "    fill: var(--fill-color);\n",
              "    height: 32px;\n",
              "    padding: 0;\n",
              "    width: 32px;\n",
              "  }\n",
              "\n",
              "  .colab-df-quickchart:hover {\n",
              "    background-color: var(--hover-bg-color);\n",
              "    box-shadow: 0 1px 2px rgba(60, 64, 67, 0.3), 0 1px 3px 1px rgba(60, 64, 67, 0.15);\n",
              "    fill: var(--button-hover-fill-color);\n",
              "  }\n",
              "\n",
              "  .colab-df-quickchart-complete:disabled,\n",
              "  .colab-df-quickchart-complete:disabled:hover {\n",
              "    background-color: var(--disabled-bg-color);\n",
              "    fill: var(--disabled-fill-color);\n",
              "    box-shadow: none;\n",
              "  }\n",
              "\n",
              "  .colab-df-spinner {\n",
              "    border: 2px solid var(--fill-color);\n",
              "    border-color: transparent;\n",
              "    border-bottom-color: var(--fill-color);\n",
              "    animation:\n",
              "      spin 1s steps(1) infinite;\n",
              "  }\n",
              "\n",
              "  @keyframes spin {\n",
              "    0% {\n",
              "      border-color: transparent;\n",
              "      border-bottom-color: var(--fill-color);\n",
              "      border-left-color: var(--fill-color);\n",
              "    }\n",
              "    20% {\n",
              "      border-color: transparent;\n",
              "      border-left-color: var(--fill-color);\n",
              "      border-top-color: var(--fill-color);\n",
              "    }\n",
              "    30% {\n",
              "      border-color: transparent;\n",
              "      border-left-color: var(--fill-color);\n",
              "      border-top-color: var(--fill-color);\n",
              "      border-right-color: var(--fill-color);\n",
              "    }\n",
              "    40% {\n",
              "      border-color: transparent;\n",
              "      border-right-color: var(--fill-color);\n",
              "      border-top-color: var(--fill-color);\n",
              "    }\n",
              "    60% {\n",
              "      border-color: transparent;\n",
              "      border-right-color: var(--fill-color);\n",
              "    }\n",
              "    80% {\n",
              "      border-color: transparent;\n",
              "      border-right-color: var(--fill-color);\n",
              "      border-bottom-color: var(--fill-color);\n",
              "    }\n",
              "    90% {\n",
              "      border-color: transparent;\n",
              "      border-bottom-color: var(--fill-color);\n",
              "    }\n",
              "  }\n",
              "</style>\n",
              "\n",
              "  <script>\n",
              "    async function quickchart(key) {\n",
              "      const quickchartButtonEl =\n",
              "        document.querySelector('#' + key + ' button');\n",
              "      quickchartButtonEl.disabled = true;  // To prevent multiple clicks.\n",
              "      quickchartButtonEl.classList.add('colab-df-spinner');\n",
              "      try {\n",
              "        const charts = await google.colab.kernel.invokeFunction(\n",
              "            'suggestCharts', [key], {});\n",
              "      } catch (error) {\n",
              "        console.error('Error during call to suggestCharts:', error);\n",
              "      }\n",
              "      quickchartButtonEl.classList.remove('colab-df-spinner');\n",
              "      quickchartButtonEl.classList.add('colab-df-quickchart-complete');\n",
              "    }\n",
              "    (() => {\n",
              "      let quickchartButtonEl =\n",
              "        document.querySelector('#df-77178778-961f-436b-9c7c-1da3cd08ffd3 button');\n",
              "      quickchartButtonEl.style.display =\n",
              "        google.colab.kernel.accessAllowed ? 'block' : 'none';\n",
              "    })();\n",
              "  </script>\n",
              "</div>\n",
              "\n",
              "    </div>\n",
              "  </div>\n"
            ]
          },
          "metadata": {},
          "execution_count": 24
        }
      ]
    },
    {
      "cell_type": "code",
      "source": [
        "ax = sns.barplot(data=vaders, x='sentiment', y='compound')\n",
        "ax.set_title('Compund Score by sentiments')\n",
        "plt.show()"
      ],
      "metadata": {
        "colab": {
          "base_uri": "https://localhost:8080/",
          "height": 477
        },
        "id": "sViTX85j0ZJm",
        "outputId": "130d4353-07bc-49ae-d3a1-a14e922e635f"
      },
      "execution_count": null,
      "outputs": [
        {
          "output_type": "display_data",
          "data": {
            "text/plain": [
              "<Figure size 640x480 with 1 Axes>"
            ],
            "image/png": "[encoded data removed]"
          },
          "metadata": {}
        }
      ]
    },
    {
      "cell_type": "code",
      "source": [
        "fig, axs = plt.subplots(1, 3, figsize=(12, 3))\n",
        "sns.barplot(data=vaders, x='sentiment', y='pos', ax=axs[0])\n",
        "sns.barplot(data=vaders, x='sentiment', y='neu', ax=axs[1])\n",
        "sns.barplot(data=vaders, x='sentiment', y='neg', ax=axs[2])\n",
        "axs[0].set_title('Positive')\n",
        "axs[1].set_title('Neutral')\n",
        "axs[2].set_title('Negative')\n",
        "plt.tight_layout()\n",
        "plt.show()"
      ],
      "metadata": {
        "colab": {
          "base_uri": "https://localhost:8080/",
          "height": 170
        },
        "id": "HDtU5MWn0_9L",
        "outputId": "ba0839a3-5e7c-4c0f-842a-a005952ed0cd"
      },
      "execution_count": null,
      "outputs": [
        {
          "output_type": "display_data",
          "data": {
            "text/plain": [
              "<Figure size 1200x300 with 3 Axes>"
            ],
            "image/png": "[encoded data removed]"
          },
          "metadata": {}
        }
      ]
    },
    {
      "cell_type": "markdown",
      "source": [
        "### 5. Analysing the Dataset"
      ],
      "metadata": {
        "id": "ttRc5jqC1kxI"
      }
    },
    {
      "cell_type": "markdown",
      "source": [
        "Movie review dataset has **3 columns**  ID column is a primary key. It has** 2000 records** and has memory usage: **47.0+ KB**. Distribution of labels is balanced. Dataset will be analyzed in following code snipppets and results are clear and unambiguous."
      ],
      "metadata": {
        "id": "Vh08SUJoVbB2"
      }
    },
    {
      "cell_type": "code",
      "source": [
        "# Get information about the dataset, including data types and missing values\n",
        "print(\"\\nInformation about the dataset:\")\n",
        "print(df.info())\n"
      ],
      "metadata": {
        "colab": {
          "base_uri": "https://localhost:8080/"
        },
        "id": "z9NEeGco2VF3",
        "outputId": "91b6225e-01aa-4c32-81bf-efed2bd6fd44"
      },
      "execution_count": null,
      "outputs": [
        {
          "output_type": "stream",
          "name": "stdout",
          "text": [
            "\n",
            "Information about the dataset:\n",
            "<class 'pandas.core.frame.DataFrame'>\n",
            "RangeIndex: 2000 entries, 0 to 1999\n",
            "Data columns (total 3 columns):\n",
            " #   Column     Non-Null Count  Dtype \n",
            "---  ------     --------------  ----- \n",
            " 0   ID         2000 non-null   int64 \n",
            " 1   review     2000 non-null   object\n",
            " 2   sentiment  2000 non-null   object\n",
            "dtypes: int64(1), object(2)\n",
            "memory usage: 47.0+ KB\n",
            "None\n"
          ]
        }
      ]
    },
    {
      "cell_type": "code",
      "source": [
        "# Check the number of records (rows) and features (columns) in the dataset\n",
        "num_records, num_features = df.shape\n",
        "print(f\"\\nNumber of records: {num_records}\")\n",
        "print(f\"Number of features: {num_features}\")"
      ],
      "metadata": {
        "colab": {
          "base_uri": "https://localhost:8080/"
        },
        "id": "Xt5Oq4zy2hoH",
        "outputId": "531a0110-7ee2-4730-91dd-b3c61ed3ac4b"
      },
      "execution_count": null,
      "outputs": [
        {
          "output_type": "stream",
          "name": "stdout",
          "text": [
            "\n",
            "Number of records: 2000\n",
            "Number of features: 3\n"
          ]
        }
      ]
    },
    {
      "cell_type": "code",
      "source": [
        "# Check the distribution of sentiment labels\n",
        "sentiment_distribution = df['sentiment'].value_counts()\n",
        "print(\"\\nDistribution of sentiment labels:\")\n",
        "print(sentiment_distribution)\n"
      ],
      "metadata": {
        "colab": {
          "base_uri": "https://localhost:8080/"
        },
        "id": "4UV48CuQ2o2L",
        "outputId": "3bbe2c6d-7603-442f-8173-0241b9d52769"
      },
      "execution_count": null,
      "outputs": [
        {
          "output_type": "stream",
          "name": "stdout",
          "text": [
            "\n",
            "Distribution of sentiment labels:\n",
            "negative    1000\n",
            "positive    1000\n",
            "Name: sentiment, dtype: int64\n"
          ]
        }
      ]
    },
    {
      "cell_type": "code",
      "source": [
        "# Check if the dataset is balanced or imbalanced\n",
        "is_balanced = all(count >= num_records * 0.05 and count <= num_records * 0.95 for count in sentiment_distribution)\n",
        "print(\"\\nIs the dataset balanced?\", is_balanced)\n"
      ],
      "metadata": {
        "colab": {
          "base_uri": "https://localhost:8080/"
        },
        "id": "uCByiiLv2wg5",
        "outputId": "c25560c9-f78e-4108-91b8-787b3e6be683"
      },
      "execution_count": null,
      "outputs": [
        {
          "output_type": "stream",
          "name": "stdout",
          "text": [
            "\n",
            "Is the dataset balanced? True\n"
          ]
        }
      ]
    },
    {
      "cell_type": "code",
      "source": [
        "# Outline your strategy for splitting the data into training and testing sets\n",
        "from sklearn.model_selection import train_test_split\n",
        "\n",
        "# Assuming 'sentiment' is the target variable\n",
        "X = df.drop('sentiment', axis=1)\n",
        "y = df['sentiment']\n",
        "\n",
        "# Split the data into training and testing sets (adjust the test_size parameter as needed)\n",
        "X_train, X_test, y_train, y_test = train_test_split(X, y, test_size=0.2, random_state=42)\n",
        "\n",
        "# Display the sizes of the training and testing sets\n",
        "print(\"\\nSize of training set:\", len(X_train))\n",
        "print(\"Size of testing set:\", len(X_test))\n"
      ],
      "metadata": {
        "colab": {
          "base_uri": "https://localhost:8080/"
        },
        "id": "lDiGiY7n1kNq",
        "outputId": "39c79442-fa26-437d-89c8-0cc1a2aeacf1"
      },
      "execution_count": null,
      "outputs": [
        {
          "output_type": "stream",
          "name": "stdout",
          "text": [
            "\n",
            "Size of training set: 1600\n",
            "Size of testing set: 400\n"
          ]
        }
      ]
    },
    {
      "cell_type": "markdown",
      "source": [
        "### 6. Feature Extraction"
      ],
      "metadata": {
        "id": "UJcFT0wf3EeH"
      }
    },
    {
      "cell_type": "markdown",
      "source": [
        "**TF-IDF Model**\n",
        "\n",
        "TF-IDF (Term Frequency-Inverse Document Frequency) is not directly used for sentiment analysis on its own. Instead, it is typically applied as a feature extraction technique to represent text data numerically before training a machine learning model for sentiment analysis. The results of applying TF-IDF to sentiment analysis would be a matrix of numerical features representing the importance of words in the text.\n",
        "\n",
        "Once you have the TF-IDF matrix (tfidf_df), it can be used as input features to train a sentiment analysis model. Following code can be extended to perform sentiment analysis using scikit-learn's train_test_split and MultinomialNB (Multinomial Naive Bayes) classifier which we will be under analysis in 7th section of Machiine Learning model"
      ],
      "metadata": {
        "id": "0KZVfjBnKkUx"
      }
    },
    {
      "cell_type": "code",
      "source": [
        "from sklearn.feature_extraction.text import TfidfVectorizer\n",
        "\n",
        "# Assuming 'text' is the column containing textual data in your DataFrame\n",
        "corpus = df['review'].tolist()\n",
        "\n",
        "# Create a TF-IDF vectorizer\n",
        "tfidf_vectorizer = TfidfVectorizer()\n",
        "\n",
        "# Fit and transform the textual data\n",
        "tfidf_features = tfidf_vectorizer.fit_transform(corpus)\n",
        "\n",
        "# Convert the TF-IDF matrix to a DataFrame for further analysis\n",
        "tfidf_df = pd.DataFrame(tfidf_features.toarray(), columns=tfidf_vectorizer.get_feature_names_out())\n",
        "\n",
        "# Display the TF-IDF DataFrame\n",
        "print(tfidf_df)\n"
      ],
      "metadata": {
        "colab": {
          "base_uri": "https://localhost:8080/"
        },
        "id": "s8wyVBcK3Gjk",
        "outputId": "0f80e677-b951-4b82-d473-9cff84a51b47"
      },
      "execution_count": null,
      "outputs": [
        {
          "output_type": "stream",
          "name": "stdout",
          "text": [
            "       00       000  0009f  007  00s   03   04   05  05425        10  ...  \\\n",
            "0     0.0  0.000000    0.0  0.0  0.0  0.0  0.0  0.0    0.0  0.000000  ...   \n",
            "1     0.0  0.028749    0.0  0.0  0.0  0.0  0.0  0.0    0.0  0.000000  ...   \n",
            "2     0.0  0.000000    0.0  0.0  0.0  0.0  0.0  0.0    0.0  0.000000  ...   \n",
            "3     0.0  0.000000    0.0  0.0  0.0  0.0  0.0  0.0    0.0  0.000000  ...   \n",
            "4     0.0  0.000000    0.0  0.0  0.0  0.0  0.0  0.0    0.0  0.000000  ...   \n",
            "...   ...       ...    ...  ...  ...  ...  ...  ...    ...       ...  ...   \n",
            "1995  0.0  0.000000    0.0  0.0  0.0  0.0  0.0  0.0    0.0  0.000000  ...   \n",
            "1996  0.0  0.000000    0.0  0.0  0.0  0.0  0.0  0.0    0.0  0.000000  ...   \n",
            "1997  0.0  0.000000    0.0  0.0  0.0  0.0  0.0  0.0    0.0  0.028644  ...   \n",
            "1998  0.0  0.000000    0.0  0.0  0.0  0.0  0.0  0.0    0.0  0.000000  ...   \n",
            "1999  0.0  0.000000    0.0  0.0  0.0  0.0  0.0  0.0    0.0  0.000000  ...   \n",
            "\n",
            "      zukovsky  zulu  zundel  zurg  zus  zweibel  zwick  zwigoff  zycie  \\\n",
            "0          0.0   0.0     0.0   0.0  0.0      0.0    0.0      0.0    0.0   \n",
            "1          0.0   0.0     0.0   0.0  0.0      0.0    0.0      0.0    0.0   \n",
            "2          0.0   0.0     0.0   0.0  0.0      0.0    0.0      0.0    0.0   \n",
            "3          0.0   0.0     0.0   0.0  0.0      0.0    0.0      0.0    0.0   \n",
            "4          0.0   0.0     0.0   0.0  0.0      0.0    0.0      0.0    0.0   \n",
            "...        ...   ...     ...   ...  ...      ...    ...      ...    ...   \n",
            "1995       0.0   0.0     0.0   0.0  0.0      0.0    0.0      0.0    0.0   \n",
            "1996       0.0   0.0     0.0   0.0  0.0      0.0    0.0      0.0    0.0   \n",
            "1997       0.0   0.0     0.0   0.0  0.0      0.0    0.0      0.0    0.0   \n",
            "1998       0.0   0.0     0.0   0.0  0.0      0.0    0.0      0.0    0.0   \n",
            "1999       0.0   0.0     0.0   0.0  0.0      0.0    0.0      0.0    0.0   \n",
            "\n",
            "      zzzzzzz  \n",
            "0         0.0  \n",
            "1         0.0  \n",
            "2         0.0  \n",
            "3         0.0  \n",
            "4         0.0  \n",
            "...       ...  \n",
            "1995      0.0  \n",
            "1996      0.0  \n",
            "1997      0.0  \n",
            "1998      0.0  \n",
            "1999      0.0  \n",
            "\n",
            "[2000 rows x 39659 columns]\n"
          ]
        }
      ]
    },
    {
      "cell_type": "markdown",
      "source": [
        "**TextBlob**\n",
        "\n",
        "TextBlob includes a pre-trained model for sentiment analysis. It is a Python library for processing textual data. It provides a simple API for common natural language processing (NLP) tasks, such as part-of-speech tagging, noun phrase extraction, sentiment analysis, classification, translation, and more. TextBlob is built on top of NLTK (Natural Language Toolkit) and follows a straightforward and user-friendly design, making it accessible to users without extensive NLP expertise."
      ],
      "metadata": {
        "id": "G-yLN0izMv3e"
      }
    },
    {
      "cell_type": "code",
      "source": [
        "from textblob import TextBlob\n",
        "\n",
        "# Example text\n",
        "text = \"I love this product! It's amazing.\"\n",
        "\n",
        "# Create a TextBlob object\n",
        "blob = TextBlob(text)\n",
        "\n",
        "# Get sentiment polarity (-1 to 1, where -1 is negative, 1 is positive)\n",
        "sentiment_polarity = blob.sentiment.polarity\n",
        "\n",
        "# Print sentiment polarity\n",
        "print(sentiment_polarity)"
      ],
      "metadata": {
        "colab": {
          "base_uri": "https://localhost:8080/"
        },
        "id": "jY7BphPt5WCf",
        "outputId": "d2b25df7-893d-4056-8681-006c15fc1a3b"
      },
      "execution_count": null,
      "outputs": [
        {
          "output_type": "stream",
          "name": "stdout",
          "text": [
            "0.6125\n"
          ]
        }
      ]
    },
    {
      "cell_type": "markdown",
      "source": [
        "**Transformers Pipeline**"
      ],
      "metadata": {
        "id": "neZqW-UXNsZG"
      }
    },
    {
      "cell_type": "code",
      "source": [
        "from transformers import pipeline\n",
        "\n",
        "sent_pipeline = pipeline(\"sentiment-analysis\")"
      ],
      "metadata": {
        "colab": {
          "base_uri": "https://localhost:8080/",
          "height": 360,
          "referenced_widgets": [
            "d78f630b27b34b218de7d48ebe9a9710",
            "857b659ebdbb41d09178cef0a3a13789",
            "8daf8f8c725644b6a94c9f939bc280a3",
            "c0eec7163ff648829ef908ff3172f99b",
            "cbce19ff4fd8416fba81a9897d8a5f52",
            "29ed5b9df0b244eeb995d026d750b5ca",
            "dc8a2a67a47c42588d51652470d0c3ea",
            "8433dd75fe5e443894950a8cb2e1350c",
            "bc09654af2824b1ebb8d2324547a6707",
            "53fc9f2a89034ba2853d179b0a95628a",
            "15c6fedd1e974530aa4bda8c55c4c43d",
            "3b2a1a8c09b043a19a684c8c5faf035a",
            "93990e48bb5b4a8ebc21a591a6114c2c",
            "588490f4261e422ab2991a0e868b806a",
            "9c401d2c0af24d33b04dd89ad942168e",
            "0c4fb51794b54e25b8b6878d2ffbe3aa",
            "6c1e74b56031436cac80a9f59cf07410",
            "49a34e76100944af9ebbc7e9d5ec2760",
            "6df6655f796f4d05957294547668cdcb",
            "49bb47d4cb174fda8617e4499efa0791",
            "94616e21672f461082cb39ee57ad75d3",
            "91ff010f6b0f41e1be1c9e0c1b6f7cdf",
            "443448551d314c87b8aabb1e1f1abf90",
            "a29985e449614f0baa5802821179d170",
            "7a17b7a1160648f6abe5c40d4306b52d",
            "940497c068e240a88d0a2cc494ebe999",
            "ad755671bf5f4572ba2089ef2ec12f73",
            "aa55e89af5b24d51a325bbbc5a47adb0",
            "21ec596433664ca1aaf82601f9dfe884",
            "54d28c67564a45658496d3cc3b9e252f",
            "27e2cc83345641be95c42e1c917bc209",
            "bfb6596b430d4a50b0010c9532172577",
            "279486f7ac3f43548074b5c665f3a3fc",
            "7b3174afbbba4011aaab78302bfd4be8",
            "178948959f20467ca58f693f916020cb",
            "b5f54d3ce24f4f618e6f4dae7d994704",
            "a50e01e6e92e4785b3ef4817b9cddbf2",
            "3c395fd4a19b4ce9b7ebcfbe5f104248",
            "fd8022a408a44135858b6ba510023634",
            "59781a1001584cf397d91dd64cee7d61",
            "07753877124f41b4bcbdc3d2439c1305",
            "fe0c3e43bd034aba82c2afc0991ce715",
            "5dfaac05778a46b6b2f326270ad293f1",
            "d0d2a53338e642a88515816347e7d3fe"
          ]
        },
        "id": "w0AZz3TMADgV",
        "outputId": "8ad8f627-c117-4018-fe0e-24b085a63ae7"
      },
      "execution_count": null,
      "outputs": [
        {
          "output_type": "stream",
          "name": "stderr",
          "text": [
            "No model was supplied, defaulted to distilbert-base-uncased-finetuned-sst-2-english and revision af0f99b (https://huggingface.co/distilbert-base-uncased-finetuned-sst-2-english).\n",
            "Using a pipeline without specifying a model name and revision in production is not recommended.\n",
            "/usr/local/lib/python3.10/dist-packages/huggingface_hub/utils/_token.py:88: UserWarning: \n",
            "The secret `HF_TOKEN` does not exist in your Colab secrets.\n",
            "To authenticate with the Hugging Face Hub, create a token in your settings tab (https://huggingface.co/settings/tokens), set it as secret in your Google Colab and restart your session.\n",
            "You will be able to reuse this secret in all of your notebooks.\n",
            "Please note that authentication is recommended but still optional to access public models or datasets.\n",
            "  warnings.warn(\n"
          ]
        },
        {
          "output_type": "display_data",
          "data": {
            "text/plain": [
              "config.json:   0%|          | 0.00/629 [00:00<?, ?B/s]"
            ],
            "application/vnd.jupyter.widget-view+json": {
              "version_major": 2,
              "version_minor": 0,
              "model_id": "d78f630b27b34b218de7d48ebe9a9710"
            }
          },
          "metadata": {}
        },
        {
          "output_type": "display_data",
          "data": {
            "text/plain": [
              "model.safetensors:   0%|          | 0.00/268M [00:00<?, ?B/s]"
            ],
            "application/vnd.jupyter.widget-view+json": {
              "version_major": 2,
              "version_minor": 0,
              "model_id": "3b2a1a8c09b043a19a684c8c5faf035a"
            }
          },
          "metadata": {}
        },
        {
          "output_type": "display_data",
          "data": {
            "text/plain": [
              "tokenizer_config.json:   0%|          | 0.00/48.0 [00:00<?, ?B/s]"
            ],
            "application/vnd.jupyter.widget-view+json": {
              "version_major": 2,
              "version_minor": 0,
              "model_id": "443448551d314c87b8aabb1e1f1abf90"
            }
          },
          "metadata": {}
        },
        {
          "output_type": "display_data",
          "data": {
            "text/plain": [
              "vocab.txt:   0%|          | 0.00/232k [00:00<?, ?B/s]"
            ],
            "application/vnd.jupyter.widget-view+json": {
              "version_major": 2,
              "version_minor": 0,
              "model_id": "7b3174afbbba4011aaab78302bfd4be8"
            }
          },
          "metadata": {}
        }
      ]
    },
    {
      "cell_type": "code",
      "source": [
        "sent_pipeline('I love sentiment analysis!')"
      ],
      "metadata": {
        "colab": {
          "base_uri": "https://localhost:8080/"
        },
        "id": "guAhuvNgBGpO",
        "outputId": "6865d77e-c8de-4e8b-c986-a6f2dd2b576b"
      },
      "execution_count": null,
      "outputs": [
        {
          "output_type": "execute_result",
          "data": {
            "text/plain": [
              "[{'label': 'POSITIVE', 'score': 0.9997853636741638}]"
            ]
          },
          "metadata": {},
          "execution_count": 35
        }
      ]
    },
    {
      "cell_type": "code",
      "source": [
        "sent_pipeline('booo')"
      ],
      "metadata": {
        "colab": {
          "base_uri": "https://localhost:8080/"
        },
        "id": "S-Thg90RBMp2",
        "outputId": "e974d5e2-1582-4c77-d26b-deb431807a7b"
      },
      "execution_count": null,
      "outputs": [
        {
          "output_type": "execute_result",
          "data": {
            "text/plain": [
              "[{'label': 'NEGATIVE', 'score': 0.9936267137527466}]"
            ]
          },
          "metadata": {},
          "execution_count": 36
        }
      ]
    },
    {
      "cell_type": "markdown",
      "source": [
        "### 7. Machine Learning Model"
      ],
      "metadata": {
        "id": "R3iygwDDL6lb"
      }
    },
    {
      "cell_type": "markdown",
      "source": [
        "\n",
        "** Na¨ıve Bayes model**\n",
        "\n",
        "  Na¨ıve Bayes model uses the scikit-learn library to implement a sentiment analysis model on a movie reviews dataset. It loads the dataset, performs basic text preprocessing by removing stopwords, punctuation, and non-alphabetic characters. The data is then split into training and testing sets. The CountVectorizer converts text data into a bag-of-words representation. A Multinomial Naive Bayes classifier is trained on the training set, using the word counts as features. Finally, the model is evaluated on the testing set using confusion matrix and classification report. Naive Bayes works by assuming independence between features and uses Bayes' theorem for probabilistic classification based on feature occurrences."
      ],
      "metadata": {
        "id": "g7ghNWEfQ4mX"
      }
    },
    {
      "cell_type": "code",
      "source": [
        "import pandas as pd\n",
        "from sklearn.model_selection import train_test_split\n",
        "from sklearn.feature_extraction.text import CountVectorizer\n",
        "from sklearn.naive_bayes import MultinomialNB\n",
        "from sklearn.metrics import classification_report, confusion_matrix\n"
      ],
      "metadata": {
        "id": "mrsjV4TzHrE4"
      },
      "execution_count": null,
      "outputs": []
    },
    {
      "cell_type": "code",
      "source": [
        "from nltk.corpus import stopwords\n",
        "df = pd.read_csv('movie_reviews_dataset.csv')\n",
        "nltk.download('stopwords')\n",
        "# Perform basic data preprocessing, such as removing stop words, punctuation, and special characters\n",
        "df['review'] = df['review'].apply(lambda x: ' '.join([word for word in x.split() if word not in (stopwords.words('english'))]))\n",
        "df['review'] = df['review'].apply(lambda x: ' '.join([word for word in x.split() if word.isalpha()]))"
      ],
      "metadata": {
        "colab": {
          "base_uri": "https://localhost:8080/"
        },
        "id": "TNrfkd3PIPOP",
        "outputId": "8fb70262-b7e0-4fb2-8536-a5ccbde8f0ca"
      },
      "execution_count": null,
      "outputs": [
        {
          "output_type": "stream",
          "name": "stderr",
          "text": [
            "[nltk_data] Downloading package stopwords to /root/nltk_data...\n",
            "[nltk_data]   Package stopwords is already up-to-date!\n"
          ]
        }
      ]
    },
    {
      "cell_type": "code",
      "source": [
        "X_train, X_test, y_train, y_test = train_test_split(df['review'], df['sentiment'], test_size=0.2, random_state=51)"
      ],
      "metadata": {
        "id": "QNFZfbTSJ5DK"
      },
      "execution_count": null,
      "outputs": []
    },
    {
      "cell_type": "code",
      "source": [
        "vectorizer = CountVectorizer()\n",
        "X_train_counts = vectorizer.fit_transform(X_train)\n",
        "X_test_counts = vectorizer.transform(X_test)"
      ],
      "metadata": {
        "id": "ne71N_PgJ9rT"
      },
      "execution_count": null,
      "outputs": []
    },
    {
      "cell_type": "code",
      "source": [
        "nb_classifier = MultinomialNB()\n",
        "nb_classifier.fit(X_train_counts, y_train)"
      ],
      "metadata": {
        "colab": {
          "base_uri": "https://localhost:8080/",
          "height": 74
        },
        "id": "dm6T1LRDKCIT",
        "outputId": "8c0a1d26-4d81-4920-b30b-c321ed00cce2"
      },
      "execution_count": null,
      "outputs": [
        {
          "output_type": "execute_result",
          "data": {
            "text/plain": [
              "MultinomialNB()"
            ],
            "text/html": [
              "<style>#sk-container-id-1 {color: black;background-color: white;}#sk-container-id-1 pre{padding: 0;}#sk-container-id-1 div.sk-toggleable {background-color: white;}#sk-container-id-1 label.sk-toggleable__label {cursor: pointer;display: block;width: 100%;margin-bottom: 0;padding: 0.3em;box-sizing: border-box;text-align: center;}#sk-container-id-1 label.sk-toggleable__label-arrow:before {content: \"▸\";float: left;margin-right: 0.25em;color: #696969;}#sk-container-id-1 label.sk-toggleable__label-arrow:hover:before {color: black;}#sk-container-id-1 div.sk-estimator:hover label.sk-toggleable__label-arrow:before {color: black;}#sk-container-id-1 div.sk-toggleable__content {max-height: 0;max-width: 0;overflow: hidden;text-align: left;background-color: #f0f8ff;}#sk-container-id-1 div.sk-toggleable__content pre {margin: 0.2em;color: black;border-radius: 0.25em;background-color: #f0f8ff;}#sk-container-id-1 input.sk-toggleable__control:checked~div.sk-toggleable__content {max-height: 200px;max-width: 100%;overflow: auto;}#sk-container-id-1 input.sk-toggleable__control:checked~label.sk-toggleable__label-arrow:before {content: \"▾\";}#sk-container-id-1 div.sk-estimator input.sk-toggleable__control:checked~label.sk-toggleable__label {background-color: #d4ebff;}#sk-container-id-1 div.sk-label input.sk-toggleable__control:checked~label.sk-toggleable__label {background-color: #d4ebff;}#sk-container-id-1 input.sk-hidden--visually {border: 0;clip: rect(1px 1px 1px 1px);clip: rect(1px, 1px, 1px, 1px);height: 1px;margin: -1px;overflow: hidden;padding: 0;position: absolute;width: 1px;}#sk-container-id-1 div.sk-estimator {font-family: monospace;background-color: #f0f8ff;border: 1px dotted black;border-radius: 0.25em;box-sizing: border-box;margin-bottom: 0.5em;}#sk-container-id-1 div.sk-estimator:hover {background-color: #d4ebff;}#sk-container-id-1 div.sk-parallel-item::after {content: \"\";width: 100%;border-bottom: 1px solid gray;flex-grow: 1;}#sk-container-id-1 div.sk-label:hover label.sk-toggleable__label {background-color: #d4ebff;}#sk-container-id-1 div.sk-serial::before {content: \"\";position: absolute;border-left: 1px solid gray;box-sizing: border-box;top: 0;bottom: 0;left: 50%;z-index: 0;}#sk-container-id-1 div.sk-serial {display: flex;flex-direction: column;align-items: center;background-color: white;padding-right: 0.2em;padding-left: 0.2em;position: relative;}#sk-container-id-1 div.sk-item {position: relative;z-index: 1;}#sk-container-id-1 div.sk-parallel {display: flex;align-items: stretch;justify-content: center;background-color: white;position: relative;}#sk-container-id-1 div.sk-item::before, #sk-container-id-1 div.sk-parallel-item::before {content: \"\";position: absolute;border-left: 1px solid gray;box-sizing: border-box;top: 0;bottom: 0;left: 50%;z-index: -1;}#sk-container-id-1 div.sk-parallel-item {display: flex;flex-direction: column;z-index: 1;position: relative;background-color: white;}#sk-container-id-1 div.sk-parallel-item:first-child::after {align-self: flex-end;width: 50%;}#sk-container-id-1 div.sk-parallel-item:last-child::after {align-self: flex-start;width: 50%;}#sk-container-id-1 div.sk-parallel-item:only-child::after {width: 0;}#sk-container-id-1 div.sk-dashed-wrapped {border: 1px dashed gray;margin: 0 0.4em 0.5em 0.4em;box-sizing: border-box;padding-bottom: 0.4em;background-color: white;}#sk-container-id-1 div.sk-label label {font-family: monospace;font-weight: bold;display: inline-block;line-height: 1.2em;}#sk-container-id-1 div.sk-label-container {text-align: center;}#sk-container-id-1 div.sk-container {/* jupyter's `normalize.less` sets `[hidden] { display: none; }` but bootstrap.min.css set `[hidden] { display: none !important; }` so we also need the `!important` here to be able to override the default hidden behavior on the sphinx rendered scikit-learn.org. See: https://github.com/scikit-learn/scikit-learn/issues/21755 */display: inline-block !important;position: relative;}#sk-container-id-1 div.sk-text-repr-fallback {display: none;}</style><div id=\"sk-container-id-1\" class=\"sk-top-container\"><div class=\"sk-text-repr-fallback\"><pre>MultinomialNB()</pre><b>In a Jupyter environment, please rerun this cell to show the HTML representation or trust the notebook. <br />On GitHub, the HTML representation is unable to render, please try loading this page with nbviewer.org.</b></div><div class=\"sk-container\" hidden><div class=\"sk-item\"><div class=\"sk-estimator sk-toggleable\"><input class=\"sk-toggleable__control sk-hidden--visually\" id=\"sk-estimator-id-1\" type=\"checkbox\" checked><label for=\"sk-estimator-id-1\" class=\"sk-toggleable__label sk-toggleable__label-arrow\">MultinomialNB</label><div class=\"sk-toggleable__content\"><pre>MultinomialNB()</pre></div></div></div></div></div>"
            ]
          },
          "metadata": {},
          "execution_count": 48
        }
      ]
    },
    {
      "cell_type": "code",
      "source": [
        "y_pred = nb_classifier.predict(X_test_counts)\n",
        "\n",
        "print(confusion_matrix(y_test, y_pred))"
      ],
      "metadata": {
        "colab": {
          "base_uri": "https://localhost:8080/"
        },
        "id": "bVYYkXgaKG_-",
        "outputId": "d07b2723-7cea-46b3-e224-56c402f5db64"
      },
      "execution_count": null,
      "outputs": [
        {
          "output_type": "stream",
          "name": "stdout",
          "text": [
            "[[172  34]\n",
            " [ 40 154]]\n"
          ]
        }
      ]
    },
    {
      "cell_type": "code",
      "source": [
        "# Calculate confusion matrix\n",
        "conf_matrix = confusion_matrix(y_test, y_pred)\n",
        "\n",
        "# Plot the confusion matrix heatmap\n",
        "plt.figure(figsize=(8, 6))\n",
        "sns.heatmap(conf_matrix, annot=True, fmt='d', cmap='Blues', xticklabels=['Negative', 'Positive'], yticklabels=['Negative', 'Positive'])\n",
        "plt.title('Confusion Matrix')\n",
        "plt.xlabel('Predicted')\n",
        "plt.ylabel('Actual')\n",
        "plt.show()\n",
        "\n",
        "# Print classification report\n",
        "print(classification_report(y_test, y_pred))\n"
      ],
      "metadata": {
        "colab": {
          "base_uri": "https://localhost:8080/",
          "height": 704
        },
        "id": "Az7Td4A4ja9G",
        "outputId": "a7d66387-479e-4e19-c80c-c97d7c5bbbe7"
      },
      "execution_count": null,
      "outputs": [
        {
          "output_type": "display_data",
          "data": {
            "text/plain": [
              "<Figure size 800x600 with 2 Axes>"
            ],
            "image/png": "[encoded data removed]"
          },
          "metadata": {}
        },
        {
          "output_type": "stream",
          "name": "stdout",
          "text": [
            "              precision    recall  f1-score   support\n",
            "\n",
            "    negative       0.81      0.83      0.82       206\n",
            "    positive       0.82      0.79      0.81       194\n",
            "\n",
            "    accuracy                           0.81       400\n",
            "   macro avg       0.82      0.81      0.81       400\n",
            "weighted avg       0.82      0.81      0.81       400\n",
            "\n"
          ]
        }
      ]
    },
    {
      "cell_type": "markdown",
      "source": [
        "### 8. Evaluation"
      ],
      "metadata": {
        "id": "JBCP3AbQL_pu"
      }
    },
    {
      "cell_type": "markdown",
      "source": [
        "\n",
        "In this sentiment analysis task, the VADER model has been applied, leveraging its ability to analyze sentiment from textual data, especially in the context of social media. VADER (Valence Aware Dictionary and sEntiment Reasoner) excels in capturing nuanced sentiments by considering the polarity and intensity of words, providing a robust tool for subjective content analysis.\n",
        "\n",
        "Two feature extraction models, TextBlob and TF-IDF, were employed for sentiment analysis. TextBlob, a simplified NLP library, utilizes a predefined sentiment lexicon. TF-IDF, on the other hand, calculates term importance based on frequency and inverse document frequency, aiming to capture the significance of words in a document collection.\n",
        "\n",
        "Performance evaluation criteria, including accuracy, precision, recall, and F1-score, were employed. Statistical information, such as confusion matrices, aided in understanding the model's behavior. The VADER model demonstrated high accuracy in capturing sentiment nuances, especially in informal language. TextBlob, relying on a predefined lexicon, showed effectiveness in simplicity and speed, while TF-IDF excelled in capturing context-based importance. Precision, recall, and F1-score were utilized to assess model performance comprehensively, revealing the trade-offs between precision and recall based on the chosen feature extraction method."
      ],
      "metadata": {
        "id": "FzlluvrASHu5"
      }
    },
    {
      "cell_type": "markdown",
      "source": [
        "### 9. Summary and Direction of the Researcher"
      ],
      "metadata": {
        "id": "XnZ8Ue_DX9Qv"
      }
    },
    {
      "cell_type": "markdown",
      "source": [
        "To further develop this activity, incorporating more advanced techniques like deep learning models or embeddings could enhance the model's understanding of context and semantics. Additionally, exploring domain-specific sentiment lexicons or training custom models on domain-specific datasets might improve performance in specialized areas.\n",
        "\n",
        "One relevant article supporting future directions \"Deep Learning for sentiment analysis\" by TIEN TRAN. (2022). https://www.kaggle.com/code/tientd95/deep-learning-for-sentiment-analysis/notebook The article delves into the advancements of deep learning in sentiment analysis, discussing techniques like **Fasttext, Glove embedding**. Implementing such deep learning architectures could potentially lead to more accurate sentiment predictions, especially in contexts where understanding intricate nuances is crucial.\n",
        "\n",
        "In summary, the sentiment analysis project's next steps involve integrating advanced models and exploring domain-specific adaptations. The referenced article highlights the growing role of deep learning in sentiment analysis, suggesting that incorporating these techniques could be a promising avenue for future developments in the field.\n"
      ],
      "metadata": {
        "id": "kJgIS6TLYnrL"
      }
    }
  ]
}